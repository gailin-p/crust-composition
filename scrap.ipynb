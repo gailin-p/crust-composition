{
 "cells": [
  {
   "cell_type": "code",
   "execution_count": 58,
   "metadata": {},
   "outputs": [
    {
     "name": "stdout",
     "output_type": "stream",
     "text": [
      "Loading crust information from file resources/crustDistribution.jld\n"
     ]
    },
    {
     "name": "stderr",
     "output_type": "stream",
     "text": [
      "WARNING: replacing module crustDistribution.\n"
     ]
    },
    {
     "name": "stdout",
     "output_type": "stream",
     "text": [
      "Loading crust information from file resources/crustDistribution.jld\n"
     ]
    },
    {
     "name": "stderr",
     "output_type": "stream",
     "text": [
      "WARNING: replacing module crustDistribution.\n"
     ]
    },
    {
     "name": "stdout",
     "output_type": "stream",
     "text": [
      "Loading crust information from file resources/crustDistribution.jld\n"
     ]
    },
    {
     "name": "stderr",
     "output_type": "stream",
     "text": [
      "WARNING: redefinition of constant COMPOSITION_ELEMENTS. This may fail, cause incorrect answers, or produce other errors.\n",
      "WARNING: redefinition of constant PERPLEX_COMPOSITION_ELTS. This may fail, cause incorrect answers, or produce other errors.\n",
      "WARNING: redefinition of constant MINOR_ELTS. This may fail, cause incorrect answers, or produce other errors.\n",
      "WARNING: redefinition of constant RESAMPLED_ELEMENTS. This may fail, cause incorrect answers, or produce other errors.\n",
      "WARNING: redefinition of constant PERPLEX_ELEMENTS. This may fail, cause incorrect answers, or produce other errors.\n",
      "WARNING: replacing module crustDistribution.\n"
     ]
    },
    {
     "data": {
      "text/plain": [
       "Main.crustDistribution"
      ]
     },
     "execution_count": 58,
     "metadata": {},
     "output_type": "execute_result"
    }
   ],
   "source": [
    "include(\"src/inversionModel.jl\")\n",
    "include(\"src/rejectionModel.jl\")\n",
    "include(\"src/rangeModel.jl\")\n",
    "include(\"src/linearModel.jl\")\n",
    "include(\"src/config.jl\")\n",
    "include(\"src/crustDistribution.jl\")"
   ]
  },
  {
   "cell_type": "code",
   "execution_count": 59,
   "metadata": {},
   "outputs": [
    {
     "name": "stderr",
     "output_type": "stream",
     "text": [
      "\u001b[32mBuilding models100%|████████████████████████████████████| Time: 0:00:12\u001b[39m\n"
     ]
    }
   ],
   "source": [
    "models = makeModels(\"huang\", modelType=LinearModel);"
   ]
  },
  {
   "cell_type": "code",
   "execution_count": 60,
   "metadata": {},
   "outputs": [
    {
     "data": {
      "text/plain": [
       "getTestSeismic"
      ]
     },
     "execution_count": 60,
     "metadata": {},
     "output_type": "execute_result"
    }
   ],
   "source": [
    "\"\"\"\n",
    "  getTestSeismic()\n",
    "Build a test earth directly from model seismic properties: so model contains superset\n",
    "of rocks in the test earth\n",
    "\"\"\"\n",
    "function getTestSeismic(n, models::ModelCollection, target::Float64, layer::String; nsamples=100)\n",
    "    # compositions to choose from \n",
    "    comps = models.models[layer][1].comp\n",
    "    indices = Array(1:size(comps,1))\n",
    "    sio2 = comps[:,2]\n",
    "    \n",
    "    # choose comp samples from ign of model 1 that average to target\n",
    "    s = sample(indices,nsamples, replace=false)\n",
    "    snew = zeros(Int, length(s))\n",
    "    snew .= s\n",
    "    best = abs(mean(sio2[s]) - target)\n",
    "    while best > 1/100\n",
    "      to_replace = sample(1:nsamples)\n",
    "      new = sample(indices)\n",
    "      snew[to_replace] = new\n",
    "      if abs(mean(sio2[snew]) - target) < best\n",
    "          s .= snew\n",
    "          best = abs(mean(sio2[snew]) - target)\n",
    "          #println(\"new best $(mean(sio2[snew]))\")\n",
    "      end\n",
    "      snew .= s # reset\n",
    "    end\n",
    "    s = Int.(s)\n",
    "    # sio2 comp\n",
    "    println(mean(comps[s,2], dims=1))\n",
    "    \n",
    "    # n geotherm samples\n",
    "    crust = crustDistribution.getCrustParams(n, uncertain=true) # depth to 550, base of upper, middle, lower\n",
    "    geotherm = crust[:,1]\n",
    "    bins = [searchsortedlast(Array(models.bins)[1:end-1], g) for g in geotherm]\n",
    "    println(bins)\n",
    "    \n",
    "    # assign comp to each of n\n",
    "    assignment = sample(s, n)\n",
    "    println(assignment)\n",
    "    \n",
    "    # for each of n, choose the seismic props from the model with the correct geotherm bin\n",
    "    seismic = zeros(n,3)\n",
    "    for i in 1:n\n",
    "        seismic[i,:] .= models.models[layer][bins[i]].seismic[assignment[i],2:end]\n",
    "    end\n",
    "    return (seismic[:,1], seismic[:,2], seismic[:,3], geotherm)\n",
    "end"
   ]
  },
  {
   "cell_type": "code",
   "execution_count": 61,
   "metadata": {},
   "outputs": [
    {
     "ename": "LoadError",
     "evalue": "BoundsError: attempt to access 19739-element Vector{Float64} at index [[13307, 1681, 314, 17457, 4425, 19097, 7743, 3633, 2068, 19666  …  16447, 8946, 3190, 6878, 10570, 793, 15662, 11030, 3823, 6445]]",
     "output_type": "error",
     "traceback": [
      "BoundsError: attempt to access 19739-element Vector{Float64} at index [[13307, 1681, 314, 17457, 4425, 19097, 7743, 3633, 2068, 19666  …  16447, 8946, 3190, 6878, 10570, 793, 15662, 11030, 3823, 6445]]",
      "",
      "Stacktrace:",
      " [1] throw_boundserror(A::Vector{Float64}, I::Tuple{Vector{Int64}})",
      "   @ Base ./abstractarray.jl:651",
      " [2] checkbounds",
      "   @ ./abstractarray.jl:616 [inlined]",
      " [3] _getindex",
      "   @ ./multidimensional.jl:831 [inlined]",
      " [4] getindex(A::Vector{Float64}, I::Vector{Int64})",
      "   @ Base ./abstractarray.jl:1170",
      " [5] getTestSeismic(n::Int64, models::ModelCollection, target::Float64, layer::String; nsamples::Int64)",
      "   @ Main ./In[60]:16",
      " [6] getTestSeismic(n::Int64, models::ModelCollection, target::Float64, layer::String)",
      "   @ Main ./In[60]:8",
      " [7] top-level scope",
      "   @ In[61]:1",
      " [8] eval",
      "   @ ./boot.jl:360 [inlined]",
      " [9] include_string(mapexpr::typeof(REPL.softscope), mod::Module, code::String, filename::String)",
      "   @ Base ./loading.jl:1094"
     ]
    }
   ],
   "source": [
    "getTestSeismic(1000, models, 60.0, \"upper\")"
   ]
  },
  {
   "cell_type": "code",
   "execution_count": 44,
   "metadata": {},
   "outputs": [
    {
     "data": {
      "text/plain": [
       "1"
      ]
     },
     "execution_count": 44,
     "metadata": {},
     "output_type": "execute_result"
    }
   ],
   "source": [
    "searchsortedlast(models.bins, 23)"
   ]
  },
  {
   "cell_type": "code",
   "execution_count": 77,
   "metadata": {},
   "outputs": [
    {
     "name": "stdout",
     "output_type": "stream",
     "text": [
      "51.936312099999995\n"
     ]
    }
   ],
   "source": [
    "comps = models.models[\"upper\"][1].comp\n",
    "indices = Array(1:size(comps,1))\n",
    "sio2 = comps[:,2]\n",
    "\n",
    "s = sample(indices,100, replace=false)\n",
    "println(mean(sio2[s]))"
   ]
  },
  {
   "cell_type": "code",
   "execution_count": 73,
   "metadata": {},
   "outputs": [
    {
     "data": {
      "text/plain": [
       "Int64[]"
      ]
     },
     "execution_count": 73,
     "metadata": {},
     "output_type": "execute_result"
    }
   ],
   "source": [
    "s[s .> 19739]"
   ]
  },
  {
   "cell_type": "code",
   "execution_count": null,
   "metadata": {},
   "outputs": [],
   "source": []
  }
 ],
 "metadata": {
  "kernelspec": {
   "display_name": "Julia 1.6.1",
   "language": "julia",
   "name": "julia-1.6"
  },
  "language_info": {
   "file_extension": ".jl",
   "mimetype": "application/julia",
   "name": "julia",
   "version": "1.6.1"
  }
 },
 "nbformat": 4,
 "nbformat_minor": 4
}
