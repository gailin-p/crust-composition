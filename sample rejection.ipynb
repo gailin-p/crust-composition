{
 "cells": [
  {
   "cell_type": "code",
   "execution_count": 137,
   "metadata": {},
   "outputs": [],
   "source": [
    "using DelimitedFiles\n",
    "using StatsBase\n",
    "using HDF5\n",
    "using Plots; gr();"
   ]
  },
  {
   "cell_type": "code",
   "execution_count": 349,
   "metadata": {},
   "outputs": [
    {
     "name": "stdout",
     "output_type": "stream",
     "text": [
      "Loading crust information from file resources/crustDistribution.jld\n"
     ]
    },
    {
     "name": "stderr",
     "output_type": "stream",
     "text": [
      "WARNING: replacing module crustDistribution.\n",
      "┌ Warning: JLD incorrectly extends FileIO functions (see FileIO documentation)\n",
      "└ @ FileIO /Users/gailin/.julia/packages/FileIO/AmppF/src/loadsave.jl:210\n"
     ]
    },
    {
     "data": {
      "text/plain": [
       "resultSize (generic function with 3 methods)"
      ]
     },
     "execution_count": 349,
     "metadata": {},
     "output_type": "execute_result"
    }
   ],
   "source": [
    "include(\"src/seismic.jl\")\n",
    "include(\"src/inversionModel.jl\")\n",
    "include(\"src/rejectionModel.jl\")"
   ]
  },
  {
   "cell_type": "code",
   "execution_count": 4,
   "metadata": {},
   "outputs": [],
   "source": [
    "ign, h = readdlm(\"data/remote/base_nobin/bsr_ignmajors_1.csv\", ',', header=true);"
   ]
  },
  {
   "cell_type": "code",
   "execution_count": 20,
   "metadata": {},
   "outputs": [],
   "source": [
    "sio2 = ign[:,2];"
   ]
  },
  {
   "cell_type": "code",
   "execution_count": 14,
   "metadata": {},
   "outputs": [],
   "source": [
    "indices = Int.(ign[:,1]);"
   ]
  },
  {
   "cell_type": "code",
   "execution_count": 22,
   "metadata": {},
   "outputs": [
    {
     "data": {
      "text/plain": [
       "3-element Array{Int64,1}:\n",
       " 84748\n",
       " 22246\n",
       " 33929"
      ]
     },
     "execution_count": 22,
     "metadata": {},
     "output_type": "execute_result"
    }
   ],
   "source": [
    "s = sample(indices,3,replace=false)"
   ]
  },
  {
   "cell_type": "code",
   "execution_count": 58,
   "metadata": {},
   "outputs": [],
   "source": [
    "target = [66.6, 63.5, 53.4]\n",
    "n = 100\n",
    "samples = zeros(Int, (3,n))\n",
    "for l in 1:3\n",
    "    s = sample(indices,n, replace=false)\n",
    "    snew = zeros(Int, length(s))\n",
    "    snew .= s\n",
    "    best = abs(mean(sio2[s]) - target[l])\n",
    "    while best > 1/20\n",
    "        to_replace = sample(1:n)\n",
    "        new = sample(indices)\n",
    "        snew[to_replace] = new\n",
    "        if abs(mean(sio2[snew]) - target[l]) < best\n",
    "            s .= snew\n",
    "            best = abs(mean(sio2[snew]) - target[l])\n",
    "            #println(\"new best $(mean(sio2[snew]))\")\n",
    "        end\n",
    "        snew .= s # reset\n",
    "    end\n",
    "    samples[l,:] .= s\n",
    "end "
   ]
  },
  {
   "cell_type": "code",
   "execution_count": 60,
   "metadata": {},
   "outputs": [
    {
     "name": "stdout",
     "output_type": "stream",
     "text": [
      "66.5938866\n",
      "63.5182639\n",
      "53.408159000000005\n",
      "[66.6, 63.5, 53.4]\n"
     ]
    }
   ],
   "source": [
    "for l in 1:3\n",
    "    println(mean(sio2[samples[l,:]]))\n",
    "end\n",
    "println(target)"
   ]
  },
  {
   "cell_type": "code",
   "execution_count": 57,
   "metadata": {},
   "outputs": [
    {
     "data": {
      "image/svg+xml": [
       "<?xml version=\"1.0\" encoding=\"utf-8\"?>\n",
       "<svg xmlns=\"http://www.w3.org/2000/svg\" xmlns:xlink=\"http://www.w3.org/1999/xlink\" width=\"600\" height=\"400\" viewBox=\"0 0 2400 1600\">\n",
       "<defs>\n",
       "  <clipPath id=\"clip630\">\n",
       "    <rect x=\"0\" y=\"0\" width=\"2400\" height=\"1600\"/>\n",
       "  </clipPath>\n",
       "</defs>\n",
       "<path clip-path=\"url(#clip630)\" d=\"\n",
       "M0 1600 L2400 1600 L2400 0 L0 0  Z\n",
       "  \" fill=\"#ffffff\" fill-rule=\"evenodd\" fill-opacity=\"1\"/>\n",
       "<defs>\n",
       "  <clipPath id=\"clip631\">\n",
       "    <rect x=\"480\" y=\"0\" width=\"1681\" height=\"1600\"/>\n",
       "  </clipPath>\n",
       "</defs>\n",
       "<path clip-path=\"url(#clip630)\" d=\"\n",
       "M139.191 1486.45 L2352.76 1486.45 L2352.76 47.2441 L139.191 47.2441  Z\n",
       "  \" fill=\"#ffffff\" fill-rule=\"evenodd\" fill-opacity=\"1\"/>\n",
       "<defs>\n",
       "  <clipPath id=\"clip632\">\n",
       "    <rect x=\"139\" y=\"47\" width=\"2215\" height=\"1440\"/>\n",
       "  </clipPath>\n",
       "</defs>\n",
       "<polyline clip-path=\"url(#clip632)\" style=\"stroke:#000000; stroke-width:2; stroke-opacity:0.1; fill:none\" points=\"\n",
       "  260.941,1486.45 260.941,47.2441 \n",
       "  \"/>\n",
       "<polyline clip-path=\"url(#clip632)\" style=\"stroke:#000000; stroke-width:2; stroke-opacity:0.1; fill:none\" points=\"\n",
       "  753.457,1486.45 753.457,47.2441 \n",
       "  \"/>\n",
       "<polyline clip-path=\"url(#clip632)\" style=\"stroke:#000000; stroke-width:2; stroke-opacity:0.1; fill:none\" points=\"\n",
       "  1245.97,1486.45 1245.97,47.2441 \n",
       "  \"/>\n",
       "<polyline clip-path=\"url(#clip632)\" style=\"stroke:#000000; stroke-width:2; stroke-opacity:0.1; fill:none\" points=\"\n",
       "  1738.49,1486.45 1738.49,47.2441 \n",
       "  \"/>\n",
       "<polyline clip-path=\"url(#clip632)\" style=\"stroke:#000000; stroke-width:2; stroke-opacity:0.1; fill:none\" points=\"\n",
       "  2231.01,1486.45 2231.01,47.2441 \n",
       "  \"/>\n",
       "<polyline clip-path=\"url(#clip632)\" style=\"stroke:#000000; stroke-width:2; stroke-opacity:0.1; fill:none\" points=\"\n",
       "  139.191,1445.72 2352.76,1445.72 \n",
       "  \"/>\n",
       "<polyline clip-path=\"url(#clip632)\" style=\"stroke:#000000; stroke-width:2; stroke-opacity:0.1; fill:none\" points=\"\n",
       "  139.191,1106.28 2352.76,1106.28 \n",
       "  \"/>\n",
       "<polyline clip-path=\"url(#clip632)\" style=\"stroke:#000000; stroke-width:2; stroke-opacity:0.1; fill:none\" points=\"\n",
       "  139.191,766.846 2352.76,766.846 \n",
       "  \"/>\n",
       "<polyline clip-path=\"url(#clip632)\" style=\"stroke:#000000; stroke-width:2; stroke-opacity:0.1; fill:none\" points=\"\n",
       "  139.191,427.411 2352.76,427.411 \n",
       "  \"/>\n",
       "<polyline clip-path=\"url(#clip632)\" style=\"stroke:#000000; stroke-width:2; stroke-opacity:0.1; fill:none\" points=\"\n",
       "  139.191,87.9763 2352.76,87.9763 \n",
       "  \"/>\n",
       "<polyline clip-path=\"url(#clip630)\" style=\"stroke:#000000; stroke-width:4; stroke-opacity:1; fill:none\" points=\"\n",
       "  139.191,1486.45 2352.76,1486.45 \n",
       "  \"/>\n",
       "<polyline clip-path=\"url(#clip630)\" style=\"stroke:#000000; stroke-width:4; stroke-opacity:1; fill:none\" points=\"\n",
       "  139.191,1486.45 139.191,47.2441 \n",
       "  \"/>\n",
       "<polyline clip-path=\"url(#clip630)\" style=\"stroke:#000000; stroke-width:4; stroke-opacity:1; fill:none\" points=\"\n",
       "  260.941,1486.45 260.941,1469.18 \n",
       "  \"/>\n",
       "<polyline clip-path=\"url(#clip630)\" style=\"stroke:#000000; stroke-width:4; stroke-opacity:1; fill:none\" points=\"\n",
       "  753.457,1486.45 753.457,1469.18 \n",
       "  \"/>\n",
       "<polyline clip-path=\"url(#clip630)\" style=\"stroke:#000000; stroke-width:4; stroke-opacity:1; fill:none\" points=\"\n",
       "  1245.97,1486.45 1245.97,1469.18 \n",
       "  \"/>\n",
       "<polyline clip-path=\"url(#clip630)\" style=\"stroke:#000000; stroke-width:4; stroke-opacity:1; fill:none\" points=\"\n",
       "  1738.49,1486.45 1738.49,1469.18 \n",
       "  \"/>\n",
       "<polyline clip-path=\"url(#clip630)\" style=\"stroke:#000000; stroke-width:4; stroke-opacity:1; fill:none\" points=\"\n",
       "  2231.01,1486.45 2231.01,1469.18 \n",
       "  \"/>\n",
       "<polyline clip-path=\"url(#clip630)\" style=\"stroke:#000000; stroke-width:4; stroke-opacity:1; fill:none\" points=\"\n",
       "  139.191,1445.72 165.754,1445.72 \n",
       "  \"/>\n",
       "<polyline clip-path=\"url(#clip630)\" style=\"stroke:#000000; stroke-width:4; stroke-opacity:1; fill:none\" points=\"\n",
       "  139.191,1106.28 165.754,1106.28 \n",
       "  \"/>\n",
       "<polyline clip-path=\"url(#clip630)\" style=\"stroke:#000000; stroke-width:4; stroke-opacity:1; fill:none\" points=\"\n",
       "  139.191,766.846 165.754,766.846 \n",
       "  \"/>\n",
       "<polyline clip-path=\"url(#clip630)\" style=\"stroke:#000000; stroke-width:4; stroke-opacity:1; fill:none\" points=\"\n",
       "  139.191,427.411 165.754,427.411 \n",
       "  \"/>\n",
       "<polyline clip-path=\"url(#clip630)\" style=\"stroke:#000000; stroke-width:4; stroke-opacity:1; fill:none\" points=\"\n",
       "  139.191,87.9763 165.754,87.9763 \n",
       "  \"/>\n",
       "<path clip-path=\"url(#clip630)\" d=\"M 0 0 M250.443 1509.43 L238.638 1527.88 L250.443 1527.88 L250.443 1509.43 M249.216 1505.36 L255.096 1505.36 L255.096 1527.88 L260.027 1527.88 L260.027 1531.77 L255.096 1531.77 L255.096 1539.92 L250.443 1539.92 L250.443 1531.77 L234.842 1531.77 L234.842 1527.26 L249.216 1505.36 Z\" fill=\"#000000\" fill-rule=\"evenodd\" fill-opacity=\"1\" /><path clip-path=\"url(#clip630)\" d=\"M 0 0 M275.096 1508.44 Q271.485 1508.44 269.656 1512 Q267.851 1515.55 267.851 1522.67 Q267.851 1529.78 269.656 1533.35 Q271.485 1536.89 275.096 1536.89 Q278.73 1536.89 280.536 1533.35 Q282.364 1529.78 282.364 1522.67 Q282.364 1515.55 280.536 1512 Q278.73 1508.44 275.096 1508.44 M275.096 1504.73 Q280.906 1504.73 283.962 1509.34 Q287.04 1513.92 287.04 1522.67 Q287.04 1531.4 283.962 1536.01 Q280.906 1540.59 275.096 1540.59 Q269.286 1540.59 266.207 1536.01 Q263.152 1531.4 263.152 1522.67 Q263.152 1513.92 266.207 1509.34 Q269.286 1504.73 275.096 1504.73 Z\" fill=\"#000000\" fill-rule=\"evenodd\" fill-opacity=\"1\" /><path clip-path=\"url(#clip630)\" d=\"M 0 0 M730.228 1505.36 L748.585 1505.36 L748.585 1509.3 L734.511 1509.3 L734.511 1517.77 Q735.529 1517.42 736.548 1517.26 Q737.566 1517.07 738.585 1517.07 Q744.372 1517.07 747.751 1520.24 Q751.131 1523.42 751.131 1528.83 Q751.131 1534.41 747.659 1537.51 Q744.186 1540.59 737.867 1540.59 Q735.691 1540.59 733.423 1540.22 Q731.177 1539.85 728.77 1539.11 L728.77 1534.41 Q730.853 1535.54 733.075 1536.1 Q735.298 1536.66 737.774 1536.66 Q741.779 1536.66 744.117 1534.55 Q746.455 1532.44 746.455 1528.83 Q746.455 1525.22 744.117 1523.11 Q741.779 1521.01 737.774 1521.01 Q735.899 1521.01 734.024 1521.42 Q732.173 1521.84 730.228 1522.72 L730.228 1505.36 Z\" fill=\"#000000\" fill-rule=\"evenodd\" fill-opacity=\"1\" /><path clip-path=\"url(#clip630)\" d=\"M 0 0 M766.2 1508.44 Q762.589 1508.44 760.76 1512 Q758.955 1515.55 758.955 1522.67 Q758.955 1529.78 760.76 1533.35 Q762.589 1536.89 766.2 1536.89 Q769.834 1536.89 771.64 1533.35 Q773.469 1529.78 773.469 1522.67 Q773.469 1515.55 771.64 1512 Q769.834 1508.44 766.2 1508.44 M766.2 1504.73 Q772.01 1504.73 775.066 1509.34 Q778.145 1513.92 778.145 1522.67 Q778.145 1531.4 775.066 1536.01 Q772.01 1540.59 766.2 1540.59 Q760.39 1540.59 757.311 1536.01 Q754.256 1531.4 754.256 1522.67 Q754.256 1513.92 757.311 1509.34 Q760.39 1504.73 766.2 1504.73 Z\" fill=\"#000000\" fill-rule=\"evenodd\" fill-opacity=\"1\" /><path clip-path=\"url(#clip630)\" d=\"M 0 0 M1232.87 1520.78 Q1229.72 1520.78 1227.87 1522.93 Q1226.04 1525.08 1226.04 1528.83 Q1226.04 1532.56 1227.87 1534.73 Q1229.72 1536.89 1232.87 1536.89 Q1236.02 1536.89 1237.85 1534.73 Q1239.7 1532.56 1239.7 1528.83 Q1239.7 1525.08 1237.85 1522.93 Q1236.02 1520.78 1232.87 1520.78 M1242.15 1506.12 L1242.15 1510.38 Q1240.39 1509.55 1238.59 1509.11 Q1236.81 1508.67 1235.05 1508.67 Q1230.42 1508.67 1227.96 1511.8 Q1225.53 1514.92 1225.19 1521.24 Q1226.55 1519.23 1228.61 1518.16 Q1230.67 1517.07 1233.15 1517.07 Q1238.36 1517.07 1241.37 1520.24 Q1244.4 1523.39 1244.4 1528.83 Q1244.4 1534.16 1241.25 1537.37 Q1238.1 1540.59 1232.87 1540.59 Q1226.88 1540.59 1223.71 1536.01 Q1220.53 1531.4 1220.53 1522.67 Q1220.53 1514.48 1224.42 1509.62 Q1228.31 1504.73 1234.86 1504.73 Q1236.62 1504.73 1238.4 1505.08 Q1240.21 1505.43 1242.15 1506.12 Z\" fill=\"#000000\" fill-rule=\"evenodd\" fill-opacity=\"1\" /><path clip-path=\"url(#clip630)\" d=\"M 0 0 M1259.47 1508.44 Q1255.86 1508.44 1254.03 1512 Q1252.22 1515.55 1252.22 1522.67 Q1252.22 1529.78 1254.03 1533.35 Q1255.86 1536.89 1259.47 1536.89 Q1263.1 1536.89 1264.91 1533.35 Q1266.74 1529.78 1266.74 1522.67 Q1266.74 1515.55 1264.91 1512 Q1263.1 1508.44 1259.47 1508.44 M1259.47 1504.73 Q1265.28 1504.73 1268.33 1509.34 Q1271.41 1513.92 1271.41 1522.67 Q1271.41 1531.4 1268.33 1536.01 Q1265.28 1540.59 1259.47 1540.59 Q1253.66 1540.59 1250.58 1536.01 Q1247.52 1531.4 1247.52 1522.67 Q1247.52 1513.92 1250.58 1509.34 Q1253.66 1504.73 1259.47 1504.73 Z\" fill=\"#000000\" fill-rule=\"evenodd\" fill-opacity=\"1\" /><path clip-path=\"url(#clip630)\" d=\"M 0 0 M1713.87 1505.36 L1736.09 1505.36 L1736.09 1507.35 L1723.55 1539.92 L1718.66 1539.92 L1730.47 1509.3 L1713.87 1509.3 L1713.87 1505.36 Z\" fill=\"#000000\" fill-rule=\"evenodd\" fill-opacity=\"1\" /><path clip-path=\"url(#clip630)\" d=\"M 0 0 M1751.16 1508.44 Q1747.55 1508.44 1745.72 1512 Q1743.92 1515.55 1743.92 1522.67 Q1743.92 1529.78 1745.72 1533.35 Q1747.55 1536.89 1751.16 1536.89 Q1754.8 1536.89 1756.6 1533.35 Q1758.43 1529.78 1758.43 1522.67 Q1758.43 1515.55 1756.6 1512 Q1754.8 1508.44 1751.16 1508.44 M1751.16 1504.73 Q1756.97 1504.73 1760.03 1509.34 Q1763.11 1513.92 1763.11 1522.67 Q1763.11 1531.4 1760.03 1536.01 Q1756.97 1540.59 1751.16 1540.59 Q1745.35 1540.59 1742.27 1536.01 Q1739.22 1531.4 1739.22 1522.67 Q1739.22 1513.92 1742.27 1509.34 Q1745.35 1504.73 1751.16 1504.73 Z\" fill=\"#000000\" fill-rule=\"evenodd\" fill-opacity=\"1\" /><path clip-path=\"url(#clip630)\" d=\"M 0 0 M2217.5 1523.51 Q2214.17 1523.51 2212.24 1525.29 Q2210.35 1527.07 2210.35 1530.2 Q2210.35 1533.32 2212.24 1535.11 Q2214.17 1536.89 2217.5 1536.89 Q2220.83 1536.89 2222.75 1535.11 Q2224.67 1533.3 2224.67 1530.2 Q2224.67 1527.07 2222.75 1525.29 Q2220.86 1523.51 2217.5 1523.51 M2212.82 1521.52 Q2209.81 1520.78 2208.12 1518.72 Q2206.46 1516.66 2206.46 1513.69 Q2206.46 1509.55 2209.4 1507.14 Q2212.36 1504.73 2217.5 1504.73 Q2222.66 1504.73 2225.6 1507.14 Q2228.54 1509.55 2228.54 1513.69 Q2228.54 1516.66 2226.85 1518.72 Q2225.18 1520.78 2222.2 1521.52 Q2225.58 1522.3 2227.45 1524.6 Q2229.35 1526.89 2229.35 1530.2 Q2229.35 1535.22 2226.27 1537.91 Q2223.22 1540.59 2217.5 1540.59 Q2211.78 1540.59 2208.7 1537.91 Q2205.65 1535.22 2205.65 1530.2 Q2205.65 1526.89 2207.55 1524.6 Q2209.44 1522.3 2212.82 1521.52 M2211.11 1514.13 Q2211.11 1516.82 2212.78 1518.32 Q2214.47 1519.83 2217.5 1519.83 Q2220.51 1519.83 2222.2 1518.32 Q2223.91 1516.82 2223.91 1514.13 Q2223.91 1511.45 2222.2 1509.94 Q2220.51 1508.44 2217.5 1508.44 Q2214.47 1508.44 2212.78 1509.94 Q2211.11 1511.45 2211.11 1514.13 Z\" fill=\"#000000\" fill-rule=\"evenodd\" fill-opacity=\"1\" /><path clip-path=\"url(#clip630)\" d=\"M 0 0 M2244.42 1508.44 Q2240.81 1508.44 2238.98 1512 Q2237.17 1515.55 2237.17 1522.67 Q2237.17 1529.78 2238.98 1533.35 Q2240.81 1536.89 2244.42 1536.89 Q2248.05 1536.89 2249.86 1533.35 Q2251.69 1529.78 2251.69 1522.67 Q2251.69 1515.55 2249.86 1512 Q2248.05 1508.44 2244.42 1508.44 M2244.42 1504.73 Q2250.23 1504.73 2253.29 1509.34 Q2256.36 1513.92 2256.36 1522.67 Q2256.36 1531.4 2253.29 1536.01 Q2250.23 1540.59 2244.42 1540.59 Q2238.61 1540.59 2235.53 1536.01 Q2232.48 1531.4 2232.48 1522.67 Q2232.48 1513.92 2235.53 1509.34 Q2238.61 1504.73 2244.42 1504.73 Z\" fill=\"#000000\" fill-rule=\"evenodd\" fill-opacity=\"1\" /><path clip-path=\"url(#clip630)\" d=\"M 0 0 M103.247 1431.51 Q99.6354 1431.51 97.8068 1435.08 Q96.0012 1438.62 96.0012 1445.75 Q96.0012 1452.86 97.8068 1456.42 Q99.6354 1459.96 103.247 1459.96 Q106.881 1459.96 108.686 1456.42 Q110.515 1452.86 110.515 1445.75 Q110.515 1438.62 108.686 1435.08 Q106.881 1431.51 103.247 1431.51 M103.247 1427.81 Q109.057 1427.81 112.112 1432.42 Q115.191 1437 115.191 1445.75 Q115.191 1454.48 112.112 1459.08 Q109.057 1463.67 103.247 1463.67 Q97.4364 1463.67 94.3577 1459.08 Q91.3022 1454.48 91.3022 1445.75 Q91.3022 1437 94.3577 1432.42 Q97.4364 1427.81 103.247 1427.81 Z\" fill=\"#000000\" fill-rule=\"evenodd\" fill-opacity=\"1\" /><path clip-path=\"url(#clip630)\" d=\"M 0 0 M68.2699 1119.63 L75.9087 1119.63 L75.9087 1093.26 L67.5986 1094.93 L67.5986 1090.67 L75.8624 1089 L80.5383 1089 L80.5383 1119.63 L88.1772 1119.63 L88.1772 1123.56 L68.2699 1123.56 L68.2699 1119.63 Z\" fill=\"#000000\" fill-rule=\"evenodd\" fill-opacity=\"1\" /><path clip-path=\"url(#clip630)\" d=\"M 0 0 M103.247 1092.08 Q99.6354 1092.08 97.8068 1095.64 Q96.0012 1099.19 96.0012 1106.32 Q96.0012 1113.42 97.8068 1116.99 Q99.6354 1120.53 103.247 1120.53 Q106.881 1120.53 108.686 1116.99 Q110.515 1113.42 110.515 1106.32 Q110.515 1099.19 108.686 1095.64 Q106.881 1092.08 103.247 1092.08 M103.247 1088.38 Q109.057 1088.38 112.112 1092.98 Q115.191 1097.57 115.191 1106.32 Q115.191 1115.04 112.112 1119.65 Q109.057 1124.23 103.247 1124.23 Q97.4364 1124.23 94.3577 1119.65 Q91.3022 1115.04 91.3022 1106.32 Q91.3022 1097.57 94.3577 1092.98 Q97.4364 1088.38 103.247 1088.38 Z\" fill=\"#000000\" fill-rule=\"evenodd\" fill-opacity=\"1\" /><path clip-path=\"url(#clip630)\" d=\"M 0 0 M71.8578 780.191 L88.1772 780.191 L88.1772 784.126 L66.2328 784.126 L66.2328 780.191 Q68.8949 777.436 73.4782 772.807 Q78.0846 768.154 79.2652 766.811 Q81.5105 764.288 82.3902 762.552 Q83.2929 760.793 83.2929 759.103 Q83.2929 756.348 81.3485 754.612 Q79.4272 752.876 76.3254 752.876 Q74.1263 752.876 71.6726 753.64 Q69.2421 754.404 66.4643 755.955 L66.4643 751.233 Q69.2884 750.098 71.7421 749.52 Q74.1958 748.941 76.2328 748.941 Q81.6031 748.941 84.7976 751.626 Q87.992 754.311 87.992 758.802 Q87.992 760.932 87.1818 762.853 Q86.3948 764.751 84.2883 767.344 Q83.7096 768.015 80.6078 771.233 Q77.5059 774.427 71.8578 780.191 Z\" fill=\"#000000\" fill-rule=\"evenodd\" fill-opacity=\"1\" /><path clip-path=\"url(#clip630)\" d=\"M 0 0 M103.247 752.645 Q99.6354 752.645 97.8068 756.209 Q96.0012 759.751 96.0012 766.881 Q96.0012 773.987 97.8068 777.552 Q99.6354 781.094 103.247 781.094 Q106.881 781.094 108.686 777.552 Q110.515 773.987 110.515 766.881 Q110.515 759.751 108.686 756.209 Q106.881 752.645 103.247 752.645 M103.247 748.941 Q109.057 748.941 112.112 753.547 Q115.191 758.131 115.191 766.881 Q115.191 775.608 112.112 780.214 Q109.057 784.797 103.247 784.797 Q97.4364 784.797 94.3577 780.214 Q91.3022 775.608 91.3022 766.881 Q91.3022 758.131 94.3577 753.547 Q97.4364 748.941 103.247 748.941 Z\" fill=\"#000000\" fill-rule=\"evenodd\" fill-opacity=\"1\" /><path clip-path=\"url(#clip630)\" d=\"M 0 0 M81.0476 426.057 Q84.404 426.775 86.279 429.043 Q88.1772 431.312 88.1772 434.645 Q88.1772 439.761 84.6587 442.562 Q81.1402 445.362 74.6587 445.362 Q72.4828 445.362 70.168 444.923 Q67.8764 444.506 65.4227 443.649 L65.4227 439.136 Q67.3671 440.27 69.6819 440.849 Q71.9967 441.427 74.5198 441.427 Q78.918 441.427 81.2096 439.691 Q83.5244 437.955 83.5244 434.645 Q83.5244 431.589 81.3717 429.876 Q79.242 428.14 75.4226 428.14 L71.3949 428.14 L71.3949 424.298 L75.6078 424.298 Q79.0569 424.298 80.8855 422.932 Q82.7142 421.543 82.7142 418.951 Q82.7142 416.289 80.8161 414.876 Q78.9411 413.441 75.4226 413.441 Q73.5013 413.441 71.3023 413.858 Q69.1032 414.275 66.4643 415.154 L66.4643 410.988 Q69.1264 410.247 71.4412 409.877 Q73.7791 409.506 75.8393 409.506 Q81.1633 409.506 84.2652 411.937 Q87.367 414.344 87.367 418.464 Q87.367 421.335 85.7235 423.326 Q84.08 425.293 81.0476 426.057 Z\" fill=\"#000000\" fill-rule=\"evenodd\" fill-opacity=\"1\" /><path clip-path=\"url(#clip630)\" d=\"M 0 0 M103.247 413.21 Q99.6354 413.21 97.8068 416.775 Q96.0012 420.316 96.0012 427.446 Q96.0012 434.552 97.8068 438.117 Q99.6354 441.659 103.247 441.659 Q106.881 441.659 108.686 438.117 Q110.515 434.552 110.515 427.446 Q110.515 420.316 108.686 416.775 Q106.881 413.21 103.247 413.21 M103.247 409.506 Q109.057 409.506 112.112 414.113 Q115.191 418.696 115.191 427.446 Q115.191 436.173 112.112 440.779 Q109.057 445.362 103.247 445.362 Q97.4364 445.362 94.3577 440.779 Q91.3022 436.173 91.3022 427.446 Q91.3022 418.696 94.3577 414.113 Q97.4364 409.506 103.247 409.506 Z\" fill=\"#000000\" fill-rule=\"evenodd\" fill-opacity=\"1\" /><path clip-path=\"url(#clip630)\" d=\"M 0 0 M78.5939 74.7703 L66.7884 93.2193 L78.5939 93.2193 L78.5939 74.7703 M77.367 70.6963 L83.2466 70.6963 L83.2466 93.2193 L88.1772 93.2193 L88.1772 97.1082 L83.2466 97.1082 L83.2466 105.256 L78.5939 105.256 L78.5939 97.1082 L62.9921 97.1082 L62.9921 92.5943 L77.367 70.6963 Z\" fill=\"#000000\" fill-rule=\"evenodd\" fill-opacity=\"1\" /><path clip-path=\"url(#clip630)\" d=\"M 0 0 M103.247 73.775 Q99.6354 73.775 97.8068 77.3398 Q96.0012 80.8814 96.0012 88.011 Q96.0012 95.1174 97.8068 98.6822 Q99.6354 102.224 103.247 102.224 Q106.881 102.224 108.686 98.6822 Q110.515 95.1174 110.515 88.011 Q110.515 80.8814 108.686 77.3398 Q106.881 73.775 103.247 73.775 M103.247 70.0713 Q109.057 70.0713 112.112 74.6777 Q115.191 79.261 115.191 88.011 Q115.191 96.7378 112.112 101.344 Q109.057 105.928 103.247 105.928 Q97.4364 105.928 94.3577 101.344 Q91.3022 96.7378 91.3022 88.011 Q91.3022 79.261 94.3577 74.6777 Q97.4364 70.0713 103.247 70.0713 Z\" fill=\"#000000\" fill-rule=\"evenodd\" fill-opacity=\"1\" /><path clip-path=\"url(#clip632)\" d=\"\n",
       "M260.941 1174.17 L260.941 1445.72 L507.199 1445.72 L507.199 1174.17 L260.941 1174.17 L260.941 1174.17  Z\n",
       "  \" fill=\"#009af9\" fill-rule=\"evenodd\" fill-opacity=\"1\"/>\n",
       "<polyline clip-path=\"url(#clip632)\" style=\"stroke:#000000; stroke-width:4; stroke-opacity:1; fill:none\" points=\"\n",
       "  260.941,1174.17 260.941,1445.72 507.199,1445.72 507.199,1174.17 260.941,1174.17 \n",
       "  \"/>\n",
       "<path clip-path=\"url(#clip632)\" d=\"\n",
       "M507.199 87.9763 L507.199 1445.72 L753.457 1445.72 L753.457 87.9763 L507.199 87.9763 L507.199 87.9763  Z\n",
       "  \" fill=\"#009af9\" fill-rule=\"evenodd\" fill-opacity=\"1\"/>\n",
       "<polyline clip-path=\"url(#clip632)\" style=\"stroke:#000000; stroke-width:4; stroke-opacity:1; fill:none\" points=\"\n",
       "  507.199,87.9763 507.199,1445.72 753.457,1445.72 753.457,87.9763 507.199,87.9763 \n",
       "  \"/>\n",
       "<path clip-path=\"url(#clip632)\" d=\"\n",
       "M753.457 665.016 L753.457 1445.72 L999.715 1445.72 L999.715 665.016 L753.457 665.016 L753.457 665.016  Z\n",
       "  \" fill=\"#009af9\" fill-rule=\"evenodd\" fill-opacity=\"1\"/>\n",
       "<polyline clip-path=\"url(#clip632)\" style=\"stroke:#000000; stroke-width:4; stroke-opacity:1; fill:none\" points=\"\n",
       "  753.457,665.016 753.457,1445.72 999.715,1445.72 999.715,665.016 753.457,665.016 \n",
       "  \"/>\n",
       "<path clip-path=\"url(#clip632)\" d=\"\n",
       "M999.715 1208.11 L999.715 1445.72 L1245.97 1445.72 L1245.97 1208.11 L999.715 1208.11 L999.715 1208.11  Z\n",
       "  \" fill=\"#009af9\" fill-rule=\"evenodd\" fill-opacity=\"1\"/>\n",
       "<polyline clip-path=\"url(#clip632)\" style=\"stroke:#000000; stroke-width:4; stroke-opacity:1; fill:none\" points=\"\n",
       "  999.715,1208.11 999.715,1445.72 1245.97,1445.72 1245.97,1208.11 999.715,1208.11 \n",
       "  \"/>\n",
       "<path clip-path=\"url(#clip632)\" d=\"\n",
       "M1245.97 1174.17 L1245.97 1445.72 L1492.23 1445.72 L1492.23 1174.17 L1245.97 1174.17 L1245.97 1174.17  Z\n",
       "  \" fill=\"#009af9\" fill-rule=\"evenodd\" fill-opacity=\"1\"/>\n",
       "<polyline clip-path=\"url(#clip632)\" style=\"stroke:#000000; stroke-width:4; stroke-opacity:1; fill:none\" points=\"\n",
       "  1245.97,1174.17 1245.97,1445.72 1492.23,1445.72 1492.23,1174.17 1245.97,1174.17 \n",
       "  \"/>\n",
       "<path clip-path=\"url(#clip632)\" d=\"\n",
       "M1492.23 1106.28 L1492.23 1445.72 L1738.49 1445.72 L1738.49 1106.28 L1492.23 1106.28 L1492.23 1106.28  Z\n",
       "  \" fill=\"#009af9\" fill-rule=\"evenodd\" fill-opacity=\"1\"/>\n",
       "<polyline clip-path=\"url(#clip632)\" style=\"stroke:#000000; stroke-width:4; stroke-opacity:1; fill:none\" points=\"\n",
       "  1492.23,1106.28 1492.23,1445.72 1738.49,1445.72 1738.49,1106.28 1492.23,1106.28 \n",
       "  \"/>\n",
       "<path clip-path=\"url(#clip632)\" d=\"\n",
       "M1738.49 1343.89 L1738.49 1445.72 L1984.75 1445.72 L1984.75 1343.89 L1738.49 1343.89 L1738.49 1343.89  Z\n",
       "  \" fill=\"#009af9\" fill-rule=\"evenodd\" fill-opacity=\"1\"/>\n",
       "<polyline clip-path=\"url(#clip632)\" style=\"stroke:#000000; stroke-width:4; stroke-opacity:1; fill:none\" points=\"\n",
       "  1738.49,1343.89 1738.49,1445.72 1984.75,1445.72 1984.75,1343.89 1738.49,1343.89 \n",
       "  \"/>\n",
       "<path clip-path=\"url(#clip632)\" d=\"\n",
       "M1984.75 1411.77 L1984.75 1445.72 L2231.01 1445.72 L2231.01 1411.77 L1984.75 1411.77 L1984.75 1411.77  Z\n",
       "  \" fill=\"#009af9\" fill-rule=\"evenodd\" fill-opacity=\"1\"/>\n",
       "<polyline clip-path=\"url(#clip632)\" style=\"stroke:#000000; stroke-width:4; stroke-opacity:1; fill:none\" points=\"\n",
       "  1984.75,1411.77 1984.75,1445.72 2231.01,1445.72 2231.01,1411.77 1984.75,1411.77 \n",
       "  \"/>\n",
       "<path clip-path=\"url(#clip630)\" d=\"\n",
       "M1989.74 251.724 L2280.76 251.724 L2280.76 130.764 L1989.74 130.764  Z\n",
       "  \" fill=\"#ffffff\" fill-rule=\"evenodd\" fill-opacity=\"1\"/>\n",
       "<polyline clip-path=\"url(#clip630)\" style=\"stroke:#000000; stroke-width:4; stroke-opacity:1; fill:none\" points=\"\n",
       "  1989.74,251.724 2280.76,251.724 2280.76,130.764 1989.74,130.764 1989.74,251.724 \n",
       "  \"/>\n",
       "<path clip-path=\"url(#clip630)\" d=\"\n",
       "M2013.74 215.436 L2157.74 215.436 L2157.74 167.052 L2013.74 167.052 L2013.74 215.436  Z\n",
       "  \" fill=\"#009af9\" fill-rule=\"evenodd\" fill-opacity=\"1\"/>\n",
       "<polyline clip-path=\"url(#clip630)\" style=\"stroke:#000000; stroke-width:4; stroke-opacity:1; fill:none\" points=\"\n",
       "  2013.74,215.436 2157.74,215.436 2157.74,167.052 2013.74,167.052 2013.74,215.436 \n",
       "  \"/>\n",
       "<path clip-path=\"url(#clip630)\" d=\"M 0 0 M2195.58 210.931 Q2193.77 215.561 2192.06 216.973 Q2190.35 218.385 2187.48 218.385 L2184.08 218.385 L2184.08 214.82 L2186.58 214.82 Q2188.33 214.82 2189.31 213.987 Q2190.28 213.154 2191.46 210.052 L2192.22 208.107 L2181.74 182.598 L2186.25 182.598 L2194.35 202.876 L2202.46 182.598 L2206.97 182.598 L2195.58 210.931 Z\" fill=\"#000000\" fill-rule=\"evenodd\" fill-opacity=\"1\" /><path clip-path=\"url(#clip630)\" d=\"M 0 0 M2212.85 204.589 L2220.49 204.589 L2220.49 178.223 L2212.18 179.89 L2212.18 175.631 L2220.44 173.964 L2225.12 173.964 L2225.12 204.589 L2232.76 204.589 L2232.76 208.524 L2212.85 208.524 L2212.85 204.589 Z\" fill=\"#000000\" fill-rule=\"evenodd\" fill-opacity=\"1\" /></svg>\n"
      ]
     },
     "execution_count": 57,
     "metadata": {},
     "output_type": "execute_result"
    }
   ],
   "source": [
    "histogram(sio2[samples[3,:]])"
   ]
  },
  {
   "cell_type": "code",
   "execution_count": 76,
   "metadata": {},
   "outputs": [
    {
     "name": "stdout",
     "output_type": "stream",
     "text": [
      "Loading crust information from file data/crustDistribution.jld\n"
     ]
    },
    {
     "name": "stderr",
     "output_type": "stream",
     "text": [
      "┌ Warning: JLD incorrectly extends FileIO functions (see FileIO documentation)\n",
      "└ @ FileIO /Users/gailin/.julia/packages/FileIO/AmppF/src/loadsave.jl:210\n"
     ]
    },
    {
     "data": {
      "text/plain": [
       "Main.crustDistribution"
      ]
     },
     "execution_count": 76,
     "metadata": {},
     "output_type": "execute_result"
    }
   ],
   "source": [
    "include(\"src/crustDistribution.jl\")"
   ]
  },
  {
   "cell_type": "code",
   "execution_count": 126,
   "metadata": {},
   "outputs": [
    {
     "name": "stderr",
     "output_type": "stream",
     "text": [
      "WARNING: redefining constant COMPOSITION_ELEMENTS\n",
      "WARNING: redefining constant PERPLEX_COMPOSITION_ELTS\n",
      "WARNING: redefining constant MINOR_ELTS\n",
      "WARNING: redefining constant RESAMPLED_ELEMENTS\n",
      "WARNING: redefining constant PERPLEX_ELEMENTS\n"
     ]
    },
    {
     "data": {
      "text/plain": [
       "mu_from_poissons (generic function with 1 method)"
      ]
     },
     "execution_count": 126,
     "metadata": {},
     "output_type": "execute_result"
    }
   ],
   "source": [
    "include(\"src/config.jl\")\n",
    "include(\"src/parsePerplex.jl\")\n",
    "include(\"src/seismic.jl\")\n",
    "include(\"src/cracks.jl\")"
   ]
  },
  {
   "cell_type": "code",
   "execution_count": 161,
   "metadata": {},
   "outputs": [
    {
     "data": {
      "text/plain": [
       "getAllSeismic"
      ]
     },
     "execution_count": 161,
     "metadata": {},
     "output_type": "execute_result"
    }
   ],
   "source": [
    "include(\"src/invertData.jl\")"
   ]
  },
  {
   "cell_type": "code",
   "execution_count": 133,
   "metadata": {},
   "outputs": [
    {
     "name": "stderr",
     "output_type": "stream",
     "text": [
      "\u001b[32mBuilding fake earth100%|████████████████████████████████| Time: 0:01:18\u001b[39m\n"
     ]
    },
    {
     "data": {
      "text/plain": [
       "([2855.5014958159013, 2818.9559897808454, 2661.087540674652, 2856.152208699943, 2842.4989733744515, 2642.640661272292, 2571.590030348222, 2650.1077479596365, 2571.838201982075, 2648.910236133259  …  2822.692988489154, 2857.627478911255, 2654.6293856906705, 2692.6764717112937, 2538.9054092219358, 2545.9111822259506, 2570.0127081752526, 2749.3028718869327, 2570.038008824895, 2567.515951805037], [6.46011245552156, 6.239481040994932, 6.122782285791358, 6.46583546455615, 6.3995201591037665, 6.116959926972601, 6.159874819825983, 6.148480192794691, 6.157768235024649, 6.071735161415932  …  6.252539782237402, 6.472070540095417, 6.096110978915393, 6.14027525188778, 5.842251721248062, 5.855250817853771, 6.150113841350604, 6.36922425865001, 6.149375774068068, 6.135809132557407], [1.7602342950326622, 1.7034127056990076, 1.6779655868571228, 1.7576976875713435, 1.7716557369157349, 1.665398511264565, 1.6651275082116685, 1.6653393448925626, 1.6667904160987197, 1.6777661940779214  …  1.7036167685482022, 1.7568315159156531, 1.6777668477530205, 1.6396943702432585, 1.5115855752448446, 1.5111855603723914, 1.6663631590765715, 1.6295096807986345, 1.6668004640621434, 1.6677031995668448], [37.03435880955285, 45.6688419464442, 31.236062275369328, 42.104944675616075, 60.45376649509325, 39.9170430001989, 54.146539222273645, 25.82574157076814, 40.85871473937756, 42.876778846004605  …  36.157158372542284, 37.89757788900569, 39.43450081289235, 41.467401699604416, 37.42424287907281, 38.69902687329974, 47.803182974851424, 38.05714742485895, 44.93214943772041, 45.656823877736166])"
      ]
     },
     "execution_count": 133,
     "metadata": {},
     "output_type": "execute_result"
    }
   ],
   "source": [
    "(rho_c, vp_c, vpvs_c, geotherm) = getPerplexTestSeismic(200, 6, nsamples=20)"
   ]
  },
  {
   "cell_type": "code",
   "execution_count": 125,
   "metadata": {},
   "outputs": [
    {
     "data": {
      "text/plain": [
       "200-element Array{Float64,1}:\n",
       " 6.108875458615293 \n",
       " 6.162472211772879 \n",
       " 6.140408647919409 \n",
       " 6.215205960782187 \n",
       " 6.104114722783096 \n",
       " 6.13391712907787  \n",
       " 6.139278819181953 \n",
       " 6.307949459426777 \n",
       " 6.119159451828468 \n",
       " 6.123353374346005 \n",
       " 6.243518337210604 \n",
       " 5.493286375982216 \n",
       " 6.116034645885067 \n",
       " ⋮                 \n",
       " 5.995076284723577 \n",
       " 6.067668974655563 \n",
       " 5.466829298285775 \n",
       " 6.318187482885996 \n",
       " 6.1231986475089535\n",
       " 6.235118380828192 \n",
       " 6.11775392660888  \n",
       " 6.111588741982891 \n",
       " 6.233589087292647 \n",
       " 6.242835835641936 \n",
       " 5.515097366669259 \n",
       " 6.3267326679206155"
      ]
     },
     "execution_count": 125,
     "metadata": {},
     "output_type": "execute_result"
    }
   ],
   "source": [
    "vp[vp .!= 0 ]"
   ]
  },
  {
   "cell_type": "code",
   "execution_count": 134,
   "metadata": {},
   "outputs": [
    {
     "data": {
      "image/svg+xml": [
       "<?xml version=\"1.0\" encoding=\"utf-8\"?>\n",
       "<svg xmlns=\"http://www.w3.org/2000/svg\" xmlns:xlink=\"http://www.w3.org/1999/xlink\" width=\"600\" height=\"400\" viewBox=\"0 0 2400 1600\">\n",
       "<defs>\n",
       "  <clipPath id=\"clip750\">\n",
       "    <rect x=\"0\" y=\"0\" width=\"2400\" height=\"1600\"/>\n",
       "  </clipPath>\n",
       "</defs>\n",
       "<path clip-path=\"url(#clip750)\" d=\"\n",
       "M0 1600 L2400 1600 L2400 0 L0 0  Z\n",
       "  \" fill=\"#ffffff\" fill-rule=\"evenodd\" fill-opacity=\"1\"/>\n",
       "<defs>\n",
       "  <clipPath id=\"clip751\">\n",
       "    <rect x=\"480\" y=\"0\" width=\"1681\" height=\"1600\"/>\n",
       "  </clipPath>\n",
       "</defs>\n",
       "<path clip-path=\"url(#clip750)\" d=\"\n",
       "M139.191 1486.45 L2352.76 1486.45 L2352.76 47.2441 L139.191 47.2441  Z\n",
       "  \" fill=\"#ffffff\" fill-rule=\"evenodd\" fill-opacity=\"1\"/>\n",
       "<defs>\n",
       "  <clipPath id=\"clip752\">\n",
       "    <rect x=\"139\" y=\"47\" width=\"2215\" height=\"1440\"/>\n",
       "  </clipPath>\n",
       "</defs>\n",
       "<polyline clip-path=\"url(#clip752)\" style=\"stroke:#000000; stroke-width:2; stroke-opacity:0.1; fill:none\" points=\"\n",
       "  317.854,1486.45 317.854,47.2441 \n",
       "  \"/>\n",
       "<polyline clip-path=\"url(#clip752)\" style=\"stroke:#000000; stroke-width:2; stroke-opacity:0.1; fill:none\" points=\"\n",
       "  897.929,1486.45 897.929,47.2441 \n",
       "  \"/>\n",
       "<polyline clip-path=\"url(#clip752)\" style=\"stroke:#000000; stroke-width:2; stroke-opacity:0.1; fill:none\" points=\"\n",
       "  1478,1486.45 1478,47.2441 \n",
       "  \"/>\n",
       "<polyline clip-path=\"url(#clip752)\" style=\"stroke:#000000; stroke-width:2; stroke-opacity:0.1; fill:none\" points=\"\n",
       "  2058.08,1486.45 2058.08,47.2441 \n",
       "  \"/>\n",
       "<polyline clip-path=\"url(#clip752)\" style=\"stroke:#000000; stroke-width:2; stroke-opacity:0.1; fill:none\" points=\"\n",
       "  139.191,1445.72 2352.76,1445.72 \n",
       "  \"/>\n",
       "<polyline clip-path=\"url(#clip752)\" style=\"stroke:#000000; stroke-width:2; stroke-opacity:0.1; fill:none\" points=\"\n",
       "  139.191,1052.17 2352.76,1052.17 \n",
       "  \"/>\n",
       "<polyline clip-path=\"url(#clip752)\" style=\"stroke:#000000; stroke-width:2; stroke-opacity:0.1; fill:none\" points=\"\n",
       "  139.191,658.62 2352.76,658.62 \n",
       "  \"/>\n",
       "<polyline clip-path=\"url(#clip752)\" style=\"stroke:#000000; stroke-width:2; stroke-opacity:0.1; fill:none\" points=\"\n",
       "  139.191,265.073 2352.76,265.073 \n",
       "  \"/>\n",
       "<polyline clip-path=\"url(#clip750)\" style=\"stroke:#000000; stroke-width:4; stroke-opacity:1; fill:none\" points=\"\n",
       "  139.191,1486.45 2352.76,1486.45 \n",
       "  \"/>\n",
       "<polyline clip-path=\"url(#clip750)\" style=\"stroke:#000000; stroke-width:4; stroke-opacity:1; fill:none\" points=\"\n",
       "  139.191,1486.45 139.191,47.2441 \n",
       "  \"/>\n",
       "<polyline clip-path=\"url(#clip750)\" style=\"stroke:#000000; stroke-width:4; stroke-opacity:1; fill:none\" points=\"\n",
       "  317.854,1486.45 317.854,1469.18 \n",
       "  \"/>\n",
       "<polyline clip-path=\"url(#clip750)\" style=\"stroke:#000000; stroke-width:4; stroke-opacity:1; fill:none\" points=\"\n",
       "  897.929,1486.45 897.929,1469.18 \n",
       "  \"/>\n",
       "<polyline clip-path=\"url(#clip750)\" style=\"stroke:#000000; stroke-width:4; stroke-opacity:1; fill:none\" points=\"\n",
       "  1478,1486.45 1478,1469.18 \n",
       "  \"/>\n",
       "<polyline clip-path=\"url(#clip750)\" style=\"stroke:#000000; stroke-width:4; stroke-opacity:1; fill:none\" points=\"\n",
       "  2058.08,1486.45 2058.08,1469.18 \n",
       "  \"/>\n",
       "<polyline clip-path=\"url(#clip750)\" style=\"stroke:#000000; stroke-width:4; stroke-opacity:1; fill:none\" points=\"\n",
       "  139.191,1445.72 165.754,1445.72 \n",
       "  \"/>\n",
       "<polyline clip-path=\"url(#clip750)\" style=\"stroke:#000000; stroke-width:4; stroke-opacity:1; fill:none\" points=\"\n",
       "  139.191,1052.17 165.754,1052.17 \n",
       "  \"/>\n",
       "<polyline clip-path=\"url(#clip750)\" style=\"stroke:#000000; stroke-width:4; stroke-opacity:1; fill:none\" points=\"\n",
       "  139.191,658.62 165.754,658.62 \n",
       "  \"/>\n",
       "<polyline clip-path=\"url(#clip750)\" style=\"stroke:#000000; stroke-width:4; stroke-opacity:1; fill:none\" points=\"\n",
       "  139.191,265.073 165.754,265.073 \n",
       "  \"/>\n",
       "<path clip-path=\"url(#clip750)\" d=\"M 0 0 M290.146 1505.36 L308.502 1505.36 L308.502 1509.3 L294.428 1509.3 L294.428 1517.77 Q295.447 1517.42 296.465 1517.26 Q297.484 1517.07 298.502 1517.07 Q304.289 1517.07 307.669 1520.24 Q311.048 1523.42 311.048 1528.83 Q311.048 1534.41 307.576 1537.51 Q304.104 1540.59 297.785 1540.59 Q295.609 1540.59 293.34 1540.22 Q291.095 1539.85 288.687 1539.11 L288.687 1534.41 Q290.771 1535.54 292.993 1536.1 Q295.215 1536.66 297.692 1536.66 Q301.697 1536.66 304.035 1534.55 Q306.373 1532.44 306.373 1528.83 Q306.373 1525.22 304.035 1523.11 Q301.697 1521.01 297.692 1521.01 Q295.817 1521.01 293.942 1521.42 Q292.09 1521.84 290.146 1522.72 L290.146 1505.36 Z\" fill=\"#000000\" fill-rule=\"evenodd\" fill-opacity=\"1\" /><path clip-path=\"url(#clip750)\" d=\"M 0 0 M316.118 1534.04 L321.002 1534.04 L321.002 1539.92 L316.118 1539.92 L316.118 1534.04 Z\" fill=\"#000000\" fill-rule=\"evenodd\" fill-opacity=\"1\" /><path clip-path=\"url(#clip750)\" d=\"M 0 0 M326.118 1505.36 L344.474 1505.36 L344.474 1509.3 L330.4 1509.3 L330.4 1517.77 Q331.419 1517.42 332.437 1517.26 Q333.456 1517.07 334.474 1517.07 Q340.261 1517.07 343.641 1520.24 Q347.02 1523.42 347.02 1528.83 Q347.02 1534.41 343.548 1537.51 Q340.076 1540.59 333.757 1540.59 Q331.581 1540.59 329.312 1540.22 Q327.067 1539.85 324.659 1539.11 L324.659 1534.41 Q326.743 1535.54 328.965 1536.1 Q331.187 1536.66 333.664 1536.66 Q337.669 1536.66 340.007 1534.55 Q342.345 1532.44 342.345 1528.83 Q342.345 1525.22 340.007 1523.11 Q337.669 1521.01 333.664 1521.01 Q331.789 1521.01 329.914 1521.42 Q328.062 1521.84 326.118 1522.72 L326.118 1505.36 Z\" fill=\"#000000\" fill-rule=\"evenodd\" fill-opacity=\"1\" /><path clip-path=\"url(#clip750)\" d=\"M 0 0 M879.85 1520.78 Q876.702 1520.78 874.85 1522.93 Q873.021 1525.08 873.021 1528.83 Q873.021 1532.56 874.85 1534.73 Q876.702 1536.89 879.85 1536.89 Q882.998 1536.89 884.827 1534.73 Q886.679 1532.56 886.679 1528.83 Q886.679 1525.08 884.827 1522.93 Q882.998 1520.78 879.85 1520.78 M889.132 1506.12 L889.132 1510.38 Q887.373 1509.55 885.568 1509.11 Q883.785 1508.67 882.026 1508.67 Q877.396 1508.67 874.943 1511.8 Q872.512 1514.92 872.165 1521.24 Q873.531 1519.23 875.591 1518.16 Q877.651 1517.07 880.128 1517.07 Q885.336 1517.07 888.345 1520.24 Q891.378 1523.39 891.378 1528.83 Q891.378 1534.16 888.23 1537.37 Q885.081 1540.59 879.85 1540.59 Q873.855 1540.59 870.683 1536.01 Q867.512 1531.4 867.512 1522.67 Q867.512 1514.48 871.401 1509.62 Q875.29 1504.73 881.841 1504.73 Q883.6 1504.73 885.382 1505.08 Q887.188 1505.43 889.132 1506.12 Z\" fill=\"#000000\" fill-rule=\"evenodd\" fill-opacity=\"1\" /><path clip-path=\"url(#clip750)\" d=\"M 0 0 M896.447 1534.04 L901.331 1534.04 L901.331 1539.92 L896.447 1539.92 L896.447 1534.04 Z\" fill=\"#000000\" fill-rule=\"evenodd\" fill-opacity=\"1\" /><path clip-path=\"url(#clip750)\" d=\"M 0 0 M916.401 1508.44 Q912.79 1508.44 910.961 1512 Q909.155 1515.55 909.155 1522.67 Q909.155 1529.78 910.961 1533.35 Q912.79 1536.89 916.401 1536.89 Q920.035 1536.89 921.841 1533.35 Q923.669 1529.78 923.669 1522.67 Q923.669 1515.55 921.841 1512 Q920.035 1508.44 916.401 1508.44 M916.401 1504.73 Q922.211 1504.73 925.266 1509.34 Q928.345 1513.92 928.345 1522.67 Q928.345 1531.4 925.266 1536.01 Q922.211 1540.59 916.401 1540.59 Q910.591 1540.59 907.512 1536.01 Q904.456 1531.4 904.456 1522.67 Q904.456 1513.92 907.512 1509.34 Q910.591 1504.73 916.401 1504.73 Z\" fill=\"#000000\" fill-rule=\"evenodd\" fill-opacity=\"1\" /><path clip-path=\"url(#clip750)\" d=\"M 0 0 M1460.42 1520.78 Q1457.27 1520.78 1455.42 1522.93 Q1453.59 1525.08 1453.59 1528.83 Q1453.59 1532.56 1455.42 1534.73 Q1457.27 1536.89 1460.42 1536.89 Q1463.57 1536.89 1465.4 1534.73 Q1467.25 1532.56 1467.25 1528.83 Q1467.25 1525.08 1465.4 1522.93 Q1463.57 1520.78 1460.42 1520.78 M1469.7 1506.12 L1469.7 1510.38 Q1467.95 1509.55 1466.14 1509.11 Q1464.36 1508.67 1462.6 1508.67 Q1457.97 1508.67 1455.51 1511.8 Q1453.08 1514.92 1452.74 1521.24 Q1454.1 1519.23 1456.16 1518.16 Q1458.22 1517.07 1460.7 1517.07 Q1465.91 1517.07 1468.92 1520.24 Q1471.95 1523.39 1471.95 1528.83 Q1471.95 1534.16 1468.8 1537.37 Q1465.65 1540.59 1460.42 1540.59 Q1454.43 1540.59 1451.26 1536.01 Q1448.08 1531.4 1448.08 1522.67 Q1448.08 1514.48 1451.97 1509.62 Q1455.86 1504.73 1462.41 1504.73 Q1464.17 1504.73 1465.95 1505.08 Q1467.76 1505.43 1469.7 1506.12 Z\" fill=\"#000000\" fill-rule=\"evenodd\" fill-opacity=\"1\" /><path clip-path=\"url(#clip750)\" d=\"M 0 0 M1477.02 1534.04 L1481.9 1534.04 L1481.9 1539.92 L1477.02 1539.92 L1477.02 1534.04 Z\" fill=\"#000000\" fill-rule=\"evenodd\" fill-opacity=\"1\" /><path clip-path=\"url(#clip750)\" d=\"M 0 0 M1487.02 1505.36 L1505.38 1505.36 L1505.38 1509.3 L1491.3 1509.3 L1491.3 1517.77 Q1492.32 1517.42 1493.34 1517.26 Q1494.36 1517.07 1495.38 1517.07 Q1501.16 1517.07 1504.54 1520.24 Q1507.92 1523.42 1507.92 1528.83 Q1507.92 1534.41 1504.45 1537.51 Q1500.98 1540.59 1494.66 1540.59 Q1492.48 1540.59 1490.21 1540.22 Q1487.97 1539.85 1485.56 1539.11 L1485.56 1534.41 Q1487.64 1535.54 1489.87 1536.1 Q1492.09 1536.66 1494.57 1536.66 Q1498.57 1536.66 1500.91 1534.55 Q1503.25 1532.44 1503.25 1528.83 Q1503.25 1525.22 1500.91 1523.11 Q1498.57 1521.01 1494.57 1521.01 Q1492.69 1521.01 1490.82 1521.42 Q1488.96 1521.84 1487.02 1522.72 L1487.02 1505.36 Z\" fill=\"#000000\" fill-rule=\"evenodd\" fill-opacity=\"1\" /><path clip-path=\"url(#clip750)\" d=\"M 0 0 M2028.48 1505.36 L2050.71 1505.36 L2050.71 1507.35 L2038.16 1539.92 L2033.27 1539.92 L2045.08 1509.3 L2028.48 1509.3 L2028.48 1505.36 Z\" fill=\"#000000\" fill-rule=\"evenodd\" fill-opacity=\"1\" /><path clip-path=\"url(#clip750)\" d=\"M 0 0 M2055.77 1534.04 L2060.66 1534.04 L2060.66 1539.92 L2055.77 1539.92 L2055.77 1534.04 Z\" fill=\"#000000\" fill-rule=\"evenodd\" fill-opacity=\"1\" /><path clip-path=\"url(#clip750)\" d=\"M 0 0 M2075.73 1508.44 Q2072.12 1508.44 2070.29 1512 Q2068.48 1515.55 2068.48 1522.67 Q2068.48 1529.78 2070.29 1533.35 Q2072.12 1536.89 2075.73 1536.89 Q2079.36 1536.89 2081.17 1533.35 Q2083 1529.78 2083 1522.67 Q2083 1515.55 2081.17 1512 Q2079.36 1508.44 2075.73 1508.44 M2075.73 1504.73 Q2081.54 1504.73 2084.59 1509.34 Q2087.67 1513.92 2087.67 1522.67 Q2087.67 1531.4 2084.59 1536.01 Q2081.54 1540.59 2075.73 1540.59 Q2069.92 1540.59 2066.84 1536.01 Q2063.78 1531.4 2063.78 1522.67 Q2063.78 1513.92 2066.84 1509.34 Q2069.92 1504.73 2075.73 1504.73 Z\" fill=\"#000000\" fill-rule=\"evenodd\" fill-opacity=\"1\" /><path clip-path=\"url(#clip750)\" d=\"M 0 0 M103.247 1431.51 Q99.6354 1431.51 97.8068 1435.08 Q96.0012 1438.62 96.0012 1445.75 Q96.0012 1452.86 97.8068 1456.42 Q99.6354 1459.96 103.247 1459.96 Q106.881 1459.96 108.686 1456.42 Q110.515 1452.86 110.515 1445.75 Q110.515 1438.62 108.686 1435.08 Q106.881 1431.51 103.247 1431.51 M103.247 1427.81 Q109.057 1427.81 112.112 1432.42 Q115.191 1437 115.191 1445.75 Q115.191 1454.48 112.112 1459.08 Q109.057 1463.67 103.247 1463.67 Q97.4364 1463.67 94.3577 1459.08 Q91.3022 1454.48 91.3022 1445.75 Q91.3022 1437 94.3577 1432.42 Q97.4364 1427.81 103.247 1427.81 Z\" fill=\"#000000\" fill-rule=\"evenodd\" fill-opacity=\"1\" /><path clip-path=\"url(#clip750)\" d=\"M 0 0 M71.8578 1065.51 L88.1772 1065.51 L88.1772 1069.45 L66.2328 1069.45 L66.2328 1065.51 Q68.8949 1062.76 73.4782 1058.13 Q78.0846 1053.48 79.2652 1052.13 Q81.5105 1049.61 82.3902 1047.87 Q83.2929 1046.11 83.2929 1044.43 Q83.2929 1041.67 81.3485 1039.93 Q79.4272 1038.2 76.3254 1038.2 Q74.1263 1038.2 71.6726 1038.96 Q69.2421 1039.73 66.4643 1041.28 L66.4643 1036.55 Q69.2884 1035.42 71.7421 1034.84 Q74.1958 1034.26 76.2328 1034.26 Q81.6031 1034.26 84.7976 1036.95 Q87.992 1039.63 87.992 1044.12 Q87.992 1046.25 87.1818 1048.18 Q86.3948 1050.07 84.2883 1052.67 Q83.7096 1053.34 80.6078 1056.55 Q77.5059 1059.75 71.8578 1065.51 Z\" fill=\"#000000\" fill-rule=\"evenodd\" fill-opacity=\"1\" /><path clip-path=\"url(#clip750)\" d=\"M 0 0 M103.247 1037.97 Q99.6354 1037.97 97.8068 1041.53 Q96.0012 1045.07 96.0012 1052.2 Q96.0012 1059.31 97.8068 1062.87 Q99.6354 1066.42 103.247 1066.42 Q106.881 1066.42 108.686 1062.87 Q110.515 1059.31 110.515 1052.2 Q110.515 1045.07 108.686 1041.53 Q106.881 1037.97 103.247 1037.97 M103.247 1034.26 Q109.057 1034.26 112.112 1038.87 Q115.191 1043.45 115.191 1052.2 Q115.191 1060.93 112.112 1065.54 Q109.057 1070.12 103.247 1070.12 Q97.4364 1070.12 94.3577 1065.54 Q91.3022 1060.93 91.3022 1052.2 Q91.3022 1043.45 94.3577 1038.87 Q97.4364 1034.26 103.247 1034.26 Z\" fill=\"#000000\" fill-rule=\"evenodd\" fill-opacity=\"1\" /><path clip-path=\"url(#clip750)\" d=\"M 0 0 M78.5939 645.414 L66.7884 663.863 L78.5939 663.863 L78.5939 645.414 M77.367 641.34 L83.2466 641.34 L83.2466 663.863 L88.1772 663.863 L88.1772 667.752 L83.2466 667.752 L83.2466 675.9 L78.5939 675.9 L78.5939 667.752 L62.9921 667.752 L62.9921 663.238 L77.367 641.34 Z\" fill=\"#000000\" fill-rule=\"evenodd\" fill-opacity=\"1\" /><path clip-path=\"url(#clip750)\" d=\"M 0 0 M103.247 644.419 Q99.6354 644.419 97.8068 647.984 Q96.0012 651.526 96.0012 658.655 Q96.0012 665.762 97.8068 669.326 Q99.6354 672.868 103.247 672.868 Q106.881 672.868 108.686 669.326 Q110.515 665.762 110.515 658.655 Q110.515 651.526 108.686 647.984 Q106.881 644.419 103.247 644.419 M103.247 640.715 Q109.057 640.715 112.112 645.322 Q115.191 649.905 115.191 658.655 Q115.191 667.382 112.112 671.988 Q109.057 676.572 103.247 676.572 Q97.4364 676.572 94.3577 671.988 Q91.3022 667.382 91.3022 658.655 Q91.3022 649.905 94.3577 645.322 Q97.4364 640.715 103.247 640.715 Z\" fill=\"#000000\" fill-rule=\"evenodd\" fill-opacity=\"1\" /><path clip-path=\"url(#clip750)\" d=\"M 0 0 M76.6495 263.209 Q73.5013 263.209 71.6495 265.362 Q69.8208 267.515 69.8208 271.265 Q69.8208 274.992 71.6495 277.168 Q73.5013 279.32 76.6495 279.32 Q79.7976 279.32 81.6263 277.168 Q83.4781 274.992 83.4781 271.265 Q83.4781 267.515 81.6263 265.362 Q79.7976 263.209 76.6495 263.209 M85.9318 248.557 L85.9318 252.816 Q84.1726 251.983 82.367 251.543 Q80.5846 251.103 78.8254 251.103 Q74.1958 251.103 71.7421 254.228 Q69.3115 257.353 68.9643 263.672 Q70.33 261.658 72.3902 260.594 Q74.4504 259.506 76.9272 259.506 Q82.1355 259.506 85.1448 262.677 Q88.1772 265.825 88.1772 271.265 Q88.1772 276.589 85.029 279.806 Q81.8809 283.024 76.6495 283.024 Q70.6541 283.024 67.4828 278.441 Q64.3116 273.834 64.3116 265.107 Q64.3116 256.913 68.2004 252.052 Q72.0893 247.168 78.6402 247.168 Q80.3994 247.168 82.1818 247.515 Q83.9874 247.862 85.9318 248.557 Z\" fill=\"#000000\" fill-rule=\"evenodd\" fill-opacity=\"1\" /><path clip-path=\"url(#clip750)\" d=\"M 0 0 M103.247 250.871 Q99.6354 250.871 97.8068 254.436 Q96.0012 257.978 96.0012 265.107 Q96.0012 272.214 97.8068 275.779 Q99.6354 279.32 103.247 279.32 Q106.881 279.32 108.686 275.779 Q110.515 272.214 110.515 265.107 Q110.515 257.978 108.686 254.436 Q106.881 250.871 103.247 250.871 M103.247 247.168 Q109.057 247.168 112.112 251.774 Q115.191 256.357 115.191 265.107 Q115.191 273.834 112.112 278.441 Q109.057 283.024 103.247 283.024 Q97.4364 283.024 94.3577 278.441 Q91.3022 273.834 91.3022 265.107 Q91.3022 256.357 94.3577 251.774 Q97.4364 247.168 103.247 247.168 Z\" fill=\"#000000\" fill-rule=\"evenodd\" fill-opacity=\"1\" /><polyline clip-path=\"url(#clip752)\" style=\"stroke:#009af9; stroke-width:4; stroke-opacity:1; fill:none\" points=\"\n",
       "  433.869,1445.72 433.869,1347.33 549.884,1347.33 549.884,1327.65 665.899,1327.65 665.899,796.362 781.914,796.362 781.914,1426.04 897.929,1426.04 897.929,1091.52 \n",
       "  1013.94,1091.52 1013.94,87.9763 1129.96,87.9763 1129.96,1032.49 1245.97,1032.49 1245.97,1012.81 1361.99,1012.81 1361.99,1052.17 1478,1052.17 1478,1347.33 \n",
       "  1594.02,1347.33 1594.02,1445.72 \n",
       "  \"/>\n",
       "<polyline clip-path=\"url(#clip752)\" style=\"stroke:#e26f46; stroke-width:4; stroke-opacity:1; fill:none\" points=\"\n",
       "  201.839,1445.72 201.839,1052.17 433.869,1052.17 433.869,520.879 665.899,520.879 665.899,461.847 897.929,461.847 897.929,953.781 1129.96,953.781 1129.96,835.717 \n",
       "  1361.99,835.717 1361.99,1445.72 1594.02,1445.72 1826.05,1445.72 2058.08,1445.72 2058.08,914.426 2290.11,914.426 2290.11,1445.72 \n",
       "  \n",
       "  \"/>\n",
       "<path clip-path=\"url(#clip750)\" d=\"\n",
       "M1787.12 312.204 L2280.76 312.204 L2280.76 130.764 L1787.12 130.764  Z\n",
       "  \" fill=\"#ffffff\" fill-rule=\"evenodd\" fill-opacity=\"1\"/>\n",
       "<polyline clip-path=\"url(#clip750)\" style=\"stroke:#000000; stroke-width:4; stroke-opacity:1; fill:none\" points=\"\n",
       "  1787.12,312.204 2280.76,312.204 2280.76,130.764 1787.12,130.764 1787.12,312.204 \n",
       "  \"/>\n",
       "<polyline clip-path=\"url(#clip750)\" style=\"stroke:#009af9; stroke-width:4; stroke-opacity:1; fill:none\" points=\"\n",
       "  1811.12,191.244 1955.12,191.244 \n",
       "  \"/>\n",
       "<path clip-path=\"url(#clip750)\" d=\"M 0 0 M1979.12 173.964 L1985.42 173.964 L2000.74 202.876 L2000.74 173.964 L2005.28 173.964 L2005.28 208.524 L1998.98 208.524 L1983.66 179.612 L1983.66 208.524 L1979.12 208.524 L1979.12 173.964 Z\" fill=\"#000000\" fill-rule=\"evenodd\" fill-opacity=\"1\" /><path clip-path=\"url(#clip750)\" d=\"M 0 0 M2019.79 185.584 Q2016.37 185.584 2014.38 188.27 Q2012.39 190.932 2012.39 195.584 Q2012.39 200.237 2014.35 202.922 Q2016.35 205.584 2019.79 205.584 Q2023.2 205.584 2025.19 202.899 Q2027.18 200.214 2027.18 195.584 Q2027.18 190.978 2025.19 188.293 Q2023.2 185.584 2019.79 185.584 M2019.79 181.973 Q2025.35 181.973 2028.52 185.584 Q2031.69 189.195 2031.69 195.584 Q2031.69 201.95 2028.52 205.584 Q2025.35 209.195 2019.79 209.195 Q2014.22 209.195 2011.04 205.584 Q2007.9 201.95 2007.9 195.584 Q2007.9 189.195 2011.04 185.584 Q2014.22 181.973 2019.79 181.973 Z\" fill=\"#000000\" fill-rule=\"evenodd\" fill-opacity=\"1\" /><path clip-path=\"url(#clip750)\" d=\"M 0 0 M2040.37 175.237 L2040.37 182.598 L2049.15 182.598 L2049.15 185.908 L2040.37 185.908 L2040.37 199.982 Q2040.37 203.154 2041.23 204.057 Q2042.11 204.959 2044.77 204.959 L2049.15 204.959 L2049.15 208.524 L2044.77 208.524 Q2039.84 208.524 2037.97 206.695 Q2036.09 204.844 2036.09 199.982 L2036.09 185.908 L2032.97 185.908 L2032.97 182.598 L2036.09 182.598 L2036.09 175.237 L2040.37 175.237 Z\" fill=\"#000000\" fill-rule=\"evenodd\" fill-opacity=\"1\" /><path clip-path=\"url(#clip750)\" d=\"M 0 0 M2087.34 183.594 L2087.34 187.575 Q2085.53 186.58 2083.71 186.094 Q2081.9 185.584 2080.05 185.584 Q2075.9 185.584 2073.61 188.223 Q2071.32 190.839 2071.32 195.584 Q2071.32 200.33 2073.61 202.969 Q2075.9 205.584 2080.05 205.584 Q2081.9 205.584 2083.71 205.098 Q2085.53 204.589 2087.34 203.594 L2087.34 207.529 Q2085.56 208.362 2083.64 208.779 Q2081.74 209.195 2079.59 209.195 Q2073.73 209.195 2070.28 205.515 Q2066.83 201.834 2066.83 195.584 Q2066.83 189.242 2070.3 185.608 Q2073.8 181.973 2079.86 181.973 Q2081.83 181.973 2083.71 182.39 Q2085.58 182.783 2087.34 183.594 Z\" fill=\"#000000\" fill-rule=\"evenodd\" fill-opacity=\"1\" /><path clip-path=\"url(#clip750)\" d=\"M 0 0 M2106.83 186.58 Q2106.11 186.163 2105.26 185.978 Q2104.42 185.77 2103.4 185.77 Q2099.79 185.77 2097.85 188.131 Q2095.93 190.469 2095.93 194.867 L2095.93 208.524 L2091.65 208.524 L2091.65 182.598 L2095.93 182.598 L2095.93 186.626 Q2097.27 184.265 2099.42 183.131 Q2101.58 181.973 2104.65 181.973 Q2105.09 181.973 2105.63 182.043 Q2106.16 182.089 2106.81 182.205 L2106.83 186.58 Z\" fill=\"#000000\" fill-rule=\"evenodd\" fill-opacity=\"1\" /><path clip-path=\"url(#clip750)\" d=\"M 0 0 M2123.08 195.492 Q2117.92 195.492 2115.93 196.672 Q2113.94 197.853 2113.94 200.7 Q2113.94 202.969 2115.42 204.311 Q2116.92 205.631 2119.49 205.631 Q2123.03 205.631 2125.16 203.131 Q2127.32 200.607 2127.32 196.441 L2127.32 195.492 L2123.08 195.492 M2131.58 193.733 L2131.58 208.524 L2127.32 208.524 L2127.32 204.589 Q2125.86 206.95 2123.68 208.084 Q2121.51 209.195 2118.36 209.195 Q2114.38 209.195 2112.02 206.973 Q2109.68 204.728 2109.68 200.978 Q2109.68 196.603 2112.59 194.381 Q2115.53 192.158 2121.34 192.158 L2127.32 192.158 L2127.32 191.742 Q2127.32 188.802 2125.37 187.205 Q2123.45 185.584 2119.96 185.584 Q2117.73 185.584 2115.63 186.117 Q2113.52 186.649 2111.58 187.714 L2111.58 183.779 Q2113.91 182.876 2116.11 182.436 Q2118.31 181.973 2120.4 181.973 Q2126.02 181.973 2128.8 184.89 Q2131.58 187.807 2131.58 193.733 Z\" fill=\"#000000\" fill-rule=\"evenodd\" fill-opacity=\"1\" /><path clip-path=\"url(#clip750)\" d=\"M 0 0 M2154.7 183.594 L2154.7 187.575 Q2152.9 186.58 2151.07 186.094 Q2149.26 185.584 2147.41 185.584 Q2143.27 185.584 2140.97 188.223 Q2138.68 190.839 2138.68 195.584 Q2138.68 200.33 2140.97 202.969 Q2143.27 205.584 2147.41 205.584 Q2149.26 205.584 2151.07 205.098 Q2152.9 204.589 2154.7 203.594 L2154.7 207.529 Q2152.92 208.362 2151 208.779 Q2149.1 209.195 2146.95 209.195 Q2141.09 209.195 2137.64 205.515 Q2134.19 201.834 2134.19 195.584 Q2134.19 189.242 2137.66 185.608 Q2141.16 181.973 2147.22 181.973 Q2149.19 181.973 2151.07 182.39 Q2152.94 182.783 2154.7 183.594 Z\" fill=\"#000000\" fill-rule=\"evenodd\" fill-opacity=\"1\" /><path clip-path=\"url(#clip750)\" d=\"M 0 0 M2159.01 172.506 L2163.29 172.506 L2163.29 193.779 L2176 182.598 L2181.44 182.598 L2167.69 194.728 L2182.02 208.524 L2176.46 208.524 L2163.29 195.862 L2163.29 208.524 L2159.01 208.524 L2159.01 172.506 Z\" fill=\"#000000\" fill-rule=\"evenodd\" fill-opacity=\"1\" /><path clip-path=\"url(#clip750)\" d=\"M 0 0 M2206.97 194.496 L2206.97 196.58 L2187.39 196.58 Q2187.66 200.978 2190.02 203.293 Q2192.41 205.584 2196.64 205.584 Q2199.1 205.584 2201.39 204.982 Q2203.71 204.381 2205.97 203.177 L2205.97 207.205 Q2203.68 208.177 2201.27 208.686 Q2198.87 209.195 2196.39 209.195 Q2190.19 209.195 2186.55 205.584 Q2182.94 201.973 2182.94 195.816 Q2182.94 189.45 2186.37 185.723 Q2189.82 181.973 2195.65 181.973 Q2200.88 181.973 2203.91 185.353 Q2206.97 188.709 2206.97 194.496 M2202.71 193.246 Q2202.66 189.751 2200.74 187.668 Q2198.84 185.584 2195.7 185.584 Q2192.13 185.584 2189.98 187.598 Q2187.85 189.612 2187.52 193.27 L2202.71 193.246 Z\" fill=\"#000000\" fill-rule=\"evenodd\" fill-opacity=\"1\" /><path clip-path=\"url(#clip750)\" d=\"M 0 0 M2228.5 186.533 L2228.5 172.506 L2232.76 172.506 L2232.76 208.524 L2228.5 208.524 L2228.5 204.635 Q2227.15 206.95 2225.09 208.084 Q2223.06 209.195 2220.19 209.195 Q2215.49 209.195 2212.52 205.445 Q2209.58 201.695 2209.58 195.584 Q2209.58 189.473 2212.52 185.723 Q2215.49 181.973 2220.19 181.973 Q2223.06 181.973 2225.09 183.108 Q2227.15 184.219 2228.5 186.533 M2213.98 195.584 Q2213.98 200.283 2215.9 202.969 Q2217.85 205.631 2221.23 205.631 Q2224.61 205.631 2226.55 202.969 Q2228.5 200.283 2228.5 195.584 Q2228.5 190.885 2226.55 188.223 Q2224.61 185.538 2221.23 185.538 Q2217.85 185.538 2215.9 188.223 Q2213.98 190.885 2213.98 195.584 Z\" fill=\"#000000\" fill-rule=\"evenodd\" fill-opacity=\"1\" /><polyline clip-path=\"url(#clip750)\" style=\"stroke:#e26f46; stroke-width:4; stroke-opacity:1; fill:none\" points=\"\n",
       "  1811.12,251.724 1955.12,251.724 \n",
       "  \"/>\n",
       "<path clip-path=\"url(#clip750)\" d=\"M 0 0 M2006.99 237.106 L2006.99 242.037 Q2004.63 239.838 2001.95 238.75 Q1999.28 237.662 1996.28 237.662 Q1990.35 237.662 1987.2 241.296 Q1984.05 244.907 1984.05 251.759 Q1984.05 258.587 1987.2 262.222 Q1990.35 265.833 1996.28 265.833 Q1999.28 265.833 2001.95 264.745 Q2004.63 263.657 2006.99 261.458 L2006.99 266.342 Q2004.54 268.009 2001.78 268.842 Q1999.05 269.675 1996 269.675 Q1988.15 269.675 1983.64 264.884 Q1979.12 260.069 1979.12 251.759 Q1979.12 243.426 1983.64 238.634 Q1988.15 233.819 1996 233.819 Q1999.1 233.819 2001.83 234.652 Q2004.59 235.463 2006.99 237.106 Z\" fill=\"#000000\" fill-rule=\"evenodd\" fill-opacity=\"1\" /><path clip-path=\"url(#clip750)\" d=\"M 0 0 M2026.48 247.06 Q2025.77 246.643 2024.91 246.458 Q2024.08 246.25 2023.06 246.25 Q2019.45 246.25 2017.5 248.611 Q2015.58 250.949 2015.58 255.347 L2015.58 269.004 L2011.3 269.004 L2011.3 243.078 L2015.58 243.078 L2015.58 247.106 Q2016.92 244.745 2019.08 243.611 Q2021.23 242.453 2024.31 242.453 Q2024.75 242.453 2025.28 242.523 Q2025.81 242.569 2026.46 242.685 L2026.48 247.06 Z\" fill=\"#000000\" fill-rule=\"evenodd\" fill-opacity=\"1\" /><path clip-path=\"url(#clip750)\" d=\"M 0 0 M2042.73 255.972 Q2037.57 255.972 2035.58 257.152 Q2033.59 258.333 2033.59 261.18 Q2033.59 263.449 2035.07 264.791 Q2036.58 266.111 2039.15 266.111 Q2042.69 266.111 2044.82 263.611 Q2046.97 261.087 2046.97 256.921 L2046.97 255.972 L2042.73 255.972 M2051.23 254.213 L2051.23 269.004 L2046.97 269.004 L2046.97 265.069 Q2045.51 267.43 2043.34 268.564 Q2041.16 269.675 2038.01 269.675 Q2034.03 269.675 2031.67 267.453 Q2029.33 265.208 2029.33 261.458 Q2029.33 257.083 2032.25 254.861 Q2035.19 252.638 2041 252.638 L2046.97 252.638 L2046.97 252.222 Q2046.97 249.282 2045.03 247.685 Q2043.1 246.064 2039.61 246.064 Q2037.39 246.064 2035.28 246.597 Q2033.17 247.129 2031.23 248.194 L2031.23 244.259 Q2033.57 243.356 2035.77 242.916 Q2037.97 242.453 2040.05 242.453 Q2045.67 242.453 2048.45 245.37 Q2051.23 248.287 2051.23 254.213 Z\" fill=\"#000000\" fill-rule=\"evenodd\" fill-opacity=\"1\" /><path clip-path=\"url(#clip750)\" d=\"M 0 0 M2074.35 244.074 L2074.35 248.055 Q2072.55 247.06 2070.72 246.574 Q2068.91 246.064 2067.06 246.064 Q2062.92 246.064 2060.63 248.703 Q2058.34 251.319 2058.34 256.064 Q2058.34 260.81 2060.63 263.449 Q2062.92 266.064 2067.06 266.064 Q2068.91 266.064 2070.72 265.578 Q2072.55 265.069 2074.35 264.074 L2074.35 268.009 Q2072.57 268.842 2070.65 269.259 Q2068.75 269.675 2066.6 269.675 Q2060.74 269.675 2057.29 265.995 Q2053.84 262.314 2053.84 256.064 Q2053.84 249.722 2057.32 246.088 Q2060.81 242.453 2066.88 242.453 Q2068.84 242.453 2070.72 242.87 Q2072.59 243.263 2074.35 244.074 Z\" fill=\"#000000\" fill-rule=\"evenodd\" fill-opacity=\"1\" /><path clip-path=\"url(#clip750)\" d=\"M 0 0 M2078.66 232.986 L2082.94 232.986 L2082.94 254.259 L2095.65 243.078 L2101.09 243.078 L2087.34 255.208 L2101.67 269.004 L2096.11 269.004 L2082.94 256.342 L2082.94 269.004 L2078.66 269.004 L2078.66 232.986 Z\" fill=\"#000000\" fill-rule=\"evenodd\" fill-opacity=\"1\" /><path clip-path=\"url(#clip750)\" d=\"M 0 0 M2126.62 254.976 L2126.62 257.06 L2107.04 257.06 Q2107.32 261.458 2109.68 263.773 Q2112.06 266.064 2116.3 266.064 Q2118.75 266.064 2121.04 265.462 Q2123.36 264.861 2125.63 263.657 L2125.63 267.685 Q2123.34 268.657 2120.93 269.166 Q2118.52 269.675 2116.04 269.675 Q2109.84 269.675 2106.21 266.064 Q2102.59 262.453 2102.59 256.296 Q2102.59 249.93 2106.02 246.203 Q2109.47 242.453 2115.3 242.453 Q2120.53 242.453 2123.57 245.833 Q2126.62 249.189 2126.62 254.976 M2122.36 253.726 Q2122.32 250.231 2120.4 248.148 Q2118.5 246.064 2115.35 246.064 Q2111.78 246.064 2109.63 248.078 Q2107.5 250.092 2107.18 253.75 L2122.36 253.726 Z\" fill=\"#000000\" fill-rule=\"evenodd\" fill-opacity=\"1\" /><path clip-path=\"url(#clip750)\" d=\"M 0 0 M2148.15 247.013 L2148.15 232.986 L2152.41 232.986 L2152.41 269.004 L2148.15 269.004 L2148.15 265.115 Q2146.81 267.43 2144.75 268.564 Q2142.71 269.675 2139.84 269.675 Q2135.14 269.675 2132.18 265.925 Q2129.24 262.175 2129.24 256.064 Q2129.24 249.953 2132.18 246.203 Q2135.14 242.453 2139.84 242.453 Q2142.71 242.453 2144.75 243.588 Q2146.81 244.699 2148.15 247.013 M2133.64 256.064 Q2133.64 260.763 2135.56 263.449 Q2137.5 266.111 2140.88 266.111 Q2144.26 266.111 2146.21 263.449 Q2148.15 260.763 2148.15 256.064 Q2148.15 251.365 2146.21 248.703 Q2144.26 246.018 2140.88 246.018 Q2137.5 246.018 2135.56 248.703 Q2133.64 251.365 2133.64 256.064 Z\" fill=\"#000000\" fill-rule=\"evenodd\" fill-opacity=\"1\" /></svg>\n"
      ]
     },
     "execution_count": 134,
     "metadata": {},
     "output_type": "execute_result"
    }
   ],
   "source": [
    "stephist(vp_c, label=\"Not cracked\")\n",
    "stephist!(vp_noc, label=\"Cracked\")"
   ]
  },
  {
   "cell_type": "code",
   "execution_count": 246,
   "metadata": {},
   "outputs": [],
   "source": [
    "ign,h = readdlm(\"data/remote/base/bsr_ignmajors_2.csv\", ',', header=true);\n",
    "seismic = h5read(\"data/remote/base/perplex_out_2.h5\", \"results\");"
   ]
  },
  {
   "cell_type": "code",
   "execution_count": 178,
   "metadata": {},
   "outputs": [
    {
     "data": {
      "text/plain": [
       "321.77899"
      ]
     },
     "execution_count": 178,
     "metadata": {},
     "output_type": "execute_result"
    }
   ],
   "source": [
    "f = isnan.(sum(seismic[:,3,:], dims=1))[:];\n",
    "sum(failed)"
   ]
  },
  {
   "cell_type": "code",
   "execution_count": 179,
   "metadata": {},
   "outputs": [
    {
     "data": {
      "text/plain": [
       "64.77914166850829"
      ]
     },
     "execution_count": 179,
     "metadata": {},
     "output_type": "execute_result"
    }
   ],
   "source": [
    "mean(ign[f,2])"
   ]
  },
  {
   "cell_type": "code",
   "execution_count": 180,
   "metadata": {},
   "outputs": [
    {
     "data": {
      "text/plain": [
       "58.62339997981735"
      ]
     },
     "execution_count": 180,
     "metadata": {},
     "output_type": "execute_result"
    }
   ],
   "source": [
    "mean(ign[.!f,2])"
   ]
  },
  {
   "cell_type": "code",
   "execution_count": 247,
   "metadata": {},
   "outputs": [
    {
     "data": {
      "image/svg+xml": [
       "<?xml version=\"1.0\" encoding=\"utf-8\"?>\n",
       "<svg xmlns=\"http://www.w3.org/2000/svg\" xmlns:xlink=\"http://www.w3.org/1999/xlink\" width=\"600\" height=\"400\" viewBox=\"0 0 2400 1600\">\n",
       "<defs>\n",
       "  <clipPath id=\"clip280\">\n",
       "    <rect x=\"0\" y=\"0\" width=\"2400\" height=\"1600\"/>\n",
       "  </clipPath>\n",
       "</defs>\n",
       "<path clip-path=\"url(#clip280)\" d=\"\n",
       "M0 1600 L2400 1600 L2400 0 L0 0  Z\n",
       "  \" fill=\"#ffffff\" fill-rule=\"evenodd\" fill-opacity=\"1\"/>\n",
       "<defs>\n",
       "  <clipPath id=\"clip281\">\n",
       "    <rect x=\"480\" y=\"0\" width=\"1681\" height=\"1600\"/>\n",
       "  </clipPath>\n",
       "</defs>\n",
       "<path clip-path=\"url(#clip280)\" d=\"\n",
       "M47.2441 1423.18 L2352.76 1423.18 L2352.76 47.2441 L47.2441 47.2441  Z\n",
       "  \" fill=\"#ffffff\" fill-rule=\"evenodd\" fill-opacity=\"1\"/>\n",
       "<defs>\n",
       "  <clipPath id=\"clip282\">\n",
       "    <rect x=\"47\" y=\"47\" width=\"2307\" height=\"1377\"/>\n",
       "  </clipPath>\n",
       "</defs>\n",
       "<polyline clip-path=\"url(#clip282)\" style=\"stroke:#000000; stroke-width:2; stroke-opacity:0.1; fill:none\" points=\"\n",
       "  279.803,1423.18 279.803,47.2441 \n",
       "  \"/>\n",
       "<polyline clip-path=\"url(#clip282)\" style=\"stroke:#000000; stroke-width:2; stroke-opacity:0.1; fill:none\" points=\"\n",
       "  698.074,1423.18 698.074,47.2441 \n",
       "  \"/>\n",
       "<polyline clip-path=\"url(#clip282)\" style=\"stroke:#000000; stroke-width:2; stroke-opacity:0.1; fill:none\" points=\"\n",
       "  1116.35,1423.18 1116.35,47.2441 \n",
       "  \"/>\n",
       "<polyline clip-path=\"url(#clip282)\" style=\"stroke:#000000; stroke-width:2; stroke-opacity:0.1; fill:none\" points=\"\n",
       "  1534.62,1423.18 1534.62,47.2441 \n",
       "  \"/>\n",
       "<polyline clip-path=\"url(#clip282)\" style=\"stroke:#000000; stroke-width:2; stroke-opacity:0.1; fill:none\" points=\"\n",
       "  1952.89,1423.18 1952.89,47.2441 \n",
       "  \"/>\n",
       "<polyline clip-path=\"url(#clip280)\" style=\"stroke:#000000; stroke-width:4; stroke-opacity:1; fill:none\" points=\"\n",
       "  47.2441,1423.18 2352.76,1423.18 \n",
       "  \"/>\n",
       "<polyline clip-path=\"url(#clip280)\" style=\"stroke:#000000; stroke-width:4; stroke-opacity:1; fill:none\" points=\"\n",
       "  279.803,1423.18 279.803,1406.67 \n",
       "  \"/>\n",
       "<polyline clip-path=\"url(#clip280)\" style=\"stroke:#000000; stroke-width:4; stroke-opacity:1; fill:none\" points=\"\n",
       "  698.074,1423.18 698.074,1406.67 \n",
       "  \"/>\n",
       "<polyline clip-path=\"url(#clip280)\" style=\"stroke:#000000; stroke-width:4; stroke-opacity:1; fill:none\" points=\"\n",
       "  1116.35,1423.18 1116.35,1406.67 \n",
       "  \"/>\n",
       "<polyline clip-path=\"url(#clip280)\" style=\"stroke:#000000; stroke-width:4; stroke-opacity:1; fill:none\" points=\"\n",
       "  1534.62,1423.18 1534.62,1406.67 \n",
       "  \"/>\n",
       "<polyline clip-path=\"url(#clip280)\" style=\"stroke:#000000; stroke-width:4; stroke-opacity:1; fill:none\" points=\"\n",
       "  1952.89,1423.18 1952.89,1406.67 \n",
       "  \"/>\n",
       "<path clip-path=\"url(#clip280)\" d=\"M 0 0 M269.305 1446.17 L257.5 1464.61 L269.305 1464.61 L269.305 1446.17 M268.079 1442.09 L273.958 1442.09 L273.958 1464.61 L278.889 1464.61 L278.889 1468.5 L273.958 1468.5 L273.958 1476.65 L269.305 1476.65 L269.305 1468.5 L253.704 1468.5 L253.704 1463.99 L268.079 1442.09 Z\" fill=\"#000000\" fill-rule=\"evenodd\" fill-opacity=\"1\" /><path clip-path=\"url(#clip280)\" d=\"M 0 0 M293.958 1445.17 Q290.347 1445.17 288.518 1448.74 Q286.713 1452.28 286.713 1459.41 Q286.713 1466.51 288.518 1470.08 Q290.347 1473.62 293.958 1473.62 Q297.592 1473.62 299.398 1470.08 Q301.226 1466.51 301.226 1459.41 Q301.226 1452.28 299.398 1448.74 Q297.592 1445.17 293.958 1445.17 M293.958 1441.47 Q299.768 1441.47 302.824 1446.07 Q305.902 1450.66 305.902 1459.41 Q305.902 1468.13 302.824 1472.74 Q299.768 1477.32 293.958 1477.32 Q288.148 1477.32 285.069 1472.74 Q282.014 1468.13 282.014 1459.41 Q282.014 1450.66 285.069 1446.07 Q288.148 1441.47 293.958 1441.47 Z\" fill=\"#000000\" fill-rule=\"evenodd\" fill-opacity=\"1\" /><path clip-path=\"url(#clip280)\" d=\"M 0 0 M674.845 1442.09 L693.202 1442.09 L693.202 1446.03 L679.128 1446.03 L679.128 1454.5 Q680.146 1454.15 681.165 1453.99 Q682.183 1453.8 683.202 1453.8 Q688.989 1453.8 692.368 1456.98 Q695.748 1460.15 695.748 1465.56 Q695.748 1471.14 692.276 1474.24 Q688.804 1477.32 682.484 1477.32 Q680.308 1477.32 678.04 1476.95 Q675.794 1476.58 673.387 1475.84 L673.387 1471.14 Q675.47 1472.28 677.693 1472.83 Q679.915 1473.39 682.392 1473.39 Q686.396 1473.39 688.734 1471.28 Q691.072 1469.18 691.072 1465.56 Q691.072 1461.95 688.734 1459.85 Q686.396 1457.74 682.392 1457.74 Q680.517 1457.74 678.642 1458.16 Q676.79 1458.57 674.845 1459.45 L674.845 1442.09 Z\" fill=\"#000000\" fill-rule=\"evenodd\" fill-opacity=\"1\" /><path clip-path=\"url(#clip280)\" d=\"M 0 0 M710.817 1445.17 Q707.206 1445.17 705.378 1448.74 Q703.572 1452.28 703.572 1459.41 Q703.572 1466.51 705.378 1470.08 Q707.206 1473.62 710.817 1473.62 Q714.452 1473.62 716.257 1470.08 Q718.086 1466.51 718.086 1459.41 Q718.086 1452.28 716.257 1448.74 Q714.452 1445.17 710.817 1445.17 M710.817 1441.47 Q716.627 1441.47 719.683 1446.07 Q722.762 1450.66 722.762 1459.41 Q722.762 1468.13 719.683 1472.74 Q716.627 1477.32 710.817 1477.32 Q705.007 1477.32 701.928 1472.74 Q698.873 1468.13 698.873 1459.41 Q698.873 1450.66 701.928 1446.07 Q705.007 1441.47 710.817 1441.47 Z\" fill=\"#000000\" fill-rule=\"evenodd\" fill-opacity=\"1\" /><path clip-path=\"url(#clip280)\" d=\"M 0 0 M1103.24 1457.51 Q1100.1 1457.51 1098.24 1459.66 Q1096.42 1461.81 1096.42 1465.56 Q1096.42 1469.29 1098.24 1471.47 Q1100.1 1473.62 1103.24 1473.62 Q1106.39 1473.62 1108.22 1471.47 Q1110.07 1469.29 1110.07 1465.56 Q1110.07 1461.81 1108.22 1459.66 Q1106.39 1457.51 1103.24 1457.51 M1112.53 1442.86 L1112.53 1447.11 Q1110.77 1446.28 1108.96 1445.84 Q1107.18 1445.4 1105.42 1445.4 Q1100.79 1445.4 1098.34 1448.53 Q1095.91 1451.65 1095.56 1457.97 Q1096.92 1455.96 1098.98 1454.89 Q1101.04 1453.8 1103.52 1453.8 Q1108.73 1453.8 1111.74 1456.98 Q1114.77 1460.12 1114.77 1465.56 Q1114.77 1470.89 1111.62 1474.11 Q1108.48 1477.32 1103.24 1477.32 Q1097.25 1477.32 1094.08 1472.74 Q1090.91 1468.13 1090.91 1459.41 Q1090.91 1451.21 1094.79 1446.35 Q1098.68 1441.47 1105.23 1441.47 Q1106.99 1441.47 1108.78 1441.81 Q1110.58 1442.16 1112.53 1442.86 Z\" fill=\"#000000\" fill-rule=\"evenodd\" fill-opacity=\"1\" /><path clip-path=\"url(#clip280)\" d=\"M 0 0 M1129.84 1445.17 Q1126.23 1445.17 1124.4 1448.74 Q1122.6 1452.28 1122.6 1459.41 Q1122.6 1466.51 1124.4 1470.08 Q1126.23 1473.62 1129.84 1473.62 Q1133.48 1473.62 1135.28 1470.08 Q1137.11 1466.51 1137.11 1459.41 Q1137.11 1452.28 1135.28 1448.74 Q1133.48 1445.17 1129.84 1445.17 M1129.84 1441.47 Q1135.65 1441.47 1138.71 1446.07 Q1141.79 1450.66 1141.79 1459.41 Q1141.79 1468.13 1138.71 1472.74 Q1135.65 1477.32 1129.84 1477.32 Q1124.03 1477.32 1120.95 1472.74 Q1117.9 1468.13 1117.9 1459.41 Q1117.9 1450.66 1120.95 1446.07 Q1124.03 1441.47 1129.84 1441.47 Z\" fill=\"#000000\" fill-rule=\"evenodd\" fill-opacity=\"1\" /><path clip-path=\"url(#clip280)\" d=\"M 0 0 M1510 1442.09 L1532.22 1442.09 L1532.22 1444.08 L1519.68 1476.65 L1514.79 1476.65 L1526.6 1446.03 L1510 1446.03 L1510 1442.09 Z\" fill=\"#000000\" fill-rule=\"evenodd\" fill-opacity=\"1\" /><path clip-path=\"url(#clip280)\" d=\"M 0 0 M1547.29 1445.17 Q1543.68 1445.17 1541.85 1448.74 Q1540.05 1452.28 1540.05 1459.41 Q1540.05 1466.51 1541.85 1470.08 Q1543.68 1473.62 1547.29 1473.62 Q1550.92 1473.62 1552.73 1470.08 Q1554.56 1466.51 1554.56 1459.41 Q1554.56 1452.28 1552.73 1448.74 Q1550.92 1445.17 1547.29 1445.17 M1547.29 1441.47 Q1553.1 1441.47 1556.16 1446.07 Q1559.24 1450.66 1559.24 1459.41 Q1559.24 1468.13 1556.16 1472.74 Q1553.1 1477.32 1547.29 1477.32 Q1541.48 1477.32 1538.4 1472.74 Q1535.35 1468.13 1535.35 1459.41 Q1535.35 1450.66 1538.4 1446.07 Q1541.48 1441.47 1547.29 1441.47 Z\" fill=\"#000000\" fill-rule=\"evenodd\" fill-opacity=\"1\" /><path clip-path=\"url(#clip280)\" d=\"M 0 0 M1939.38 1460.24 Q1936.05 1460.24 1934.13 1462.02 Q1932.23 1463.8 1932.23 1466.93 Q1932.23 1470.05 1934.13 1471.84 Q1936.05 1473.62 1939.38 1473.62 Q1942.71 1473.62 1944.64 1471.84 Q1946.56 1470.03 1946.56 1466.93 Q1946.56 1463.8 1944.64 1462.02 Q1942.74 1460.24 1939.38 1460.24 M1934.71 1458.25 Q1931.7 1457.51 1930.01 1455.45 Q1928.34 1453.39 1928.34 1450.43 Q1928.34 1446.28 1931.28 1443.87 Q1934.24 1441.47 1939.38 1441.47 Q1944.54 1441.47 1947.48 1443.87 Q1950.42 1446.28 1950.42 1450.43 Q1950.42 1453.39 1948.73 1455.45 Q1947.07 1457.51 1944.08 1458.25 Q1947.46 1459.04 1949.34 1461.33 Q1951.23 1463.62 1951.23 1466.93 Q1951.23 1471.95 1948.15 1474.64 Q1945.1 1477.32 1939.38 1477.32 Q1933.66 1477.32 1930.59 1474.64 Q1927.53 1471.95 1927.53 1466.93 Q1927.53 1463.62 1929.43 1461.33 Q1931.33 1459.04 1934.71 1458.25 M1932.99 1450.86 Q1932.99 1453.55 1934.66 1455.05 Q1936.35 1456.56 1939.38 1456.56 Q1942.39 1456.56 1944.08 1455.05 Q1945.79 1453.55 1945.79 1450.86 Q1945.79 1448.18 1944.08 1446.68 Q1942.39 1445.17 1939.38 1445.17 Q1936.35 1445.17 1934.66 1446.68 Q1932.99 1448.18 1932.99 1450.86 Z\" fill=\"#000000\" fill-rule=\"evenodd\" fill-opacity=\"1\" /><path clip-path=\"url(#clip280)\" d=\"M 0 0 M1966.3 1445.17 Q1962.69 1445.17 1960.86 1448.74 Q1959.06 1452.28 1959.06 1459.41 Q1959.06 1466.51 1960.86 1470.08 Q1962.69 1473.62 1966.3 1473.62 Q1969.94 1473.62 1971.74 1470.08 Q1973.57 1466.51 1973.57 1459.41 Q1973.57 1452.28 1971.74 1448.74 Q1969.94 1445.17 1966.3 1445.17 M1966.3 1441.47 Q1972.11 1441.47 1975.17 1446.07 Q1978.25 1450.66 1978.25 1459.41 Q1978.25 1468.13 1975.17 1472.74 Q1972.11 1477.32 1966.3 1477.32 Q1960.49 1477.32 1957.41 1472.74 Q1954.36 1468.13 1954.36 1459.41 Q1954.36 1450.66 1957.41 1446.07 Q1960.49 1441.47 1966.3 1441.47 Z\" fill=\"#000000\" fill-rule=\"evenodd\" fill-opacity=\"1\" /><path clip-path=\"url(#clip280)\" d=\"M 0 0 M1166.56 1510.08 L1166.56 1516.35 Q1162.9 1514.6 1159.66 1513.74 Q1156.41 1512.88 1153.39 1512.88 Q1148.14 1512.88 1145.27 1514.92 Q1142.44 1516.96 1142.44 1520.71 Q1142.44 1523.87 1144.32 1525.49 Q1146.23 1527.08 1151.51 1528.07 L1155.39 1528.86 Q1162.59 1530.23 1165.99 1533.7 Q1169.43 1537.14 1169.43 1542.93 Q1169.43 1549.84 1164.78 1553.4 Q1160.17 1556.97 1151.22 1556.97 Q1147.85 1556.97 1144.03 1556.2 Q1140.24 1555.44 1136.17 1553.94 L1136.17 1547.32 Q1140.08 1549.52 1143.84 1550.63 Q1147.59 1551.75 1151.22 1551.75 Q1156.73 1551.75 1159.72 1549.58 Q1162.71 1547.42 1162.71 1543.41 Q1162.71 1539.91 1160.55 1537.93 Q1158.42 1535.96 1153.51 1534.97 L1149.6 1534.21 Q1142.41 1532.78 1139.19 1529.72 Q1135.98 1526.67 1135.98 1521.22 Q1135.98 1514.92 1140.4 1511.29 Q1144.86 1507.66 1152.66 1507.66 Q1156 1507.66 1159.47 1508.27 Q1162.94 1508.87 1166.56 1510.08 Z\" fill=\"#000000\" fill-rule=\"evenodd\" fill-opacity=\"1\" /><path clip-path=\"url(#clip280)\" d=\"M 0 0 M1175.57 1520.4 L1181.43 1520.4 L1181.43 1556.04 L1175.57 1556.04 L1175.57 1520.4 M1175.57 1506.52 L1181.43 1506.52 L1181.43 1513.93 L1175.57 1513.93 L1175.57 1506.52 Z\" fill=\"#000000\" fill-rule=\"evenodd\" fill-opacity=\"1\" /><path clip-path=\"url(#clip280)\" d=\"M 0 0 M1207.11 1512.88 Q1200.11 1512.88 1195.97 1518.1 Q1191.87 1523.32 1191.87 1532.33 Q1191.87 1541.31 1195.97 1546.53 Q1200.11 1551.75 1207.11 1551.75 Q1214.12 1551.75 1218.19 1546.53 Q1222.3 1541.31 1222.3 1532.33 Q1222.3 1523.32 1218.19 1518.1 Q1214.12 1512.88 1207.11 1512.88 M1207.11 1507.66 Q1217.11 1507.66 1223.09 1514.38 Q1229.08 1521.06 1229.08 1532.33 Q1229.08 1543.57 1223.09 1550.28 Q1217.11 1556.97 1207.11 1556.97 Q1197.09 1556.97 1191.07 1550.28 Q1185.09 1543.6 1185.09 1532.33 Q1185.09 1521.06 1191.07 1514.38 Q1197.09 1507.66 1207.11 1507.66 Z\" fill=\"#000000\" fill-rule=\"evenodd\" fill-opacity=\"1\" /><path clip-path=\"url(#clip280)\" d=\"M 0 0 M1241.58 1550.63 L1264.02 1550.63 L1264.02 1556.04 L1233.85 1556.04 L1233.85 1550.63 Q1237.51 1546.85 1243.81 1540.48 Q1250.15 1534.08 1251.77 1532.24 Q1254.86 1528.77 1256.07 1526.38 Q1257.31 1523.96 1257.31 1521.64 Q1257.31 1517.85 1254.63 1515.46 Q1251.99 1513.08 1247.73 1513.08 Q1244.7 1513.08 1241.33 1514.13 Q1237.99 1515.18 1234.17 1517.31 L1234.17 1510.82 Q1238.05 1509.26 1241.42 1508.46 Q1244.8 1507.66 1247.6 1507.66 Q1254.98 1507.66 1259.38 1511.36 Q1263.77 1515.05 1263.77 1521.22 Q1263.77 1524.15 1262.65 1526.79 Q1261.57 1529.4 1258.68 1532.97 Q1257.88 1533.89 1253.62 1538.32 Q1249.35 1542.71 1241.58 1550.63 Z\" fill=\"#000000\" fill-rule=\"evenodd\" fill-opacity=\"1\" /><polyline clip-path=\"url(#clip282)\" style=\"stroke:#009af9; stroke-width:4; stroke-opacity:1; fill:none\" points=\"\n",
       "  279.803,1384.24 279.803,1316.03 488.939,1316.03 488.939,974.995 698.074,974.995 698.074,560.506 907.21,560.506 907.21,912.035 1116.35,912.035 1116.35,738.894 \n",
       "  1325.48,738.894 1325.48,497.546 1534.62,497.546 1534.62,303.418 1743.75,303.418 1743.75,1048.45 1952.89,1048.45 1952.89,1358 2162.02,1358 2162.02,1384.24 \n",
       "  \n",
       "  \"/>\n",
       "<polyline clip-path=\"url(#clip282)\" style=\"stroke:#e26f46; stroke-width:4; stroke-opacity:1; fill:none\" points=\"\n",
       "  112.494,1384.24 112.494,1384 154.322,1384 154.322,1383.04 196.149,1383.04 196.149,1378.73 237.976,1378.73 237.976,1367.47 279.803,1367.47 279.803,1344.47 \n",
       "  321.63,1344.47 321.63,1295.83 363.457,1295.83 363.457,1216.53 405.284,1216.53 405.284,1136.75 447.112,1136.75 447.112,1022.23 488.939,1022.23 488.939,840.388 \n",
       "  530.766,840.388 530.766,600.328 572.593,600.328 572.593,369.371 614.42,369.371 614.42,145.841 656.247,145.841 656.247,86.1857 698.074,86.1857 698.074,123.56 \n",
       "  739.901,123.56 739.901,171.477 781.729,171.477 781.729,326.007 823.556,326.007 823.556,490.36 865.383,490.36 865.383,612.307 907.21,612.307 907.21,741.92 \n",
       "  949.037,741.92 949.037,815.232 990.864,815.232 990.864,869.138 1032.69,869.138 1032.69,917.773 1074.52,917.773 1074.52,901.721 1116.35,901.721 1116.35,924.481 \n",
       "  1158.17,924.481 1158.17,890.7 1200,890.7 1200,896.211 1241.83,896.211 1241.83,895.013 1283.65,895.013 1283.65,847.097 1325.48,847.097 1325.48,839.43 \n",
       "  1367.31,839.43 1367.31,776.899 1409.14,776.899 1409.14,740.243 1450.96,740.243 1450.96,700.233 1492.79,700.233 1492.79,668.369 1534.62,668.369 1534.62,640.577 \n",
       "  1576.44,640.577 1576.44,653.754 1618.27,653.754 1618.27,691.608 1660.1,691.608 1660.1,758.691 1701.93,758.691 1701.93,838.232 1743.75,838.232 1743.75,968.804 \n",
       "  1785.58,968.804 1785.58,1108.24 1827.41,1108.24 1827.41,1213.66 1869.23,1213.66 1869.23,1294.4 1911.06,1294.4 1911.06,1333.69 1952.89,1333.69 1952.89,1350.7 \n",
       "  1994.72,1350.7 1994.72,1371.78 2036.54,1371.78 2036.54,1377.05 2078.37,1377.05 2078.37,1382.8 2120.2,1382.8 2120.2,1383.76 2162.02,1383.76 2162.02,1384 \n",
       "  2203.85,1384 2245.68,1384 2287.51,1384 2287.51,1384.24 \n",
       "  \"/>\n",
       "<polyline clip-path=\"url(#clip282)\" style=\"stroke:#3da44d; stroke-width:4; stroke-opacity:1; fill:none\" points=\"\n",
       "  112.494,1384.24 112.494,1384 154.322,1384 154.322,1383.05 196.149,1383.05 196.149,1378.78 237.976,1378.78 237.976,1367.62 279.803,1367.62 279.803,1344.83 \n",
       "  321.63,1344.83 321.63,1296.63 363.457,1296.63 363.457,1217.1 405.284,1217.1 405.284,1137.8 447.112,1137.8 447.112,1024.56 488.939,1024.56 488.939,843.173 \n",
       "  530.766,843.173 530.766,603.861 572.593,603.861 572.593,375.707 614.42,375.707 614.42,153.013 656.247,153.013 656.247,91.9977 698.074,91.9977 698.074,125.948 \n",
       "  739.901,125.948 739.901,173.43 781.729,173.43 781.729,328.699 823.556,328.699 823.556,492.514 865.383,492.514 865.383,612.882 907.21,612.882 907.21,741.323 \n",
       "  949.037,741.323 949.037,817.533 990.864,817.533 990.864,868.339 1032.69,868.339 1032.69,918.433 1074.52,918.433 1074.52,903.002 1116.35,903.002 1116.35,922.707 \n",
       "  1158.17,922.707 1158.17,889.469 1200,889.469 1200,893.742 1241.83,893.742 1241.83,894.455 1283.65,894.455 1283.65,846.26 1325.48,846.26 1325.48,838.188 \n",
       "  1367.31,838.188 1367.31,775.273 1409.14,775.273 1409.14,737.762 1450.96,737.762 1450.96,698.351 1492.79,698.351 1492.79,664.401 1534.62,664.401 1534.62,638.286 \n",
       "  1576.44,638.286 1576.44,647.782 1618.27,647.782 1618.27,688.142 1660.1,688.142 1660.1,753.194 1701.93,753.194 1701.93,836.763 1743.75,836.763 1743.75,966.391 \n",
       "  1785.58,966.391 1785.58,1106.7 1827.41,1106.7 1827.41,1212.83 1869.23,1212.83 1869.23,1293.55 1911.06,1293.55 1911.06,1333.19 1952.89,1333.19 1952.89,1350.05 \n",
       "  1994.72,1350.05 1994.72,1371.66 2036.54,1371.66 2036.54,1377.12 2078.37,1377.12 2078.37,1382.81 2120.2,1382.81 2120.2,1383.76 2162.02,1383.76 2162.02,1384 \n",
       "  2203.85,1384 2245.68,1384 2287.51,1384 2287.51,1384.24 \n",
       "  \"/>\n",
       "<path clip-path=\"url(#clip280)\" d=\"\n",
       "M1615.02 372.684 L2280.76 372.684 L2280.76 130.764 L1615.02 130.764  Z\n",
       "  \" fill=\"#ffffff\" fill-rule=\"evenodd\" fill-opacity=\"1\"/>\n",
       "<polyline clip-path=\"url(#clip280)\" style=\"stroke:#000000; stroke-width:4; stroke-opacity:1; fill:none\" points=\"\n",
       "  1615.02,372.684 2280.76,372.684 2280.76,130.764 1615.02,130.764 1615.02,372.684 \n",
       "  \"/>\n",
       "<polyline clip-path=\"url(#clip280)\" style=\"stroke:#009af9; stroke-width:4; stroke-opacity:1; fill:none\" points=\"\n",
       "  1639.02,191.244 1783.02,191.244 \n",
       "  \"/>\n",
       "<path clip-path=\"url(#clip280)\" d=\"M 0 0 M1811.69 177.807 L1811.69 190.793 L1817.57 190.793 Q1820.84 190.793 1822.62 189.103 Q1824.4 187.413 1824.4 184.288 Q1824.4 181.186 1822.62 179.496 Q1820.84 177.807 1817.57 177.807 L1811.69 177.807 M1807.02 173.964 L1817.57 173.964 Q1823.38 173.964 1826.35 176.603 Q1829.33 179.219 1829.33 184.288 Q1829.33 189.404 1826.35 192.02 Q1823.38 194.635 1817.57 194.635 L1811.69 194.635 L1811.69 208.524 L1807.02 208.524 L1807.02 173.964 Z\" fill=\"#000000\" fill-rule=\"evenodd\" fill-opacity=\"1\" /><path clip-path=\"url(#clip280)\" d=\"M 0 0 M1854.29 194.496 L1854.29 196.58 L1834.7 196.58 Q1834.98 200.978 1837.34 203.293 Q1839.73 205.584 1843.96 205.584 Q1846.42 205.584 1848.71 204.982 Q1851.02 204.381 1853.29 203.177 L1853.29 207.205 Q1851 208.177 1848.59 208.686 Q1846.18 209.195 1843.71 209.195 Q1837.5 209.195 1833.87 205.584 Q1830.26 201.973 1830.26 195.816 Q1830.26 189.45 1833.68 185.723 Q1837.13 181.973 1842.97 181.973 Q1848.2 181.973 1851.23 185.353 Q1854.29 188.709 1854.29 194.496 M1850.03 193.246 Q1849.98 189.751 1848.06 187.668 Q1846.16 185.584 1843.01 185.584 Q1839.45 185.584 1837.3 187.598 Q1835.17 189.612 1834.84 193.27 L1850.03 193.246 Z\" fill=\"#000000\" fill-rule=\"evenodd\" fill-opacity=\"1\" /><path clip-path=\"url(#clip280)\" d=\"M 0 0 M1873.78 186.58 Q1873.06 186.163 1872.2 185.978 Q1871.37 185.77 1870.35 185.77 Q1866.74 185.77 1864.79 188.131 Q1862.87 190.469 1862.87 194.867 L1862.87 208.524 L1858.59 208.524 L1858.59 182.598 L1862.87 182.598 L1862.87 186.626 Q1864.22 184.265 1866.37 183.131 Q1868.52 181.973 1871.6 181.973 Q1872.04 181.973 1872.57 182.043 Q1873.11 182.089 1873.75 182.205 L1873.78 186.58 Z\" fill=\"#000000\" fill-rule=\"evenodd\" fill-opacity=\"1\" /><path clip-path=\"url(#clip280)\" d=\"M 0 0 M1882.36 204.635 L1882.36 218.385 L1878.08 218.385 L1878.08 182.598 L1882.36 182.598 L1882.36 186.533 Q1883.71 184.219 1885.74 183.108 Q1887.8 181.973 1890.65 181.973 Q1895.37 181.973 1898.31 185.723 Q1901.28 189.473 1901.28 195.584 Q1901.28 201.695 1898.31 205.445 Q1895.37 209.195 1890.65 209.195 Q1887.8 209.195 1885.74 208.084 Q1883.71 206.95 1882.36 204.635 M1896.85 195.584 Q1896.85 190.885 1894.91 188.223 Q1892.99 185.538 1889.61 185.538 Q1886.23 185.538 1884.29 188.223 Q1882.36 190.885 1882.36 195.584 Q1882.36 200.283 1884.29 202.969 Q1886.23 205.631 1889.61 205.631 Q1892.99 205.631 1894.91 202.969 Q1896.85 200.283 1896.85 195.584 Z\" fill=\"#000000\" fill-rule=\"evenodd\" fill-opacity=\"1\" /><path clip-path=\"url(#clip280)\" d=\"M 0 0 M1905.74 172.506 L1910 172.506 L1910 208.524 L1905.74 208.524 L1905.74 172.506 Z\" fill=\"#000000\" fill-rule=\"evenodd\" fill-opacity=\"1\" /><path clip-path=\"url(#clip280)\" d=\"M 0 0 M1936.65 194.496 L1936.65 196.58 L1917.06 196.58 Q1917.34 200.978 1919.7 203.293 Q1922.09 205.584 1926.32 205.584 Q1928.78 205.584 1931.07 204.982 Q1933.38 204.381 1935.65 203.177 L1935.65 207.205 Q1933.36 208.177 1930.95 208.686 Q1928.54 209.195 1926.07 209.195 Q1919.86 209.195 1916.23 205.584 Q1912.62 201.973 1912.62 195.816 Q1912.62 189.45 1916.04 185.723 Q1919.49 181.973 1925.33 181.973 Q1930.56 181.973 1933.59 185.353 Q1936.65 188.709 1936.65 194.496 M1932.39 193.246 Q1932.34 189.751 1930.42 187.668 Q1928.52 185.584 1925.37 185.584 Q1921.81 185.584 1919.66 187.598 Q1917.53 189.612 1917.2 193.27 L1932.39 193.246 Z\" fill=\"#000000\" fill-rule=\"evenodd\" fill-opacity=\"1\" /><path clip-path=\"url(#clip280)\" d=\"M 0 0 M1960.81 216.394 L1960.81 219.705 L1936.18 219.705 L1936.18 216.394 L1960.81 216.394 Z\" fill=\"#000000\" fill-rule=\"evenodd\" fill-opacity=\"1\" /><path clip-path=\"url(#clip280)\" d=\"M 0 0 M1963.8 173.964 L1968.82 173.964 L1977.41 186.811 L1986.04 173.964 L1991.07 173.964 L1979.96 190.561 L1991.81 208.524 L1986.79 208.524 L1977.06 193.825 L1967.27 208.524 L1962.22 208.524 L1974.56 190.075 L1963.8 173.964 Z\" fill=\"#000000\" fill-rule=\"evenodd\" fill-opacity=\"1\" /><path clip-path=\"url(#clip280)\" d=\"M 0 0 M2024.47 172.506 L2024.47 176.047 L2020.4 176.047 Q2018.1 176.047 2017.2 176.973 Q2016.32 177.899 2016.32 180.307 L2016.32 182.598 L2023.34 182.598 L2023.34 185.908 L2016.32 185.908 L2016.32 208.524 L2012.04 208.524 L2012.04 185.908 L2007.97 185.908 L2007.97 182.598 L2012.04 182.598 L2012.04 180.793 Q2012.04 176.464 2014.05 174.496 Q2016.07 172.506 2020.44 172.506 L2024.47 172.506 Z\" fill=\"#000000\" fill-rule=\"evenodd\" fill-opacity=\"1\" /><path clip-path=\"url(#clip280)\" d=\"M 0 0 M2040.72 195.492 Q2035.56 195.492 2033.57 196.672 Q2031.58 197.853 2031.58 200.7 Q2031.58 202.969 2033.06 204.311 Q2034.56 205.631 2037.13 205.631 Q2040.67 205.631 2042.8 203.131 Q2044.96 200.607 2044.96 196.441 L2044.96 195.492 L2040.72 195.492 M2049.22 193.733 L2049.22 208.524 L2044.96 208.524 L2044.96 204.589 Q2043.5 206.95 2041.32 208.084 Q2039.15 209.195 2036 209.195 Q2032.02 209.195 2029.66 206.973 Q2027.32 204.728 2027.32 200.978 Q2027.32 196.603 2030.23 194.381 Q2033.17 192.158 2038.98 192.158 L2044.96 192.158 L2044.96 191.742 Q2044.96 188.802 2043.01 187.205 Q2041.09 185.584 2037.59 185.584 Q2035.37 185.584 2033.27 186.117 Q2031.16 186.649 2029.22 187.714 L2029.22 183.779 Q2031.55 182.876 2033.75 182.436 Q2035.95 181.973 2038.03 181.973 Q2043.66 181.973 2046.44 184.89 Q2049.22 187.807 2049.22 193.733 Z\" fill=\"#000000\" fill-rule=\"evenodd\" fill-opacity=\"1\" /><path clip-path=\"url(#clip280)\" d=\"M 0 0 M2053.68 182.598 L2057.94 182.598 L2057.94 208.524 L2053.68 208.524 L2053.68 182.598 M2053.68 172.506 L2057.94 172.506 L2057.94 177.899 L2053.68 177.899 L2053.68 172.506 Z\" fill=\"#000000\" fill-rule=\"evenodd\" fill-opacity=\"1\" /><path clip-path=\"url(#clip280)\" d=\"M 0 0 M2062.41 172.506 L2066.67 172.506 L2066.67 208.524 L2062.41 208.524 L2062.41 172.506 Z\" fill=\"#000000\" fill-rule=\"evenodd\" fill-opacity=\"1\" /><path clip-path=\"url(#clip280)\" d=\"M 0 0 M2093.31 194.496 L2093.31 196.58 L2073.73 196.58 Q2074.01 200.978 2076.37 203.293 Q2078.75 205.584 2082.99 205.584 Q2085.44 205.584 2087.73 204.982 Q2090.05 204.381 2092.32 203.177 L2092.32 207.205 Q2090.03 208.177 2087.62 208.686 Q2085.21 209.195 2082.73 209.195 Q2076.53 209.195 2072.9 205.584 Q2069.28 201.973 2069.28 195.816 Q2069.28 189.45 2072.71 185.723 Q2076.16 181.973 2081.99 181.973 Q2087.22 181.973 2090.26 185.353 Q2093.31 188.709 2093.31 194.496 M2089.05 193.246 Q2089.01 189.751 2087.09 187.668 Q2085.19 185.584 2082.04 185.584 Q2078.47 185.584 2076.32 187.598 Q2074.19 189.612 2073.87 193.27 L2089.05 193.246 Z\" fill=\"#000000\" fill-rule=\"evenodd\" fill-opacity=\"1\" /><path clip-path=\"url(#clip280)\" d=\"M 0 0 M2114.84 186.533 L2114.84 172.506 L2119.1 172.506 L2119.1 208.524 L2114.84 208.524 L2114.84 204.635 Q2113.5 206.95 2111.44 208.084 Q2109.4 209.195 2106.53 209.195 Q2101.83 209.195 2098.87 205.445 Q2095.93 201.695 2095.93 195.584 Q2095.93 189.473 2098.87 185.723 Q2101.83 181.973 2106.53 181.973 Q2109.4 181.973 2111.44 183.108 Q2113.5 184.219 2114.84 186.533 M2100.33 195.584 Q2100.33 200.283 2102.25 202.969 Q2104.19 205.631 2107.57 205.631 Q2110.95 205.631 2112.9 202.969 Q2114.84 200.283 2114.84 195.584 Q2114.84 190.885 2112.9 188.223 Q2110.95 185.538 2107.57 185.538 Q2104.19 185.538 2102.25 188.223 Q2100.33 190.885 2100.33 195.584 Z\" fill=\"#000000\" fill-rule=\"evenodd\" fill-opacity=\"1\" /><polyline clip-path=\"url(#clip280)\" style=\"stroke:#e26f46; stroke-width:4; stroke-opacity:1; fill:none\" points=\"\n",
       "  1639.02,251.724 1783.02,251.724 \n",
       "  \"/>\n",
       "<path clip-path=\"url(#clip280)\" d=\"M 0 0 M1811.69 238.287 L1811.69 251.273 L1817.57 251.273 Q1820.84 251.273 1822.62 249.583 Q1824.4 247.893 1824.4 244.768 Q1824.4 241.666 1822.62 239.976 Q1820.84 238.287 1817.57 238.287 L1811.69 238.287 M1807.02 234.444 L1817.57 234.444 Q1823.38 234.444 1826.35 237.083 Q1829.33 239.699 1829.33 244.768 Q1829.33 249.884 1826.35 252.5 Q1823.38 255.115 1817.57 255.115 L1811.69 255.115 L1811.69 269.004 L1807.02 269.004 L1807.02 234.444 Z\" fill=\"#000000\" fill-rule=\"evenodd\" fill-opacity=\"1\" /><path clip-path=\"url(#clip280)\" d=\"M 0 0 M1854.29 254.976 L1854.29 257.06 L1834.7 257.06 Q1834.98 261.458 1837.34 263.773 Q1839.73 266.064 1843.96 266.064 Q1846.42 266.064 1848.71 265.462 Q1851.02 264.861 1853.29 263.657 L1853.29 267.685 Q1851 268.657 1848.59 269.166 Q1846.18 269.675 1843.71 269.675 Q1837.5 269.675 1833.87 266.064 Q1830.26 262.453 1830.26 256.296 Q1830.26 249.93 1833.68 246.203 Q1837.13 242.453 1842.97 242.453 Q1848.2 242.453 1851.23 245.833 Q1854.29 249.189 1854.29 254.976 M1850.03 253.726 Q1849.98 250.231 1848.06 248.148 Q1846.16 246.064 1843.01 246.064 Q1839.45 246.064 1837.3 248.078 Q1835.17 250.092 1834.84 253.75 L1850.03 253.726 Z\" fill=\"#000000\" fill-rule=\"evenodd\" fill-opacity=\"1\" /><path clip-path=\"url(#clip280)\" d=\"M 0 0 M1873.78 247.06 Q1873.06 246.643 1872.2 246.458 Q1871.37 246.25 1870.35 246.25 Q1866.74 246.25 1864.79 248.611 Q1862.87 250.949 1862.87 255.347 L1862.87 269.004 L1858.59 269.004 L1858.59 243.078 L1862.87 243.078 L1862.87 247.106 Q1864.22 244.745 1866.37 243.611 Q1868.52 242.453 1871.6 242.453 Q1872.04 242.453 1872.57 242.523 Q1873.11 242.569 1873.75 242.685 L1873.78 247.06 Z\" fill=\"#000000\" fill-rule=\"evenodd\" fill-opacity=\"1\" /><path clip-path=\"url(#clip280)\" d=\"M 0 0 M1882.36 265.115 L1882.36 278.865 L1878.08 278.865 L1878.08 243.078 L1882.36 243.078 L1882.36 247.013 Q1883.71 244.699 1885.74 243.588 Q1887.8 242.453 1890.65 242.453 Q1895.37 242.453 1898.31 246.203 Q1901.28 249.953 1901.28 256.064 Q1901.28 262.175 1898.31 265.925 Q1895.37 269.675 1890.65 269.675 Q1887.8 269.675 1885.74 268.564 Q1883.71 267.43 1882.36 265.115 M1896.85 256.064 Q1896.85 251.365 1894.91 248.703 Q1892.99 246.018 1889.61 246.018 Q1886.23 246.018 1884.29 248.703 Q1882.36 251.365 1882.36 256.064 Q1882.36 260.763 1884.29 263.449 Q1886.23 266.111 1889.61 266.111 Q1892.99 266.111 1894.91 263.449 Q1896.85 260.763 1896.85 256.064 Z\" fill=\"#000000\" fill-rule=\"evenodd\" fill-opacity=\"1\" /><path clip-path=\"url(#clip280)\" d=\"M 0 0 M1905.74 232.986 L1910 232.986 L1910 269.004 L1905.74 269.004 L1905.74 232.986 Z\" fill=\"#000000\" fill-rule=\"evenodd\" fill-opacity=\"1\" /><path clip-path=\"url(#clip280)\" d=\"M 0 0 M1936.65 254.976 L1936.65 257.06 L1917.06 257.06 Q1917.34 261.458 1919.7 263.773 Q1922.09 266.064 1926.32 266.064 Q1928.78 266.064 1931.07 265.462 Q1933.38 264.861 1935.65 263.657 L1935.65 267.685 Q1933.36 268.657 1930.95 269.166 Q1928.54 269.675 1926.07 269.675 Q1919.86 269.675 1916.23 266.064 Q1912.62 262.453 1912.62 256.296 Q1912.62 249.93 1916.04 246.203 Q1919.49 242.453 1925.33 242.453 Q1930.56 242.453 1933.59 245.833 Q1936.65 249.189 1936.65 254.976 M1932.39 253.726 Q1932.34 250.231 1930.42 248.148 Q1928.52 246.064 1925.37 246.064 Q1921.81 246.064 1919.66 248.078 Q1917.53 250.092 1917.2 253.75 L1932.39 253.726 Z\" fill=\"#000000\" fill-rule=\"evenodd\" fill-opacity=\"1\" /><path clip-path=\"url(#clip280)\" d=\"M 0 0 M1960.81 276.874 L1960.81 280.185 L1936.18 280.185 L1936.18 276.874 L1960.81 276.874 Z\" fill=\"#000000\" fill-rule=\"evenodd\" fill-opacity=\"1\" /><path clip-path=\"url(#clip280)\" d=\"M 0 0 M1963.8 234.444 L1968.82 234.444 L1977.41 247.291 L1986.04 234.444 L1991.07 234.444 L1979.96 251.041 L1991.81 269.004 L1986.79 269.004 L1977.06 254.305 L1967.27 269.004 L1962.22 269.004 L1974.56 250.555 L1963.8 234.444 Z\" fill=\"#000000\" fill-rule=\"evenodd\" fill-opacity=\"1\" /><path clip-path=\"url(#clip280)\" d=\"M 0 0 M2027.87 243.842 L2027.87 247.87 Q2026.07 246.944 2024.12 246.481 Q2022.18 246.018 2020.1 246.018 Q2016.92 246.018 2015.33 246.99 Q2013.75 247.963 2013.75 249.907 Q2013.75 251.388 2014.89 252.245 Q2016.02 253.078 2019.45 253.842 L2020.91 254.166 Q2025.44 255.138 2027.34 256.921 Q2029.26 258.68 2029.26 261.851 Q2029.26 265.462 2026.39 267.569 Q2023.54 269.675 2018.54 269.675 Q2016.46 269.675 2014.19 269.259 Q2011.95 268.865 2009.45 268.055 L2009.45 263.657 Q2011.81 264.884 2014.1 265.509 Q2016.39 266.111 2018.64 266.111 Q2021.65 266.111 2023.27 265.092 Q2024.89 264.05 2024.89 262.175 Q2024.89 260.439 2023.71 259.513 Q2022.55 258.587 2018.59 257.731 L2017.11 257.384 Q2013.15 256.55 2011.39 254.838 Q2009.63 253.101 2009.63 250.092 Q2009.63 246.435 2012.22 244.444 Q2014.82 242.453 2019.59 242.453 Q2021.95 242.453 2024.03 242.801 Q2026.11 243.148 2027.87 243.842 Z\" fill=\"#000000\" fill-rule=\"evenodd\" fill-opacity=\"1\" /><path clip-path=\"url(#clip280)\" d=\"M 0 0 M2033.29 258.773 L2033.29 243.078 L2037.55 243.078 L2037.55 258.611 Q2037.55 262.291 2038.98 264.143 Q2040.42 265.972 2043.29 265.972 Q2046.74 265.972 2048.73 263.773 Q2050.74 261.574 2050.74 257.777 L2050.74 243.078 L2055 243.078 L2055 269.004 L2050.74 269.004 L2050.74 265.023 Q2049.19 267.384 2047.13 268.541 Q2045.09 269.675 2042.39 269.675 Q2037.92 269.675 2035.6 266.898 Q2033.29 264.12 2033.29 258.773 M2044.01 242.453 L2044.01 242.453 Z\" fill=\"#000000\" fill-rule=\"evenodd\" fill-opacity=\"1\" /><path clip-path=\"url(#clip280)\" d=\"M 0 0 M2078.13 244.074 L2078.13 248.055 Q2076.32 247.06 2074.49 246.574 Q2072.69 246.064 2070.84 246.064 Q2066.69 246.064 2064.4 248.703 Q2062.11 251.319 2062.11 256.064 Q2062.11 260.81 2064.4 263.449 Q2066.69 266.064 2070.84 266.064 Q2072.69 266.064 2074.49 265.578 Q2076.32 265.069 2078.13 264.074 L2078.13 268.009 Q2076.34 268.842 2074.42 269.259 Q2072.53 269.675 2070.37 269.675 Q2064.52 269.675 2061.07 265.995 Q2057.62 262.314 2057.62 256.064 Q2057.62 249.722 2061.09 246.088 Q2064.59 242.453 2070.65 242.453 Q2072.62 242.453 2074.49 242.87 Q2076.37 243.263 2078.13 244.074 Z\" fill=\"#000000\" fill-rule=\"evenodd\" fill-opacity=\"1\" /><path clip-path=\"url(#clip280)\" d=\"M 0 0 M2101.25 244.074 L2101.25 248.055 Q2099.45 247.06 2097.62 246.574 Q2095.81 246.064 2093.96 246.064 Q2089.82 246.064 2087.53 248.703 Q2085.23 251.319 2085.23 256.064 Q2085.23 260.81 2087.53 263.449 Q2089.82 266.064 2093.96 266.064 Q2095.81 266.064 2097.62 265.578 Q2099.45 265.069 2101.25 264.074 L2101.25 268.009 Q2099.47 268.842 2097.55 269.259 Q2095.65 269.675 2093.5 269.675 Q2087.64 269.675 2084.19 265.995 Q2080.74 262.314 2080.74 256.064 Q2080.74 249.722 2084.22 246.088 Q2087.71 242.453 2093.78 242.453 Q2095.74 242.453 2097.62 242.87 Q2099.49 243.263 2101.25 244.074 Z\" fill=\"#000000\" fill-rule=\"evenodd\" fill-opacity=\"1\" /><path clip-path=\"url(#clip280)\" d=\"M 0 0 M2127.9 254.976 L2127.9 257.06 L2108.31 257.06 Q2108.59 261.458 2110.95 263.773 Q2113.34 266.064 2117.57 266.064 Q2120.03 266.064 2122.32 265.462 Q2124.63 264.861 2126.9 263.657 L2126.9 267.685 Q2124.61 268.657 2122.2 269.166 Q2119.79 269.675 2117.32 269.675 Q2111.11 269.675 2107.48 266.064 Q2103.87 262.453 2103.87 256.296 Q2103.87 249.93 2107.29 246.203 Q2110.74 242.453 2116.58 242.453 Q2121.81 242.453 2124.84 245.833 Q2127.9 249.189 2127.9 254.976 M2123.64 253.726 Q2123.59 250.231 2121.67 248.148 Q2119.77 246.064 2116.62 246.064 Q2113.06 246.064 2110.9 248.078 Q2108.78 250.092 2108.45 253.75 L2123.64 253.726 Z\" fill=\"#000000\" fill-rule=\"evenodd\" fill-opacity=\"1\" /><path clip-path=\"url(#clip280)\" d=\"M 0 0 M2154.54 254.976 L2154.54 257.06 L2134.96 257.06 Q2135.23 261.458 2137.59 263.773 Q2139.98 266.064 2144.21 266.064 Q2146.67 266.064 2148.96 265.462 Q2151.27 264.861 2153.54 263.657 L2153.54 267.685 Q2151.25 268.657 2148.84 269.166 Q2146.44 269.675 2143.96 269.675 Q2137.76 269.675 2134.12 266.064 Q2130.51 262.453 2130.51 256.296 Q2130.51 249.93 2133.94 246.203 Q2137.39 242.453 2143.22 242.453 Q2148.45 242.453 2151.48 245.833 Q2154.54 249.189 2154.54 254.976 M2150.28 253.726 Q2150.23 250.231 2148.31 248.148 Q2146.41 246.064 2143.27 246.064 Q2139.7 246.064 2137.55 248.078 Q2135.42 250.092 2135.09 253.75 L2150.28 253.726 Z\" fill=\"#000000\" fill-rule=\"evenodd\" fill-opacity=\"1\" /><path clip-path=\"url(#clip280)\" d=\"M 0 0 M2176.07 247.013 L2176.07 232.986 L2180.33 232.986 L2180.33 269.004 L2176.07 269.004 L2176.07 265.115 Q2174.72 267.43 2172.66 268.564 Q2170.63 269.675 2167.76 269.675 Q2163.06 269.675 2160.09 265.925 Q2157.15 262.175 2157.15 256.064 Q2157.15 249.953 2160.09 246.203 Q2163.06 242.453 2167.76 242.453 Q2170.63 242.453 2172.66 243.588 Q2174.72 244.699 2176.07 247.013 M2161.55 256.064 Q2161.55 260.763 2163.47 263.449 Q2165.42 266.111 2168.8 266.111 Q2172.18 266.111 2174.12 263.449 Q2176.07 260.763 2176.07 256.064 Q2176.07 251.365 2174.12 248.703 Q2172.18 246.018 2168.8 246.018 Q2165.42 246.018 2163.47 248.703 Q2161.55 251.365 2161.55 256.064 Z\" fill=\"#000000\" fill-rule=\"evenodd\" fill-opacity=\"1\" /><path clip-path=\"url(#clip280)\" d=\"M 0 0 M2206.97 254.976 L2206.97 257.06 L2187.39 257.06 Q2187.66 261.458 2190.02 263.773 Q2192.41 266.064 2196.64 266.064 Q2199.1 266.064 2201.39 265.462 Q2203.71 264.861 2205.97 263.657 L2205.97 267.685 Q2203.68 268.657 2201.27 269.166 Q2198.87 269.675 2196.39 269.675 Q2190.19 269.675 2186.55 266.064 Q2182.94 262.453 2182.94 256.296 Q2182.94 249.93 2186.37 246.203 Q2189.82 242.453 2195.65 242.453 Q2200.88 242.453 2203.91 245.833 Q2206.97 249.189 2206.97 254.976 M2202.71 253.726 Q2202.66 250.231 2200.74 248.148 Q2198.84 246.064 2195.7 246.064 Q2192.13 246.064 2189.98 248.078 Q2187.85 250.092 2187.52 253.75 L2202.71 253.726 Z\" fill=\"#000000\" fill-rule=\"evenodd\" fill-opacity=\"1\" /><path clip-path=\"url(#clip280)\" d=\"M 0 0 M2228.5 247.013 L2228.5 232.986 L2232.76 232.986 L2232.76 269.004 L2228.5 269.004 L2228.5 265.115 Q2227.15 267.43 2225.09 268.564 Q2223.06 269.675 2220.19 269.675 Q2215.49 269.675 2212.52 265.925 Q2209.58 262.175 2209.58 256.064 Q2209.58 249.953 2212.52 246.203 Q2215.49 242.453 2220.19 242.453 Q2223.06 242.453 2225.09 243.588 Q2227.15 244.699 2228.5 247.013 M2213.98 256.064 Q2213.98 260.763 2215.9 263.449 Q2217.85 266.111 2221.23 266.111 Q2224.61 266.111 2226.55 263.449 Q2228.5 260.763 2228.5 256.064 Q2228.5 251.365 2226.55 248.703 Q2224.61 246.018 2221.23 246.018 Q2217.85 246.018 2215.9 248.703 Q2213.98 251.365 2213.98 256.064 Z\" fill=\"#000000\" fill-rule=\"evenodd\" fill-opacity=\"1\" /><polyline clip-path=\"url(#clip280)\" style=\"stroke:#3da44d; stroke-width:4; stroke-opacity:1; fill:none\" points=\"\n",
       "  1639.02,312.204 1783.02,312.204 \n",
       "  \"/>\n",
       "<path clip-path=\"url(#clip280)\" d=\"M 0 0 M1822.85 299.531 L1816.51 316.73 L1829.22 316.73 L1822.85 299.531 M1820.21 294.924 L1825.51 294.924 L1838.68 329.484 L1833.82 329.484 L1830.67 320.618 L1815.1 320.618 L1811.95 329.484 L1807.02 329.484 L1820.21 294.924 Z\" fill=\"#000000\" fill-rule=\"evenodd\" fill-opacity=\"1\" /><path clip-path=\"url(#clip280)\" d=\"M 0 0 M1843.15 293.466 L1847.41 293.466 L1847.41 329.484 L1843.15 329.484 L1843.15 293.466 Z\" fill=\"#000000\" fill-rule=\"evenodd\" fill-opacity=\"1\" /><path clip-path=\"url(#clip280)\" d=\"M 0 0 M1851.88 293.466 L1856.14 293.466 L1856.14 329.484 L1851.88 329.484 L1851.88 293.466 Z\" fill=\"#000000\" fill-rule=\"evenodd\" fill-opacity=\"1\" /></svg>\n"
      ]
     },
     "execution_count": 247,
     "metadata": {},
     "output_type": "execute_result"
    }
   ],
   "source": [
    "stephist(ign[f,2], label= \"Perple_X failed\", normalize=:pdf)\n",
    "stephist!(ign[.!f,2], label=\"Perple_X succeeded\", normalize=:pdf)\n",
    "stephist!(ign[:,2], label=\"All\", normalize=:pdf, yaxis=false, yticks=false, xlabel=\"SiO2\")\n",
    "#savefig(\"../present/perplex_prior.png\")"
   ]
  },
  {
   "cell_type": "code",
   "execution_count": 159,
   "metadata": {},
   "outputs": [
    {
     "name": "stderr",
     "output_type": "stream",
     "text": [
      "\u001b[32mBuilding fake earth 12%|███▉                            |  ETA: 0:05:38\u001b[39m"
     ]
    },
    {
     "name": "stdout",
     "output_type": "stream",
     "text": [
      "\r\n",
      "\r\n",
      "Cannot process sample due to \r\n",
      " ParsePerplexError(\"Endmembers do not sum to 1\")\n",
      "failed sample had 71.35683 % sio2\n"
     ]
    },
    {
     "name": "stderr",
     "output_type": "stream",
     "text": [
      "\u001b[32mBuilding fake earth 37%|███████████▉                    |  ETA: 0:04:06\u001b[39m"
     ]
    },
    {
     "name": "stdout",
     "output_type": "stream",
     "text": [
      "\r\n",
      "\r\n",
      "Cannot process sample due to \r\n",
      " ParsePerplexError(\"Endmembers do not sum to 1\")\n",
      "failed sample had 47.7182 % sio2\n"
     ]
    },
    {
     "name": "stderr",
     "output_type": "stream",
     "text": [
      "\u001b[32mBuilding fake earth 43%|█████████████▊                  |  ETA: 0:03:44\u001b[39m"
     ]
    },
    {
     "name": "stdout",
     "output_type": "stream",
     "text": [
      "\r\n",
      "\r\n",
      "Cannot process sample due to \r\n",
      " ParsePerplexError(\"Endmembers do not sum to 1\")\n",
      "failed sample had 78.63651 % sio2\n"
     ]
    },
    {
     "name": "stderr",
     "output_type": "stream",
     "text": [
      "\u001b[32mBuilding fake earth 48%|███████████████▍                |  ETA: 0:03:24\u001b[39m"
     ]
    },
    {
     "name": "stdout",
     "output_type": "stream",
     "text": [
      "\r\n",
      "\r\n",
      "Cannot process sample due to \r\n",
      " ParsePerplexError(\"Endmembers do not sum to 1\")\n",
      "failed sample had 71.79254 % sio2\n"
     ]
    },
    {
     "name": "stderr",
     "output_type": "stream",
     "text": [
      "\u001b[32mBuilding fake earth 56%|█████████████████▉              |  ETA: 0:02:55\u001b[39m"
     ]
    },
    {
     "name": "stdout",
     "output_type": "stream",
     "text": [
      "\r\n",
      "\r\n",
      "Cannot process sample due to \r\n",
      " ParsePerplexError(\"Endmembers do not sum to 1\")\n",
      "failed sample had 67.64883 % sio2\n"
     ]
    },
    {
     "name": "stderr",
     "output_type": "stream",
     "text": [
      "\u001b[32mBuilding fake earth 73%|███████████████████████▍        |  ETA: 0:01:47\u001b[39m"
     ]
    },
    {
     "name": "stdout",
     "output_type": "stream",
     "text": [
      "\r\n",
      "\r\n",
      "Cannot process sample due to \r\n",
      " ParsePerplexError(\"Endmembers do not sum to 1\")\n",
      "failed sample had 73.20645 % sio2\n"
     ]
    },
    {
     "name": "stderr",
     "output_type": "stream",
     "text": [
      "\u001b[32mBuilding fake earth 87%|███████████████████████████▉    |  ETA: 0:00:52\u001b[39m"
     ]
    },
    {
     "name": "stdout",
     "output_type": "stream",
     "text": [
      "\r\n",
      "\r\n",
      "Cannot process sample due to \r\n",
      " ArgumentError(\"cannot parse \\\"-76.81 -15.6713\\\" as Float64\")\n",
      "failed sample had 64.19476 % sio2\n"
     ]
    },
    {
     "name": "stderr",
     "output_type": "stream",
     "text": [
      "\u001b[32mBuilding fake earth100%|████████████████████████████████| Time: 0:06:40\u001b[39m\n"
     ]
    },
    {
     "name": "stdout",
     "output_type": "stream",
     "text": [
      "layer 1 has 100000 failed samples, mean sio2 0.00905\n"
     ]
    },
    {
     "data": {
      "text/plain": [
       "([2666.610749870401, 2607.9404442427603, 2585.3947447787154, 2629.696175215205, 3281.547182992739, 2656.4252153507327, 2614.5107554346064, 2642.7549916023027, 2717.6916902800776, 2717.47047476254  …  2567.446302157013, 2939.6521301826892, 2625.197089498917, 2645.1832003430372, 2619.4089175322174, 2709.6556113677243, 2617.6955372485086, 2640.497042405684, 2814.065725408485, 2799.3783214988916], [6.313919454862607, 5.983735631160196, 5.855471964926809, 6.34586440650694, 7.554881889710479, 6.249219485934911, 5.820689713455626, 6.221083676222452, 6.30309685675154, 6.301313599208761  …  5.819328788674276, 6.2180463532377654, 5.863083466531802, 6.431706138665743, 5.977840220566365, 6.3443767446747765, 5.97386339453464, 6.406311450741865, 6.013407794976585, 6.459632203919829], [1.7682086849510867, 1.5375905284653457, 1.5337025974729481, 1.6494762134372216, 1.7452384628383404, 1.7768538424923874, 1.5944360485167337, 1.6447169345719292, 1.6545639830640528, 1.6547433399319307  …  1.5445429016969274, 1.6812928366115838, 1.541786738306731, 1.6466509755458731, 1.6037050283281817, 1.647735095872862, 1.6036333723992278, 1.6474156640892452, 1.63754337483418, 1.6676413837619537], [31.994128444704206, 40.83843653760404, 39.82131758849897, 44.142590811440066, 56.36667352897806, 54.45826266504966, 45.39499733098704, 34.78555446087898, 49.429103945705045, 47.264575362418945  …  38.0672581832229, 38.17717641751757, 39.267130295676864, 32.15623610445541, 50.78878219407976, 41.28335186091412, 53.676549119944596, 37.54996749688889, 39.133341488579646, 32.68214636090557])"
      ]
     },
     "execution_count": 159,
     "metadata": {},
     "output_type": "execute_result"
    }
   ],
   "source": [
    "(rho_c, vp_c, vpvs_c, geotherm) = getPerplexTestSeismic(300, 6, nsamples=100)"
   ]
  },
  {
   "cell_type": "code",
   "execution_count": 203,
   "metadata": {},
   "outputs": [
    {
     "data": {
      "text/plain": [
       "getAllSeismic"
      ]
     },
     "execution_count": 203,
     "metadata": {},
     "output_type": "execute_result"
    }
   ],
   "source": [
    "include(\"src/invertData.jl\")"
   ]
  },
  {
   "cell_type": "code",
   "execution_count": 221,
   "metadata": {},
   "outputs": [
    {
     "name": "stderr",
     "output_type": "stream",
     "text": [
      "\u001b[32mBuilding fake earth  5%|█▋                              |  ETA: 0:06:06\u001b[39m"
     ]
    },
    {
     "name": "stdout",
     "output_type": "stream",
     "text": [
      "\r\n",
      "\r\n",
      "Cannot process sample due to \r\n",
      " ArgumentError(\"cannot parse \\\"-86.89 399.8222\\\" as Float64\")\n",
      "failed sample had 62.64227 % sio2\n"
     ]
    },
    {
     "name": "stderr",
     "output_type": "stream",
     "text": [
      "\u001b[32mBuilding fake earth 13%|████▏                           |  ETA: 0:05:35\u001b[39m"
     ]
    },
    {
     "name": "stdout",
     "output_type": "stream",
     "text": [
      "\r\n",
      "\r\n",
      "Cannot process sample due to \r\n",
      " ParsePerplexError(\"Endmembers do not sum to 1\")\n",
      "failed sample had 71.29341 % sio2\n"
     ]
    },
    {
     "name": "stderr",
     "output_type": "stream",
     "text": [
      "\u001b[32mBuilding fake earth 48%|███████████████▍                |  ETA: 0:03:28\u001b[39m"
     ]
    },
    {
     "name": "stdout",
     "output_type": "stream",
     "text": [
      "\r\n",
      "\r\n",
      "Cannot process sample due to \r\n",
      " ParsePerplexError(\"Endmembers do not sum to 1\")\n",
      "failed sample had 68.38233 % sio2\n"
     ]
    },
    {
     "name": "stderr",
     "output_type": "stream",
     "text": [
      "\u001b[32mBuilding fake earth 81%|█████████████████████████▉      |  ETA: 0:01:16\u001b[39m"
     ]
    },
    {
     "name": "stdout",
     "output_type": "stream",
     "text": [
      "\r\n",
      "\r\n",
      "Cannot process sample due to \r\n",
      " ParsePerplexError(\"Endmembers do not sum to 1\")\n",
      "failed sample had 52.28337 % sio2\n"
     ]
    },
    {
     "name": "stderr",
     "output_type": "stream",
     "text": [
      "\u001b[32mBuilding fake earth 87%|███████████████████████████▉    |  ETA: 0:00:52\u001b[39m"
     ]
    },
    {
     "name": "stdout",
     "output_type": "stream",
     "text": [
      "\r\n",
      "\r\n",
      "Cannot process sample due to \r\n",
      " ArgumentError(\"cannot parse \\\"-87.11 -23.9446\\\" as Float64\")\n",
      "failed sample had 66.63344 % sio2\n"
     ]
    },
    {
     "name": "stderr",
     "output_type": "stream",
     "text": [
      "\u001b[32mBuilding fake earth100%|████████████████████████████████| Time: 0:06:44\u001b[39m\n"
     ]
    },
    {
     "name": "stdout",
     "output_type": "stream",
     "text": [
      "layer 1 has 5 failed samples, mean sio2 64.24696399999999\n"
     ]
    },
    {
     "data": {
      "text/plain": [
       "(([2650.9729767527706, 2717.107687734813, 2512.776078241878, 2680.7134017804583, 2747.578458130271, 2797.0533892362764, 2756.5197896177838, 2656.268238204625, 2777.1019909824577, 2525.3738771622293  …  2568.19649639991, 3114.815071360341, 3103.04629691662, 3355.809960004539, 2685.5376737854635, 2718.2516023412154, 2720.614585974938, 2613.8076317216633, 2846.3927707041207, 2745.549270739824], [5.72173607823196, 6.1920525651959, 5.397529862700976, 5.418712014943795, 6.435842195735368, 6.229267580189721, 5.692461518338837, 5.732866569973642, 5.509648333719143, 5.713290605486562  …  5.613814846865509, 6.624249015966114, 6.5731900125710165, 7.245891196924116, 5.7069842276433675, 5.797282052855567, 6.038177427746804, 6.0771034124436945, 6.381091859038385, 5.979052583032409], [1.5471422146378204, 1.6639407082519193, 1.4313412198177369, 1.472760877920416, 1.6679078913931473, 1.5614994668457518, 1.6379355182578066, 1.546638014402553, 1.5442800485641828, 1.5013962846750075  …  1.5137646022702893, 1.7221244719842468, 1.727906352193445, 1.739643360082924, 1.5629161050167282, 1.5909077831865066, 1.649480447477889, 1.7078155835377065, 1.7251408551432508, 1.5656578412708624], [40.437436501570474, 44.776882156796624, 40.70524206350638, 38.23729968520776, 32.31915632445208, 40.69670141468427, 36.72232497489137, 41.50746636717713, 40.160915063859996, 60.6395011830822  …  39.34197513377843, 29.92023935607966, 38.85202781394917, 72.83705587030563, 30.388892703425864, 38.525844267866, 36.35838983776815, 37.50529123553579, 55.125220524197566, 32.05318043871321]), [24102, 32456, 97704, 5354, 25365, 67813, 3113, 95323, 85019, 64456  …  58887, 53887, 70380, 18586, 10432, 33061, 2894, 68819, 74515, 26491])"
      ]
     },
     "execution_count": 221,
     "metadata": {},
     "output_type": "execute_result"
    }
   ],
   "source": [
    "(rho_c, vp_c, vpvs_c, geotherm), indices = getPerplexTestSeismic(300, 6, nsamples=100)"
   ]
  },
  {
   "cell_type": "code",
   "execution_count": 185,
   "metadata": {},
   "outputs": [
    {
     "data": {
      "image/svg+xml": [
       "<?xml version=\"1.0\" encoding=\"utf-8\"?>\n",
       "<svg xmlns=\"http://www.w3.org/2000/svg\" xmlns:xlink=\"http://www.w3.org/1999/xlink\" width=\"600\" height=\"400\" viewBox=\"0 0 2400 1600\">\n",
       "<defs>\n",
       "  <clipPath id=\"clip080\">\n",
       "    <rect x=\"0\" y=\"0\" width=\"2400\" height=\"1600\"/>\n",
       "  </clipPath>\n",
       "</defs>\n",
       "<path clip-path=\"url(#clip080)\" d=\"\n",
       "M0 1600 L2400 1600 L2400 0 L0 0  Z\n",
       "  \" fill=\"#ffffff\" fill-rule=\"evenodd\" fill-opacity=\"1\"/>\n",
       "<defs>\n",
       "  <clipPath id=\"clip081\">\n",
       "    <rect x=\"480\" y=\"0\" width=\"1681\" height=\"1600\"/>\n",
       "  </clipPath>\n",
       "</defs>\n",
       "<path clip-path=\"url(#clip080)\" d=\"\n",
       "M175.348 1486.45 L2352.76 1486.45 L2352.76 47.2441 L175.348 47.2441  Z\n",
       "  \" fill=\"#ffffff\" fill-rule=\"evenodd\" fill-opacity=\"1\"/>\n",
       "<defs>\n",
       "  <clipPath id=\"clip082\">\n",
       "    <rect x=\"175\" y=\"47\" width=\"2178\" height=\"1440\"/>\n",
       "  </clipPath>\n",
       "</defs>\n",
       "<polyline clip-path=\"url(#clip082)\" style=\"stroke:#000000; stroke-width:2; stroke-opacity:0.1; fill:none\" points=\"\n",
       "  530.424,1486.45 530.424,47.2441 \n",
       "  \"/>\n",
       "<polyline clip-path=\"url(#clip082)\" style=\"stroke:#000000; stroke-width:2; stroke-opacity:0.1; fill:none\" points=\"\n",
       "  1117.33,1486.45 1117.33,47.2441 \n",
       "  \"/>\n",
       "<polyline clip-path=\"url(#clip082)\" style=\"stroke:#000000; stroke-width:2; stroke-opacity:0.1; fill:none\" points=\"\n",
       "  1704.23,1486.45 1704.23,47.2441 \n",
       "  \"/>\n",
       "<polyline clip-path=\"url(#clip082)\" style=\"stroke:#000000; stroke-width:2; stroke-opacity:0.1; fill:none\" points=\"\n",
       "  2291.13,1486.45 2291.13,47.2441 \n",
       "  \"/>\n",
       "<polyline clip-path=\"url(#clip082)\" style=\"stroke:#000000; stroke-width:2; stroke-opacity:0.1; fill:none\" points=\"\n",
       "  175.348,1445.72 2352.76,1445.72 \n",
       "  \"/>\n",
       "<polyline clip-path=\"url(#clip082)\" style=\"stroke:#000000; stroke-width:2; stroke-opacity:0.1; fill:none\" points=\"\n",
       "  175.348,1054.85 2352.76,1054.85 \n",
       "  \"/>\n",
       "<polyline clip-path=\"url(#clip082)\" style=\"stroke:#000000; stroke-width:2; stroke-opacity:0.1; fill:none\" points=\"\n",
       "  175.348,663.987 2352.76,663.987 \n",
       "  \"/>\n",
       "<polyline clip-path=\"url(#clip082)\" style=\"stroke:#000000; stroke-width:2; stroke-opacity:0.1; fill:none\" points=\"\n",
       "  175.348,273.123 2352.76,273.123 \n",
       "  \"/>\n",
       "<polyline clip-path=\"url(#clip080)\" style=\"stroke:#000000; stroke-width:4; stroke-opacity:1; fill:none\" points=\"\n",
       "  175.348,1486.45 2352.76,1486.45 \n",
       "  \"/>\n",
       "<polyline clip-path=\"url(#clip080)\" style=\"stroke:#000000; stroke-width:4; stroke-opacity:1; fill:none\" points=\"\n",
       "  175.348,1486.45 175.348,47.2441 \n",
       "  \"/>\n",
       "<polyline clip-path=\"url(#clip080)\" style=\"stroke:#000000; stroke-width:4; stroke-opacity:1; fill:none\" points=\"\n",
       "  530.424,1486.45 530.424,1469.18 \n",
       "  \"/>\n",
       "<polyline clip-path=\"url(#clip080)\" style=\"stroke:#000000; stroke-width:4; stroke-opacity:1; fill:none\" points=\"\n",
       "  1117.33,1486.45 1117.33,1469.18 \n",
       "  \"/>\n",
       "<polyline clip-path=\"url(#clip080)\" style=\"stroke:#000000; stroke-width:4; stroke-opacity:1; fill:none\" points=\"\n",
       "  1704.23,1486.45 1704.23,1469.18 \n",
       "  \"/>\n",
       "<polyline clip-path=\"url(#clip080)\" style=\"stroke:#000000; stroke-width:4; stroke-opacity:1; fill:none\" points=\"\n",
       "  2291.13,1486.45 2291.13,1469.18 \n",
       "  \"/>\n",
       "<polyline clip-path=\"url(#clip080)\" style=\"stroke:#000000; stroke-width:4; stroke-opacity:1; fill:none\" points=\"\n",
       "  175.348,1445.72 201.477,1445.72 \n",
       "  \"/>\n",
       "<polyline clip-path=\"url(#clip080)\" style=\"stroke:#000000; stroke-width:4; stroke-opacity:1; fill:none\" points=\"\n",
       "  175.348,1054.85 201.477,1054.85 \n",
       "  \"/>\n",
       "<polyline clip-path=\"url(#clip080)\" style=\"stroke:#000000; stroke-width:4; stroke-opacity:1; fill:none\" points=\"\n",
       "  175.348,663.987 201.477,663.987 \n",
       "  \"/>\n",
       "<polyline clip-path=\"url(#clip080)\" style=\"stroke:#000000; stroke-width:4; stroke-opacity:1; fill:none\" points=\"\n",
       "  175.348,273.123 201.477,273.123 \n",
       "  \"/>\n",
       "<path clip-path=\"url(#clip080)\" d=\"M 0 0 M507.195 1505.36 L525.551 1505.36 L525.551 1509.3 L511.477 1509.3 L511.477 1517.77 Q512.496 1517.42 513.514 1517.26 Q514.533 1517.07 515.551 1517.07 Q521.338 1517.07 524.718 1520.24 Q528.098 1523.42 528.098 1528.83 Q528.098 1534.41 524.625 1537.51 Q521.153 1540.59 514.834 1540.59 Q512.658 1540.59 510.389 1540.22 Q508.144 1539.85 505.737 1539.11 L505.737 1534.41 Q507.82 1535.54 510.042 1536.1 Q512.264 1536.66 514.741 1536.66 Q518.746 1536.66 521.084 1534.55 Q523.422 1532.44 523.422 1528.83 Q523.422 1525.22 521.084 1523.11 Q518.746 1521.01 514.741 1521.01 Q512.866 1521.01 510.991 1521.42 Q509.139 1521.84 507.195 1522.72 L507.195 1505.36 Z\" fill=\"#000000\" fill-rule=\"evenodd\" fill-opacity=\"1\" /><path clip-path=\"url(#clip080)\" d=\"M 0 0 M543.167 1508.44 Q539.556 1508.44 537.727 1512 Q535.922 1515.55 535.922 1522.67 Q535.922 1529.78 537.727 1533.35 Q539.556 1536.89 543.167 1536.89 Q546.801 1536.89 548.607 1533.35 Q550.436 1529.78 550.436 1522.67 Q550.436 1515.55 548.607 1512 Q546.801 1508.44 543.167 1508.44 M543.167 1504.73 Q548.977 1504.73 552.033 1509.34 Q555.111 1513.92 555.111 1522.67 Q555.111 1531.4 552.033 1536.01 Q548.977 1540.59 543.167 1540.59 Q537.357 1540.59 534.278 1536.01 Q531.223 1531.4 531.223 1522.67 Q531.223 1513.92 534.278 1509.34 Q537.357 1504.73 543.167 1504.73 Z\" fill=\"#000000\" fill-rule=\"evenodd\" fill-opacity=\"1\" /><path clip-path=\"url(#clip080)\" d=\"M 0 0 M1104.22 1520.78 Q1101.08 1520.78 1099.22 1522.93 Q1097.4 1525.08 1097.4 1528.83 Q1097.4 1532.56 1099.22 1534.73 Q1101.08 1536.89 1104.22 1536.89 Q1107.37 1536.89 1109.2 1534.73 Q1111.05 1532.56 1111.05 1528.83 Q1111.05 1525.08 1109.2 1522.93 Q1107.37 1520.78 1104.22 1520.78 M1113.51 1506.12 L1113.51 1510.38 Q1111.75 1509.55 1109.94 1509.11 Q1108.16 1508.67 1106.4 1508.67 Q1101.77 1508.67 1099.32 1511.8 Q1096.89 1514.92 1096.54 1521.24 Q1097.91 1519.23 1099.97 1518.16 Q1102.03 1517.07 1104.5 1517.07 Q1109.71 1517.07 1112.72 1520.24 Q1115.75 1523.39 1115.75 1528.83 Q1115.75 1534.16 1112.6 1537.37 Q1109.46 1540.59 1104.22 1540.59 Q1098.23 1540.59 1095.06 1536.01 Q1091.89 1531.4 1091.89 1522.67 Q1091.89 1514.48 1095.78 1509.62 Q1099.66 1504.73 1106.22 1504.73 Q1107.97 1504.73 1109.76 1505.08 Q1111.56 1505.43 1113.51 1506.12 Z\" fill=\"#000000\" fill-rule=\"evenodd\" fill-opacity=\"1\" /><path clip-path=\"url(#clip080)\" d=\"M 0 0 M1130.82 1508.44 Q1127.21 1508.44 1125.38 1512 Q1123.58 1515.55 1123.58 1522.67 Q1123.58 1529.78 1125.38 1533.35 Q1127.21 1536.89 1130.82 1536.89 Q1134.46 1536.89 1136.26 1533.35 Q1138.09 1529.78 1138.09 1522.67 Q1138.09 1515.55 1136.26 1512 Q1134.46 1508.44 1130.82 1508.44 M1130.82 1504.73 Q1136.63 1504.73 1139.69 1509.34 Q1142.77 1513.92 1142.77 1522.67 Q1142.77 1531.4 1139.69 1536.01 Q1136.63 1540.59 1130.82 1540.59 Q1125.01 1540.59 1121.93 1536.01 Q1118.88 1531.4 1118.88 1522.67 Q1118.88 1513.92 1121.93 1509.34 Q1125.01 1504.73 1130.82 1504.73 Z\" fill=\"#000000\" fill-rule=\"evenodd\" fill-opacity=\"1\" /><path clip-path=\"url(#clip080)\" d=\"M 0 0 M1679.61 1505.36 L1701.83 1505.36 L1701.83 1507.35 L1689.29 1539.92 L1684.4 1539.92 L1696.21 1509.3 L1679.61 1509.3 L1679.61 1505.36 Z\" fill=\"#000000\" fill-rule=\"evenodd\" fill-opacity=\"1\" /><path clip-path=\"url(#clip080)\" d=\"M 0 0 M1716.9 1508.44 Q1713.29 1508.44 1711.46 1512 Q1709.66 1515.55 1709.66 1522.67 Q1709.66 1529.78 1711.46 1533.35 Q1713.29 1536.89 1716.9 1536.89 Q1720.54 1536.89 1722.34 1533.35 Q1724.17 1529.78 1724.17 1522.67 Q1724.17 1515.55 1722.34 1512 Q1720.54 1508.44 1716.9 1508.44 M1716.9 1504.73 Q1722.71 1504.73 1725.77 1509.34 Q1728.85 1513.92 1728.85 1522.67 Q1728.85 1531.4 1725.77 1536.01 Q1722.71 1540.59 1716.9 1540.59 Q1711.09 1540.59 1708.01 1536.01 Q1704.96 1531.4 1704.96 1522.67 Q1704.96 1513.92 1708.01 1509.34 Q1711.09 1504.73 1716.9 1504.73 Z\" fill=\"#000000\" fill-rule=\"evenodd\" fill-opacity=\"1\" /><path clip-path=\"url(#clip080)\" d=\"M 0 0 M2277.62 1523.51 Q2274.29 1523.51 2272.37 1525.29 Q2270.47 1527.07 2270.47 1530.2 Q2270.47 1533.32 2272.37 1535.11 Q2274.29 1536.89 2277.62 1536.89 Q2280.96 1536.89 2282.88 1535.11 Q2284.8 1533.3 2284.8 1530.2 Q2284.8 1527.07 2282.88 1525.29 Q2280.98 1523.51 2277.62 1523.51 M2272.95 1521.52 Q2269.94 1520.78 2268.25 1518.72 Q2266.58 1516.66 2266.58 1513.69 Q2266.58 1509.55 2269.52 1507.14 Q2272.49 1504.73 2277.62 1504.73 Q2282.79 1504.73 2285.73 1507.14 Q2288.67 1509.55 2288.67 1513.69 Q2288.67 1516.66 2286.98 1518.72 Q2285.31 1520.78 2282.32 1521.52 Q2285.7 1522.3 2287.58 1524.6 Q2289.48 1526.89 2289.48 1530.2 Q2289.48 1535.22 2286.4 1537.91 Q2283.34 1540.59 2277.62 1540.59 Q2271.91 1540.59 2268.83 1537.91 Q2265.77 1535.22 2265.77 1530.2 Q2265.77 1526.89 2267.67 1524.6 Q2269.57 1522.3 2272.95 1521.52 M2271.24 1514.13 Q2271.24 1516.82 2272.9 1518.32 Q2274.59 1519.83 2277.62 1519.83 Q2280.63 1519.83 2282.32 1518.32 Q2284.04 1516.82 2284.04 1514.13 Q2284.04 1511.45 2282.32 1509.94 Q2280.63 1508.44 2277.62 1508.44 Q2274.59 1508.44 2272.9 1509.94 Q2271.24 1511.45 2271.24 1514.13 Z\" fill=\"#000000\" fill-rule=\"evenodd\" fill-opacity=\"1\" /><path clip-path=\"url(#clip080)\" d=\"M 0 0 M2304.55 1508.44 Q2300.93 1508.44 2299.11 1512 Q2297.3 1515.55 2297.3 1522.67 Q2297.3 1529.78 2299.11 1533.35 Q2300.93 1536.89 2304.55 1536.89 Q2308.18 1536.89 2309.99 1533.35 Q2311.81 1529.78 2311.81 1522.67 Q2311.81 1515.55 2309.99 1512 Q2308.18 1508.44 2304.55 1508.44 M2304.55 1504.73 Q2310.36 1504.73 2313.41 1509.34 Q2316.49 1513.92 2316.49 1522.67 Q2316.49 1531.4 2313.41 1536.01 Q2310.36 1540.59 2304.55 1540.59 Q2298.74 1540.59 2295.66 1536.01 Q2292.6 1531.4 2292.6 1522.67 Q2292.6 1513.92 2295.66 1509.34 Q2298.74 1504.73 2304.55 1504.73 Z\" fill=\"#000000\" fill-rule=\"evenodd\" fill-opacity=\"1\" /><path clip-path=\"url(#clip080)\" d=\"M 0 0 M75.4226 1431.51 Q71.8115 1431.51 69.9828 1435.08 Q68.1773 1438.62 68.1773 1445.75 Q68.1773 1452.86 69.9828 1456.42 Q71.8115 1459.96 75.4226 1459.96 Q79.0569 1459.96 80.8624 1456.42 Q82.6911 1452.86 82.6911 1445.75 Q82.6911 1438.62 80.8624 1435.08 Q79.0569 1431.51 75.4226 1431.51 M75.4226 1427.81 Q81.2328 1427.81 84.2883 1432.42 Q87.367 1437 87.367 1445.75 Q87.367 1454.48 84.2883 1459.08 Q81.2328 1463.67 75.4226 1463.67 Q69.6125 1463.67 66.5338 1459.08 Q63.4782 1454.48 63.4782 1445.75 Q63.4782 1437 66.5338 1432.42 Q69.6125 1427.81 75.4226 1427.81 Z\" fill=\"#000000\" fill-rule=\"evenodd\" fill-opacity=\"1\" /><path clip-path=\"url(#clip080)\" d=\"M 0 0 M92.4364 1457.12 L97.3206 1457.12 L97.3206 1463 L92.4364 1463 L92.4364 1457.12 Z\" fill=\"#000000\" fill-rule=\"evenodd\" fill-opacity=\"1\" /><path clip-path=\"url(#clip080)\" d=\"M 0 0 M112.39 1431.51 Q108.779 1431.51 106.95 1435.08 Q105.145 1438.62 105.145 1445.75 Q105.145 1452.86 106.95 1456.42 Q108.779 1459.96 112.39 1459.96 Q116.024 1459.96 117.83 1456.42 Q119.658 1452.86 119.658 1445.75 Q119.658 1438.62 117.83 1435.08 Q116.024 1431.51 112.39 1431.51 M112.39 1427.81 Q118.2 1427.81 121.256 1432.42 Q124.334 1437 124.334 1445.75 Q124.334 1454.48 121.256 1459.08 Q118.2 1463.67 112.39 1463.67 Q106.58 1463.67 103.501 1459.08 Q100.446 1454.48 100.446 1445.75 Q100.446 1437 103.501 1432.42 Q106.58 1427.81 112.39 1427.81 Z\" fill=\"#000000\" fill-rule=\"evenodd\" fill-opacity=\"1\" /><path clip-path=\"url(#clip080)\" d=\"M 0 0 M139.404 1431.51 Q135.793 1431.51 133.964 1435.08 Q132.158 1438.62 132.158 1445.75 Q132.158 1452.86 133.964 1456.42 Q135.793 1459.96 139.404 1459.96 Q143.038 1459.96 144.844 1456.42 Q146.672 1452.86 146.672 1445.75 Q146.672 1438.62 144.844 1435.08 Q143.038 1431.51 139.404 1431.51 M139.404 1427.81 Q145.214 1427.81 148.269 1432.42 Q151.348 1437 151.348 1445.75 Q151.348 1454.48 148.269 1459.08 Q145.214 1463.67 139.404 1463.67 Q133.594 1463.67 130.515 1459.08 Q127.459 1454.48 127.459 1445.75 Q127.459 1437 130.515 1432.42 Q133.594 1427.81 139.404 1427.81 Z\" fill=\"#000000\" fill-rule=\"evenodd\" fill-opacity=\"1\" /><path clip-path=\"url(#clip080)\" d=\"M 0 0 M77.0198 1040.65 Q73.4087 1040.65 71.58 1044.21 Q69.7745 1047.76 69.7745 1054.89 Q69.7745 1061.99 71.58 1065.56 Q73.4087 1069.1 77.0198 1069.1 Q80.6541 1069.1 82.4596 1065.56 Q84.2883 1061.99 84.2883 1054.89 Q84.2883 1047.76 82.4596 1044.21 Q80.6541 1040.65 77.0198 1040.65 M77.0198 1036.95 Q82.83 1036.95 85.8855 1041.55 Q88.9642 1046.14 88.9642 1054.89 Q88.9642 1063.61 85.8855 1068.22 Q82.83 1072.8 77.0198 1072.8 Q71.2097 1072.8 68.131 1068.22 Q65.0754 1063.61 65.0754 1054.89 Q65.0754 1046.14 68.131 1041.55 Q71.2097 1036.95 77.0198 1036.95 Z\" fill=\"#000000\" fill-rule=\"evenodd\" fill-opacity=\"1\" /><path clip-path=\"url(#clip080)\" d=\"M 0 0 M94.0336 1066.25 L98.9179 1066.25 L98.9179 1072.13 L94.0336 1072.13 L94.0336 1066.25 Z\" fill=\"#000000\" fill-rule=\"evenodd\" fill-opacity=\"1\" /><path clip-path=\"url(#clip080)\" d=\"M 0 0 M113.987 1040.65 Q110.376 1040.65 108.547 1044.21 Q106.742 1047.76 106.742 1054.89 Q106.742 1061.99 108.547 1065.56 Q110.376 1069.1 113.987 1069.1 Q117.621 1069.1 119.427 1065.56 Q121.256 1061.99 121.256 1054.89 Q121.256 1047.76 119.427 1044.21 Q117.621 1040.65 113.987 1040.65 M113.987 1036.95 Q119.797 1036.95 122.853 1041.55 Q125.932 1046.14 125.932 1054.89 Q125.932 1063.61 122.853 1068.22 Q119.797 1072.8 113.987 1072.8 Q108.177 1072.8 105.098 1068.22 Q102.043 1063.61 102.043 1054.89 Q102.043 1046.14 105.098 1041.55 Q108.177 1036.95 113.987 1036.95 Z\" fill=\"#000000\" fill-rule=\"evenodd\" fill-opacity=\"1\" /><path clip-path=\"url(#clip080)\" d=\"M 0 0 M135.029 1068.2 L151.348 1068.2 L151.348 1072.13 L129.404 1072.13 L129.404 1068.2 Q132.066 1065.44 136.649 1060.81 Q141.256 1056.16 142.436 1054.82 Q144.682 1052.29 145.561 1050.56 Q146.464 1048.8 146.464 1047.11 Q146.464 1044.35 144.519 1042.62 Q142.598 1040.88 139.496 1040.88 Q137.297 1040.88 134.844 1041.65 Q132.413 1042.41 129.635 1043.96 L129.635 1039.24 Q132.459 1038.1 134.913 1037.53 Q137.367 1036.95 139.404 1036.95 Q144.774 1036.95 147.969 1039.63 Q151.163 1042.32 151.163 1046.81 Q151.163 1048.94 150.353 1050.86 Q149.566 1052.76 147.459 1055.35 Q146.881 1056.02 143.779 1059.24 Q140.677 1062.43 135.029 1068.2 Z\" fill=\"#000000\" fill-rule=\"evenodd\" fill-opacity=\"1\" /><path clip-path=\"url(#clip080)\" d=\"M 0 0 M74.9365 649.786 Q71.3254 649.786 69.4967 653.35 Q67.6912 656.892 67.6912 664.022 Q67.6912 671.128 69.4967 674.693 Q71.3254 678.235 74.9365 678.235 Q78.5707 678.235 80.3763 674.693 Q82.205 671.128 82.205 664.022 Q82.205 656.892 80.3763 653.35 Q78.5707 649.786 74.9365 649.786 M74.9365 646.082 Q80.7467 646.082 83.8022 650.688 Q86.8809 655.272 86.8809 664.022 Q86.8809 672.748 83.8022 677.355 Q80.7467 681.938 74.9365 681.938 Q69.1264 681.938 66.0477 677.355 Q62.9921 672.748 62.9921 664.022 Q62.9921 655.272 66.0477 650.688 Q69.1264 646.082 74.9365 646.082 Z\" fill=\"#000000\" fill-rule=\"evenodd\" fill-opacity=\"1\" /><path clip-path=\"url(#clip080)\" d=\"M 0 0 M91.9503 675.387 L96.8345 675.387 L96.8345 681.267 L91.9503 681.267 L91.9503 675.387 Z\" fill=\"#000000\" fill-rule=\"evenodd\" fill-opacity=\"1\" /><path clip-path=\"url(#clip080)\" d=\"M 0 0 M111.904 649.786 Q108.293 649.786 106.464 653.35 Q104.659 656.892 104.659 664.022 Q104.659 671.128 106.464 674.693 Q108.293 678.235 111.904 678.235 Q115.538 678.235 117.344 674.693 Q119.172 671.128 119.172 664.022 Q119.172 656.892 117.344 653.35 Q115.538 649.786 111.904 649.786 M111.904 646.082 Q117.714 646.082 120.77 650.688 Q123.848 655.272 123.848 664.022 Q123.848 672.748 120.77 677.355 Q117.714 681.938 111.904 681.938 Q106.094 681.938 103.015 677.355 Q99.9595 672.748 99.9595 664.022 Q99.9595 655.272 103.015 650.688 Q106.094 646.082 111.904 646.082 Z\" fill=\"#000000\" fill-rule=\"evenodd\" fill-opacity=\"1\" /><path clip-path=\"url(#clip080)\" d=\"M 0 0 M141.765 650.781 L129.959 669.23 L141.765 669.23 L141.765 650.781 M140.538 646.707 L146.418 646.707 L146.418 669.23 L151.348 669.23 L151.348 673.119 L146.418 673.119 L146.418 681.267 L141.765 681.267 L141.765 673.119 L126.163 673.119 L126.163 668.605 L140.538 646.707 Z\" fill=\"#000000\" fill-rule=\"evenodd\" fill-opacity=\"1\" /><path clip-path=\"url(#clip080)\" d=\"M 0 0 M75.2606 258.921 Q71.6495 258.921 69.8208 262.486 Q68.0152 266.028 68.0152 273.157 Q68.0152 280.264 69.8208 283.829 Q71.6495 287.37 75.2606 287.37 Q78.8948 287.37 80.7004 283.829 Q82.5291 280.264 82.5291 273.157 Q82.5291 266.028 80.7004 262.486 Q78.8948 258.921 75.2606 258.921 M75.2606 255.218 Q81.0707 255.218 84.1263 259.824 Q87.205 264.407 87.205 273.157 Q87.205 281.884 84.1263 286.491 Q81.0707 291.074 75.2606 291.074 Q69.4504 291.074 66.3717 286.491 Q63.3162 281.884 63.3162 273.157 Q63.3162 264.407 66.3717 259.824 Q69.4504 255.218 75.2606 255.218 Z\" fill=\"#000000\" fill-rule=\"evenodd\" fill-opacity=\"1\" /><path clip-path=\"url(#clip080)\" d=\"M 0 0 M92.2744 284.523 L97.1586 284.523 L97.1586 290.403 L92.2744 290.403 L92.2744 284.523 Z\" fill=\"#000000\" fill-rule=\"evenodd\" fill-opacity=\"1\" /><path clip-path=\"url(#clip080)\" d=\"M 0 0 M112.228 258.921 Q108.617 258.921 106.788 262.486 Q104.983 266.028 104.983 273.157 Q104.983 280.264 106.788 283.829 Q108.617 287.37 112.228 287.37 Q115.862 287.37 117.668 283.829 Q119.496 280.264 119.496 273.157 Q119.496 266.028 117.668 262.486 Q115.862 258.921 112.228 258.921 M112.228 255.218 Q118.038 255.218 121.094 259.824 Q124.172 264.407 124.172 273.157 Q124.172 281.884 121.094 286.491 Q118.038 291.074 112.228 291.074 Q106.418 291.074 103.339 286.491 Q100.284 281.884 100.284 273.157 Q100.284 264.407 103.339 259.824 Q106.418 255.218 112.228 255.218 Z\" fill=\"#000000\" fill-rule=\"evenodd\" fill-opacity=\"1\" /><path clip-path=\"url(#clip080)\" d=\"M 0 0 M139.82 271.259 Q136.672 271.259 134.82 273.412 Q132.992 275.565 132.992 279.315 Q132.992 283.041 134.82 285.217 Q136.672 287.37 139.82 287.37 Q142.969 287.37 144.797 285.217 Q146.649 283.041 146.649 279.315 Q146.649 275.565 144.797 273.412 Q142.969 271.259 139.82 271.259 M149.103 256.606 L149.103 260.866 Q147.344 260.032 145.538 259.593 Q143.756 259.153 141.996 259.153 Q137.367 259.153 134.913 262.278 Q132.482 265.403 132.135 271.722 Q133.501 269.708 135.561 268.643 Q137.621 267.555 140.098 267.555 Q145.306 267.555 148.316 270.727 Q151.348 273.875 151.348 279.315 Q151.348 284.639 148.2 287.856 Q145.052 291.074 139.82 291.074 Q133.825 291.074 130.654 286.491 Q127.483 281.884 127.483 273.157 Q127.483 264.963 131.371 260.102 Q135.26 255.218 141.811 255.218 Q143.57 255.218 145.353 255.565 Q147.158 255.912 149.103 256.606 Z\" fill=\"#000000\" fill-rule=\"evenodd\" fill-opacity=\"1\" /><polyline clip-path=\"url(#clip082)\" style=\"stroke:#009af9; stroke-width:4; stroke-opacity:1; fill:none\" points=\"\n",
       "  530.424,1445.72 530.424,663.987 1117.33,663.987 1704.23,663.987 1704.23,1054.85 2291.13,1054.85 2291.13,1445.72 \n",
       "  \"/>\n",
       "<polyline clip-path=\"url(#clip082)\" style=\"stroke:#e26f46; stroke-width:4; stroke-opacity:1; fill:none\" points=\"\n",
       "  236.973,1445.72 236.973,1240 530.424,1240 530.424,1075.42 823.875,1075.42 823.875,1157.71 1117.33,1157.71 1117.33,1116.57 1410.78,1116.57 1410.78,499.412 \n",
       "  1704.23,499.412 1704.23,87.9763 1997.68,87.9763 1997.68,1034.28 2291.13,1034.28 2291.13,1445.72 \n",
       "  \"/>\n",
       "<path clip-path=\"url(#clip080)\" d=\"\n",
       "M1812.93 312.204 L2280.76 312.204 L2280.76 130.764 L1812.93 130.764  Z\n",
       "  \" fill=\"#ffffff\" fill-rule=\"evenodd\" fill-opacity=\"1\"/>\n",
       "<polyline clip-path=\"url(#clip080)\" style=\"stroke:#000000; stroke-width:4; stroke-opacity:1; fill:none\" points=\"\n",
       "  1812.93,312.204 2280.76,312.204 2280.76,130.764 1812.93,130.764 1812.93,312.204 \n",
       "  \"/>\n",
       "<polyline clip-path=\"url(#clip080)\" style=\"stroke:#009af9; stroke-width:4; stroke-opacity:1; fill:none\" points=\"\n",
       "  1836.93,191.244 1980.93,191.244 \n",
       "  \"/>\n",
       "<path clip-path=\"url(#clip080)\" d=\"M 0 0 M2004.93 173.964 L2024.79 173.964 L2024.79 177.899 L2009.61 177.899 L2009.61 188.084 L2023.31 188.084 L2023.31 192.02 L2009.61 192.02 L2009.61 208.524 L2004.93 208.524 L2004.93 173.964 Z\" fill=\"#000000\" fill-rule=\"evenodd\" fill-opacity=\"1\" /><path clip-path=\"url(#clip080)\" d=\"M 0 0 M2036.69 195.492 Q2031.53 195.492 2029.54 196.672 Q2027.55 197.853 2027.55 200.7 Q2027.55 202.969 2029.03 204.311 Q2030.53 205.631 2033.1 205.631 Q2036.65 205.631 2038.78 203.131 Q2040.93 200.607 2040.93 196.441 L2040.93 195.492 L2036.69 195.492 M2045.19 193.733 L2045.19 208.524 L2040.93 208.524 L2040.93 204.589 Q2039.47 206.95 2037.29 208.084 Q2035.12 209.195 2031.97 209.195 Q2027.99 209.195 2025.63 206.973 Q2023.29 204.728 2023.29 200.978 Q2023.29 196.603 2026.21 194.381 Q2029.15 192.158 2034.96 192.158 L2040.93 192.158 L2040.93 191.742 Q2040.93 188.802 2038.98 187.205 Q2037.06 185.584 2033.57 185.584 Q2031.34 185.584 2029.24 186.117 Q2027.13 186.649 2025.19 187.714 L2025.19 183.779 Q2027.53 182.876 2029.72 182.436 Q2031.92 181.973 2034.01 181.973 Q2039.63 181.973 2042.41 184.89 Q2045.19 187.807 2045.19 193.733 Z\" fill=\"#000000\" fill-rule=\"evenodd\" fill-opacity=\"1\" /><path clip-path=\"url(#clip080)\" d=\"M 0 0 M2049.66 182.598 L2053.91 182.598 L2053.91 208.524 L2049.66 208.524 L2049.66 182.598 M2049.66 172.506 L2053.91 172.506 L2053.91 177.899 L2049.66 177.899 L2049.66 172.506 Z\" fill=\"#000000\" fill-rule=\"evenodd\" fill-opacity=\"1\" /><path clip-path=\"url(#clip080)\" d=\"M 0 0 M2058.38 172.506 L2062.64 172.506 L2062.64 208.524 L2058.38 208.524 L2058.38 172.506 Z\" fill=\"#000000\" fill-rule=\"evenodd\" fill-opacity=\"1\" /><path clip-path=\"url(#clip080)\" d=\"M 0 0 M2089.28 194.496 L2089.28 196.58 L2069.7 196.58 Q2069.98 200.978 2072.34 203.293 Q2074.72 205.584 2078.96 205.584 Q2081.41 205.584 2083.71 204.982 Q2086.02 204.381 2088.29 203.177 L2088.29 207.205 Q2086 208.177 2083.59 208.686 Q2081.18 209.195 2078.71 209.195 Q2072.5 209.195 2068.87 205.584 Q2065.26 201.973 2065.26 195.816 Q2065.26 189.45 2068.68 185.723 Q2072.13 181.973 2077.97 181.973 Q2083.2 181.973 2086.23 185.353 Q2089.28 188.709 2089.28 194.496 M2085.03 193.246 Q2084.98 189.751 2083.06 187.668 Q2081.16 185.584 2078.01 185.584 Q2074.45 185.584 2072.29 187.598 Q2070.16 189.612 2069.84 193.27 L2085.03 193.246 Z\" fill=\"#000000\" fill-rule=\"evenodd\" fill-opacity=\"1\" /><path clip-path=\"url(#clip080)\" d=\"M 0 0 M2110.81 186.533 L2110.81 172.506 L2115.07 172.506 L2115.07 208.524 L2110.81 208.524 L2110.81 204.635 Q2109.47 206.95 2107.41 208.084 Q2105.37 209.195 2102.5 209.195 Q2097.8 209.195 2094.84 205.445 Q2091.9 201.695 2091.9 195.584 Q2091.9 189.473 2094.84 185.723 Q2097.8 181.973 2102.5 181.973 Q2105.37 181.973 2107.41 183.108 Q2109.47 184.219 2110.81 186.533 M2096.3 195.584 Q2096.3 200.283 2098.22 202.969 Q2100.16 205.631 2103.54 205.631 Q2106.92 205.631 2108.87 202.969 Q2110.81 200.283 2110.81 195.584 Q2110.81 190.885 2108.87 188.223 Q2106.92 185.538 2103.54 185.538 Q2100.16 185.538 2098.22 188.223 Q2096.3 190.885 2096.3 195.584 Z\" fill=\"#000000\" fill-rule=\"evenodd\" fill-opacity=\"1\" /><polyline clip-path=\"url(#clip080)\" style=\"stroke:#e26f46; stroke-width:4; stroke-opacity:1; fill:none\" points=\"\n",
       "  1836.93,251.724 1980.93,251.724 \n",
       "  \"/>\n",
       "<path clip-path=\"url(#clip080)\" d=\"M 0 0 M2027.18 235.578 L2027.18 240.139 Q2024.52 238.865 2022.16 238.24 Q2019.79 237.615 2017.6 237.615 Q2013.78 237.615 2011.69 239.097 Q2009.63 240.578 2009.63 243.31 Q2009.63 245.601 2011 246.782 Q2012.39 247.939 2016.23 248.657 L2019.05 249.236 Q2024.28 250.231 2026.76 252.754 Q2029.26 255.254 2029.26 259.467 Q2029.26 264.49 2025.88 267.083 Q2022.53 269.675 2016.02 269.675 Q2013.57 269.675 2010.79 269.12 Q2008.03 268.564 2005.07 267.476 L2005.07 262.662 Q2007.92 264.259 2010.65 265.069 Q2013.38 265.879 2016.02 265.879 Q2020.03 265.879 2022.2 264.305 Q2024.38 262.731 2024.38 259.814 Q2024.38 257.268 2022.8 255.833 Q2021.25 254.398 2017.69 253.68 L2014.84 253.125 Q2009.61 252.083 2007.27 249.861 Q2004.93 247.638 2004.93 243.68 Q2004.93 239.097 2008.15 236.458 Q2011.39 233.819 2017.06 233.819 Q2019.49 233.819 2022.02 234.259 Q2024.54 234.699 2027.18 235.578 Z\" fill=\"#000000\" fill-rule=\"evenodd\" fill-opacity=\"1\" /><path clip-path=\"url(#clip080)\" d=\"M 0 0 M2033.29 258.773 L2033.29 243.078 L2037.55 243.078 L2037.55 258.611 Q2037.55 262.291 2038.98 264.143 Q2040.42 265.972 2043.29 265.972 Q2046.74 265.972 2048.73 263.773 Q2050.74 261.574 2050.74 257.777 L2050.74 243.078 L2055 243.078 L2055 269.004 L2050.74 269.004 L2050.74 265.023 Q2049.19 267.384 2047.13 268.541 Q2045.09 269.675 2042.39 269.675 Q2037.92 269.675 2035.6 266.898 Q2033.29 264.12 2033.29 258.773 M2044.01 242.453 L2044.01 242.453 Z\" fill=\"#000000\" fill-rule=\"evenodd\" fill-opacity=\"1\" /><path clip-path=\"url(#clip080)\" d=\"M 0 0 M2078.13 244.074 L2078.13 248.055 Q2076.32 247.06 2074.49 246.574 Q2072.69 246.064 2070.84 246.064 Q2066.69 246.064 2064.4 248.703 Q2062.11 251.319 2062.11 256.064 Q2062.11 260.81 2064.4 263.449 Q2066.69 266.064 2070.84 266.064 Q2072.69 266.064 2074.49 265.578 Q2076.32 265.069 2078.13 264.074 L2078.13 268.009 Q2076.34 268.842 2074.42 269.259 Q2072.53 269.675 2070.37 269.675 Q2064.52 269.675 2061.07 265.995 Q2057.62 262.314 2057.62 256.064 Q2057.62 249.722 2061.09 246.088 Q2064.59 242.453 2070.65 242.453 Q2072.62 242.453 2074.49 242.87 Q2076.37 243.263 2078.13 244.074 Z\" fill=\"#000000\" fill-rule=\"evenodd\" fill-opacity=\"1\" /><path clip-path=\"url(#clip080)\" d=\"M 0 0 M2101.25 244.074 L2101.25 248.055 Q2099.45 247.06 2097.62 246.574 Q2095.81 246.064 2093.96 246.064 Q2089.82 246.064 2087.53 248.703 Q2085.23 251.319 2085.23 256.064 Q2085.23 260.81 2087.53 263.449 Q2089.82 266.064 2093.96 266.064 Q2095.81 266.064 2097.62 265.578 Q2099.45 265.069 2101.25 264.074 L2101.25 268.009 Q2099.47 268.842 2097.55 269.259 Q2095.65 269.675 2093.5 269.675 Q2087.64 269.675 2084.19 265.995 Q2080.74 262.314 2080.74 256.064 Q2080.74 249.722 2084.22 246.088 Q2087.71 242.453 2093.78 242.453 Q2095.74 242.453 2097.62 242.87 Q2099.49 243.263 2101.25 244.074 Z\" fill=\"#000000\" fill-rule=\"evenodd\" fill-opacity=\"1\" /><path clip-path=\"url(#clip080)\" d=\"M 0 0 M2127.9 254.976 L2127.9 257.06 L2108.31 257.06 Q2108.59 261.458 2110.95 263.773 Q2113.34 266.064 2117.57 266.064 Q2120.03 266.064 2122.32 265.462 Q2124.63 264.861 2126.9 263.657 L2126.9 267.685 Q2124.61 268.657 2122.2 269.166 Q2119.79 269.675 2117.32 269.675 Q2111.11 269.675 2107.48 266.064 Q2103.87 262.453 2103.87 256.296 Q2103.87 249.93 2107.29 246.203 Q2110.74 242.453 2116.58 242.453 Q2121.81 242.453 2124.84 245.833 Q2127.9 249.189 2127.9 254.976 M2123.64 253.726 Q2123.59 250.231 2121.67 248.148 Q2119.77 246.064 2116.62 246.064 Q2113.06 246.064 2110.9 248.078 Q2108.78 250.092 2108.45 253.75 L2123.64 253.726 Z\" fill=\"#000000\" fill-rule=\"evenodd\" fill-opacity=\"1\" /><path clip-path=\"url(#clip080)\" d=\"M 0 0 M2154.54 254.976 L2154.54 257.06 L2134.96 257.06 Q2135.23 261.458 2137.59 263.773 Q2139.98 266.064 2144.21 266.064 Q2146.67 266.064 2148.96 265.462 Q2151.27 264.861 2153.54 263.657 L2153.54 267.685 Q2151.25 268.657 2148.84 269.166 Q2146.44 269.675 2143.96 269.675 Q2137.76 269.675 2134.12 266.064 Q2130.51 262.453 2130.51 256.296 Q2130.51 249.93 2133.94 246.203 Q2137.39 242.453 2143.22 242.453 Q2148.45 242.453 2151.48 245.833 Q2154.54 249.189 2154.54 254.976 M2150.28 253.726 Q2150.23 250.231 2148.31 248.148 Q2146.41 246.064 2143.27 246.064 Q2139.7 246.064 2137.55 248.078 Q2135.42 250.092 2135.09 253.75 L2150.28 253.726 Z\" fill=\"#000000\" fill-rule=\"evenodd\" fill-opacity=\"1\" /><path clip-path=\"url(#clip080)\" d=\"M 0 0 M2176.07 247.013 L2176.07 232.986 L2180.33 232.986 L2180.33 269.004 L2176.07 269.004 L2176.07 265.115 Q2174.72 267.43 2172.66 268.564 Q2170.63 269.675 2167.76 269.675 Q2163.06 269.675 2160.09 265.925 Q2157.15 262.175 2157.15 256.064 Q2157.15 249.953 2160.09 246.203 Q2163.06 242.453 2167.76 242.453 Q2170.63 242.453 2172.66 243.588 Q2174.72 244.699 2176.07 247.013 M2161.55 256.064 Q2161.55 260.763 2163.47 263.449 Q2165.42 266.111 2168.8 266.111 Q2172.18 266.111 2174.12 263.449 Q2176.07 260.763 2176.07 256.064 Q2176.07 251.365 2174.12 248.703 Q2172.18 246.018 2168.8 246.018 Q2165.42 246.018 2163.47 248.703 Q2161.55 251.365 2161.55 256.064 Z\" fill=\"#000000\" fill-rule=\"evenodd\" fill-opacity=\"1\" /><path clip-path=\"url(#clip080)\" d=\"M 0 0 M2206.97 254.976 L2206.97 257.06 L2187.39 257.06 Q2187.66 261.458 2190.02 263.773 Q2192.41 266.064 2196.64 266.064 Q2199.1 266.064 2201.39 265.462 Q2203.71 264.861 2205.97 263.657 L2205.97 267.685 Q2203.68 268.657 2201.27 269.166 Q2198.87 269.675 2196.39 269.675 Q2190.19 269.675 2186.55 266.064 Q2182.94 262.453 2182.94 256.296 Q2182.94 249.93 2186.37 246.203 Q2189.82 242.453 2195.65 242.453 Q2200.88 242.453 2203.91 245.833 Q2206.97 249.189 2206.97 254.976 M2202.71 253.726 Q2202.66 250.231 2200.74 248.148 Q2198.84 246.064 2195.7 246.064 Q2192.13 246.064 2189.98 248.078 Q2187.85 250.092 2187.52 253.75 L2202.71 253.726 Z\" fill=\"#000000\" fill-rule=\"evenodd\" fill-opacity=\"1\" /><path clip-path=\"url(#clip080)\" d=\"M 0 0 M2228.5 247.013 L2228.5 232.986 L2232.76 232.986 L2232.76 269.004 L2228.5 269.004 L2228.5 265.115 Q2227.15 267.43 2225.09 268.564 Q2223.06 269.675 2220.19 269.675 Q2215.49 269.675 2212.52 265.925 Q2209.58 262.175 2209.58 256.064 Q2209.58 249.953 2212.52 246.203 Q2215.49 242.453 2220.19 242.453 Q2223.06 242.453 2225.09 243.588 Q2227.15 244.699 2228.5 247.013 M2213.98 256.064 Q2213.98 260.763 2215.9 263.449 Q2217.85 266.111 2221.23 266.111 Q2224.61 266.111 2226.55 263.449 Q2228.5 260.763 2228.5 256.064 Q2228.5 251.365 2226.55 248.703 Q2224.61 246.018 2221.23 246.018 Q2217.85 246.018 2215.9 248.703 Q2213.98 251.365 2213.98 256.064 Z\" fill=\"#000000\" fill-rule=\"evenodd\" fill-opacity=\"1\" /></svg>\n"
      ]
     },
     "execution_count": 185,
     "metadata": {},
     "output_type": "execute_result"
    }
   ],
   "source": [
    "stephist(failed, normalize=:pdf, label=\"Failed\")\n",
    "stephist!(succeeded, normalize=:pdf, label=\"Succeeded\")"
   ]
  },
  {
   "cell_type": "code",
   "execution_count": 575,
   "metadata": {},
   "outputs": [
    {
     "data": {
      "text/plain": [
       "FullNormal(\n",
       "dim: 3\n",
       "μ: [0.0, 0.0, 0.0]\n",
       "Σ: [6521.7627999630495 1.7273183724489563 -0.07154611347706762; 1.7273183724489563 0.07772477283590881 0.0021935233133172187; -0.07154611347706762 0.0021935233133172187 0.0021507496031949046]\n",
       ")\n"
      ]
     },
     "execution_count": 575,
     "metadata": {},
     "output_type": "execute_result"
    }
   ],
   "source": [
    "# error distribution \n",
    "dat, header = readdlm(\"data/adjustedPerplexRes.csv\", ',', header=true);\n",
    "header = header[:]\n",
    "\n",
    "# No eclogites plz \n",
    "eclogites = [9,10,11,14,16,19]\n",
    "filter = [! (s in eclogites) for s in dat[:,1]]\n",
    "dat = dat[filter, :]\n",
    "\n",
    "# Interested in non-nan differences between actual and Perplex data \n",
    "ers = fill(NaN, (size(dat)[1],3));\n",
    "ers[:,2] .= dat[:,findfirst(isequal(\"perplex vp\"), header)] .- dat[:,findfirst(isequal(\"dabie vp\"), header)]\n",
    "ers[:,3] .= dat[:,findfirst(isequal(\"perplex vp/vs\"), header)] .- dat[:,findfirst(isequal(\"dabie vp/vs\"), header)]\n",
    "ers[:,1] .= dat[:,findfirst(isequal(\"perplex rho\"), header)] .- (1000 .* dat[:,findfirst(isequal(\"dabie rho\"), header)]);\n",
    "ers = ers[.!(isnan.(sum(ers, dims=2)))[:],:]; \n",
    "N_er = fit(MvNormal, ers')\n",
    "\n",
    "# Bias may be caused by cracks, deformation caused by transport to surface -- we don't want it. \n",
    "zero_mean = MvNormal(zeros(3), N_er.Σ)"
   ]
  },
  {
   "cell_type": "code",
   "execution_count": 577,
   "metadata": {},
   "outputs": [
    {
     "data": {
      "text/plain": [
       "3×3 Array{Float64,2}:\n",
       "  1.0        0.0767203  -0.0191033\n",
       "  0.0767203  1.0         0.169655 \n",
       " -0.0191033  0.169655    1.0      "
      ]
     },
     "execution_count": 577,
     "metadata": {},
     "output_type": "execute_result"
    }
   ],
   "source": [
    "cor(ers)"
   ]
  },
  {
   "cell_type": "markdown",
   "metadata": {},
   "source": [
    "# Individual sample inversion"
   ]
  },
  {
   "cell_type": "code",
   "execution_count": 519,
   "metadata": {},
   "outputs": [],
   "source": [
    "ign,h = readdlm(\"data/remote/base/bsr_ignmajors_2.csv\", ',', header=true);\n",
    "seismic = h5read(\"data/remote/base/perplex_out_2.h5\", \"results\");"
   ]
  },
  {
   "cell_type": "code",
   "execution_count": 629,
   "metadata": {},
   "outputs": [
    {
     "name": "stdout",
     "output_type": "stream",
     "text": [
      "Formation depth 53.635823412615935, formation temp 667.3424338690991, sio2 71.05085\n"
     ]
    }
   ],
   "source": [
    "### Configure sample, using sample 5 and geotherm bin 2\n",
    "bins = crustDistribution.binBoundaries(10)\n",
    "ok = (crustDistribution.depth[:,1] .> bins[2]) .& (crustDistribution.depth[:,1] .< bins[3])\n",
    "depths = crustDistribution.depth[ok,:][sample(1:sum(ok)),:]\n",
    "\n",
    "sdepth = (depths[2] + depths[3])/2 + depths[2] # middle crust \n",
    "dtdz = 550.0/depths[1]\n",
    "\n",
    "formation_depth, formation_dtdz = crustDistribution.getFormationParams(sdepth, dtdz)\n",
    "\n",
    "comp = zeros(10)\n",
    "target = 71\n",
    "while abs(comp[1] - target ) > .1\n",
    "    comp = ign[sample(1:size(ign,1)),2:11]\n",
    "    si = comp[1]\n",
    "end\n",
    "\n",
    "println(\"Formation depth $formation_depth, formation temp $(formation_depth*formation_dtdz), sio2 $(comp[1])\")"
   ]
  },
  {
   "cell_type": "code",
   "execution_count": 630,
   "metadata": {},
   "outputs": [
    {
     "name": "stdout",
     "output_type": "stream",
     "text": [
      "2444.20217025284465.9277463032694311.5661323510047727\n"
     ]
    }
   ],
   "source": [
    "st = SeismicTransform()\n",
    "\n",
    "geotherm = formation_dtdz/dpdz # dt/dp \n",
    "P_range = [formation_depth*(9/10)*dpdz, formation_depth*(11/10)*dpdz] # we only need a small range around formation t, p\n",
    "\n",
    "# Run perplex\n",
    "perplex_configure_geotherm(DEFAULT_PERPLEX, DEFAULT_SCRATCH, comp, PERPLEX_COMPOSITION_ELTS,\n",
    "    P_range, 273.15, geotherm, dataset=\"hpha11ver.dat\", solution_phases=SOLUTIONS,\n",
    "    excludes=FLUID_ENDMEMBERS, index=111, npoints=NPOINTS)\n",
    "point = perplex_query_point(DEFAULT_PERPLEX, DEFAULT_SCRATCH, formation_depth*dpdz, index=111)\n",
    "\n",
    "# Adjust T, P \n",
    "properties = get_system_props(point)\n",
    "endmembers = parse_perplex_point(point)\n",
    "\n",
    "P = dpdz*sdepth + 280 # add surface pressure (bar)\n",
    "T = dtdz*sdepth + 273.15 # add surface temp (K)\n",
    "rho, vp, vs = get_seismic(T, P, properties, endmembers, st)\n",
    "println(rho, vp, vp/vs)"
   ]
  },
  {
   "cell_type": "code",
   "execution_count": 631,
   "metadata": {},
   "outputs": [
    {
     "name": "stdout",
     "output_type": "stream",
     "text": [
      "$\\rho = 2444.2021702528446$, $V_p = 5.927746303269431$, $V_p/V_s = 1.5661323510047727$\n"
     ]
    }
   ],
   "source": [
    "println(\"\\$\\\\rho = $rho\\$, \\$V_p = $vp\\$, \\$V_p/V_s = $(vp/vs)\\$\")"
   ]
  },
  {
   "cell_type": "code",
   "execution_count": 559,
   "metadata": {},
   "outputs": [],
   "source": [
    "model = RejectionModel(ign, Array(seismic[:,3,:]'));"
   ]
  },
  {
   "cell_type": "code",
   "execution_count": 560,
   "metadata": {},
   "outputs": [],
   "source": [
    "n = 10000\n",
    "#res = zeros((n,3))\n",
    "res = estimateComposition(model, repeat([rho], n), repeat([vp], n), repeat([vp ./ vs], n))[1];"
   ]
  },
  {
   "cell_type": "code",
   "execution_count": 563,
   "metadata": {},
   "outputs": [
    {
     "data": {
      "image/svg+xml": [
       "<?xml version=\"1.0\" encoding=\"utf-8\"?>\n",
       "<svg xmlns=\"http://www.w3.org/2000/svg\" xmlns:xlink=\"http://www.w3.org/1999/xlink\" width=\"600\" height=\"400\" viewBox=\"0 0 2400 1600\">\n",
       "<defs>\n",
       "  <clipPath id=\"clip790\">\n",
       "    <rect x=\"0\" y=\"0\" width=\"2400\" height=\"1600\"/>\n",
       "  </clipPath>\n",
       "</defs>\n",
       "<path clip-path=\"url(#clip790)\" d=\"\n",
       "M0 1600 L2400 1600 L2400 0 L0 0  Z\n",
       "  \" fill=\"#ffffff\" fill-rule=\"evenodd\" fill-opacity=\"1\"/>\n",
       "<defs>\n",
       "  <clipPath id=\"clip791\">\n",
       "    <rect x=\"480\" y=\"0\" width=\"1681\" height=\"1600\"/>\n",
       "  </clipPath>\n",
       "</defs>\n",
       "<path clip-path=\"url(#clip790)\" d=\"\n",
       "M47.2441 1423.18 L2352.76 1423.18 L2352.76 47.2441 L47.2441 47.2441  Z\n",
       "  \" fill=\"#ffffff\" fill-rule=\"evenodd\" fill-opacity=\"1\"/>\n",
       "<defs>\n",
       "  <clipPath id=\"clip792\">\n",
       "    <rect x=\"47\" y=\"47\" width=\"2307\" height=\"1377\"/>\n",
       "  </clipPath>\n",
       "</defs>\n",
       "<polyline clip-path=\"url(#clip792)\" style=\"stroke:#000000; stroke-width:2; stroke-opacity:0.1; fill:none\" points=\"\n",
       "  279.803,1423.18 279.803,47.2441 \n",
       "  \"/>\n",
       "<polyline clip-path=\"url(#clip792)\" style=\"stroke:#000000; stroke-width:2; stroke-opacity:0.1; fill:none\" points=\"\n",
       "  698.074,1423.18 698.074,47.2441 \n",
       "  \"/>\n",
       "<polyline clip-path=\"url(#clip792)\" style=\"stroke:#000000; stroke-width:2; stroke-opacity:0.1; fill:none\" points=\"\n",
       "  1116.35,1423.18 1116.35,47.2441 \n",
       "  \"/>\n",
       "<polyline clip-path=\"url(#clip792)\" style=\"stroke:#000000; stroke-width:2; stroke-opacity:0.1; fill:none\" points=\"\n",
       "  1534.62,1423.18 1534.62,47.2441 \n",
       "  \"/>\n",
       "<polyline clip-path=\"url(#clip792)\" style=\"stroke:#000000; stroke-width:2; stroke-opacity:0.1; fill:none\" points=\"\n",
       "  1952.89,1423.18 1952.89,47.2441 \n",
       "  \"/>\n",
       "<polyline clip-path=\"url(#clip790)\" style=\"stroke:#000000; stroke-width:4; stroke-opacity:1; fill:none\" points=\"\n",
       "  47.2441,1423.18 2352.76,1423.18 \n",
       "  \"/>\n",
       "<polyline clip-path=\"url(#clip790)\" style=\"stroke:#000000; stroke-width:4; stroke-opacity:1; fill:none\" points=\"\n",
       "  47.2441,1423.18 47.2441,47.2441 \n",
       "  \"/>\n",
       "<polyline clip-path=\"url(#clip790)\" style=\"stroke:#000000; stroke-width:4; stroke-opacity:1; fill:none\" points=\"\n",
       "  279.803,1423.18 279.803,1406.67 \n",
       "  \"/>\n",
       "<polyline clip-path=\"url(#clip790)\" style=\"stroke:#000000; stroke-width:4; stroke-opacity:1; fill:none\" points=\"\n",
       "  698.074,1423.18 698.074,1406.67 \n",
       "  \"/>\n",
       "<polyline clip-path=\"url(#clip790)\" style=\"stroke:#000000; stroke-width:4; stroke-opacity:1; fill:none\" points=\"\n",
       "  1116.35,1423.18 1116.35,1406.67 \n",
       "  \"/>\n",
       "<polyline clip-path=\"url(#clip790)\" style=\"stroke:#000000; stroke-width:4; stroke-opacity:1; fill:none\" points=\"\n",
       "  1534.62,1423.18 1534.62,1406.67 \n",
       "  \"/>\n",
       "<polyline clip-path=\"url(#clip790)\" style=\"stroke:#000000; stroke-width:4; stroke-opacity:1; fill:none\" points=\"\n",
       "  1952.89,1423.18 1952.89,1406.67 \n",
       "  \"/>\n",
       "<path clip-path=\"url(#clip790)\" d=\"M 0 0 M269.305 1446.17 L257.5 1464.61 L269.305 1464.61 L269.305 1446.17 M268.079 1442.09 L273.958 1442.09 L273.958 1464.61 L278.889 1464.61 L278.889 1468.5 L273.958 1468.5 L273.958 1476.65 L269.305 1476.65 L269.305 1468.5 L253.704 1468.5 L253.704 1463.99 L268.079 1442.09 Z\" fill=\"#000000\" fill-rule=\"evenodd\" fill-opacity=\"1\" /><path clip-path=\"url(#clip790)\" d=\"M 0 0 M293.958 1445.17 Q290.347 1445.17 288.518 1448.74 Q286.713 1452.28 286.713 1459.41 Q286.713 1466.51 288.518 1470.08 Q290.347 1473.62 293.958 1473.62 Q297.592 1473.62 299.398 1470.08 Q301.226 1466.51 301.226 1459.41 Q301.226 1452.28 299.398 1448.74 Q297.592 1445.17 293.958 1445.17 M293.958 1441.47 Q299.768 1441.47 302.824 1446.07 Q305.902 1450.66 305.902 1459.41 Q305.902 1468.13 302.824 1472.74 Q299.768 1477.32 293.958 1477.32 Q288.148 1477.32 285.069 1472.74 Q282.014 1468.13 282.014 1459.41 Q282.014 1450.66 285.069 1446.07 Q288.148 1441.47 293.958 1441.47 Z\" fill=\"#000000\" fill-rule=\"evenodd\" fill-opacity=\"1\" /><path clip-path=\"url(#clip790)\" d=\"M 0 0 M674.845 1442.09 L693.202 1442.09 L693.202 1446.03 L679.128 1446.03 L679.128 1454.5 Q680.146 1454.15 681.165 1453.99 Q682.183 1453.8 683.202 1453.8 Q688.989 1453.8 692.368 1456.98 Q695.748 1460.15 695.748 1465.56 Q695.748 1471.14 692.276 1474.24 Q688.804 1477.32 682.484 1477.32 Q680.308 1477.32 678.04 1476.95 Q675.794 1476.58 673.387 1475.84 L673.387 1471.14 Q675.47 1472.28 677.693 1472.83 Q679.915 1473.39 682.392 1473.39 Q686.396 1473.39 688.734 1471.28 Q691.072 1469.18 691.072 1465.56 Q691.072 1461.95 688.734 1459.85 Q686.396 1457.74 682.392 1457.74 Q680.517 1457.74 678.642 1458.16 Q676.79 1458.57 674.845 1459.45 L674.845 1442.09 Z\" fill=\"#000000\" fill-rule=\"evenodd\" fill-opacity=\"1\" /><path clip-path=\"url(#clip790)\" d=\"M 0 0 M710.817 1445.17 Q707.206 1445.17 705.378 1448.74 Q703.572 1452.28 703.572 1459.41 Q703.572 1466.51 705.378 1470.08 Q707.206 1473.62 710.817 1473.62 Q714.452 1473.62 716.257 1470.08 Q718.086 1466.51 718.086 1459.41 Q718.086 1452.28 716.257 1448.74 Q714.452 1445.17 710.817 1445.17 M710.817 1441.47 Q716.627 1441.47 719.683 1446.07 Q722.762 1450.66 722.762 1459.41 Q722.762 1468.13 719.683 1472.74 Q716.627 1477.32 710.817 1477.32 Q705.007 1477.32 701.928 1472.74 Q698.873 1468.13 698.873 1459.41 Q698.873 1450.66 701.928 1446.07 Q705.007 1441.47 710.817 1441.47 Z\" fill=\"#000000\" fill-rule=\"evenodd\" fill-opacity=\"1\" /><path clip-path=\"url(#clip790)\" d=\"M 0 0 M1103.24 1457.51 Q1100.1 1457.51 1098.24 1459.66 Q1096.42 1461.81 1096.42 1465.56 Q1096.42 1469.29 1098.24 1471.47 Q1100.1 1473.62 1103.24 1473.62 Q1106.39 1473.62 1108.22 1471.47 Q1110.07 1469.29 1110.07 1465.56 Q1110.07 1461.81 1108.22 1459.66 Q1106.39 1457.51 1103.24 1457.51 M1112.53 1442.86 L1112.53 1447.11 Q1110.77 1446.28 1108.96 1445.84 Q1107.18 1445.4 1105.42 1445.4 Q1100.79 1445.4 1098.34 1448.53 Q1095.91 1451.65 1095.56 1457.97 Q1096.92 1455.96 1098.98 1454.89 Q1101.04 1453.8 1103.52 1453.8 Q1108.73 1453.8 1111.74 1456.98 Q1114.77 1460.12 1114.77 1465.56 Q1114.77 1470.89 1111.62 1474.11 Q1108.48 1477.32 1103.24 1477.32 Q1097.25 1477.32 1094.08 1472.74 Q1090.91 1468.13 1090.91 1459.41 Q1090.91 1451.21 1094.79 1446.35 Q1098.68 1441.47 1105.23 1441.47 Q1106.99 1441.47 1108.78 1441.81 Q1110.58 1442.16 1112.53 1442.86 Z\" fill=\"#000000\" fill-rule=\"evenodd\" fill-opacity=\"1\" /><path clip-path=\"url(#clip790)\" d=\"M 0 0 M1129.84 1445.17 Q1126.23 1445.17 1124.4 1448.74 Q1122.6 1452.28 1122.6 1459.41 Q1122.6 1466.51 1124.4 1470.08 Q1126.23 1473.62 1129.84 1473.62 Q1133.48 1473.62 1135.28 1470.08 Q1137.11 1466.51 1137.11 1459.41 Q1137.11 1452.28 1135.28 1448.74 Q1133.48 1445.17 1129.84 1445.17 M1129.84 1441.47 Q1135.65 1441.47 1138.71 1446.07 Q1141.79 1450.66 1141.79 1459.41 Q1141.79 1468.13 1138.71 1472.74 Q1135.65 1477.32 1129.84 1477.32 Q1124.03 1477.32 1120.95 1472.74 Q1117.9 1468.13 1117.9 1459.41 Q1117.9 1450.66 1120.95 1446.07 Q1124.03 1441.47 1129.84 1441.47 Z\" fill=\"#000000\" fill-rule=\"evenodd\" fill-opacity=\"1\" /><path clip-path=\"url(#clip790)\" d=\"M 0 0 M1510 1442.09 L1532.22 1442.09 L1532.22 1444.08 L1519.68 1476.65 L1514.79 1476.65 L1526.6 1446.03 L1510 1446.03 L1510 1442.09 Z\" fill=\"#000000\" fill-rule=\"evenodd\" fill-opacity=\"1\" /><path clip-path=\"url(#clip790)\" d=\"M 0 0 M1547.29 1445.17 Q1543.68 1445.17 1541.85 1448.74 Q1540.05 1452.28 1540.05 1459.41 Q1540.05 1466.51 1541.85 1470.08 Q1543.68 1473.62 1547.29 1473.62 Q1550.92 1473.62 1552.73 1470.08 Q1554.56 1466.51 1554.56 1459.41 Q1554.56 1452.28 1552.73 1448.74 Q1550.92 1445.17 1547.29 1445.17 M1547.29 1441.47 Q1553.1 1441.47 1556.16 1446.07 Q1559.24 1450.66 1559.24 1459.41 Q1559.24 1468.13 1556.16 1472.74 Q1553.1 1477.32 1547.29 1477.32 Q1541.48 1477.32 1538.4 1472.74 Q1535.35 1468.13 1535.35 1459.41 Q1535.35 1450.66 1538.4 1446.07 Q1541.48 1441.47 1547.29 1441.47 Z\" fill=\"#000000\" fill-rule=\"evenodd\" fill-opacity=\"1\" /><path clip-path=\"url(#clip790)\" d=\"M 0 0 M1939.38 1460.24 Q1936.05 1460.24 1934.13 1462.02 Q1932.23 1463.8 1932.23 1466.93 Q1932.23 1470.05 1934.13 1471.84 Q1936.05 1473.62 1939.38 1473.62 Q1942.71 1473.62 1944.64 1471.84 Q1946.56 1470.03 1946.56 1466.93 Q1946.56 1463.8 1944.64 1462.02 Q1942.74 1460.24 1939.38 1460.24 M1934.71 1458.25 Q1931.7 1457.51 1930.01 1455.45 Q1928.34 1453.39 1928.34 1450.43 Q1928.34 1446.28 1931.28 1443.87 Q1934.24 1441.47 1939.38 1441.47 Q1944.54 1441.47 1947.48 1443.87 Q1950.42 1446.28 1950.42 1450.43 Q1950.42 1453.39 1948.73 1455.45 Q1947.07 1457.51 1944.08 1458.25 Q1947.46 1459.04 1949.34 1461.33 Q1951.23 1463.62 1951.23 1466.93 Q1951.23 1471.95 1948.15 1474.64 Q1945.1 1477.32 1939.38 1477.32 Q1933.66 1477.32 1930.59 1474.64 Q1927.53 1471.95 1927.53 1466.93 Q1927.53 1463.62 1929.43 1461.33 Q1931.33 1459.04 1934.71 1458.25 M1932.99 1450.86 Q1932.99 1453.55 1934.66 1455.05 Q1936.35 1456.56 1939.38 1456.56 Q1942.39 1456.56 1944.08 1455.05 Q1945.79 1453.55 1945.79 1450.86 Q1945.79 1448.18 1944.08 1446.68 Q1942.39 1445.17 1939.38 1445.17 Q1936.35 1445.17 1934.66 1446.68 Q1932.99 1448.18 1932.99 1450.86 Z\" fill=\"#000000\" fill-rule=\"evenodd\" fill-opacity=\"1\" /><path clip-path=\"url(#clip790)\" d=\"M 0 0 M1966.3 1445.17 Q1962.69 1445.17 1960.86 1448.74 Q1959.06 1452.28 1959.06 1459.41 Q1959.06 1466.51 1960.86 1470.08 Q1962.69 1473.62 1966.3 1473.62 Q1969.94 1473.62 1971.74 1470.08 Q1973.57 1466.51 1973.57 1459.41 Q1973.57 1452.28 1971.74 1448.74 Q1969.94 1445.17 1966.3 1445.17 M1966.3 1441.47 Q1972.11 1441.47 1975.17 1446.07 Q1978.25 1450.66 1978.25 1459.41 Q1978.25 1468.13 1975.17 1472.74 Q1972.11 1477.32 1966.3 1477.32 Q1960.49 1477.32 1957.41 1472.74 Q1954.36 1468.13 1954.36 1459.41 Q1954.36 1450.66 1957.41 1446.07 Q1960.49 1441.47 1966.3 1441.47 Z\" fill=\"#000000\" fill-rule=\"evenodd\" fill-opacity=\"1\" /><polyline clip-path=\"url(#clip790)\" style=\"stroke:#000000; stroke-width:4; stroke-opacity:1; fill:none\" points=\"\n",
       "  47.2441,47.2441 2352.76,47.2441 \n",
       "  \"/>\n",
       "<polyline clip-path=\"url(#clip790)\" style=\"stroke:#000000; stroke-width:4; stroke-opacity:1; fill:none\" points=\"\n",
       "  2352.76,1423.18 2352.76,47.2441 \n",
       "  \"/>\n",
       "<path clip-path=\"url(#clip790)\" d=\"M 0 0 M1166.56 1510.08 L1166.56 1516.35 Q1162.9 1514.6 1159.66 1513.74 Q1156.41 1512.88 1153.39 1512.88 Q1148.14 1512.88 1145.27 1514.92 Q1142.44 1516.96 1142.44 1520.71 Q1142.44 1523.87 1144.32 1525.49 Q1146.23 1527.08 1151.51 1528.07 L1155.39 1528.86 Q1162.59 1530.23 1165.99 1533.7 Q1169.43 1537.14 1169.43 1542.93 Q1169.43 1549.84 1164.78 1553.4 Q1160.17 1556.97 1151.22 1556.97 Q1147.85 1556.97 1144.03 1556.2 Q1140.24 1555.44 1136.17 1553.94 L1136.17 1547.32 Q1140.08 1549.52 1143.84 1550.63 Q1147.59 1551.75 1151.22 1551.75 Q1156.73 1551.75 1159.72 1549.58 Q1162.71 1547.42 1162.71 1543.41 Q1162.71 1539.91 1160.55 1537.93 Q1158.42 1535.96 1153.51 1534.97 L1149.6 1534.21 Q1142.41 1532.78 1139.19 1529.72 Q1135.98 1526.67 1135.98 1521.22 Q1135.98 1514.92 1140.4 1511.29 Q1144.86 1507.66 1152.66 1507.66 Q1156 1507.66 1159.47 1508.27 Q1162.94 1508.87 1166.56 1510.08 Z\" fill=\"#000000\" fill-rule=\"evenodd\" fill-opacity=\"1\" /><path clip-path=\"url(#clip790)\" d=\"M 0 0 M1175.57 1520.4 L1181.43 1520.4 L1181.43 1556.04 L1175.57 1556.04 L1175.57 1520.4 M1175.57 1506.52 L1181.43 1506.52 L1181.43 1513.93 L1175.57 1513.93 L1175.57 1506.52 Z\" fill=\"#000000\" fill-rule=\"evenodd\" fill-opacity=\"1\" /><path clip-path=\"url(#clip790)\" d=\"M 0 0 M1207.11 1512.88 Q1200.11 1512.88 1195.97 1518.1 Q1191.87 1523.32 1191.87 1532.33 Q1191.87 1541.31 1195.97 1546.53 Q1200.11 1551.75 1207.11 1551.75 Q1214.12 1551.75 1218.19 1546.53 Q1222.3 1541.31 1222.3 1532.33 Q1222.3 1523.32 1218.19 1518.1 Q1214.12 1512.88 1207.11 1512.88 M1207.11 1507.66 Q1217.11 1507.66 1223.09 1514.38 Q1229.08 1521.06 1229.08 1532.33 Q1229.08 1543.57 1223.09 1550.28 Q1217.11 1556.97 1207.11 1556.97 Q1197.09 1556.97 1191.07 1550.28 Q1185.09 1543.6 1185.09 1532.33 Q1185.09 1521.06 1191.07 1514.38 Q1197.09 1507.66 1207.11 1507.66 Z\" fill=\"#000000\" fill-rule=\"evenodd\" fill-opacity=\"1\" /><path clip-path=\"url(#clip790)\" d=\"M 0 0 M1241.58 1550.63 L1264.02 1550.63 L1264.02 1556.04 L1233.85 1556.04 L1233.85 1550.63 Q1237.51 1546.85 1243.81 1540.48 Q1250.15 1534.08 1251.77 1532.24 Q1254.86 1528.77 1256.07 1526.38 Q1257.31 1523.96 1257.31 1521.64 Q1257.31 1517.85 1254.63 1515.46 Q1251.99 1513.08 1247.73 1513.08 Q1244.7 1513.08 1241.33 1514.13 Q1237.99 1515.18 1234.17 1517.31 L1234.17 1510.82 Q1238.05 1509.26 1241.42 1508.46 Q1244.8 1507.66 1247.6 1507.66 Q1254.98 1507.66 1259.38 1511.36 Q1263.77 1515.05 1263.77 1521.22 Q1263.77 1524.15 1262.65 1526.79 Q1261.57 1529.4 1258.68 1532.97 Q1257.88 1533.89 1253.62 1538.32 Q1249.35 1542.71 1241.58 1550.63 Z\" fill=\"#000000\" fill-rule=\"evenodd\" fill-opacity=\"1\" /><polyline clip-path=\"url(#clip792)\" style=\"stroke:#009af9; stroke-width:4; stroke-opacity:1; fill:none\" points=\"\n",
       "  112.494,1384.24 112.494,1384.08 154.322,1384.08 154.322,1383.47 196.149,1383.47 196.149,1380.7 237.976,1380.7 237.976,1373.46 279.803,1373.46 279.803,1358.68 \n",
       "  321.63,1358.68 321.63,1327.42 363.457,1327.42 363.457,1275.84 405.284,1275.84 405.284,1224.41 447.112,1224.41 447.112,1150.96 488.939,1150.96 488.939,1033.32 \n",
       "  530.766,1033.32 530.766,878.106 572.593,878.106 572.593,730.131 614.42,730.131 614.42,585.697 656.247,585.697 656.247,546.124 698.074,546.124 698.074,568.144 \n",
       "  739.901,568.144 739.901,598.94 781.729,598.94 781.729,699.643 823.556,699.643 823.556,805.889 865.383,805.889 865.383,883.957 907.21,883.957 907.21,967.26 \n",
       "  949.037,967.26 949.037,1016.69 990.864,1016.69 990.864,1049.64 1032.69,1049.64 1032.69,1082.13 1074.52,1082.13 1074.52,1072.12 1116.35,1072.12 1116.35,1084.9 \n",
       "  1158.17,1084.9 1158.17,1063.34 1200,1063.34 1200,1066.12 1241.83,1066.12 1241.83,1066.58 1283.65,1066.58 1283.65,1035.32 1325.48,1035.32 1325.48,1030.08 \n",
       "  1367.31,1030.08 1367.31,989.279 1409.14,989.279 1409.14,964.95 1450.96,964.95 1450.96,939.39 1492.79,939.39 1492.79,917.37 1534.62,917.37 1534.62,900.433 \n",
       "  1576.44,900.433 1576.44,906.592 1618.27,906.592 1618.27,932.768 1660.1,932.768 1660.1,974.959 1701.93,974.959 1701.93,1029.16 1743.75,1029.16 1743.75,1113.23 \n",
       "  1785.58,1113.23 1785.58,1204.24 1827.41,1204.24 1827.41,1273.06 1869.23,1273.06 1869.23,1325.42 1911.06,1325.42 1911.06,1351.13 1952.89,1351.13 1952.89,1362.07 \n",
       "  1994.72,1362.07 1994.72,1376.08 2036.54,1376.08 2036.54,1379.62 2078.37,1379.62 2078.37,1383.31 2120.2,1383.31 2120.2,1383.93 2162.02,1383.93 2162.02,1384.08 \n",
       "  2203.85,1384.08 2245.68,1384.08 2287.51,1384.08 2287.51,1384.24 \n",
       "  \"/>\n",
       "<polyline clip-path=\"url(#clip792)\" style=\"stroke:#e26f46; stroke-width:4; stroke-opacity:1; fill:none\" points=\"\n",
       "  154.322,1384.24 154.322,1382.7 196.149,1382.7 196.149,1381.16 237.976,1381.16 237.976,1371.92 279.803,1371.92 279.803,1364.22 321.63,1364.22 321.63,1365.76 \n",
       "  363.457,1365.76 363.457,1342.66 405.284,1342.66 405.284,1264.13 447.112,1264.13 447.112,1214.86 488.939,1214.86 488.939,1003.91 530.766,1003.91 530.766,829.91 \n",
       "  572.593,829.91 572.593,617.417 614.42,617.417 614.42,307.917 656.247,307.917 656.247,190.892 698.074,190.892 698.074,133.92 739.901,133.92 739.901,86.1857 \n",
       "  781.729,86.1857 781.729,287.9 823.556,287.9 823.556,264.803 865.383,264.803 865.383,446.499 907.21,446.499 907.21,600.479 949.037,600.479 949.037,705.186 \n",
       "  990.864,705.186 990.864,728.283 1032.69,728.283 1032.69,874.564 1074.52,874.564 1074.52,971.571 1116.35,971.571 1116.35,980.81 1158.17,980.81 1158.17,1011.61 \n",
       "  1200,1011.61 1200,1094.76 1241.83,1094.76 1241.83,1107.07 1283.65,1107.07 1283.65,1144.03 1325.48,1144.03 1325.48,1222.56 1367.31,1222.56 1367.31,1225.64 \n",
       "  1409.14,1225.64 1409.14,1277.99 1450.96,1277.99 1450.96,1305.71 1492.79,1305.71 1492.79,1319.57 1534.62,1319.57 1534.62,1334.96 1576.44,1334.96 1576.44,1345.74 \n",
       "  1618.27,1345.74 1618.27,1361.14 1660.1,1361.14 1660.1,1371.92 1701.93,1371.92 1701.93,1373.46 1743.75,1373.46 1743.75,1379.62 1785.58,1379.62 1785.58,1381.16 \n",
       "  1827.41,1381.16 1827.41,1382.7 1869.23,1382.7 1911.06,1382.7 1911.06,1384.24 \n",
       "  \"/>\n",
       "<polyline clip-path=\"url(#clip792)\" style=\"stroke:#3da44d; stroke-width:4; stroke-opacity:1; fill:none\" stroke-dasharray=\"2, 4\" points=\"\n",
       "  736.314,2799.12 736.314,-1328.69 \n",
       "  \"/>\n",
       "</svg>\n"
      ]
     },
     "execution_count": 563,
     "metadata": {},
     "output_type": "execute_result"
    }
   ],
   "source": [
    "stephist(ign[:,2], label=\"Prior\", normalize=:pdf)\n",
    "stephist!(res[:,2], label=\"Posterior\", normalize=:pdf)\n",
    "vline!([comp[1]], linestyle=:dot, label=\"Sample composition\", xaxis=\"SiO2\", yticks=false, framestyle=:box, legend=false)\n",
    "#savefig(\"thesis/viz/mafic_posterior.png\")"
   ]
  },
  {
   "cell_type": "code",
   "execution_count": 498,
   "metadata": {},
   "outputs": [
    {
     "data": {
      "text/plain": [
       "100000×58 Array{Float64,2}:\n",
       "      1.0  NaN  NaN  NaN  NaN  NaN  NaN  …  12.5956   22.9793  36.3843  0.0\n",
       "      2.0  NaN  NaN  NaN  NaN  NaN  NaN     11.4727   18.9153  28.9608  0.0\n",
       "      3.0  NaN  NaN  NaN  NaN  NaN  NaN     10.7174   21.7599  30.2659  0.0\n",
       "      4.0  NaN  NaN  NaN  NaN  NaN  NaN     13.2381   27.0145  40.9827  0.0\n",
       "      5.0  NaN  NaN  NaN  NaN  NaN  NaN     15.3666   26.3775  38.674   0.0\n",
       "      6.0  NaN  NaN  NaN  NaN  NaN  NaN  …  12.9611   23.8654  35.5346  0.0\n",
       "      7.0  NaN  NaN  NaN  NaN  NaN  NaN     23.2907   32.9961  36.8792  0.0\n",
       "      8.0  NaN  NaN  NaN  NaN  NaN  NaN     15.9837   27.804   37.4632  0.0\n",
       "      9.0  NaN  NaN  NaN  NaN  NaN  NaN     13.7765   26.2367  34.1862  0.0\n",
       "     10.0  NaN  NaN  NaN  NaN  NaN  NaN     18.9993   37.061   45.0702  0.0\n",
       "     11.0  NaN  NaN  NaN  NaN  NaN  NaN  …  12.5863   23.9808  36.4935  0.0\n",
       "     12.0  NaN  NaN  NaN  NaN  NaN  NaN     15.5275   25.0965  37.946   0.0\n",
       "     13.0  NaN  NaN  NaN  NaN  NaN  NaN     13.2057   24.9533  35.2836  0.0\n",
       "      ⋮                          ⋮       ⋱             ⋮                   \n",
       "  99989.0  NaN  NaN  NaN  NaN  NaN  NaN     11.6402   25.4026  36.2467  0.0\n",
       "  99990.0  NaN  NaN  NaN  NaN  NaN  NaN      9.53395  25.1021  38.6135  0.0\n",
       "  99991.0  NaN  NaN  NaN  NaN  NaN  NaN  …  15.2638   29.8031  41.6379  0.0\n",
       "  99992.0  NaN  NaN  NaN  NaN  NaN  NaN     10.8134   20.2856  33.1018  0.0\n",
       "  99993.0  NaN  NaN  NaN  NaN  NaN  NaN     10.1797   22.2703  32.5157  0.0\n",
       "  99994.0  NaN  NaN  NaN  NaN  NaN  NaN     19.4852   28.0363  39.3312  0.0\n",
       "  99995.0  NaN  NaN  NaN  NaN  NaN  NaN     19.6451   38.5333  42.6661  0.0\n",
       "  99996.0  NaN  NaN  NaN  NaN  NaN  NaN  …  11.6662   19.1751  28.9437  0.0\n",
       "  99997.0  NaN  NaN  NaN  NaN  NaN  NaN      7.41698  19.4187  31.2095  0.0\n",
       "  99998.0  NaN  NaN  NaN  NaN  NaN  NaN     11.4054   23.2193  36.3618  0.0\n",
       "  99999.0  NaN  NaN  NaN  NaN  NaN  NaN     14.6233   21.806   29.6366  0.0\n",
       " 100000.0  NaN  NaN  NaN  NaN  NaN  NaN     12.2487   26.8553  40.0022  0.0"
      ]
     },
     "execution_count": 498,
     "metadata": {},
     "output_type": "execute_result"
    }
   ],
   "source": [
    "ign"
   ]
  },
  {
   "cell_type": "code",
   "execution_count": 569,
   "metadata": {},
   "outputs": [
    {
     "data": {
      "text/plain": [
       "22530"
      ]
     },
     "execution_count": 569,
     "metadata": {},
     "output_type": "execute_result"
    }
   ],
   "source": [
    "nOriginal()"
   ]
  },
  {
   "cell_type": "code",
   "execution_count": null,
   "metadata": {},
   "outputs": [],
   "source": []
  }
 ],
 "metadata": {
  "kernelspec": {
   "display_name": "Julia 1.2.0",
   "language": "julia",
   "name": "julia-1.2"
  },
  "language_info": {
   "file_extension": ".jl",
   "mimetype": "application/julia",
   "name": "julia",
   "version": "1.2.0"
  }
 },
 "nbformat": 4,
 "nbformat_minor": 4
}
