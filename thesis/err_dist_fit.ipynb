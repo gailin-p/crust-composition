{
 "cells": [
  {
   "cell_type": "code",
   "execution_count": 3,
   "id": "ba6bc709",
   "metadata": {},
   "outputs": [],
   "source": [
    "using DelimitedFiles\n",
    "using Plots; gr();\n",
    "using Statistics\n",
    "using StatsBase\n",
    "using Distributions"
   ]
  },
  {
   "cell_type": "code",
   "execution_count": 4,
   "id": "eda2db2e",
   "metadata": {},
   "outputs": [
    {
     "data": {
      "text/plain": [
       "FullNormal(\n",
       "dim: 3\n",
       "μ: [68.44793126702065, 0.31598110439869675, -0.015034281680500299]\n",
       "Σ: [6525.01008056395 1.7402195917804035 -0.07114150383108897; 1.7402195917804035 0.07776204045537737 0.002195074423162562; -0.07114150383108897 0.002195074423162562 0.0021504243944476136]\n",
       ")\n"
      ]
     },
     "execution_count": 4,
     "metadata": {},
     "output_type": "execute_result"
    }
   ],
   "source": [
    "dat, header = readdlm(\"../data/adjustedPerplexRes.csv\", ',', header=true);\n",
    "header = header[:]\n",
    "\n",
    "# No eclogites plz\n",
    "eclogites = [9,10,11,14,16,19]\n",
    "filter = [! (s in eclogites) for s in dat[:,1]]\n",
    "dat = dat[filter, :]\n",
    "\n",
    "# Interested in non-nan differences between actual and Perplex data\n",
    "ers = fill(NaN, (size(dat)[1],3));\n",
    "ers[:,2] .= dat[:,findfirst(isequal(\"perplex vp\"), header)] .- dat[:,findfirst(isequal(\"dabie vp\"), header)]\n",
    "ers[:,3] .= dat[:,findfirst(isequal(\"perplex vp/vs\"), header)] .- dat[:,findfirst(isequal(\"dabie vp/vs\"), header)]\n",
    "ers[:,1] .= dat[:,findfirst(isequal(\"perplex rho\"), header)] .- (1000 .* dat[:,findfirst(isequal(\"dabie rho\"), header)]);\n",
    "ers = ers[.!(isnan.(sum(ers, dims=2)))[:],:];\n",
    "N_er = fit(MvNormal, ers')\n"
   ]
  },
  {
   "cell_type": "code",
   "execution_count": 38,
   "id": "268352c1",
   "metadata": {},
   "outputs": [],
   "source": [
    "idx = 2\n",
    "dats = ers[:,idx] .- mean(ers[:,idx])\n",
    "stephist(dats,\n",
    "    framestyle=:box, yticks=false, legend=false, normalize=:pdf)\n",
    "vline!([0.0], title=\"vp\")\n",
    "xs = range(minimum(dats), maximum(dats), length=100)\n",
    "plot!(xs, pdf.(fit(Normal, dats), xs))\n",
    "#savefig(\"../../thesis/figures/vp_er_std_perplex_ah.png\")"
   ]
  },
  {
   "cell_type": "code",
   "execution_count": 33,
   "id": "4648f46b",
   "metadata": {},
   "outputs": [
    {
     "data": {
      "image/svg+xml": [
       "<?xml version=\"1.0\" encoding=\"utf-8\"?>\n",
       "<svg xmlns=\"http://www.w3.org/2000/svg\" xmlns:xlink=\"http://www.w3.org/1999/xlink\" width=\"600\" height=\"400\" viewBox=\"0 0 2400 1600\">\n",
       "<defs>\n",
       "  <clipPath id=\"clip880\">\n",
       "    <rect x=\"0\" y=\"0\" width=\"2400\" height=\"1600\"/>\n",
       "  </clipPath>\n",
       "</defs>\n",
       "<path clip-path=\"url(#clip880)\" d=\"\n",
       "M0 1600 L2400 1600 L2400 0 L0 0  Z\n",
       "  \" fill=\"#ffffff\" fill-rule=\"evenodd\" fill-opacity=\"1\"/>\n",
       "<defs>\n",
       "  <clipPath id=\"clip881\">\n",
       "    <rect x=\"480\" y=\"0\" width=\"1681\" height=\"1600\"/>\n",
       "  </clipPath>\n",
       "</defs>\n",
       "<path clip-path=\"url(#clip880)\" d=\"\n",
       "M112.177 1486.45 L2352.76 1486.45 L2352.76 47.2441 L112.177 47.2441  Z\n",
       "  \" fill=\"#ffffff\" fill-rule=\"evenodd\" fill-opacity=\"1\"/>\n",
       "<defs>\n",
       "  <clipPath id=\"clip882\">\n",
       "    <rect x=\"112\" y=\"47\" width=\"2242\" height=\"1440\"/>\n",
       "  </clipPath>\n",
       "</defs>\n",
       "<polyline clip-path=\"url(#clip882)\" style=\"stroke:#000000; stroke-linecap:butt; stroke-linejoin:round; stroke-width:2; stroke-opacity:0.1; fill:none\" points=\"\n",
       "  479.937,1486.45 479.937,47.2441 \n",
       "  \"/>\n",
       "<polyline clip-path=\"url(#clip882)\" style=\"stroke:#000000; stroke-linecap:butt; stroke-linejoin:round; stroke-width:2; stroke-opacity:0.1; fill:none\" points=\"\n",
       "  999.792,1486.45 999.792,47.2441 \n",
       "  \"/>\n",
       "<polyline clip-path=\"url(#clip882)\" style=\"stroke:#000000; stroke-linecap:butt; stroke-linejoin:round; stroke-width:2; stroke-opacity:0.1; fill:none\" points=\"\n",
       "  1519.65,1486.45 1519.65,47.2441 \n",
       "  \"/>\n",
       "<polyline clip-path=\"url(#clip882)\" style=\"stroke:#000000; stroke-linecap:butt; stroke-linejoin:round; stroke-width:2; stroke-opacity:0.1; fill:none\" points=\"\n",
       "  2039.5,1486.45 2039.5,47.2441 \n",
       "  \"/>\n",
       "<polyline clip-path=\"url(#clip880)\" style=\"stroke:#000000; stroke-linecap:butt; stroke-linejoin:round; stroke-width:4; stroke-opacity:1; fill:none\" points=\"\n",
       "  112.177,1486.45 2352.76,1486.45 \n",
       "  \"/>\n",
       "<polyline clip-path=\"url(#clip880)\" style=\"stroke:#000000; stroke-linecap:butt; stroke-linejoin:round; stroke-width:4; stroke-opacity:1; fill:none\" points=\"\n",
       "  479.937,1486.45 479.937,1469.18 \n",
       "  \"/>\n",
       "<polyline clip-path=\"url(#clip880)\" style=\"stroke:#000000; stroke-linecap:butt; stroke-linejoin:round; stroke-width:4; stroke-opacity:1; fill:none\" points=\"\n",
       "  999.792,1486.45 999.792,1469.18 \n",
       "  \"/>\n",
       "<polyline clip-path=\"url(#clip880)\" style=\"stroke:#000000; stroke-linecap:butt; stroke-linejoin:round; stroke-width:4; stroke-opacity:1; fill:none\" points=\"\n",
       "  1519.65,1486.45 1519.65,1469.18 \n",
       "  \"/>\n",
       "<polyline clip-path=\"url(#clip880)\" style=\"stroke:#000000; stroke-linecap:butt; stroke-linejoin:round; stroke-width:4; stroke-opacity:1; fill:none\" points=\"\n",
       "  2039.5,1486.45 2039.5,1469.18 \n",
       "  \"/>\n",
       "<path clip-path=\"url(#clip880)\" d=\"M427.264 1530.29 L456.939 1530.29 L456.939 1534.23 L427.264 1534.23 L427.264 1530.29 Z\" fill=\"#000000\" fill-rule=\"evenodd\" fill-opacity=\"1\" /><path clip-path=\"url(#clip880)\" d=\"M477.032 1515.64 Q473.421 1515.64 471.592 1519.2 Q469.787 1522.75 469.787 1529.87 Q469.787 1536.98 471.592 1540.55 Q473.421 1544.09 477.032 1544.09 Q480.666 1544.09 482.472 1540.55 Q484.3 1536.98 484.3 1529.87 Q484.3 1522.75 482.472 1519.2 Q480.666 1515.64 477.032 1515.64 M477.032 1511.93 Q482.842 1511.93 485.898 1516.54 Q488.976 1521.12 488.976 1529.87 Q488.976 1538.6 485.898 1543.21 Q482.842 1547.79 477.032 1547.79 Q471.222 1547.79 468.143 1543.21 Q465.088 1538.6 465.088 1529.87 Q465.088 1521.12 468.143 1516.54 Q471.222 1511.93 477.032 1511.93 Z\" fill=\"#000000\" fill-rule=\"evenodd\" fill-opacity=\"1\" /><path clip-path=\"url(#clip880)\" d=\"M497.194 1541.24 L502.078 1541.24 L502.078 1547.12 L497.194 1547.12 L497.194 1541.24 Z\" fill=\"#000000\" fill-rule=\"evenodd\" fill-opacity=\"1\" /><path clip-path=\"url(#clip880)\" d=\"M516.291 1543.18 L532.61 1543.18 L532.61 1547.12 L510.666 1547.12 L510.666 1543.18 Q513.328 1540.43 517.911 1535.8 Q522.518 1531.15 523.698 1529.81 Q525.944 1527.28 526.823 1525.55 Q527.726 1523.79 527.726 1522.1 Q527.726 1519.34 525.782 1517.61 Q523.86 1515.87 520.759 1515.87 Q518.56 1515.87 516.106 1516.63 Q513.675 1517.4 510.898 1518.95 L510.898 1514.23 Q513.722 1513.09 516.175 1512.51 Q518.629 1511.93 520.666 1511.93 Q526.036 1511.93 529.231 1514.62 Q532.425 1517.31 532.425 1521.8 Q532.425 1523.93 531.615 1525.85 Q530.828 1527.74 528.721 1530.34 Q528.143 1531.01 525.041 1534.23 Q521.939 1537.42 516.291 1543.18 Z\" fill=\"#000000\" fill-rule=\"evenodd\" fill-opacity=\"1\" /><path clip-path=\"url(#clip880)\" d=\"M946.933 1530.29 L976.609 1530.29 L976.609 1534.23 L946.933 1534.23 L946.933 1530.29 Z\" fill=\"#000000\" fill-rule=\"evenodd\" fill-opacity=\"1\" /><path clip-path=\"url(#clip880)\" d=\"M996.701 1515.64 Q993.09 1515.64 991.262 1519.2 Q989.456 1522.75 989.456 1529.87 Q989.456 1536.98 991.262 1540.55 Q993.09 1544.09 996.701 1544.09 Q1000.34 1544.09 1002.14 1540.55 Q1003.97 1536.98 1003.97 1529.87 Q1003.97 1522.75 1002.14 1519.2 Q1000.34 1515.64 996.701 1515.64 M996.701 1511.93 Q1002.51 1511.93 1005.57 1516.54 Q1008.65 1521.12 1008.65 1529.87 Q1008.65 1538.6 1005.57 1543.21 Q1002.51 1547.79 996.701 1547.79 Q990.891 1547.79 987.812 1543.21 Q984.757 1538.6 984.757 1529.87 Q984.757 1521.12 987.812 1516.54 Q990.891 1511.93 996.701 1511.93 Z\" fill=\"#000000\" fill-rule=\"evenodd\" fill-opacity=\"1\" /><path clip-path=\"url(#clip880)\" d=\"M1016.86 1541.24 L1021.75 1541.24 L1021.75 1547.12 L1016.86 1547.12 L1016.86 1541.24 Z\" fill=\"#000000\" fill-rule=\"evenodd\" fill-opacity=\"1\" /><path clip-path=\"url(#clip880)\" d=\"M1032.74 1543.18 L1040.38 1543.18 L1040.38 1516.82 L1032.07 1518.49 L1032.07 1514.23 L1040.34 1512.56 L1045.01 1512.56 L1045.01 1543.18 L1052.65 1543.18 L1052.65 1547.12 L1032.74 1547.12 L1032.74 1543.18 Z\" fill=\"#000000\" fill-rule=\"evenodd\" fill-opacity=\"1\" /><path clip-path=\"url(#clip880)\" d=\"M1497.03 1515.64 Q1493.42 1515.64 1491.59 1519.2 Q1489.79 1522.75 1489.79 1529.87 Q1489.79 1536.98 1491.59 1540.55 Q1493.42 1544.09 1497.03 1544.09 Q1500.66 1544.09 1502.47 1540.55 Q1504.3 1536.98 1504.3 1529.87 Q1504.3 1522.75 1502.47 1519.2 Q1500.66 1515.64 1497.03 1515.64 M1497.03 1511.93 Q1502.84 1511.93 1505.9 1516.54 Q1508.97 1521.12 1508.97 1529.87 Q1508.97 1538.6 1505.9 1543.21 Q1502.84 1547.79 1497.03 1547.79 Q1491.22 1547.79 1488.14 1543.21 Q1485.09 1538.6 1485.09 1529.87 Q1485.09 1521.12 1488.14 1516.54 Q1491.22 1511.93 1497.03 1511.93 Z\" fill=\"#000000\" fill-rule=\"evenodd\" fill-opacity=\"1\" /><path clip-path=\"url(#clip880)\" d=\"M1517.19 1541.24 L1522.08 1541.24 L1522.08 1547.12 L1517.19 1547.12 L1517.19 1541.24 Z\" fill=\"#000000\" fill-rule=\"evenodd\" fill-opacity=\"1\" /><path clip-path=\"url(#clip880)\" d=\"M1542.26 1515.64 Q1538.65 1515.64 1536.82 1519.2 Q1535.02 1522.75 1535.02 1529.87 Q1535.02 1536.98 1536.82 1540.55 Q1538.65 1544.09 1542.26 1544.09 Q1545.9 1544.09 1547.7 1540.55 Q1549.53 1536.98 1549.53 1529.87 Q1549.53 1522.75 1547.7 1519.2 Q1545.9 1515.64 1542.26 1515.64 M1542.26 1511.93 Q1548.07 1511.93 1551.13 1516.54 Q1554.21 1521.12 1554.21 1529.87 Q1554.21 1538.6 1551.13 1543.21 Q1548.07 1547.79 1542.26 1547.79 Q1536.45 1547.79 1533.37 1543.21 Q1530.32 1538.6 1530.32 1529.87 Q1530.32 1521.12 1533.37 1516.54 Q1536.45 1511.93 1542.26 1511.93 Z\" fill=\"#000000\" fill-rule=\"evenodd\" fill-opacity=\"1\" /><path clip-path=\"url(#clip880)\" d=\"M2017.5 1515.64 Q2013.89 1515.64 2012.06 1519.2 Q2010.25 1522.75 2010.25 1529.87 Q2010.25 1536.98 2012.06 1540.55 Q2013.89 1544.09 2017.5 1544.09 Q2021.13 1544.09 2022.94 1540.55 Q2024.77 1536.98 2024.77 1529.87 Q2024.77 1522.75 2022.94 1519.2 Q2021.13 1515.64 2017.5 1515.64 M2017.5 1511.93 Q2023.31 1511.93 2026.36 1516.54 Q2029.44 1521.12 2029.44 1529.87 Q2029.44 1538.6 2026.36 1543.21 Q2023.31 1547.79 2017.5 1547.79 Q2011.69 1547.79 2008.61 1543.21 Q2005.55 1538.6 2005.55 1529.87 Q2005.55 1521.12 2008.61 1516.54 Q2011.69 1511.93 2017.5 1511.93 Z\" fill=\"#000000\" fill-rule=\"evenodd\" fill-opacity=\"1\" /><path clip-path=\"url(#clip880)\" d=\"M2037.66 1541.24 L2042.54 1541.24 L2042.54 1547.12 L2037.66 1547.12 L2037.66 1541.24 Z\" fill=\"#000000\" fill-rule=\"evenodd\" fill-opacity=\"1\" /><path clip-path=\"url(#clip880)\" d=\"M2053.54 1543.18 L2061.18 1543.18 L2061.18 1516.82 L2052.87 1518.49 L2052.87 1514.23 L2061.13 1512.56 L2065.81 1512.56 L2065.81 1543.18 L2073.45 1543.18 L2073.45 1547.12 L2053.54 1547.12 L2053.54 1543.18 Z\" fill=\"#000000\" fill-rule=\"evenodd\" fill-opacity=\"1\" /><polyline clip-path=\"url(#clip882)\" style=\"stroke:#000000; stroke-linecap:butt; stroke-linejoin:round; stroke-width:2; stroke-opacity:0.1; fill:none\" points=\"\n",
       "  112.177,1445.72 2352.76,1445.72 \n",
       "  \"/>\n",
       "<polyline clip-path=\"url(#clip882)\" style=\"stroke:#000000; stroke-linecap:butt; stroke-linejoin:round; stroke-width:2; stroke-opacity:0.1; fill:none\" points=\"\n",
       "  112.177,1130.07 2352.76,1130.07 \n",
       "  \"/>\n",
       "<polyline clip-path=\"url(#clip882)\" style=\"stroke:#000000; stroke-linecap:butt; stroke-linejoin:round; stroke-width:2; stroke-opacity:0.1; fill:none\" points=\"\n",
       "  112.177,814.42 2352.76,814.42 \n",
       "  \"/>\n",
       "<polyline clip-path=\"url(#clip882)\" style=\"stroke:#000000; stroke-linecap:butt; stroke-linejoin:round; stroke-width:2; stroke-opacity:0.1; fill:none\" points=\"\n",
       "  112.177,498.773 2352.76,498.773 \n",
       "  \"/>\n",
       "<polyline clip-path=\"url(#clip882)\" style=\"stroke:#000000; stroke-linecap:butt; stroke-linejoin:round; stroke-width:2; stroke-opacity:0.1; fill:none\" points=\"\n",
       "  112.177,183.125 2352.76,183.125 \n",
       "  \"/>\n",
       "<polyline clip-path=\"url(#clip880)\" style=\"stroke:#000000; stroke-linecap:butt; stroke-linejoin:round; stroke-width:4; stroke-opacity:1; fill:none\" points=\"\n",
       "  112.177,1486.45 112.177,47.2441 \n",
       "  \"/>\n",
       "<polyline clip-path=\"url(#clip880)\" style=\"stroke:#000000; stroke-linecap:butt; stroke-linejoin:round; stroke-width:4; stroke-opacity:1; fill:none\" points=\"\n",
       "  112.177,1445.72 139.064,1445.72 \n",
       "  \"/>\n",
       "<polyline clip-path=\"url(#clip880)\" style=\"stroke:#000000; stroke-linecap:butt; stroke-linejoin:round; stroke-width:4; stroke-opacity:1; fill:none\" points=\"\n",
       "  112.177,1130.07 139.064,1130.07 \n",
       "  \"/>\n",
       "<polyline clip-path=\"url(#clip880)\" style=\"stroke:#000000; stroke-linecap:butt; stroke-linejoin:round; stroke-width:4; stroke-opacity:1; fill:none\" points=\"\n",
       "  112.177,814.42 139.064,814.42 \n",
       "  \"/>\n",
       "<polyline clip-path=\"url(#clip880)\" style=\"stroke:#000000; stroke-linecap:butt; stroke-linejoin:round; stroke-width:4; stroke-opacity:1; fill:none\" points=\"\n",
       "  112.177,498.773 139.064,498.773 \n",
       "  \"/>\n",
       "<polyline clip-path=\"url(#clip880)\" style=\"stroke:#000000; stroke-linecap:butt; stroke-linejoin:round; stroke-width:4; stroke-opacity:1; fill:none\" points=\"\n",
       "  112.177,183.125 139.064,183.125 \n",
       "  \"/>\n",
       "<path clip-path=\"url(#clip880)\" d=\"M64.2328 1431.51 Q60.6217 1431.51 58.793 1435.08 Q56.9875 1438.62 56.9875 1445.75 Q56.9875 1452.86 58.793 1456.42 Q60.6217 1459.96 64.2328 1459.96 Q67.867 1459.96 69.6726 1456.42 Q71.5013 1452.86 71.5013 1445.75 Q71.5013 1438.62 69.6726 1435.08 Q67.867 1431.51 64.2328 1431.51 M64.2328 1427.81 Q70.0429 1427.81 73.0985 1432.42 Q76.1772 1437 76.1772 1445.75 Q76.1772 1454.48 73.0985 1459.08 Q70.0429 1463.67 64.2328 1463.67 Q58.4226 1463.67 55.344 1459.08 Q52.2884 1454.48 52.2884 1445.75 Q52.2884 1437 55.344 1432.42 Q58.4226 1427.81 64.2328 1427.81 Z\" fill=\"#000000\" fill-rule=\"evenodd\" fill-opacity=\"1\" /><path clip-path=\"url(#clip880)\" d=\"M59.8578 1143.41 L76.1772 1143.41 L76.1772 1147.35 L54.2328 1147.35 L54.2328 1143.41 Q56.8949 1140.66 61.4782 1136.03 Q66.0846 1131.38 67.2652 1130.03 Q69.5105 1127.51 70.3902 1125.77 Q71.2929 1124.01 71.2929 1122.33 Q71.2929 1119.57 69.3485 1117.83 Q67.4272 1116.1 64.3254 1116.1 Q62.1263 1116.1 59.6726 1116.86 Q57.2421 1117.63 54.4643 1119.18 L54.4643 1114.45 Q57.2884 1113.32 59.7421 1112.74 Q62.1958 1112.16 64.2328 1112.16 Q69.6031 1112.16 72.7976 1114.85 Q75.992 1117.53 75.992 1122.02 Q75.992 1124.15 75.1818 1126.08 Q74.3948 1127.97 72.2883 1130.57 Q71.7096 1131.24 68.6078 1134.45 Q65.5059 1137.65 59.8578 1143.41 Z\" fill=\"#000000\" fill-rule=\"evenodd\" fill-opacity=\"1\" /><path clip-path=\"url(#clip880)\" d=\"M66.5939 801.214 L54.7884 819.663 L66.5939 819.663 L66.5939 801.214 M65.367 797.14 L71.2466 797.14 L71.2466 819.663 L76.1772 819.663 L76.1772 823.552 L71.2466 823.552 L71.2466 831.7 L66.5939 831.7 L66.5939 823.552 L50.9921 823.552 L50.9921 819.038 L65.367 797.14 Z\" fill=\"#000000\" fill-rule=\"evenodd\" fill-opacity=\"1\" /><path clip-path=\"url(#clip880)\" d=\"M64.6495 496.909 Q61.5013 496.909 59.6495 499.062 Q57.8208 501.215 57.8208 504.965 Q57.8208 508.692 59.6495 510.867 Q61.5013 513.02 64.6495 513.02 Q67.7976 513.02 69.6263 510.867 Q71.4781 508.692 71.4781 504.965 Q71.4781 501.215 69.6263 499.062 Q67.7976 496.909 64.6495 496.909 M73.9318 482.257 L73.9318 486.516 Q72.1726 485.682 70.367 485.243 Q68.5846 484.803 66.8254 484.803 Q62.1958 484.803 59.7421 487.928 Q57.3115 491.053 56.9643 497.372 Q58.33 495.358 60.3902 494.293 Q62.4504 493.206 64.9272 493.206 Q70.1355 493.206 73.1448 496.377 Q76.1772 499.525 76.1772 504.965 Q76.1772 510.289 73.029 513.506 Q69.8809 516.724 64.6495 516.724 Q58.6541 516.724 55.4828 512.141 Q52.3116 507.534 52.3116 498.807 Q52.3116 490.613 56.2004 485.752 Q60.0893 480.868 66.6402 480.868 Q68.3994 480.868 70.1818 481.215 Q71.9874 481.562 73.9318 482.257 Z\" fill=\"#000000\" fill-rule=\"evenodd\" fill-opacity=\"1\" /><path clip-path=\"url(#clip880)\" d=\"M64.3254 183.993 Q60.9921 183.993 59.0708 185.775 Q57.1726 187.558 57.1726 190.683 Q57.1726 193.808 59.0708 195.59 Q60.9921 197.372 64.3254 197.372 Q67.6587 197.372 69.58 195.59 Q71.5013 193.785 71.5013 190.683 Q71.5013 187.558 69.58 185.775 Q67.6819 183.993 64.3254 183.993 M59.6495 182.002 Q56.6402 181.261 54.9504 179.201 Q53.2838 177.141 53.2838 174.178 Q53.2838 170.035 56.2236 167.627 Q59.1865 165.22 64.3254 165.22 Q69.4874 165.22 72.4272 167.627 Q75.367 170.035 75.367 174.178 Q75.367 177.141 73.6772 179.201 Q72.0105 181.261 69.0244 182.002 Q72.404 182.789 74.279 185.081 Q76.1772 187.373 76.1772 190.683 Q76.1772 195.706 73.0985 198.391 Q70.0429 201.076 64.3254 201.076 Q58.6078 201.076 55.5291 198.391 Q52.4736 195.706 52.4736 190.683 Q52.4736 187.373 54.3717 185.081 Q56.2699 182.789 59.6495 182.002 M57.9365 174.618 Q57.9365 177.303 59.6032 178.808 Q61.293 180.312 64.3254 180.312 Q67.3346 180.312 69.0244 178.808 Q70.7374 177.303 70.7374 174.618 Q70.7374 171.933 69.0244 170.428 Q67.3346 168.924 64.3254 168.924 Q61.293 168.924 59.6032 170.428 Q57.9365 171.933 57.9365 174.618 Z\" fill=\"#000000\" fill-rule=\"evenodd\" fill-opacity=\"1\" /><polyline clip-path=\"url(#clip882)\" style=\"stroke:#009af9; stroke-linecap:butt; stroke-linejoin:round; stroke-width:4; stroke-opacity:1; fill:none\" points=\"\n",
       "  175.59,1445.72 196.941,1445.72 218.292,1445.72 239.643,1445.71 260.994,1445.71 282.345,1445.71 303.696,1445.71 325.047,1445.71 346.398,1445.71 367.749,1445.7 \n",
       "  389.1,1445.69 410.451,1445.68 431.802,1445.66 453.153,1445.64 474.504,1445.6 495.855,1445.55 517.207,1445.48 538.558,1445.37 559.909,1445.22 581.26,1445.02 \n",
       "  602.611,1444.74 623.962,1444.35 645.313,1443.83 666.664,1443.12 688.015,1442.18 709.366,1440.93 730.717,1439.3 752.068,1437.18 773.419,1434.44 794.77,1430.94 \n",
       "  816.121,1426.51 837.472,1420.94 858.823,1414.01 880.174,1405.46 901.525,1394.99 922.876,1382.31 944.227,1367.08 965.578,1348.94 986.93,1327.56 1008.28,1302.58 \n",
       "  1029.63,1273.68 1050.98,1240.55 1072.33,1202.95 1093.68,1160.71 1115.04,1113.73 1136.39,1062.03 1157.74,1005.75 1179.09,945.148 1200.44,880.652 1221.79,812.829 \n",
       "  1243.14,742.405 1264.49,670.251 1285.84,597.375 1307.2,524.902 1328.55,454.048 1349.9,386.086 1371.25,322.313 1392.6,264.008 1413.95,212.39 1435.3,168.574 \n",
       "  1456.65,133.536 1478,108.07 1499.35,92.7645 1520.71,87.9763 1542.06,93.8174 1563.41,110.151 1584.76,136.597 1606.11,172.545 1627.46,217.181 1648.81,269.515 \n",
       "  1670.16,328.419 1691.51,392.665 1712.87,460.972 1734.22,532.043 1755.57,604.609 1776.92,677.462 1798.27,749.487 1819.62,819.69 1840.97,887.212 1862.32,951.345 \n",
       "  1883.67,1011.53 1905.02,1067.37 1926.38,1118.61 1947.73,1165.11 1969.08,1206.89 1990.43,1244.03 2011.78,1276.73 2033.13,1305.23 2054.48,1329.84 2075.83,1350.88 \n",
       "  2097.18,1368.71 2118.53,1383.68 2139.89,1396.13 2161.24,1406.39 2182.59,1414.77 2203.94,1421.55 2225.29,1427 2246.64,1431.33 2267.99,1434.74 2289.34,1437.41 \n",
       "  \n",
       "  \"/>\n",
       "<path clip-path=\"url(#clip880)\" d=\"\n",
       "M1976.69 198.898 L2278.07 198.898 L2278.07 95.2176 L1976.69 95.2176  Z\n",
       "  \" fill=\"#ffffff\" fill-rule=\"evenodd\" fill-opacity=\"1\"/>\n",
       "<polyline clip-path=\"url(#clip880)\" style=\"stroke:#000000; stroke-linecap:butt; stroke-linejoin:round; stroke-width:4; stroke-opacity:1; fill:none\" points=\"\n",
       "  1976.69,198.898 2278.07,198.898 2278.07,95.2176 1976.69,95.2176 1976.69,198.898 \n",
       "  \"/>\n",
       "<polyline clip-path=\"url(#clip880)\" style=\"stroke:#009af9; stroke-linecap:butt; stroke-linejoin:round; stroke-width:4; stroke-opacity:1; fill:none\" points=\"\n",
       "  2001.58,147.058 2150.95,147.058 \n",
       "  \"/>\n",
       "<path clip-path=\"url(#clip880)\" d=\"M2189.69 166.745 Q2187.89 171.375 2186.17 172.787 Q2184.46 174.199 2181.59 174.199 L2178.19 174.199 L2178.19 170.634 L2180.69 170.634 Q2182.45 170.634 2183.42 169.8 Q2184.39 168.967 2185.57 165.865 L2186.34 163.921 L2175.85 138.412 L2180.36 138.412 L2188.46 158.689 L2196.57 138.412 L2201.08 138.412 L2189.69 166.745 Z\" fill=\"#000000\" fill-rule=\"evenodd\" fill-opacity=\"1\" /><path clip-path=\"url(#clip880)\" d=\"M2208.37 160.402 L2216.01 160.402 L2216.01 134.037 L2207.7 135.703 L2207.7 131.444 L2215.96 129.778 L2220.64 129.778 L2220.64 160.402 L2228.28 160.402 L2228.28 164.338 L2208.37 164.338 L2208.37 160.402 Z\" fill=\"#000000\" fill-rule=\"evenodd\" fill-opacity=\"1\" /></svg>\n"
      ]
     },
     "execution_count": 33,
     "metadata": {},
     "output_type": "execute_result"
    }
   ],
   "source": [
    "xs = range(minimum(dats), maximum(dats), length=100)\n",
    "plot(xs, pdf.(fit(Normal, dats), xs))"
   ]
  },
  {
   "cell_type": "code",
   "execution_count": null,
   "id": "63778156",
   "metadata": {},
   "outputs": [],
   "source": []
  }
 ],
 "metadata": {
  "kernelspec": {
   "display_name": "Julia 1.6.1",
   "language": "julia",
   "name": "julia-1.6"
  },
  "language_info": {
   "file_extension": ".jl",
   "mimetype": "application/julia",
   "name": "julia",
   "version": "1.6.1"
  }
 },
 "nbformat": 4,
 "nbformat_minor": 5
}
