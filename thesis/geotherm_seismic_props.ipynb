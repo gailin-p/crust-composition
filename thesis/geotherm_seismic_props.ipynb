{
 "cells": [
  {
   "cell_type": "code",
   "execution_count": 31,
   "metadata": {},
   "outputs": [],
   "source": [
    "using Plots; gr();\n",
    "using HDF5\n",
    "using DelimitedFiles\n",
    "using StatsBase"
   ]
  },
  {
   "cell_type": "code",
   "execution_count": 17,
   "metadata": {},
   "outputs": [
    {
     "name": "stdout",
     "output_type": "stream",
     "text": [
      "Loading crust information from file ../resources/crustDistribution.jld\n"
     ]
    },
    {
     "data": {
      "text/plain": [
       "Main.crustDistribution"
      ]
     },
     "execution_count": 17,
     "metadata": {},
     "output_type": "execute_result"
    }
   ],
   "source": [
    "include(\"../src/crustDistribution.jl\")"
   ]
  },
  {
   "cell_type": "code",
   "execution_count": 7,
   "metadata": {},
   "outputs": [],
   "source": [
    "b1_seismic = h5read(\"../data/remote/base/perplex_out_1.h5\", \"results\")\n",
    "b2_seismic = h5read(\"../data/remote/base/perplex_out_2.h5\",\"results\")\n",
    "b10_seismic = h5read(\"../data/remote/base/perplex_out_10.h5\",\"results\")\n",
    "physical, h = readdlm(\"../data/remote/base/bsr_ignmajors_1.csv\", ',', header=true);"
   ]
  },
  {
   "cell_type": "code",
   "execution_count": 20,
   "metadata": {},
   "outputs": [
    {
     "name": "stdout",
     "output_type": "stream",
     "text": [
      "[22.0, 30.7, 39.4, 48.1, 56.8, 65.5, 74.2, 82.9, 91.6, 100.3, 109.0]"
     ]
    }
   ],
   "source": [
    "binbounds = crustDistribution.binBoundaries(10)\n",
    "print(collect(binbounds))"
   ]
  },
  {
   "cell_type": "code",
   "execution_count": 36,
   "metadata": {},
   "outputs": [],
   "source": [
    "s = b1_seismic\n",
    "n = 10000\n",
    "\n",
    "\n",
    "samp = sample(1:size(physical,1),n)\n",
    "p1 = plot(s[3, 1, samp], s[4, l, samp], marker_z=physical[samp,2],\n",
    "    ylims=(1.25,2.0), xlims=(4.75,8.5),\n",
    "    seriestype=:scatter, markersize=3, markerstrokewidth=0, alpha=.4,\n",
    "    legend=false, ylabel=\"Vp/Vs\", xlabel=\"Vp\")\n",
    "p2 = plot(s[3, 2, samp], s[4, l, samp], marker_z=physical[samp,2],\n",
    "    ylims=(1.25,2.0), xlims=(4.75,8.5),\n",
    "    seriestype=:scatter, markersize=3, markerstrokewidth=0, alpha=.4,\n",
    "    legend=false, ylabel=\"Vp/Vs\", xlabel=\"Vp\")\n",
    "p3 = plot(s[3, 3, samp], s[4, l, samp], marker_z=physical[samp,2],\n",
    "    ylims=(1.25,2.0), xlims=(4.75,8.5),\n",
    "    seriestype=:scatter, markersize=3, markerstrokewidth=0, alpha=.4,\n",
    "    legend=false, ylabel=\"Vp/Vs\", xlabel=\"Vp\")\n",
    "plot(p1, p2, p3, layout=(3,1), size=(300,600))\n",
    "\n",
    "savefig(\"../../present/mcdonough/b1prop.png\")"
   ]
  },
  {
   "cell_type": "code",
   "execution_count": 38,
   "metadata": {},
   "outputs": [],
   "source": [
    "stephist(physical[:,2], normalize=:pdf, yaxis=false, yticks=false, xlabel=\"% SiO2\", legend=false)\n",
    "savefig(\"../../present/mcdonough/si_prior.png\")"
   ]
  },
  {
   "cell_type": "code",
   "execution_count": null,
   "metadata": {},
   "outputs": [],
   "source": []
  },
  {
   "cell_type": "code",
   "execution_count": null,
   "metadata": {},
   "outputs": [],
   "source": []
  }
 ],
 "metadata": {
  "kernelspec": {
   "display_name": "Julia 1.5.4",
   "language": "julia",
   "name": "julia-1.5"
  },
  "language_info": {
   "file_extension": ".jl",
   "mimetype": "application/julia",
   "name": "julia",
   "version": "1.5.4"
  }
 },
 "nbformat": 4,
 "nbformat_minor": 4
}
