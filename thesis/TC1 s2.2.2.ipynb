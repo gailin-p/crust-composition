{
 "cells": [
  {
   "cell_type": "code",
   "execution_count": 1,
   "metadata": {},
   "outputs": [
    {
     "name": "stdout",
     "output_type": "stream",
     "text": [
      "Loading crust information from file ../data/crustDistribution.jld\n"
     ]
    }
   ],
   "source": [
    "include(\"../src/utilities.jl\")\n",
    "include(\"../src/crustDistribution.jl\")\n",
    "using StatGeochem\n",
    "using Plots; gr();"
   ]
  },
  {
   "cell_type": "code",
   "execution_count": 4,
   "metadata": {},
   "outputs": [],
   "source": [
    "lats = crustDistribution.all_lats\n",
    "longs = crustDistribution.all_longs;"
   ]
  },
  {
   "cell_type": "code",
   "execution_count": 5,
   "metadata": {},
   "outputs": [],
   "source": [
    "geotherms = crustDistribution.depth[:,1];"
   ]
  },
  {
   "cell_type": "code",
   "execution_count": 7,
   "metadata": {},
   "outputs": [],
   "source": [
    "g = globe(lats, longs, geotherms); # first layer vp"
   ]
  },
  {
   "cell_type": "code",
   "execution_count": 17,
   "metadata": {},
   "outputs": [],
   "source": [
    "heatmap(g, colorbar_title=\"Depth to 550\", size=(500,300),xticks=linspace(0,360,9), framestyle=:box, color=cgrad(:thermal, rev = true))\n",
    "savefig(\"tc1.pdf\")"
   ]
  },
  {
   "cell_type": "code",
   "execution_count": null,
   "metadata": {},
   "outputs": [],
   "source": []
  }
 ],
 "metadata": {
  "kernelspec": {
   "display_name": "Julia 1.5.4",
   "language": "julia",
   "name": "julia-1.5"
  },
  "language_info": {
   "file_extension": ".jl",
   "mimetype": "application/julia",
   "name": "julia",
   "version": "1.5.4"
  }
 },
 "nbformat": 4,
 "nbformat_minor": 4
}
