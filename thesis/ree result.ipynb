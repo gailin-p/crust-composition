{
 "cells": [
  {
   "cell_type": "code",
   "execution_count": 96,
   "id": "f9df5a57",
   "metadata": {},
   "outputs": [],
   "source": [
    "using DelimitedFiles\n",
    "using Statistics\n",
    "using StatsBase\n",
    "using StatGeochem # for nanmean\n",
    "using MAT\n",
    "using Plots; gr();"
   ]
  },
  {
   "cell_type": "code",
   "execution_count": 2,
   "id": "3124ffc6",
   "metadata": {},
   "outputs": [
    {
     "data": {
      "text/plain": [
       "\"../data/base/base_large/\""
      ]
     },
     "execution_count": 2,
     "metadata": {},
     "output_type": "execute_result"
    }
   ],
   "source": [
    "res_path = \"../data/base/base_large/\""
   ]
  },
  {
   "cell_type": "code",
   "execution_count": 133,
   "id": "a9c4d506",
   "metadata": {},
   "outputs": [
    {
     "data": {
      "text/plain": [
       "([2889.29 6.433199999999999 … 0.0 4.0; 2919.0 6.577 … 0.0 3.0; … ; 2788.81 6.2842 … 0.0 2.0; 2910.44 6.44965 … 0.0 2.0], AbstractString[\"sample_rho\" \"sample_vp\" … \"exhumed\" \"bin\"])"
      ]
     },
     "execution_count": 133,
     "metadata": {},
     "output_type": "execute_result"
    }
   ],
   "source": [
    "dat, h = readdlm(\"$res_path/results-middle.csv\", ',', header=true)"
   ]
  },
  {
   "cell_type": "code",
   "execution_count": 134,
   "id": "3f67a386",
   "metadata": {},
   "outputs": [
    {
     "data": {
      "text/plain": [
       "58"
      ]
     },
     "execution_count": 134,
     "metadata": {},
     "output_type": "execute_result"
    }
   ],
   "source": [
    "ree_start = findfirst(isequal(\"MnO\"), h[:])\n",
    "ree_end = findfirst(isequal(\"Lu\"), h[:])"
   ]
  },
  {
   "cell_type": "code",
   "execution_count": 135,
   "id": "8db25f48",
   "metadata": {},
   "outputs": [
    {
     "data": {
      "text/plain": [
       "5000"
      ]
     },
     "execution_count": 135,
     "metadata": {},
     "output_type": "execute_result"
    }
   ],
   "source": [
    "build_args = readdlm(\"$res_path/inversion_options.csv\", ',', header=false)\n",
    "N = build_args[findfirst(isequal(\"num_invert\"), build_args[:,1]),2]\n",
    "M = build_args[findfirst(isequal(\"num_runs\"), build_args[:,1]),2]\n",
    "\n",
    "## We'll actually use 252 for N because that's what we've decided is right \n"
   ]
  },
  {
   "cell_type": "code",
   "execution_count": 136,
   "id": "36b09331",
   "metadata": {},
   "outputs": [],
   "source": [
    "runs_means = zeros(floor(Int, M*N/252), ree_end - ree_start + 1)\n",
    "\n",
    "for i in 1:size(runs_means, 1)\n",
    "    start_run = (i-1)*252 + 1\n",
    "    end_run = i*252\n",
    "    runs_means[i,:] .= nanmean(dat[start_run:end_run, ree_start:ree_end], dims=1)[:]\n",
    "end"
   ]
  },
  {
   "cell_type": "code",
   "execution_count": 137,
   "id": "5dd2f5f0",
   "metadata": {},
   "outputs": [
    {
     "name": "stdout",
     "output_type": "stream",
     "text": [
      "2975000\n",
      "& Fraction defined & 0.052 & 0.041 & 0.85 & 0.836 & 0.947 & 0.925 & 0.913 & 0.928 & 0.33 & 0.359 & 0.188 & 0.398 & 0.218 \\\\\n",
      "& Fraction defined & 0.489 & 0.463 & 0.641 & 0.889 & 0.99 & 0.181 & 0.066 & 0.12 & 0.102 & 0.231 & 0.905 & 0.983 & 0.14 \\\\\n",
      "& Fraction defined & 0.168 & 0.696 & 0.25 & 0.295 & 0.296 & 0.5 & 0.397 & 0.637 & 0.678 & 0.656 & 0.661 & 0.215 & 0.369 \\\\\n"
     ]
    }
   ],
   "source": [
    "println(size(dat,1))\n",
    "percent_good = sum(isnan.(dat[:, ree_start:ree_end]), dims=1)./size(dat,1)\n",
    "println(\"& Fraction defined & \", join(round.(percent_good, digits=3)[1:13], \" & \"), \" \\\\\\\\\")\n",
    "println(\"& Fraction defined & \", join(round.(percent_good, digits=3)[14:26], \" & \"), \" \\\\\\\\\")\n",
    "println(\"& Fraction defined & \", join(round.(percent_good, digits=3)[27:end], \" & \"), \" \\\\\\\\\")"
   ]
  },
  {
   "cell_type": "code",
   "execution_count": 138,
   "id": "758da5ee",
   "metadata": {},
   "outputs": [
    {
     "name": "stdout",
     "output_type": "stream",
     "text": [
      "MnO: 0.0566699662280191\n",
      "P2O5: 0.06588447653429604\n",
      "Li: 0.8149237219052056\n",
      "Be: 0.7824327471759637\n",
      "B: 0.9395161290322581\n",
      "F: 0.9099219750786072\n",
      "S: 0.9106207057179457\n",
      "Cl: 0.9180738325375568\n",
      "Sc: 0.2675992779783393\n",
      "V: 0.3394666356119716\n",
      "Cr: 0.1713345755211366\n",
      "Co: 0.3358856410853616\n",
      "Ni: 0.2282520088505881\n",
      "Cu: 0.42169849772912543\n",
      "Zn: 0.3875189239548154\n",
      "Ga: 0.5743420286479562\n",
      "As: 0.8723797601024805\n",
      "Se: 0.9888785373238617\n",
      "Rb: 0.2071881914521952\n",
      "Sr: 0.04455863514615116\n",
      "Y: 0.08288692209153371\n",
      "Zr: 0.09301851636194247\n",
      "Nb: 0.20116163968790032\n",
      "Mo: 0.8872860137417026\n",
      "Pd: 0.975748224059625\n",
      "La: 0.07982997554442763\n",
      "Ce: 0.12558227553278212\n",
      "Pr: 0.6916851053918714\n",
      "Nd: 0.20784325142657506\n",
      "Sm: 0.27802201001513915\n",
      "Eu: 0.26352334924886456\n",
      "Gd: 0.4985879818330034\n",
      "Tb: 0.37366076627460115\n",
      "Dy: 0.6254512635379061\n",
      "Ho: 0.6812914871317107\n",
      "Er: 0.6539682077559101\n",
      "Tm: 0.6472283684639571\n",
      "Yb: 0.13385058809828812\n",
      "Lu: 0.34427040875742404\n"
     ]
    }
   ],
   "source": [
    "# Compare to raw data\n",
    "raw_dat = matread(\"../resources/igncn1.mat\")\n",
    "for name in h[ree_start:ree_end]\n",
    "    println(name, \": \", sum(isnan.(raw_dat[name]))/length(raw_dat[name]))\n",
    "end"
   ]
  },
  {
   "cell_type": "code",
   "execution_count": 139,
   "id": "36b3adeb",
   "metadata": {},
   "outputs": [
    {
     "name": "stdout",
     "output_type": "stream",
     "text": [
      "\n",
      "upper\n",
      " & Rudnick and Gao & 0.1 & 0.15 & 24 & 2.1 & 17 & 557 & 621 & 370 & 14.0 & 97 & 92 & 17.3 & 47 \\\\\n",
      " & Rudnick and Gao & 28 & 67 & 17.5 & 4.8 & 0.09 & 84 & 320 & 21 & 193 & 12 & 1.1 & 0.52 & 31 \\\\\n",
      " & Rudnick and Gao & 63 & 7.1 & 27 & 4.7 & 1.0 & 4.0 & 0.7 & 3.9 & 0.83 & 2.3 & 0.3 & 2.0 & 0.31 \\\\\n",
      "\n",
      "middle\n",
      " & Rudnick and Gao & 0.1 & 0.15 & 12 & 2.3 & 17 & 524 & 249 & 182 & 19 & 107 & 76 & 22 & 33.5 \\\\\n",
      " & Rudnick and Gao & 26 & 69.5 & 17.5 & 3.1 & 0.064 & 65 & 282 & 20 & 149 & 10 & 0.6 & 0.76 & 24 \\\\\n",
      " & Rudnick and Gao & 53 & 5.8 & 25 & 4.6 & 1.4 & 4.0 & 0.7 & 3.8 & 0.82 & 2.3 & 0.32 & 2.2 & 0.4 \\\\\n",
      "\n",
      "lower\n",
      " & Rudnick and Gao & 0.1 & 0.1 & 13 & 1.4 & 2 & 570 & 345 & 250 & 31 & 196 & 215 & 38 & 88 \\\\\n",
      " & Rudnick and Gao & 26 & 78 & 13 & 0.2 & 0.2 & 11 & 348 & 16 & 68 & 5 & 0.6 & 2.8 & 8 \\\\\n",
      " & Rudnick and Gao & 20 & 2.4 & 11 & 2.8 & 1.1 & 3.1 & 0.48 & 3.1 & 0.68 & 1.9 & 0.24 & 1.5 & 0.25 \\\\\n"
     ]
    }
   ],
   "source": [
    "# Compare to rudnick and gao \n",
    "ree_h = h[ree_start:ree_end]\n",
    "rg , hr = readdlm(\"../resources/rudnick_gao_2014_res.csv\", ',', header=true)\n",
    "for (l, layer) in enumerate([\"upper\", \"middle\", \"lower\"])\n",
    "    println()\n",
    "    println(layer)\n",
    "    print(\" & Rudnick and Gao\")\n",
    "    for elt in ree_h[1:13]\n",
    "        idx = findfirst(isequal(elt), rg[:,1])\n",
    "        print(\" & \", rg[idx, l+1])\n",
    "    end\n",
    "    print(\" \\\\\\\\\")\n",
    "    println()\n",
    "    print(\" & Rudnick and Gao\")\n",
    "    for elt in ree_h[14:26]\n",
    "        idx = findfirst(isequal(elt), rg[:,1])\n",
    "        print(\" & \", rg[idx, l+1])\n",
    "    end\n",
    "    print(\" \\\\\\\\\")\n",
    "    println()\n",
    "    print(\" & Rudnick and Gao\")\n",
    "    for elt in ree_h[27:end]\n",
    "        idx = findfirst(isequal(elt), rg[:,1])\n",
    "        print(\" & \", rg[idx, l+1])\n",
    "    end\n",
    "    print(\" \\\\\\\\\")\n",
    "    println()\n",
    "end"
   ]
  },
  {
   "cell_type": "markdown",
   "id": "243edb51",
   "metadata": {},
   "source": [
    "# Latex table formatting "
   ]
  },
  {
   "cell_type": "code",
   "execution_count": 140,
   "id": "e2f45f85",
   "metadata": {},
   "outputs": [
    {
     "name": "stdout",
     "output_type": "stream",
     "text": [
      " & MnO & P2O5 & Li & Be & B & F & S & Cl & Sc & V & Cr & Co & Ni \\\\\n",
      "\\hline\n",
      "Lower & Median & 0.131 & 0.25 & 23.509 & 3.057 & 18.512 & 14.39 & 155.97 & 32.781 & 19.84 & 158.981 & 153.63 & 27.83 & 68.552 \\\\\n",
      "& 5th percentile & 0.122 & 0.228 & 18.011 & 2.299 & 10.197 & 0.073 & 18.676 & 6.829 & 18.163 & 144.76 & 121.926 & 24.923 & 56.448 & \\\\\n",
      "& 95th percentile & 0.16 & 0.277 & 36.932 & 4.425 & 347.728 & 277.405 & 1334.648 & 110.108 & 21.802 & 175.076 & 192.406 & 31.03 & 88.638 & \\\\"
     ]
    }
   ],
   "source": [
    "println(\" & \", join(h[ree_start:ree_end][1:13], \" & \"), \" \\\\\\\\\")\n",
    "println(\"\\\\hline\")\n",
    "\n",
    "# Mean of means\n",
    "println(\"Lower & Median & \", join(round.(median(runs_means, dims = 1), digits=3)[1:13], \" & \"), \" \\\\\\\\\")\n",
    "\n",
    "# 5th percentile \n",
    "print(\"& 5th percentile & \")\n",
    "for j in 1:13\n",
    "    ok = .! isnan.(runs_means[:,j])\n",
    "    print(round(percentile(runs_means[ok,j], 5), digits=3), \" & \")\n",
    "end\n",
    "print(\"\\\\\\\\\")\n",
    "\n",
    "println()\n",
    "\n",
    "# 95th percentile \n",
    "print(\"& 95th percentile & \")\n",
    "for j in 1:13\n",
    "    ok = .! isnan.(runs_means[:,j])\n",
    "    print(round(percentile(runs_means[ok,j], 95), digits=3), \" & \")\n",
    "end\n",
    "print(\"\\\\\\\\\")"
   ]
  },
  {
   "cell_type": "code",
   "execution_count": 141,
   "id": "e5f705d6",
   "metadata": {},
   "outputs": [
    {
     "name": "stdout",
     "output_type": "stream",
     "text": [
      " & Cu & Zn & Ga & As & Se & Rb & Sr & Y & Zr & Nb & Mo & Pd & La \\\\\n",
      "\\hline\n",
      "Lower & Median & 60.361 & 88.039 & 20.484 & 8.727 & 0.247 & 71.411 & 480.497 & 26.186 & 189.042 & 18.212 & 6.308 & 4.924 & 36.598 \\\\\n",
      "& 5th percentile & 45.377 & 79.337 & 19.134 & 4.658 & 0.0 & 62.276 & 431.623 & 23.875 & 170.06 & 14.765 & 2.565 & 0.008 & 32.241 & \\\\\n",
      "& 95th percentile & 105.254 & 107.173 & 22.208 & 284.234 & 2.355 & 81.347 & 543.332 & 31.205 & 211.526 & 24.392 & 41.416 & 192.809 & 41.943 & \\\\"
     ]
    }
   ],
   "source": [
    "println(\" & \", join(h[ree_start:ree_end][14:26], \" & \"), \" \\\\\\\\\")\n",
    "println(\"\\\\hline\")\n",
    "\n",
    "# Mean of means\n",
    "println(\"Lower & Median & \", join(round.(nanmedian(runs_means, dims = 1), digits=3)[14:26], \" & \"), \" \\\\\\\\\")\n",
    "\n",
    "# 5th percentile \n",
    "print(\"& 5th percentile & \")\n",
    "for j in 14:26\n",
    "    ok = .! isnan.(runs_means[:,j])\n",
    "    print(round(percentile(runs_means[ok,j], 5), digits=3), \" & \")\n",
    "end\n",
    "print(\"\\\\\\\\\")\n",
    "\n",
    "println()\n",
    "\n",
    "# 95th percentile \n",
    "print(\"& 95th percentile & \")\n",
    "for j in 14:26\n",
    "    ok = .! isnan.(runs_means[:,j])\n",
    "    print(round(percentile(runs_means[ok,j], 95), digits=3), \" & \")\n",
    "end\n",
    "print(\"\\\\\\\\\")"
   ]
  },
  {
   "cell_type": "code",
   "execution_count": 142,
   "id": "cd536222",
   "metadata": {},
   "outputs": [
    {
     "name": "stdout",
     "output_type": "stream",
     "text": [
      " & Ce & Pr & Nd & Sm & Eu & Gd & Tb & Dy & Ho & Er & Tm & Yb & Lu \\\\\n",
      "\\hline\n",
      "Lower & Median & 70.787 & 7.597 & 32.156 & 5.932 & 1.547 & 5.274 & 0.808 & 4.56 & 0.938 & 2.521 & 0.38 & 2.502 & 0.361 \\\\\n",
      "& 5th percentile & 62.426 & 6.113 & 28.496 & 5.358 & 1.42 & 4.738 & 0.727 & 4.05 & 0.82 & 2.231 & 0.336 & 2.262 & 0.324 & \\\\\n",
      "& 95th percentile & 80.782 & 9.991 & 36.768 & 6.752 & 1.704 & 6.126 & 1.012 & 5.423 & 1.268 & 2.994 & 0.446 & 3.012 & 0.456 & \\\\"
     ]
    }
   ],
   "source": [
    "println(\" & \", join(h[ree_start:ree_end][(27):size(runs_means,2)], \" & \"), \" \\\\\\\\\")\n",
    "println(\"\\\\hline\")\n",
    "\n",
    "# Mean of means\n",
    "println(\"Lower & Median & \", join(round.(nanmedian(runs_means, dims = 1), digits=3)[(27):size(runs_means,2)], \" & \"), \" \\\\\\\\\")\n",
    "\n",
    "# 5th percentile \n",
    "print(\"& 5th percentile & \")\n",
    "for j in (27):size(runs_means,2)#size(runs_means,2)\n",
    "    ok = .! isnan.(runs_means[:,j])\n",
    "    print(round(percentile(runs_means[ok,j], 5), digits=3), \" & \")\n",
    "end\n",
    "print(\"\\\\\\\\\")\n",
    "\n",
    "println()\n",
    "\n",
    "# 95th percentile \n",
    "print(\"& 95th percentile & \")\n",
    "for j in (27):size(runs_means,2) #size(runs_means,2)\n",
    "    ok = .! isnan.(runs_means[:,j])\n",
    "    print(round(percentile(runs_means[ok,j], 95), digits=3), \" & \")\n",
    "end\n",
    "print(\"\\\\\\\\\")\n",
    "\n",
    "#println(join(round.(percentile.(runs_means, 95), digits=2), \" & \"))"
   ]
  },
  {
   "cell_type": "code",
   "execution_count": 29,
   "id": "033673cc",
   "metadata": {},
   "outputs": [
    {
     "data": {
      "text/plain": [
       "13.0"
      ]
     },
     "execution_count": 29,
     "metadata": {},
     "output_type": "execute_result"
    }
   ],
   "source": []
  },
  {
   "cell_type": "code",
   "execution_count": 148,
   "id": "b7c4bd2e",
   "metadata": {},
   "outputs": [
    {
     "name": "stdout",
     "output_type": "stream",
     "text": [
      "MnO & P2O5 & Li & Be & B & F & S & Cl & Sc & V & Cr & Co & Ni & Cu & Zn & Ga & As & Se & Rb & Sr & Y & Zr & Nb & Mo & Pd & La & Ce & Pr & Nd & Sm & Eu & Gd & Tb & Dy & Ho & Er & Tm & Yb & Lu\n"
     ]
    }
   ],
   "source": [
    "println(join(h[ree_start:ree_end], \" & \"))"
   ]
  },
  {
   "cell_type": "code",
   "execution_count": null,
   "id": "5ed48208",
   "metadata": {},
   "outputs": [],
   "source": [
    "wt \\% & wt \\% & PPM & PPM & PPM & PPM & PPM & PPM & PPM & PPM & PPM & PPM & PPM \n",
    "PPM & PPM & PPM & PPM & PPM & PPM & PPM & PPM & PPM & PPM & PPM & PPB & PPM \n",
    "PPM & PPM & PPM & PPM & PPM & PPM & PPM & PPM & PPM & PPM & PPM & PPM & PPM\n"
   ]
  }
 ],
 "metadata": {
  "kernelspec": {
   "display_name": "Julia 1.6.1",
   "language": "julia",
   "name": "julia-1.6"
  },
  "language_info": {
   "file_extension": ".jl",
   "mimetype": "application/julia",
   "name": "julia",
   "version": "1.6.1"
  }
 },
 "nbformat": 4,
 "nbformat_minor": 5
}
