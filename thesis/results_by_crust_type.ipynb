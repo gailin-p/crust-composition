{
 "cells": [
  {
   "cell_type": "code",
   "execution_count": 1,
   "id": "34dddebf",
   "metadata": {},
   "outputs": [],
   "source": [
    "using Plots; gr();\n",
    "using DelimitedFiles\n",
    "using Statistics\n",
    "using StatsBase\n",
    "using StatGeochem # for nanmean "
   ]
  },
  {
   "cell_type": "code",
   "execution_count": 2,
   "id": "b10c2a0d",
   "metadata": {},
   "outputs": [
    {
     "data": {
      "text/plain": [
       "\"../data/base_single/base_large/\""
      ]
     },
     "execution_count": 2,
     "metadata": {},
     "output_type": "execute_result"
    }
   ],
   "source": [
    "res_path = \"../data/base_single/base_large/\""
   ]
  },
  {
   "cell_type": "code",
   "execution_count": 3,
   "id": "a6e13393",
   "metadata": {},
   "outputs": [],
   "source": [
    "###### Parse crust types into dict from key to name \n",
    "\n",
    "crust_types = Dict{String, String}()\n",
    "f = open(\"../resources/CNtype1_key.txt\", \"r\")\n",
    "for (i, l) in enumerate(readlines(f))\n",
    "    if ((i-1) % 5 == 0) & (i != 1)\n",
    "        spl = findfirst(\" \", l)\n",
    "        crust_types[l[1:spl[1]-1]] = l[spl[1]+1:end]\n",
    "    end\n",
    "end"
   ]
  },
  {
   "cell_type": "code",
   "execution_count": 4,
   "id": "2fd35221",
   "metadata": {},
   "outputs": [
    {
     "name": "stdout",
     "output_type": "stream",
     "text": [
      "(\"L1\", \" 12: continental arc\"),\n",
      "(\"C-\", \" 29: continental shelf\"),\n",
      "(\"Y3\", \" 36: Caspian Sea oceanic\"),\n",
      "(\"B-\", \" 28: melt affected o.c. and oceanic plateaus\"),\n",
      "(\"Q-\", \" 18: orogen, thick upper crust, fast middle crust\"),\n",
      "(\"D-\", \" 01: Platform \"),\n",
      "(\"V1\", \" 31: inactive ridge, Alpha Ridge\"),\n",
      "(\"L2\", \" 13: slow continental arc\"),\n",
      "(\"I2\", \" 09: slow late Proter.  \"),\n",
      "(\"T-\", \" 21: Margin-continent/shield  transition\"),\n",
      "(\"V2\", \" 32: thinned cont. crust, Red Sea\"),\n",
      "(\"X-\", \" 23: Rift\"),\n",
      "(\"Z2\", \" 25: fast Phanerozoic (E. Australia, S. Africa, N. Siberia)\"),\n",
      "(\"G2\", \" 05: late Archean \"),\n",
      "(\"E-\", \" 02: slow thin Platform \"),\n",
      "(\"J-\", \" 10: island arc\"),\n",
      "(\"W-\", \" 33: oceanic plateau with cont. crust\"),\n",
      "(\"I1\", \" 08: late Proter.\"),\n",
      "(\"G1\", \" 04: early Archean \"),\n",
      "(\"Y2\", \" 35: intermed. cont./oc. crust, Black Sea\"),\n",
      "(\"R1\", \" 19: orogen with slow lower crust (Andes)\"),\n",
      "(\"U-\", \" 22: slow Margin/Shield (Antarctica)\"),\n",
      "(\"K-\", \" 11: forearc\"),\n",
      "(\"Y1\", \" 34: Caspian depression\"),\n",
      "(\"M-\", \" 14: extended crust\"),\n",
      "(\"N-\", \" 15: fast extended crust (Antarctica)\"),\n",
      "(\"H1\", \" 06: early/mid  Proter., \"),\n",
      "(\"F-\", \" 03: Archean (Antarctica)\"),\n",
      "(\"O-\", \" 16: Orogen (Antarctica), thick upper crust, thin lower crust\"),\n",
      "(\"A1\", \" 26: normal oceanic\"),\n",
      "(\"A0\", \" 27: oceans 3 Myrs and younger\"),\n",
      "(\"P-\", \" 17: orogen, thick upper crust, very thin lower crust\"),\n",
      "(\"R2\", \" 20: slow orogen (Himalaya)\"),\n",
      "(\"Z1\", \" 24: Phanerozoic\"),\n",
      "(\"S-\", \" 30: continental slope, margin, transition \"),\n",
      "(\"H2\", \" 07: early/mid  Proter. (Antarctica, slow)\"),\n"
     ]
    }
   ],
   "source": [
    "for k in keys(crust_types)\n",
    "    println(\"(\\\"$k\\\", \\\"$(crust_types[k])\\\"),\")\n",
    "end"
   ]
  },
  {
   "cell_type": "code",
   "execution_count": 5,
   "id": "069d7932",
   "metadata": {},
   "outputs": [
    {
     "data": {
      "text/plain": [
       "Dict{String, String} with 36 entries:\n",
       "  \"L1\" => \"Arc\"\n",
       "  \"C-\" => \"Continental Margin\"\n",
       "  \"Y3\" => \"Extended\"\n",
       "  \"B-\" => \"Continental Margin\"\n",
       "  \"Q-\" => \"Orogenic\"\n",
       "  \"D-\" => \"Platform\"\n",
       "  \"V1\" => \"Orogenic\"\n",
       "  \"L2\" => \"Arc\"\n",
       "  \"I2\" => \"Proterozoic\"\n",
       "  \"T-\" => \"Continental Margin\"\n",
       "  \"V2\" => \"Extended\"\n",
       "  \"X-\" => \"Rifted\"\n",
       "  \"Z2\" => \"Phanerozoic\"\n",
       "  \"G2\" => \"Archean\"\n",
       "  \"E-\" => \"Platform\"\n",
       "  \"J-\" => \"Arc\"\n",
       "  \"W-\" => \"Continental Margin\"\n",
       "  \"I1\" => \"Proterozoic\"\n",
       "  \"G1\" => \"Archean\"\n",
       "  \"Y2\" => \"Continental Margin\"\n",
       "  \"R1\" => \"Andean\"\n",
       "  \"U-\" => \"Continental Margin\"\n",
       "  \"K-\" => \"Arc\"\n",
       "  \"Y1\" => \"Extended\"\n",
       "  \"M-\" => \"Extended\"\n",
       "  ⋮    => ⋮"
      ]
     },
     "execution_count": 5,
     "metadata": {},
     "output_type": "execute_result"
    }
   ],
   "source": [
    "cmap = Dict([(\"L1\", \"Arc\"),\n",
    "(\"C-\", \"Continental Margin\"),\n",
    "(\"Y3\", \"Extended\"),\n",
    "(\"B-\", \"Continental Margin\"),\n",
    "(\"Q-\", \"Orogenic\"),\n",
    "(\"D-\", \"Platform\"),\n",
    "(\"V1\", \"Orogenic\"),\n",
    "(\"L2\", \"Arc\"),\n",
    "(\"I2\", \"Proterozoic\"),\n",
    "(\"T-\", \"Continental Margin\"),\n",
    "(\"V2\", \"Extended\"),\n",
    "(\"X-\", \"Rifted\"),\n",
    "(\"Z2\", \"Phanerozoic\"),\n",
    "(\"G2\", \"Archean\"),\n",
    "(\"E-\", \"Platform\"),\n",
    "(\"J-\", \"Arc\"),\n",
    "(\"W-\", \"Continental Margin\"),\n",
    "(\"I1\", \"Proterozoic\"),\n",
    "(\"G1\", \"Archean\"),\n",
    "(\"Y2\", \"Continental Margin\"),\n",
    "(\"R1\", \"Andean\"),\n",
    "(\"U-\", \"Continental Margin\"),\n",
    "(\"K-\", \"Arc\"),\n",
    "(\"Y1\", \"Extended\"),\n",
    "(\"M-\", \"Extended\"),\n",
    "(\"N-\", \"Extended\"),\n",
    "(\"H1\", \"Proterozoic\"),\n",
    "(\"F-\", \"Archean\"),\n",
    "(\"O-\", \"Orogenic\"),\n",
    "(\"A1\", \"Continental Margin\"),\n",
    "(\"A0\", \"Continental Margin\"),\n",
    "(\"P-\", \"Orogenic\"),\n",
    "(\"R2\", \"Himalayan\"),\n",
    "(\"Z1\", \"Phanerozoic\"),\n",
    "(\"S-\", \"Continental Margin\"),\n",
    "(\"H2\", \"Proterozoic\")])"
   ]
  },
  {
   "cell_type": "code",
   "execution_count": 6,
   "id": "444d51ff",
   "metadata": {},
   "outputs": [
    {
     "data": {
      "text/plain": [
       "(180, 360)"
      ]
     },
     "execution_count": 6,
     "metadata": {},
     "output_type": "execute_result"
    }
   ],
   "source": [
    "####### Read crust types into array \n",
    "\n",
    "crust_array = readdlm(\"../resources/CNtype1-1.txt\"); \n",
    "size(crust_array)"
   ]
  },
  {
   "cell_type": "code",
   "execution_count": 12,
   "id": "0075019d",
   "metadata": {},
   "outputs": [
    {
     "data": {
      "text/plain": [
       "get_means (generic function with 2 methods)"
      ]
     },
     "execution_count": 12,
     "metadata": {},
     "output_type": "execute_result"
    }
   ],
   "source": [
    "function get_means(file, unique_cats=[])\n",
    "    dat, h = readdlm(file, ',', header=true)\n",
    "    lat_i = findfirst(isequal(\"sample_lat\"), h[:])\n",
    "    long_i = findfirst(isequal(\"sample_long\"), h[:])\n",
    "\n",
    "    # Find cats \n",
    "    cats = fill(\"\", size(dat,1));\n",
    "    for i in 1:size(dat,1)\n",
    "        lat = dat[i,lat_i]\n",
    "        lon = dat[i, long_i]\n",
    "\n",
    "        # Index conversion from Brenhin's StatGeochem code for Crust1.0\n",
    "        # Avoid edge cases at lat = -90.0, lon = 180.0\n",
    "        ilon = mod(lon + 180, 360) - 180\n",
    "        ilat = max(lat, -90+1e-9)\n",
    "\n",
    "        # Convert lat and lon to index\n",
    "        ilat = 91 - ceil(Int,ilat)\n",
    "        ilon = 181 + floor(Int,ilon)\n",
    "\n",
    "        cats[i] = crust_array[ilat, ilon]\n",
    "    end\n",
    "    cats = [cmap[c] for c in cats];\n",
    "    \n",
    "    # If unique cats was passed in, use it to preserve order between layers, else find unique_cats\n",
    "    if length(unique_cats) == 0\n",
    "        unique_cats = unique(cats)\n",
    "    end\n",
    "    num_cats = [sum(cats .== c) for c in unique_cats]\n",
    "\n",
    "    #bar(1:length(num_cats), num_cats, xticks=(1:length(num_cats), unique_cats), xrotation=45, legend=false)\n",
    "    \n",
    "    means = zeros((length(unique_cats), 10))\n",
    "    stds = zeros((length(unique_cats), 10))\n",
    "\n",
    "    si_i = findfirst(isequal(\"SiO2\"), h[:])\n",
    "    h2_i = findfirst(isequal(\"CO2\"), h[:])\n",
    "\n",
    "    for (i, cat) in enumerate(unique_cats)\n",
    "        means[i,:] .= nanmean(dat[cats .== cat, si_i:h2_i], dims=1)[:]\n",
    "        stds[i,:] .= nanstd(dat[cats .== cat, si_i:h2_i], dims=1)[:]\n",
    "    end \n",
    "    \n",
    "    return cats, unique_cats, means, stds, num_cats\n",
    "end"
   ]
  },
  {
   "cell_type": "code",
   "execution_count": 13,
   "id": "535f2d12",
   "metadata": {},
   "outputs": [
    {
     "data": {
      "text/plain": [
       "([\"Proterozoic\", \"Archean\", \"Orogenic\", \"Proterozoic\", \"Proterozoic\", \"Proterozoic\", \"Archean\", \"Platform\", \"Proterozoic\", \"Arc\"  …  \"Himalayan\", \"Orogenic\", \"Proterozoic\", \"Orogenic\", \"Extended\", \"Proterozoic\", \"Proterozoic\", \"Orogenic\", \"Extended\", \"Archean\"], [\"Proterozoic\", \"Archean\", \"Platform\", \"Andean\", \"Himalayan\", \"Orogenic\", \"Rifted\", \"Arc\", \"Phanerozoic\", \"Extended\", \"Continental Margin\"], [52.81395181060844 1.1143627786122683 … 1.1721188419033366 0.6708341494960725; 54.14220167024233 1.0819172648038693 … 1.2006697418246683 0.6930750523928495; … ; 53.279819350477084 1.0304432545935152 … 1.0466832671961919 0.712940843151576; 52.5540844610754 1.0817681071337817 … 0.9713467503335023 0.663795057410114], [4.609967795783709 0.7516078544406651 … 1.0896977582738858 0.8883909275784233; 5.317383784762147 0.7160177663199202 … 1.1120560222158982 0.9141005200519616; … ; 5.236710803422518 0.7390142764046828 … 1.2331035435015842 0.9178180379692933; 4.742877940697604 0.7756357152120392 … 1.0867256758533033 0.8854063993403595], [954205, 376325, 165646, 22387, 108988, 270004, 32867, 121561, 187229, 154729, 126059])"
      ]
     },
     "execution_count": 13,
     "metadata": {},
     "output_type": "execute_result"
    }
   ],
   "source": [
    "m_cats, unique_cats, m_means, m_stds, num_cats = get_means(\"$res_path/results-middle.csv\")\n",
    "u_cats, _, u_means, u_stds, _ = get_means(\"$res_path/results-upper.csv\", unique_cats)\n",
    "l_cats, _, l_means, l_stds, _ = get_means(\"$res_path/results-lower.csv\", unique_cats)\n",
    "#dat, h = readdlm(\"$res_path/results-upper.csv\", ',', header=true)"
   ]
  },
  {
   "cell_type": "code",
   "execution_count": 16,
   "id": "78c3ed82",
   "metadata": {},
   "outputs": [
    {
     "name": "stdout",
     "output_type": "stream",
     "text": [
      "Proterozoic & 0.38 & Upper & Mean & 59.18 & 0.92 & 17.37 & 6.67 & 2.91 & 5.51 & 4.14 & 3.19 & 0.06 & 0.06  \\\\\n",
      "& &  & Std & 5.7 & 0.6 & 3.0 & 2.95 & 2.08 & 3.11 & 1.45 & 2.29 & 0.24 & 0.15 \\\\\n",
      " &  & Middle && 56.96 & 1.03 & 16.05 & 7.57 & 4.84 & 6.97 & 3.52 & 1.89 & 0.75 & 0.42  \\\\\n",
      "& &  & & 6.9 & 0.7 & 2.68 & 3.17 & 3.41 & 3.39 & 1.32 & 1.9 & 0.87 & 0.71 \\\\\n",
      " &  & Lower && 52.81 & 1.11 & 15.41 & 8.7 & 7.46 & 8.63 & 3.0 & 1.02 & 1.17 & 0.67  \\\\\n",
      "& &  & & 4.61 & 0.75 & 3.7 & 3.02 & 5.08 & 2.81 & 1.31 & 1.33 & 1.09 & 0.89 \\\\\n",
      "\\hline\n",
      "Archean & 0.15 & Upper & Mean & 57.93 & 1.04 & 17.05 & 7.42 & 3.61 & 6.21 & 3.91 & 2.7 & 0.07 & 0.06  \\\\\n",
      "& &  & Std & 5.79 & 0.65 & 2.76 & 3.03 & 2.34 & 3.08 & 1.35 & 2.11 & 0.26 & 0.16 \\\\\n",
      " &  & Middle && 56.81 & 1.04 & 15.95 & 7.72 & 4.9 & 7.01 & 3.48 & 1.87 & 0.82 & 0.41  \\\\\n",
      "& &  & & 7.06 & 0.72 & 2.66 & 3.25 & 3.42 & 3.41 & 1.31 & 1.9 & 0.89 & 0.69 \\\\\n",
      " &  & Lower && 54.14 & 1.08 & 15.67 & 8.12 & 6.59 & 7.98 & 3.26 & 1.27 & 1.2 & 0.69  \\\\\n",
      "& &  & & 5.32 & 0.72 & 3.38 & 3.09 & 4.54 & 2.94 & 1.33 & 1.51 & 1.11 & 0.91 \\\\\n",
      "\\hline\n",
      "Platform & 0.07 & Upper & Mean & 59.74 & 0.89 & 17.31 & 6.46 & 2.74 & 5.27 & 4.18 & 3.3 & 0.06 & 0.06  \\\\\n",
      "& &  & Std & 5.86 & 0.62 & 3.0 & 2.97 & 2.05 & 3.1 & 1.47 & 2.3 & 0.23 & 0.15 \\\\\n",
      " &  & Middle && 58.56 & 0.94 & 16.27 & 6.84 & 4.13 & 6.28 & 3.7 & 2.26 & 0.67 & 0.35  \\\\\n",
      "& &  & & 7.39 & 0.68 & 2.77 & 3.27 & 3.24 & 3.5 & 1.37 & 2.08 & 0.84 & 0.65 \\\\\n",
      " &  & Lower && 53.0 & 1.08 & 15.55 & 8.43 & 7.52 & 8.59 & 3.05 & 1.03 & 1.07 & 0.68  \\\\\n",
      "& &  & & 4.64 & 0.74 & 3.85 & 3.06 & 5.23 & 2.87 & 1.35 & 1.35 & 1.09 & 0.91 \\\\\n",
      "\\hline\n",
      "Andean & 0.01 & Upper & Mean & 61.3 & 0.77 & 17.33 & 5.65 & 2.2 & 4.56 & 4.33 & 3.74 & 0.06 & 0.06  \\\\\n",
      "& &  & Std & 6.03 & 0.49 & 3.07 & 2.97 & 1.86 & 3.09 & 1.56 & 2.39 & 0.23 & 0.15 \\\\\n",
      " &  & Middle && 59.8 & 0.88 & 16.13 & 6.35 & 3.72 & 5.87 & 3.74 & 2.42 & 0.7 & 0.39  \\\\\n",
      "& &  & & 7.92 & 0.65 & 2.77 & 3.3 & 3.16 & 3.59 & 1.36 & 2.1 & 0.88 & 0.68 \\\\\n",
      " &  & Lower && 57.6 & 0.95 & 15.97 & 6.69 & 5.03 & 6.55 & 3.66 & 1.82 & 1.04 & 0.68  \\\\\n",
      "& &  & & 6.76 & 0.63 & 3.02 & 3.18 & 4.16 & 3.17 & 1.34 & 1.79 & 1.14 & 0.91 \\\\\n",
      "\\hline\n",
      "Himalayan & 0.04 & Upper & Mean & 63.96 & 0.6 & 17.22 & 4.3 & 1.4 & 3.38 & 4.59 & 4.45 & 0.05 & 0.05  \\\\\n",
      "& &  & Std & 5.84 & 0.41 & 3.05 & 2.63 & 1.3 & 2.68 & 1.68 & 2.41 & 0.2 & 0.14 \\\\\n",
      " &  & Middle && 64.44 & 0.62 & 16.3 & 4.3 & 2.01 & 3.91 & 4.08 & 3.61 & 0.47 & 0.26  \\\\\n",
      "& &  & & 7.69 & 0.51 & 2.95 & 2.93 & 2.28 & 3.24 & 1.48 & 2.33 & 0.75 & 0.53 \\\\\n",
      " &  & Lower && 60.45 & 0.83 & 15.98 & 5.65 & 3.88 & 5.29 & 3.94 & 2.5 & 0.79 & 0.67  \\\\\n",
      "& &  & & 7.56 & 0.62 & 2.7 & 3.26 & 3.79 & 3.22 & 1.4 & 2.13 & 1.02 & 0.89 \\\\\n",
      "\\hline\n",
      "Orogenic & 0.11 & Upper & Mean & 59.2 & 0.92 & 17.3 & 6.63 & 2.98 & 5.52 & 4.14 & 3.18 & 0.06 & 0.06  \\\\\n",
      "& &  & Std & 5.87 & 0.65 & 3.01 & 3.05 & 2.22 & 3.18 & 1.48 & 2.31 & 0.24 & 0.16 \\\\\n",
      " &  & Middle && 58.21 & 0.96 & 16.13 & 7.02 & 4.33 & 6.41 & 3.63 & 2.22 & 0.72 & 0.36  \\\\\n",
      "& &  & & 7.56 & 0.71 & 2.8 & 3.36 & 3.44 & 3.55 & 1.37 & 2.09 & 0.87 & 0.65 \\\\\n",
      " &  & Lower && 53.46 & 1.06 & 15.74 & 8.1 & 7.27 & 8.39 & 3.14 & 1.14 & 1.01 & 0.68  \\\\\n",
      "& &  & & 4.93 & 0.73 & 3.96 & 3.13 & 5.33 & 3.01 & 1.4 & 1.48 & 1.1 & 0.91 \\\\\n",
      "\\hline\n",
      "Rifted & 0.01 & Upper & Mean & 61.45 & 0.75 & 17.38 & 5.61 & 2.04 & 4.41 & 4.41 & 3.85 & 0.06 & 0.05  \\\\\n",
      "& &  & Std & 5.89 & 0.53 & 3.15 & 2.89 & 1.72 & 3.04 & 1.59 & 2.39 & 0.21 & 0.15 \\\\\n",
      " &  & Middle && 57.84 & 0.99 & 16.34 & 7.16 & 4.37 & 6.59 & 3.67 & 2.12 & 0.61 & 0.31  \\\\\n",
      "& &  & & 6.93 & 0.68 & 2.77 & 3.19 & 3.2 & 3.44 & 1.36 & 2.0 & 0.8 & 0.62 \\\\\n",
      " &  & Lower && 52.8 & 1.08 & 15.46 & 8.48 & 7.82 & 8.68 & 3.0 & 1.01 & 0.97 & 0.68  \\\\\n",
      "& &  & & 4.42 & 0.75 & 3.96 & 2.97 & 5.53 & 2.82 & 1.36 & 1.32 & 1.09 & 0.9 \\\\\n",
      "\\hline\n",
      "Arc & 0.05 & Upper & Mean & 62.39 & 0.68 & 17.29 & 5.13 & 1.8 & 4.02 & 4.44 & 4.07 & 0.09 & 0.08  \\\\\n",
      "& &  & Std & 6.35 & 0.5 & 3.19 & 2.94 & 1.69 & 3.04 & 1.64 & 2.46 & 0.26 & 0.19 \\\\\n",
      " &  & Middle && 60.67 & 0.81 & 16.44 & 5.84 & 3.24 & 5.28 & 3.91 & 2.93 & 0.58 & 0.3  \\\\\n",
      "& &  & & 7.78 & 0.62 & 2.87 & 3.32 & 3.04 & 3.56 & 1.48 & 2.38 & 0.81 & 0.59 \\\\\n",
      " &  & Lower && 54.37 & 1.04 & 15.84 & 7.79 & 6.71 & 7.94 & 3.3 & 1.32 & 0.99 & 0.7  \\\\\n",
      "& &  & & 5.54 & 0.72 & 3.74 & 3.2 & 5.07 & 3.14 & 1.43 & 1.64 & 1.1 & 0.92 \\\\\n",
      "\\hline\n",
      "Phanerozoic & 0.07 & Upper & Mean & 60.51 & 0.83 & 17.3 & 6.08 & 2.47 & 4.93 & 4.23 & 3.49 & 0.09 & 0.08  \\\\\n",
      "& &  & Std & 6.29 & 0.61 & 3.13 & 3.04 & 2.01 & 3.18 & 1.52 & 2.38 & 0.28 & 0.2 \\\\\n",
      " &  & Middle && 59.24 & 0.9 & 16.37 & 6.47 & 3.85 & 5.97 & 3.78 & 2.46 & 0.65 & 0.31  \\\\\n",
      "& &  & & 7.59 & 0.67 & 2.83 & 3.31 & 3.2 & 3.56 & 1.41 & 2.19 & 0.85 & 0.6 \\\\\n",
      " &  & Lower && 53.47 & 1.06 & 15.75 & 8.1 & 7.26 & 8.27 & 3.18 & 1.19 & 1.03 & 0.7  \\\\\n",
      "& &  & & 4.96 & 0.74 & 4.02 & 3.16 & 5.32 & 3.02 & 1.43 & 1.55 & 1.13 & 0.91 \\\\\n",
      "\\hline\n",
      "Extended & 0.06 & Upper & Mean & 57.99 & 1.03 & 16.99 & 7.32 & 3.62 & 6.13 & 3.94 & 2.84 & 0.08 & 0.07  \\\\\n",
      "& &  & Std & 6.23 & 0.75 & 2.89 & 3.32 & 2.64 & 3.3 & 1.46 & 2.28 & 0.28 & 0.18 \\\\\n",
      " &  & Middle && 57.1 & 1.02 & 15.88 & 7.58 & 4.93 & 6.9 & 3.46 & 1.98 & 0.79 & 0.35  \\\\\n",
      "& &  & & 7.62 & 0.75 & 2.84 & 3.53 & 3.8 & 3.6 & 1.39 & 2.02 & 0.9 & 0.62 \\\\\n",
      " &  & Lower && 53.28 & 1.03 & 15.67 & 8.19 & 7.53 & 7.57 & 3.29 & 1.67 & 1.05 & 0.71  \\\\\n",
      "& &  & & 5.24 & 0.74 & 4.47 & 3.41 & 6.2 & 3.34 & 1.67 & 2.26 & 1.23 & 0.92 \\\\\n",
      "\\hline\n",
      "Continental Margin & 0.05 & Upper & Mean & 60.46 & 0.85 & 17.18 & 6.11 & 2.63 & 5.02 & 4.2 & 3.41 & 0.08 & 0.07  \\\\\n",
      "& &  & Std & 6.46 & 0.63 & 2.99 & 3.17 & 2.17 & 3.22 & 1.52 & 2.38 & 0.27 & 0.19 \\\\\n",
      " &  & Middle && 57.16 & 1.01 & 16.05 & 7.36 & 4.93 & 7.0 & 3.5 & 1.93 & 0.71 & 0.35  \\\\\n",
      "& &  & & 7.41 & 0.73 & 2.91 & 3.46 & 3.72 & 3.59 & 1.39 & 1.98 & 0.89 & 0.63 \\\\\n",
      " &  & Lower && 52.55 & 1.08 & 15.39 & 8.57 & 8.08 & 8.79 & 2.91 & 1.0 & 0.97 & 0.66  \\\\\n",
      "& &  & & 4.74 & 0.78 & 4.25 & 3.23 & 6.1 & 3.0 & 1.41 & 1.39 & 1.09 & 0.89 \\\\\n",
      "\\hline\n"
     ]
    }
   ],
   "source": [
    "sum_to_one = 0.0\n",
    "for i in 1:length(unique_cats)\n",
    "    sum_to_one += num_cats[i]/length(m_cats)\n",
    "    ms = join(round.(u_means[i,:], digits=2), \" & \")\n",
    "    println(\"$(unique_cats[i]) & $(round(num_cats[i]/length(m_cats), digits=2)) & Upper & Mean & $ms \", \" \\\\\\\\\")\n",
    "    \n",
    "    er = join(round.(u_stds[i,:], digits=2), \" & \")\n",
    "    println(\"& &  & Std & $er\", \" \\\\\\\\\")\n",
    "    \n",
    "    ms = join(round.(m_means[i,:], digits=2), \" & \")\n",
    "    println(\" &  & Middle && $ms \", \" \\\\\\\\\")\n",
    "    \n",
    "    er = join(round.(m_stds[i,:], digits=2), \" & \")\n",
    "    println(\"& &  & & $er\", \" \\\\\\\\\")\n",
    "    \n",
    "    ms = join(round.(l_means[i,:], digits=2), \" & \")\n",
    "    println(\" &  & Lower && $ms \", \" \\\\\\\\\")\n",
    "    \n",
    "    er = join(round.(l_stds[i,:], digits=2), \" & \")\n",
    "    println(\"& &  & & $er\", \" \\\\\\\\\")\n",
    "    \n",
    "    println(\"\\\\hline\")\n",
    "    \n",
    "end"
   ]
  },
  {
   "cell_type": "code",
   "execution_count": 10,
   "id": "393775b8",
   "metadata": {},
   "outputs": [
    {
     "name": "stdout",
     "output_type": "stream",
     "text": [
      "0.0\n"
     ]
    }
   ],
   "source": [
    "println(sum_to_one)"
   ]
  },
  {
   "cell_type": "code",
   "execution_count": 37,
   "id": "1ecc92cd",
   "metadata": {},
   "outputs": [
    {
     "name": "stdout",
     "output_type": "stream",
     "text": [
      "0.30920936551941797\n"
     ]
    }
   ],
   "source": [
    "r = rand(10)\n",
    "println(std(r))\n",
    "\n",
    "all = zeros(4)\n",
    "for i in 0:3\n",
    "    all[i+1]=std(repeat(r, 10^i))\n",
    "end"
   ]
  },
  {
   "cell_type": "code",
   "execution_count": 38,
   "id": "ecfbf86d",
   "metadata": {},
   "outputs": [
    {
     "data": {
      "image/svg+xml": [
       "<?xml version=\"1.0\" encoding=\"utf-8\"?>\n",
       "<svg xmlns=\"http://www.w3.org/2000/svg\" xmlns:xlink=\"http://www.w3.org/1999/xlink\" width=\"600\" height=\"400\" viewBox=\"0 0 2400 1600\">\n",
       "<defs>\n",
       "  <clipPath id=\"clip440\">\n",
       "    <rect x=\"0\" y=\"0\" width=\"2400\" height=\"1600\"/>\n",
       "  </clipPath>\n",
       "</defs>\n",
       "<path clip-path=\"url(#clip440)\" d=\"\n",
       "M0 1600 L2400 1600 L2400 0 L0 0  Z\n",
       "  \" fill=\"#ffffff\" fill-rule=\"evenodd\" fill-opacity=\"1\"/>\n",
       "<defs>\n",
       "  <clipPath id=\"clip441\">\n",
       "    <rect x=\"480\" y=\"0\" width=\"1681\" height=\"1600\"/>\n",
       "  </clipPath>\n",
       "</defs>\n",
       "<path clip-path=\"url(#clip440)\" d=\"\n",
       "M246.598 1486.45 L2352.76 1486.45 L2352.76 47.2441 L246.598 47.2441  Z\n",
       "  \" fill=\"#ffffff\" fill-rule=\"evenodd\" fill-opacity=\"1\"/>\n",
       "<defs>\n",
       "  <clipPath id=\"clip442\">\n",
       "    <rect x=\"246\" y=\"47\" width=\"2107\" height=\"1440\"/>\n",
       "  </clipPath>\n",
       "</defs>\n",
       "<polyline clip-path=\"url(#clip442)\" style=\"stroke:#000000; stroke-linecap:butt; stroke-linejoin:round; stroke-width:2; stroke-opacity:0.1; fill:none\" points=\"\n",
       "  306.206,1486.45 306.206,47.2441 \n",
       "  \"/>\n",
       "<polyline clip-path=\"url(#clip442)\" style=\"stroke:#000000; stroke-linecap:butt; stroke-linejoin:round; stroke-width:2; stroke-opacity:0.1; fill:none\" points=\"\n",
       "  968.52,1486.45 968.52,47.2441 \n",
       "  \"/>\n",
       "<polyline clip-path=\"url(#clip442)\" style=\"stroke:#000000; stroke-linecap:butt; stroke-linejoin:round; stroke-width:2; stroke-opacity:0.1; fill:none\" points=\"\n",
       "  1630.83,1486.45 1630.83,47.2441 \n",
       "  \"/>\n",
       "<polyline clip-path=\"url(#clip442)\" style=\"stroke:#000000; stroke-linecap:butt; stroke-linejoin:round; stroke-width:2; stroke-opacity:0.1; fill:none\" points=\"\n",
       "  2293.15,1486.45 2293.15,47.2441 \n",
       "  \"/>\n",
       "<polyline clip-path=\"url(#clip440)\" style=\"stroke:#000000; stroke-linecap:butt; stroke-linejoin:round; stroke-width:4; stroke-opacity:1; fill:none\" points=\"\n",
       "  246.598,1486.45 2352.76,1486.45 \n",
       "  \"/>\n",
       "<polyline clip-path=\"url(#clip440)\" style=\"stroke:#000000; stroke-linecap:butt; stroke-linejoin:round; stroke-width:4; stroke-opacity:1; fill:none\" points=\"\n",
       "  306.206,1486.45 306.206,1469.18 \n",
       "  \"/>\n",
       "<polyline clip-path=\"url(#clip440)\" style=\"stroke:#000000; stroke-linecap:butt; stroke-linejoin:round; stroke-width:4; stroke-opacity:1; fill:none\" points=\"\n",
       "  968.52,1486.45 968.52,1469.18 \n",
       "  \"/>\n",
       "<polyline clip-path=\"url(#clip440)\" style=\"stroke:#000000; stroke-linecap:butt; stroke-linejoin:round; stroke-width:4; stroke-opacity:1; fill:none\" points=\"\n",
       "  1630.83,1486.45 1630.83,1469.18 \n",
       "  \"/>\n",
       "<polyline clip-path=\"url(#clip440)\" style=\"stroke:#000000; stroke-linecap:butt; stroke-linejoin:round; stroke-width:4; stroke-opacity:1; fill:none\" points=\"\n",
       "  2293.15,1486.45 2293.15,1469.18 \n",
       "  \"/>\n",
       "<path clip-path=\"url(#clip440)\" d=\"M296.588 1543.18 L304.227 1543.18 L304.227 1516.82 L295.917 1518.49 L295.917 1514.23 L304.181 1512.56 L308.856 1512.56 L308.856 1543.18 L316.495 1543.18 L316.495 1547.12 L296.588 1547.12 L296.588 1543.18 Z\" fill=\"#000000\" fill-rule=\"evenodd\" fill-opacity=\"1\" /><path clip-path=\"url(#clip440)\" d=\"M963.173 1543.18 L979.492 1543.18 L979.492 1547.12 L957.548 1547.12 L957.548 1543.18 Q960.21 1540.43 964.793 1535.8 Q969.4 1531.15 970.58 1529.81 Q972.825 1527.28 973.705 1525.55 Q974.608 1523.79 974.608 1522.1 Q974.608 1519.34 972.663 1517.61 Q970.742 1515.87 967.64 1515.87 Q965.441 1515.87 962.988 1516.63 Q960.557 1517.4 957.779 1518.95 L957.779 1514.23 Q960.603 1513.09 963.057 1512.51 Q965.511 1511.93 967.548 1511.93 Q972.918 1511.93 976.112 1514.62 Q979.307 1517.31 979.307 1521.8 Q979.307 1523.93 978.497 1525.85 Q977.71 1527.74 975.603 1530.34 Q975.024 1531.01 971.923 1534.23 Q968.821 1537.42 963.173 1543.18 Z\" fill=\"#000000\" fill-rule=\"evenodd\" fill-opacity=\"1\" /><path clip-path=\"url(#clip440)\" d=\"M1635.08 1528.49 Q1638.44 1529.2 1640.31 1531.47 Q1642.21 1533.74 1642.21 1537.07 Q1642.21 1542.19 1638.69 1544.99 Q1635.17 1547.79 1628.69 1547.79 Q1626.52 1547.79 1624.2 1547.35 Q1621.91 1546.93 1619.46 1546.08 L1619.46 1541.56 Q1621.4 1542.7 1623.72 1543.28 Q1626.03 1543.86 1628.55 1543.86 Q1632.95 1543.86 1635.24 1542.12 Q1637.56 1540.38 1637.56 1537.07 Q1637.56 1534.02 1635.41 1532.31 Q1633.28 1530.57 1629.46 1530.57 L1625.43 1530.57 L1625.43 1526.73 L1629.64 1526.73 Q1633.09 1526.73 1634.92 1525.36 Q1636.75 1523.97 1636.75 1521.38 Q1636.75 1518.72 1634.85 1517.31 Q1632.97 1515.87 1629.46 1515.87 Q1627.54 1515.87 1625.34 1516.29 Q1623.14 1516.7 1620.5 1517.58 L1620.5 1513.42 Q1623.16 1512.68 1625.48 1512.31 Q1627.81 1511.93 1629.87 1511.93 Q1635.2 1511.93 1638.3 1514.37 Q1641.4 1516.77 1641.4 1520.89 Q1641.4 1523.76 1639.76 1525.75 Q1638.11 1527.72 1635.08 1528.49 Z\" fill=\"#000000\" fill-rule=\"evenodd\" fill-opacity=\"1\" /><path clip-path=\"url(#clip440)\" d=\"M2296.16 1516.63 L2284.35 1535.08 L2296.16 1535.08 L2296.16 1516.63 M2294.93 1512.56 L2300.81 1512.56 L2300.81 1535.08 L2305.74 1535.08 L2305.74 1538.97 L2300.81 1538.97 L2300.81 1547.12 L2296.16 1547.12 L2296.16 1538.97 L2280.56 1538.97 L2280.56 1534.46 L2294.93 1512.56 Z\" fill=\"#000000\" fill-rule=\"evenodd\" fill-opacity=\"1\" /><polyline clip-path=\"url(#clip442)\" style=\"stroke:#000000; stroke-linecap:butt; stroke-linejoin:round; stroke-width:2; stroke-opacity:0.1; fill:none\" points=\"\n",
       "  246.598,1304.95 2352.76,1304.95 \n",
       "  \"/>\n",
       "<polyline clip-path=\"url(#clip442)\" style=\"stroke:#000000; stroke-linecap:butt; stroke-linejoin:round; stroke-width:2; stroke-opacity:0.1; fill:none\" points=\"\n",
       "  246.598,1090.84 2352.76,1090.84 \n",
       "  \"/>\n",
       "<polyline clip-path=\"url(#clip442)\" style=\"stroke:#000000; stroke-linecap:butt; stroke-linejoin:round; stroke-width:2; stroke-opacity:0.1; fill:none\" points=\"\n",
       "  246.598,876.721 2352.76,876.721 \n",
       "  \"/>\n",
       "<polyline clip-path=\"url(#clip442)\" style=\"stroke:#000000; stroke-linecap:butt; stroke-linejoin:round; stroke-width:2; stroke-opacity:0.1; fill:none\" points=\"\n",
       "  246.598,662.606 2352.76,662.606 \n",
       "  \"/>\n",
       "<polyline clip-path=\"url(#clip442)\" style=\"stroke:#000000; stroke-linecap:butt; stroke-linejoin:round; stroke-width:2; stroke-opacity:0.1; fill:none\" points=\"\n",
       "  246.598,448.491 2352.76,448.491 \n",
       "  \"/>\n",
       "<polyline clip-path=\"url(#clip442)\" style=\"stroke:#000000; stroke-linecap:butt; stroke-linejoin:round; stroke-width:2; stroke-opacity:0.1; fill:none\" points=\"\n",
       "  246.598,234.376 2352.76,234.376 \n",
       "  \"/>\n",
       "<polyline clip-path=\"url(#clip440)\" style=\"stroke:#000000; stroke-linecap:butt; stroke-linejoin:round; stroke-width:4; stroke-opacity:1; fill:none\" points=\"\n",
       "  246.598,1486.45 246.598,47.2441 \n",
       "  \"/>\n",
       "<polyline clip-path=\"url(#clip440)\" style=\"stroke:#000000; stroke-linecap:butt; stroke-linejoin:round; stroke-width:4; stroke-opacity:1; fill:none\" points=\"\n",
       "  246.598,1304.95 271.872,1304.95 \n",
       "  \"/>\n",
       "<polyline clip-path=\"url(#clip440)\" style=\"stroke:#000000; stroke-linecap:butt; stroke-linejoin:round; stroke-width:4; stroke-opacity:1; fill:none\" points=\"\n",
       "  246.598,1090.84 271.872,1090.84 \n",
       "  \"/>\n",
       "<polyline clip-path=\"url(#clip440)\" style=\"stroke:#000000; stroke-linecap:butt; stroke-linejoin:round; stroke-width:4; stroke-opacity:1; fill:none\" points=\"\n",
       "  246.598,876.721 271.872,876.721 \n",
       "  \"/>\n",
       "<polyline clip-path=\"url(#clip440)\" style=\"stroke:#000000; stroke-linecap:butt; stroke-linejoin:round; stroke-width:4; stroke-opacity:1; fill:none\" points=\"\n",
       "  246.598,662.606 271.872,662.606 \n",
       "  \"/>\n",
       "<polyline clip-path=\"url(#clip440)\" style=\"stroke:#000000; stroke-linecap:butt; stroke-linejoin:round; stroke-width:4; stroke-opacity:1; fill:none\" points=\"\n",
       "  246.598,448.491 271.872,448.491 \n",
       "  \"/>\n",
       "<polyline clip-path=\"url(#clip440)\" style=\"stroke:#000000; stroke-linecap:butt; stroke-linejoin:round; stroke-width:4; stroke-opacity:1; fill:none\" points=\"\n",
       "  246.598,234.376 271.872,234.376 \n",
       "  \"/>\n",
       "<path clip-path=\"url(#clip440)\" d=\"M62.9365 1290.75 Q59.3254 1290.75 57.4967 1294.31 Q55.6912 1297.86 55.6912 1304.99 Q55.6912 1312.09 57.4967 1315.66 Q59.3254 1319.2 62.9365 1319.2 Q66.5707 1319.2 68.3763 1315.66 Q70.205 1312.09 70.205 1304.99 Q70.205 1297.86 68.3763 1294.31 Q66.5707 1290.75 62.9365 1290.75 M62.9365 1287.05 Q68.7467 1287.05 71.8022 1291.65 Q74.8809 1296.24 74.8809 1304.99 Q74.8809 1313.71 71.8022 1318.32 Q68.7467 1322.9 62.9365 1322.9 Q57.1264 1322.9 54.0477 1318.32 Q50.9921 1313.71 50.9921 1304.99 Q50.9921 1296.24 54.0477 1291.65 Q57.1264 1287.05 62.9365 1287.05 Z\" fill=\"#000000\" fill-rule=\"evenodd\" fill-opacity=\"1\" /><path clip-path=\"url(#clip440)\" d=\"M83.0984 1316.35 L87.9827 1316.35 L87.9827 1322.23 L83.0984 1322.23 L83.0984 1316.35 Z\" fill=\"#000000\" fill-rule=\"evenodd\" fill-opacity=\"1\" /><path clip-path=\"url(#clip440)\" d=\"M102.196 1318.3 L118.515 1318.3 L118.515 1322.23 L96.5706 1322.23 L96.5706 1318.3 Q99.2326 1315.54 103.816 1310.91 Q108.422 1306.26 109.603 1304.92 Q111.848 1302.39 112.728 1300.66 Q113.631 1298.9 113.631 1297.21 Q113.631 1294.45 111.686 1292.72 Q109.765 1290.98 106.663 1290.98 Q104.464 1290.98 102.01 1291.74 Q99.5798 1292.51 96.8021 1294.06 L96.8021 1289.34 Q99.6261 1288.2 102.08 1287.62 Q104.534 1287.05 106.571 1287.05 Q111.941 1287.05 115.135 1289.73 Q118.33 1292.42 118.33 1296.91 Q118.33 1299.04 117.52 1300.96 Q116.733 1302.86 114.626 1305.45 Q114.047 1306.12 110.946 1309.34 Q107.844 1312.53 102.196 1318.3 Z\" fill=\"#000000\" fill-rule=\"evenodd\" fill-opacity=\"1\" /><path clip-path=\"url(#clip440)\" d=\"M128.469 1321.51 L128.469 1317.25 Q130.228 1318.09 132.033 1318.53 Q133.839 1318.97 135.575 1318.97 Q140.205 1318.97 142.635 1315.86 Q145.089 1312.74 145.436 1306.4 Q144.093 1308.39 142.033 1309.45 Q139.973 1310.52 137.473 1310.52 Q132.288 1310.52 129.256 1307.39 Q126.246 1304.24 126.246 1298.8 Q126.246 1293.48 129.394 1290.26 Q132.543 1287.05 137.774 1287.05 Q143.769 1287.05 146.918 1291.65 Q150.089 1296.24 150.089 1304.99 Q150.089 1313.16 146.2 1318.04 Q142.334 1322.9 135.783 1322.9 Q134.024 1322.9 132.219 1322.55 Q130.413 1322.21 128.469 1321.51 M137.774 1306.86 Q140.922 1306.86 142.751 1304.71 Q144.603 1302.55 144.603 1298.8 Q144.603 1295.08 142.751 1292.93 Q140.922 1290.75 137.774 1290.75 Q134.626 1290.75 132.774 1292.93 Q130.945 1295.08 130.945 1298.8 Q130.945 1302.55 132.774 1304.71 Q134.626 1306.86 137.774 1306.86 Z\" fill=\"#000000\" fill-rule=\"evenodd\" fill-opacity=\"1\" /><path clip-path=\"url(#clip440)\" d=\"M158.538 1287.67 L176.894 1287.67 L176.894 1291.61 L162.82 1291.61 L162.82 1300.08 Q163.839 1299.73 164.857 1299.57 Q165.876 1299.38 166.894 1299.38 Q172.681 1299.38 176.061 1302.55 Q179.441 1305.73 179.441 1311.14 Q179.441 1316.72 175.968 1319.82 Q172.496 1322.9 166.177 1322.9 Q164.001 1322.9 161.732 1322.53 Q159.487 1322.16 157.08 1321.42 L157.08 1316.72 Q159.163 1317.86 161.385 1318.41 Q163.607 1318.97 166.084 1318.97 Q170.089 1318.97 172.427 1316.86 Q174.765 1314.75 174.765 1311.14 Q174.765 1307.53 172.427 1305.43 Q170.089 1303.32 166.084 1303.32 Q164.209 1303.32 162.334 1303.74 Q160.482 1304.15 158.538 1305.03 L158.538 1287.67 Z\" fill=\"#000000\" fill-rule=\"evenodd\" fill-opacity=\"1\" /><path clip-path=\"url(#clip440)\" d=\"M198.653 1290.75 Q195.042 1290.75 193.214 1294.31 Q191.408 1297.86 191.408 1304.99 Q191.408 1312.09 193.214 1315.66 Q195.042 1319.2 198.653 1319.2 Q202.288 1319.2 204.093 1315.66 Q205.922 1312.09 205.922 1304.99 Q205.922 1297.86 204.093 1294.31 Q202.288 1290.75 198.653 1290.75 M198.653 1287.05 Q204.464 1287.05 207.519 1291.65 Q210.598 1296.24 210.598 1304.99 Q210.598 1313.71 207.519 1318.32 Q204.464 1322.9 198.653 1322.9 Q192.843 1322.9 189.765 1318.32 Q186.709 1313.71 186.709 1304.99 Q186.709 1296.24 189.765 1291.65 Q192.843 1287.05 198.653 1287.05 Z\" fill=\"#000000\" fill-rule=\"evenodd\" fill-opacity=\"1\" /><path clip-path=\"url(#clip440)\" d=\"M63.9319 1076.63 Q60.3208 1076.63 58.4921 1080.2 Q56.6865 1083.74 56.6865 1090.87 Q56.6865 1097.98 58.4921 1101.54 Q60.3208 1105.08 63.9319 1105.08 Q67.5661 1105.08 69.3717 1101.54 Q71.2004 1097.98 71.2004 1090.87 Q71.2004 1083.74 69.3717 1080.2 Q67.5661 1076.63 63.9319 1076.63 M63.9319 1072.93 Q69.742 1072.93 72.7976 1077.54 Q75.8763 1082.12 75.8763 1090.87 Q75.8763 1099.6 72.7976 1104.2 Q69.742 1108.79 63.9319 1108.79 Q58.1217 1108.79 55.043 1104.2 Q51.9875 1099.6 51.9875 1090.87 Q51.9875 1082.12 55.043 1077.54 Q58.1217 1072.93 63.9319 1072.93 Z\" fill=\"#000000\" fill-rule=\"evenodd\" fill-opacity=\"1\" /><path clip-path=\"url(#clip440)\" d=\"M84.0938 1102.24 L88.978 1102.24 L88.978 1108.12 L84.0938 1108.12 L84.0938 1102.24 Z\" fill=\"#000000\" fill-rule=\"evenodd\" fill-opacity=\"1\" /><path clip-path=\"url(#clip440)\" d=\"M103.191 1104.18 L119.51 1104.18 L119.51 1108.12 L97.566 1108.12 L97.566 1104.18 Q100.228 1101.43 104.811 1096.8 Q109.418 1092.14 110.598 1090.8 Q112.844 1088.28 113.723 1086.54 Q114.626 1084.78 114.626 1083.09 Q114.626 1080.34 112.682 1078.6 Q110.76 1076.87 107.658 1076.87 Q105.459 1076.87 103.006 1077.63 Q100.575 1078.39 97.7974 1079.94 L97.7974 1075.22 Q100.621 1074.09 103.075 1073.51 Q105.529 1072.93 107.566 1072.93 Q112.936 1072.93 116.131 1075.62 Q119.325 1078.3 119.325 1082.79 Q119.325 1084.92 118.515 1086.84 Q117.728 1088.74 115.621 1091.33 Q115.043 1092 111.941 1095.22 Q108.839 1098.42 103.191 1104.18 Z\" fill=\"#000000\" fill-rule=\"evenodd\" fill-opacity=\"1\" /><path clip-path=\"url(#clip440)\" d=\"M129.464 1107.4 L129.464 1103.14 Q131.223 1103.97 133.029 1104.41 Q134.834 1104.85 136.57 1104.85 Q141.2 1104.85 143.631 1101.75 Q146.084 1098.63 146.431 1092.28 Q145.089 1094.27 143.029 1095.34 Q140.968 1096.4 138.469 1096.4 Q133.283 1096.4 130.251 1093.28 Q127.242 1090.13 127.242 1084.69 Q127.242 1079.37 130.39 1076.15 Q133.538 1072.93 138.769 1072.93 Q144.765 1072.93 147.913 1077.54 Q151.084 1082.12 151.084 1090.87 Q151.084 1099.04 147.195 1103.93 Q143.33 1108.79 136.779 1108.79 Q135.019 1108.79 133.214 1108.44 Q131.408 1108.09 129.464 1107.4 M138.769 1092.75 Q141.918 1092.75 143.746 1090.59 Q145.598 1088.44 145.598 1084.69 Q145.598 1080.96 143.746 1078.81 Q141.918 1076.63 138.769 1076.63 Q135.621 1076.63 133.769 1078.81 Q131.941 1080.96 131.941 1084.69 Q131.941 1088.44 133.769 1090.59 Q135.621 1092.75 138.769 1092.75 Z\" fill=\"#000000\" fill-rule=\"evenodd\" fill-opacity=\"1\" /><path clip-path=\"url(#clip440)\" d=\"M158.306 1073.56 L180.528 1073.56 L180.528 1075.55 L167.982 1108.12 L163.098 1108.12 L174.903 1077.49 L158.306 1077.49 L158.306 1073.56 Z\" fill=\"#000000\" fill-rule=\"evenodd\" fill-opacity=\"1\" /><path clip-path=\"url(#clip440)\" d=\"M189.695 1073.56 L208.051 1073.56 L208.051 1077.49 L193.977 1077.49 L193.977 1085.96 Q194.996 1085.62 196.014 1085.45 Q197.033 1085.27 198.052 1085.27 Q203.839 1085.27 207.218 1088.44 Q210.598 1091.61 210.598 1097.03 Q210.598 1102.61 207.126 1105.71 Q203.653 1108.79 197.334 1108.79 Q195.158 1108.79 192.89 1108.42 Q190.644 1108.05 188.237 1107.31 L188.237 1102.61 Q190.32 1103.74 192.542 1104.3 Q194.765 1104.85 197.241 1104.85 Q201.246 1104.85 203.584 1102.75 Q205.922 1100.64 205.922 1097.03 Q205.922 1093.42 203.584 1091.31 Q201.246 1089.2 197.241 1089.2 Q195.366 1089.2 193.491 1089.62 Q191.64 1090.04 189.695 1090.92 L189.695 1073.56 Z\" fill=\"#000000\" fill-rule=\"evenodd\" fill-opacity=\"1\" /><path clip-path=\"url(#clip440)\" d=\"M62.9365 862.52 Q59.3254 862.52 57.4967 866.084 Q55.6912 869.626 55.6912 876.756 Q55.6912 883.862 57.4967 887.427 Q59.3254 890.969 62.9365 890.969 Q66.5707 890.969 68.3763 887.427 Q70.205 883.862 70.205 876.756 Q70.205 869.626 68.3763 866.084 Q66.5707 862.52 62.9365 862.52 M62.9365 858.816 Q68.7467 858.816 71.8022 863.422 Q74.8809 868.006 74.8809 876.756 Q74.8809 885.482 71.8022 890.089 Q68.7467 894.672 62.9365 894.672 Q57.1264 894.672 54.0477 890.089 Q50.9921 885.482 50.9921 876.756 Q50.9921 868.006 54.0477 863.422 Q57.1264 858.816 62.9365 858.816 Z\" fill=\"#000000\" fill-rule=\"evenodd\" fill-opacity=\"1\" /><path clip-path=\"url(#clip440)\" d=\"M83.0984 888.121 L87.9827 888.121 L87.9827 894.001 L83.0984 894.001 L83.0984 888.121 Z\" fill=\"#000000\" fill-rule=\"evenodd\" fill-opacity=\"1\" /><path clip-path=\"url(#clip440)\" d=\"M112.334 875.367 Q115.691 876.084 117.566 878.353 Q119.464 880.621 119.464 883.955 Q119.464 889.07 115.945 891.871 Q112.427 894.672 105.946 894.672 Q103.77 894.672 101.455 894.232 Q99.1632 893.816 96.7095 892.959 L96.7095 888.445 Q98.6539 889.58 100.969 890.158 Q103.284 890.737 105.807 890.737 Q110.205 890.737 112.496 889.001 Q114.811 887.265 114.811 883.955 Q114.811 880.899 112.658 879.186 Q110.529 877.45 106.709 877.45 L102.682 877.45 L102.682 873.607 L106.895 873.607 Q110.344 873.607 112.172 872.242 Q114.001 870.853 114.001 868.26 Q114.001 865.598 112.103 864.186 Q110.228 862.751 106.709 862.751 Q104.788 862.751 102.589 863.168 Q100.39 863.584 97.7511 864.464 L97.7511 860.297 Q100.413 859.557 102.728 859.186 Q105.066 858.816 107.126 858.816 Q112.45 858.816 115.552 861.246 Q118.654 863.654 118.654 867.774 Q118.654 870.645 117.01 872.635 Q115.367 874.603 112.334 875.367 Z\" fill=\"#000000\" fill-rule=\"evenodd\" fill-opacity=\"1\" /><path clip-path=\"url(#clip440)\" d=\"M138.33 862.52 Q134.719 862.52 132.89 866.084 Q131.084 869.626 131.084 876.756 Q131.084 883.862 132.89 887.427 Q134.719 890.969 138.33 890.969 Q141.964 890.969 143.769 887.427 Q145.598 883.862 145.598 876.756 Q145.598 869.626 143.769 866.084 Q141.964 862.52 138.33 862.52 M138.33 858.816 Q144.14 858.816 147.195 863.422 Q150.274 868.006 150.274 876.756 Q150.274 885.482 147.195 890.089 Q144.14 894.672 138.33 894.672 Q132.519 894.672 129.441 890.089 Q126.385 885.482 126.385 876.756 Q126.385 868.006 129.441 863.422 Q132.519 858.816 138.33 858.816 Z\" fill=\"#000000\" fill-rule=\"evenodd\" fill-opacity=\"1\" /><path clip-path=\"url(#clip440)\" d=\"M168.491 862.52 Q164.88 862.52 163.052 866.084 Q161.246 869.626 161.246 876.756 Q161.246 883.862 163.052 887.427 Q164.88 890.969 168.491 890.969 Q172.126 890.969 173.931 887.427 Q175.76 883.862 175.76 876.756 Q175.76 869.626 173.931 866.084 Q172.126 862.52 168.491 862.52 M168.491 858.816 Q174.302 858.816 177.357 863.422 Q180.436 868.006 180.436 876.756 Q180.436 885.482 177.357 890.089 Q174.302 894.672 168.491 894.672 Q162.681 894.672 159.603 890.089 Q156.547 885.482 156.547 876.756 Q156.547 868.006 159.603 863.422 Q162.681 858.816 168.491 858.816 Z\" fill=\"#000000\" fill-rule=\"evenodd\" fill-opacity=\"1\" /><path clip-path=\"url(#clip440)\" d=\"M198.653 862.52 Q195.042 862.52 193.214 866.084 Q191.408 869.626 191.408 876.756 Q191.408 883.862 193.214 887.427 Q195.042 890.969 198.653 890.969 Q202.288 890.969 204.093 887.427 Q205.922 883.862 205.922 876.756 Q205.922 869.626 204.093 866.084 Q202.288 862.52 198.653 862.52 M198.653 858.816 Q204.464 858.816 207.519 863.422 Q210.598 868.006 210.598 876.756 Q210.598 885.482 207.519 890.089 Q204.464 894.672 198.653 894.672 Q192.843 894.672 189.765 890.089 Q186.709 885.482 186.709 876.756 Q186.709 868.006 189.765 863.422 Q192.843 858.816 198.653 858.816 Z\" fill=\"#000000\" fill-rule=\"evenodd\" fill-opacity=\"1\" /><path clip-path=\"url(#clip440)\" d=\"M63.9319 648.405 Q60.3208 648.405 58.4921 651.97 Q56.6865 655.511 56.6865 662.641 Q56.6865 669.747 58.4921 673.312 Q60.3208 676.854 63.9319 676.854 Q67.5661 676.854 69.3717 673.312 Q71.2004 669.747 71.2004 662.641 Q71.2004 655.511 69.3717 651.97 Q67.5661 648.405 63.9319 648.405 M63.9319 644.701 Q69.742 644.701 72.7976 649.308 Q75.8763 653.891 75.8763 662.641 Q75.8763 671.368 72.7976 675.974 Q69.742 680.557 63.9319 680.557 Q58.1217 680.557 55.043 675.974 Q51.9875 671.368 51.9875 662.641 Q51.9875 653.891 55.043 649.308 Q58.1217 644.701 63.9319 644.701 Z\" fill=\"#000000\" fill-rule=\"evenodd\" fill-opacity=\"1\" /><path clip-path=\"url(#clip440)\" d=\"M84.0938 674.006 L88.978 674.006 L88.978 679.886 L84.0938 679.886 L84.0938 674.006 Z\" fill=\"#000000\" fill-rule=\"evenodd\" fill-opacity=\"1\" /><path clip-path=\"url(#clip440)\" d=\"M113.33 661.252 Q116.686 661.97 118.561 664.238 Q120.459 666.507 120.459 669.84 Q120.459 674.956 116.941 677.756 Q113.422 680.557 106.941 680.557 Q104.765 680.557 102.45 680.118 Q100.159 679.701 97.7048 678.844 L97.7048 674.331 Q99.6493 675.465 101.964 676.044 Q104.279 676.622 106.802 676.622 Q111.2 676.622 113.492 674.886 Q115.807 673.15 115.807 669.84 Q115.807 666.784 113.654 665.071 Q111.524 663.335 107.705 663.335 L103.677 663.335 L103.677 659.493 L107.89 659.493 Q111.339 659.493 113.168 658.127 Q114.996 656.738 114.996 654.145 Q114.996 651.483 113.098 650.071 Q111.223 648.636 107.705 648.636 Q105.783 648.636 103.584 649.053 Q101.385 649.47 98.7465 650.349 L98.7465 646.183 Q101.409 645.442 103.723 645.071 Q106.061 644.701 108.121 644.701 Q113.445 644.701 116.547 647.132 Q119.649 649.539 119.649 653.659 Q119.649 656.53 118.006 658.52 Q116.362 660.488 113.33 661.252 Z\" fill=\"#000000\" fill-rule=\"evenodd\" fill-opacity=\"1\" /><path clip-path=\"url(#clip440)\" d=\"M139.325 648.405 Q135.714 648.405 133.885 651.97 Q132.08 655.511 132.08 662.641 Q132.08 669.747 133.885 673.312 Q135.714 676.854 139.325 676.854 Q142.959 676.854 144.765 673.312 Q146.593 669.747 146.593 662.641 Q146.593 655.511 144.765 651.97 Q142.959 648.405 139.325 648.405 M139.325 644.701 Q145.135 644.701 148.191 649.308 Q151.269 653.891 151.269 662.641 Q151.269 671.368 148.191 675.974 Q145.135 680.557 139.325 680.557 Q133.515 680.557 130.436 675.974 Q127.381 671.368 127.381 662.641 Q127.381 653.891 130.436 649.308 Q133.515 644.701 139.325 644.701 Z\" fill=\"#000000\" fill-rule=\"evenodd\" fill-opacity=\"1\" /><path clip-path=\"url(#clip440)\" d=\"M163.515 675.951 L179.834 675.951 L179.834 679.886 L157.89 679.886 L157.89 675.951 Q160.552 673.196 165.135 668.567 Q169.741 663.914 170.922 662.571 Q173.167 660.048 174.047 658.312 Q174.95 656.553 174.95 654.863 Q174.95 652.108 173.005 650.372 Q171.084 648.636 167.982 648.636 Q165.783 648.636 163.329 649.4 Q160.899 650.164 158.121 651.715 L158.121 646.993 Q160.945 645.858 163.399 645.28 Q165.853 644.701 167.89 644.701 Q173.26 644.701 176.454 647.386 Q179.649 650.071 179.649 654.562 Q179.649 656.692 178.839 658.613 Q178.052 660.511 175.945 663.104 Q175.366 663.775 172.265 666.993 Q169.163 670.187 163.515 675.951 Z\" fill=\"#000000\" fill-rule=\"evenodd\" fill-opacity=\"1\" /><path clip-path=\"url(#clip440)\" d=\"M189.695 645.326 L208.051 645.326 L208.051 649.261 L193.977 649.261 L193.977 657.733 Q194.996 657.386 196.014 657.224 Q197.033 657.039 198.052 657.039 Q203.839 657.039 207.218 660.21 Q210.598 663.382 210.598 668.798 Q210.598 674.377 207.126 677.479 Q203.653 680.557 197.334 680.557 Q195.158 680.557 192.89 680.187 Q190.644 679.817 188.237 679.076 L188.237 674.377 Q190.32 675.511 192.542 676.067 Q194.765 676.622 197.241 676.622 Q201.246 676.622 203.584 674.516 Q205.922 672.409 205.922 668.798 Q205.922 665.187 203.584 663.081 Q201.246 660.974 197.241 660.974 Q195.366 660.974 193.491 661.391 Q191.64 661.807 189.695 662.687 L189.695 645.326 Z\" fill=\"#000000\" fill-rule=\"evenodd\" fill-opacity=\"1\" /><path clip-path=\"url(#clip440)\" d=\"M62.9365 434.29 Q59.3254 434.29 57.4967 437.855 Q55.6912 441.396 55.6912 448.526 Q55.6912 455.632 57.4967 459.197 Q59.3254 462.739 62.9365 462.739 Q66.5707 462.739 68.3763 459.197 Q70.205 455.632 70.205 448.526 Q70.205 441.396 68.3763 437.855 Q66.5707 434.29 62.9365 434.29 M62.9365 430.586 Q68.7467 430.586 71.8022 435.193 Q74.8809 439.776 74.8809 448.526 Q74.8809 457.253 71.8022 461.859 Q68.7467 466.443 62.9365 466.443 Q57.1264 466.443 54.0477 461.859 Q50.9921 457.253 50.9921 448.526 Q50.9921 439.776 54.0477 435.193 Q57.1264 430.586 62.9365 430.586 Z\" fill=\"#000000\" fill-rule=\"evenodd\" fill-opacity=\"1\" /><path clip-path=\"url(#clip440)\" d=\"M83.0984 459.892 L87.9827 459.892 L87.9827 465.771 L83.0984 465.771 L83.0984 459.892 Z\" fill=\"#000000\" fill-rule=\"evenodd\" fill-opacity=\"1\" /><path clip-path=\"url(#clip440)\" d=\"M112.334 447.137 Q115.691 447.855 117.566 450.123 Q119.464 452.392 119.464 455.725 Q119.464 460.841 115.945 463.642 Q112.427 466.443 105.946 466.443 Q103.77 466.443 101.455 466.003 Q99.1632 465.586 96.7095 464.73 L96.7095 460.216 Q98.6539 461.35 100.969 461.929 Q103.284 462.507 105.807 462.507 Q110.205 462.507 112.496 460.771 Q114.811 459.035 114.811 455.725 Q114.811 452.669 112.658 450.957 Q110.529 449.22 106.709 449.22 L102.682 449.22 L102.682 445.378 L106.895 445.378 Q110.344 445.378 112.172 444.012 Q114.001 442.623 114.001 440.031 Q114.001 437.369 112.103 435.957 Q110.228 434.521 106.709 434.521 Q104.788 434.521 102.589 434.938 Q100.39 435.355 97.7511 436.234 L97.7511 432.068 Q100.413 431.327 102.728 430.957 Q105.066 430.586 107.126 430.586 Q112.45 430.586 115.552 433.017 Q118.654 435.424 118.654 439.545 Q118.654 442.415 117.01 444.406 Q115.367 446.373 112.334 447.137 Z\" fill=\"#000000\" fill-rule=\"evenodd\" fill-opacity=\"1\" /><path clip-path=\"url(#clip440)\" d=\"M138.33 434.29 Q134.719 434.29 132.89 437.855 Q131.084 441.396 131.084 448.526 Q131.084 455.632 132.89 459.197 Q134.719 462.739 138.33 462.739 Q141.964 462.739 143.769 459.197 Q145.598 455.632 145.598 448.526 Q145.598 441.396 143.769 437.855 Q141.964 434.29 138.33 434.29 M138.33 430.586 Q144.14 430.586 147.195 435.193 Q150.274 439.776 150.274 448.526 Q150.274 457.253 147.195 461.859 Q144.14 466.443 138.33 466.443 Q132.519 466.443 129.441 461.859 Q126.385 457.253 126.385 448.526 Q126.385 439.776 129.441 435.193 Q132.519 430.586 138.33 430.586 Z\" fill=\"#000000\" fill-rule=\"evenodd\" fill-opacity=\"1\" /><path clip-path=\"url(#clip440)\" d=\"M158.538 431.211 L176.894 431.211 L176.894 435.146 L162.82 435.146 L162.82 443.619 Q163.839 443.271 164.857 443.109 Q165.876 442.924 166.894 442.924 Q172.681 442.924 176.061 446.095 Q179.441 449.267 179.441 454.683 Q179.441 460.262 175.968 463.364 Q172.496 466.443 166.177 466.443 Q164.001 466.443 161.732 466.072 Q159.487 465.702 157.08 464.961 L157.08 460.262 Q159.163 461.396 161.385 461.952 Q163.607 462.507 166.084 462.507 Q170.089 462.507 172.427 460.401 Q174.765 458.294 174.765 454.683 Q174.765 451.072 172.427 448.966 Q170.089 446.859 166.084 446.859 Q164.209 446.859 162.334 447.276 Q160.482 447.693 158.538 448.572 L158.538 431.211 Z\" fill=\"#000000\" fill-rule=\"evenodd\" fill-opacity=\"1\" /><path clip-path=\"url(#clip440)\" d=\"M198.653 434.29 Q195.042 434.29 193.214 437.855 Q191.408 441.396 191.408 448.526 Q191.408 455.632 193.214 459.197 Q195.042 462.739 198.653 462.739 Q202.288 462.739 204.093 459.197 Q205.922 455.632 205.922 448.526 Q205.922 441.396 204.093 437.855 Q202.288 434.29 198.653 434.29 M198.653 430.586 Q204.464 430.586 207.519 435.193 Q210.598 439.776 210.598 448.526 Q210.598 457.253 207.519 461.859 Q204.464 466.443 198.653 466.443 Q192.843 466.443 189.765 461.859 Q186.709 457.253 186.709 448.526 Q186.709 439.776 189.765 435.193 Q192.843 430.586 198.653 430.586 Z\" fill=\"#000000\" fill-rule=\"evenodd\" fill-opacity=\"1\" /><path clip-path=\"url(#clip440)\" d=\"M63.9319 220.175 Q60.3208 220.175 58.4921 223.74 Q56.6865 227.282 56.6865 234.411 Q56.6865 241.518 58.4921 245.082 Q60.3208 248.624 63.9319 248.624 Q67.5661 248.624 69.3717 245.082 Q71.2004 241.518 71.2004 234.411 Q71.2004 227.282 69.3717 223.74 Q67.5661 220.175 63.9319 220.175 M63.9319 216.471 Q69.742 216.471 72.7976 221.078 Q75.8763 225.661 75.8763 234.411 Q75.8763 243.138 72.7976 247.744 Q69.742 252.328 63.9319 252.328 Q58.1217 252.328 55.043 247.744 Q51.9875 243.138 51.9875 234.411 Q51.9875 225.661 55.043 221.078 Q58.1217 216.471 63.9319 216.471 Z\" fill=\"#000000\" fill-rule=\"evenodd\" fill-opacity=\"1\" /><path clip-path=\"url(#clip440)\" d=\"M84.0938 245.777 L88.978 245.777 L88.978 251.656 L84.0938 251.656 L84.0938 245.777 Z\" fill=\"#000000\" fill-rule=\"evenodd\" fill-opacity=\"1\" /><path clip-path=\"url(#clip440)\" d=\"M113.33 233.022 Q116.686 233.74 118.561 236.008 Q120.459 238.277 120.459 241.61 Q120.459 246.726 116.941 249.527 Q113.422 252.328 106.941 252.328 Q104.765 252.328 102.45 251.888 Q100.159 251.471 97.7048 250.615 L97.7048 246.101 Q99.6493 247.235 101.964 247.814 Q104.279 248.393 106.802 248.393 Q111.2 248.393 113.492 246.656 Q115.807 244.92 115.807 241.61 Q115.807 238.555 113.654 236.842 Q111.524 235.106 107.705 235.106 L103.677 235.106 L103.677 231.263 L107.89 231.263 Q111.339 231.263 113.168 229.897 Q114.996 228.508 114.996 225.916 Q114.996 223.254 113.098 221.842 Q111.223 220.407 107.705 220.407 Q105.783 220.407 103.584 220.823 Q101.385 221.24 98.7465 222.12 L98.7465 217.953 Q101.409 217.212 103.723 216.842 Q106.061 216.471 108.121 216.471 Q113.445 216.471 116.547 218.902 Q119.649 221.309 119.649 225.43 Q119.649 228.3 118.006 230.291 Q116.362 232.258 113.33 233.022 Z\" fill=\"#000000\" fill-rule=\"evenodd\" fill-opacity=\"1\" /><path clip-path=\"url(#clip440)\" d=\"M139.325 220.175 Q135.714 220.175 133.885 223.74 Q132.08 227.282 132.08 234.411 Q132.08 241.518 133.885 245.082 Q135.714 248.624 139.325 248.624 Q142.959 248.624 144.765 245.082 Q146.593 241.518 146.593 234.411 Q146.593 227.282 144.765 223.74 Q142.959 220.175 139.325 220.175 M139.325 216.471 Q145.135 216.471 148.191 221.078 Q151.269 225.661 151.269 234.411 Q151.269 243.138 148.191 247.744 Q145.135 252.328 139.325 252.328 Q133.515 252.328 130.436 247.744 Q127.381 243.138 127.381 234.411 Q127.381 225.661 130.436 221.078 Q133.515 216.471 139.325 216.471 Z\" fill=\"#000000\" fill-rule=\"evenodd\" fill-opacity=\"1\" /><path clip-path=\"url(#clip440)\" d=\"M158.306 217.096 L180.528 217.096 L180.528 219.087 L167.982 251.656 L163.098 251.656 L174.903 221.032 L158.306 221.032 L158.306 217.096 Z\" fill=\"#000000\" fill-rule=\"evenodd\" fill-opacity=\"1\" /><path clip-path=\"url(#clip440)\" d=\"M189.695 217.096 L208.051 217.096 L208.051 221.032 L193.977 221.032 L193.977 229.504 Q194.996 229.157 196.014 228.995 Q197.033 228.809 198.052 228.809 Q203.839 228.809 207.218 231.981 Q210.598 235.152 210.598 240.569 Q210.598 246.147 207.126 249.249 Q203.653 252.328 197.334 252.328 Q195.158 252.328 192.89 251.957 Q190.644 251.587 188.237 250.846 L188.237 246.147 Q190.32 247.281 192.542 247.837 Q194.765 248.393 197.241 248.393 Q201.246 248.393 203.584 246.286 Q205.922 244.18 205.922 240.569 Q205.922 236.957 203.584 234.851 Q201.246 232.745 197.241 232.745 Q195.366 232.745 193.491 233.161 Q191.64 233.578 189.695 234.457 L189.695 217.096 Z\" fill=\"#000000\" fill-rule=\"evenodd\" fill-opacity=\"1\" /><polyline clip-path=\"url(#clip442)\" style=\"stroke:#009af9; stroke-linecap:butt; stroke-linejoin:round; stroke-width:4; stroke-opacity:1; fill:none\" points=\"\n",
       "  306.206,87.9763 968.52,1320.4 1630.83,1434.4 2293.15,1445.72 \n",
       "  \"/>\n",
       "<path clip-path=\"url(#clip440)\" d=\"\n",
       "M1996.1 198.898 L2282.55 198.898 L2282.55 95.2176 L1996.1 95.2176  Z\n",
       "  \" fill=\"#ffffff\" fill-rule=\"evenodd\" fill-opacity=\"1\"/>\n",
       "<polyline clip-path=\"url(#clip440)\" style=\"stroke:#000000; stroke-linecap:butt; stroke-linejoin:round; stroke-width:4; stroke-opacity:1; fill:none\" points=\"\n",
       "  1996.1,198.898 2282.55,198.898 2282.55,95.2176 1996.1,95.2176 1996.1,198.898 \n",
       "  \"/>\n",
       "<polyline clip-path=\"url(#clip440)\" style=\"stroke:#009af9; stroke-linecap:butt; stroke-linejoin:round; stroke-width:4; stroke-opacity:1; fill:none\" points=\"\n",
       "  2019.5,147.058 2159.92,147.058 \n",
       "  \"/>\n",
       "<path clip-path=\"url(#clip440)\" d=\"M2197.16 166.745 Q2195.35 171.375 2193.64 172.787 Q2191.93 174.199 2189.06 174.199 L2185.65 174.199 L2185.65 170.634 L2188.15 170.634 Q2189.91 170.634 2190.89 169.8 Q2191.86 168.967 2193.04 165.865 L2193.8 163.921 L2183.32 138.412 L2187.83 138.412 L2195.93 158.689 L2204.03 138.412 L2208.55 138.412 L2197.16 166.745 Z\" fill=\"#000000\" fill-rule=\"evenodd\" fill-opacity=\"1\" /><path clip-path=\"url(#clip440)\" d=\"M2215.84 160.402 L2223.48 160.402 L2223.48 134.037 L2215.17 135.703 L2215.17 131.444 L2223.43 129.778 L2228.11 129.778 L2228.11 160.402 L2235.75 160.402 L2235.75 164.338 L2215.84 164.338 L2215.84 160.402 Z\" fill=\"#000000\" fill-rule=\"evenodd\" fill-opacity=\"1\" /></svg>\n"
      ]
     },
     "execution_count": 38,
     "metadata": {},
     "output_type": "execute_result"
    }
   ],
   "source": [
    "plot(all)"
   ]
  },
  {
   "cell_type": "code",
   "execution_count": null,
   "id": "8c0aefc5",
   "metadata": {},
   "outputs": [],
   "source": []
  }
 ],
 "metadata": {
  "kernelspec": {
   "display_name": "Julia 1.6.1",
   "language": "julia",
   "name": "julia-1.6"
  },
  "language_info": {
   "file_extension": ".jl",
   "mimetype": "application/julia",
   "name": "julia",
   "version": "1.6.1"
  }
 },
 "nbformat": 4,
 "nbformat_minor": 5
}
