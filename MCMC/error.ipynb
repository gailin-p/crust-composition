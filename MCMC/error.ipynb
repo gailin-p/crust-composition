{
 "cells": [
  {
   "cell_type": "code",
   "execution_count": 14,
   "metadata": {},
   "outputs": [],
   "source": [
    "using DelimitedFiles\n",
    "using Distributions"
   ]
  },
  {
   "cell_type": "code",
   "execution_count": 3,
   "metadata": {},
   "outputs": [],
   "source": [
    "dat, header = readdlm(\"../data/adjustedPerplexRes.csv\", ',', header=true);"
   ]
  },
  {
   "cell_type": "code",
   "execution_count": 9,
   "metadata": {},
   "outputs": [
    {
     "name": "stdout",
     "output_type": "stream",
     "text": [
      "AbstractString[\"sample\" \"P\" \"T\" \"porosity\" \"perplex rho\" \"perplex vp\" \"perplex vp/vs\" \"perplex mu\" \"perplex ks\" \"dabie rho\" \"dabie vp\" \"dabie vp/vs\" \"dabie mu\" \"dabie ks\"]\n"
     ]
    },
    {
     "data": {
      "text/plain": [
       "14-element Array{AbstractString,1}:\n",
       " \"sample\"\n",
       " \"P\"\n",
       " \"T\"\n",
       " \"porosity\"\n",
       " \"perplex rho\"\n",
       " \"perplex vp\"\n",
       " \"perplex vp/vs\"\n",
       " \"perplex mu\"\n",
       " \"perplex ks\"\n",
       " \"dabie rho\"\n",
       " \"dabie vp\"\n",
       " \"dabie vp/vs\"\n",
       " \"dabie mu\"\n",
       " \"dabie ks\""
      ]
     },
     "execution_count": 9,
     "metadata": {},
     "output_type": "execute_result"
    }
   ],
   "source": [
    "println(header)\n",
    "header = header[:]"
   ]
  },
  {
   "cell_type": "code",
   "execution_count": 38,
   "metadata": {},
   "outputs": [],
   "source": [
    "ers = fill(NaN, (size(dat)[1],3));\n",
    "\n",
    "ers[:,1] .= dat[:,findfirst(isequal(\"perplex vp\"), header)] .- dat[:,findfirst(isequal(\"dabie vp\"), header)]\n",
    "ers[:,2] .= dat[:,findfirst(isequal(\"perplex vp/vs\"), header)] .- dat[:,findfirst(isequal(\"dabie vp/vs\"), header)]\n",
    "ers[:,3] .= dat[:,findfirst(isequal(\"perplex rho\"), header)] .- (1000 .* dat[:,findfirst(isequal(\"dabie rho\"), header)]);\n",
    "\n",
    "ers = ers[.!(isnan.(sum(ers, dims=2)))[:],:]; "
   ]
  },
  {
   "cell_type": "code",
   "execution_count": 39,
   "metadata": {},
   "outputs": [
    {
     "data": {
      "text/plain": [
       "FullNormal(\n",
       "dim: 3\n",
       "μ: [0.2679111186322258, -0.014636566391308583, 55.95218727050264]\n",
       "Σ: [0.15677566574176838 -0.004622544253183545 40.79168734489878; -0.004622544253183545 0.0033306353220278 -2.6202791424447787; 40.79168734489878 -2.6202791424447787 24718.981117425854]\n",
       ")\n"
      ]
     },
     "execution_count": 39,
     "metadata": {},
     "output_type": "execute_result"
    }
   ],
   "source": [
    "N_er = fit(MvNormal, ers')"
   ]
  },
  {
   "cell_type": "code",
   "execution_count": 42,
   "metadata": {},
   "outputs": [
    {
     "data": {
      "text/plain": [
       "0.019102714953717976"
      ]
     },
     "execution_count": 42,
     "metadata": {},
     "output_type": "execute_result"
    }
   ],
   "source": [
    "pdf(N_er, [0, 0, 0])"
   ]
  },
  {
   "cell_type": "code",
   "execution_count": 44,
   "metadata": {},
   "outputs": [
    {
     "data": {
      "text/plain": [
       "MvNormal{Float64,PDMats.PDMat{Float64,Array{Float64,2}},Array{Float64,1}}"
      ]
     },
     "execution_count": 44,
     "metadata": {},
     "output_type": "execute_result"
    }
   ],
   "source": [
    "typeof(N_er)"
   ]
  },
  {
   "cell_type": "code",
   "execution_count": null,
   "metadata": {},
   "outputs": [],
   "source": []
  }
 ],
 "metadata": {
  "kernelspec": {
   "display_name": "Julia 1.5.4",
   "language": "julia",
   "name": "julia-1.5"
  },
  "language_info": {
   "file_extension": ".jl",
   "mimetype": "application/julia",
   "name": "julia",
   "version": "1.5.4"
  }
 },
 "nbformat": 4,
 "nbformat_minor": 4
}
