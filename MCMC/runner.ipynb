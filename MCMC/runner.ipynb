{
 "cells": [
  {
   "cell_type": "code",
   "execution_count": 75,
   "metadata": {},
   "outputs": [
    {
     "name": "stdout",
     "output_type": "stream",
     "text": [
      "Loading crust information from file ../data/crustDistribution.jld\n"
     ]
    },
    {
     "name": "stderr",
     "output_type": "stream",
     "text": [
      "WARNING: redefinition of constant COMPOSITION_ELEMENTS. This may fail, cause incorrect answers, or produce other errors.\n",
      "WARNING: redefinition of constant PERPLEX_COMPOSITION_ELTS. This may fail, cause incorrect answers, or produce other errors.\n",
      "WARNING: redefinition of constant MINOR_ELTS. This may fail, cause incorrect answers, or produce other errors.\n",
      "WARNING: redefinition of constant RESAMPLED_ELEMENTS. This may fail, cause incorrect answers, or produce other errors.\n",
      "WARNING: redefinition of constant PERPLEX_ELEMENTS. This may fail, cause incorrect answers, or produce other errors.\n",
      "WARNING: replacing module crustDistribution.\n"
     ]
    },
    {
     "name": "stdout",
     "output_type": "stream",
     "text": [
      "Loading crust information from file ../data/crustDistribution.jld\n"
     ]
    },
    {
     "name": "stderr",
     "output_type": "stream",
     "text": [
      "WARNING: replacing module crustDistribution.\n"
     ]
    },
    {
     "data": {
      "text/plain": [
       "getAllSeismic"
      ]
     },
     "execution_count": 75,
     "metadata": {},
     "output_type": "execute_result"
    }
   ],
   "source": [
    "using StatGeochem\n",
    "using Plots; gr();\n",
    "using StatsBase\n",
    "using Statistics\n",
    "\n",
    "include(\"run_mcmc.jl\")\n",
    "include(\"../src/crustDistribution.jl\")"
   ]
  },
  {
   "cell_type": "code",
   "execution_count": 2,
   "metadata": {},
   "outputs": [],
   "source": [
    "## Get average seismic, depth, geotherm pairs"
   ]
  },
  {
   "cell_type": "code",
   "execution_count": 3,
   "metadata": {},
   "outputs": [
    {
     "name": "stdout",
     "output_type": "stream",
     "text": [
      "[41.678471017560426 6.909417469309636 6.095079345979234 1.7252766096948702 2728.7077338784757; 41.678471017560426 20.193064518935472 6.413912813979953 1.7366797024951082 2802.8213184333244; 41.678471017560426 32.32255339791592 6.911113915442597 1.75810779522217 2933.306619695041]\n"
     ]
    }
   ],
   "source": [
    "# 3 layers, 5 props / layer \n",
    "invert = fill(NaN, (3,5))\n",
    "\n",
    "# Seismic \n",
    "for l in [6,7,8]\n",
    "    s = mean(hcat(find_crust1_seismic(\n",
    "                crustDistribution.all_lats, crustDistribution.all_longs, l)...), \n",
    "            Weights(crustDistribution.weights), dims=1)\n",
    "    s[2] = s[1]/s[2]\n",
    "    invert[l-5,3:5] .= s[:]\n",
    "end\n",
    "\n",
    "# Layers and geotherms \n",
    "d = mean(crustDistribution.depth, Weights(crustDistribution.weights), dims=1)\n",
    "# Get middle of each layer\n",
    "layers = d[2:end]\n",
    "pushfirst!(layers, 0)\n",
    "# Each sample is geotherm, layer depth\n",
    "invert[:,1] .= d[1]\n",
    "invert[:,2] .= [(layers[i]+layers[i+1])/2 for i in 1:3]\n",
    "\n",
    "println(invert)"
   ]
  },
  {
   "cell_type": "code",
   "execution_count": 4,
   "metadata": {},
   "outputs": [
    {
     "name": "stderr",
     "output_type": "stream",
     "text": [
      "┌ Info: Initializing GMM, 11 Gaussians diag covariance 10 dimensions using 1000 data points\n",
      "└ @ GaussianMixtures /Users/gailin/.julia/packages/GaussianMixtures/1pQcF/src/train.jl:79\n"
     ]
    },
    {
     "name": "stdout",
     "output_type": "stream",
     "text": [
      "K-means converged with 29 iterations (objv = 25561.135415665784)\n"
     ]
    },
    {
     "name": "stderr",
     "output_type": "stream",
     "text": [
      "┌ Info: K-means with 1000 data points using 29 iterations\n",
      "│ 8.3 data points per parameter\n",
      "└ @ GaussianMixtures /Users/gailin/.julia/packages/GaussianMixtures/1pQcF/src/train.jl:140\n",
      "┌ Warning: Variances had to be floored \n",
      "│   ind = [6]\n",
      "└ @ GaussianMixtures /Users/gailin/.julia/packages/GaussianMixtures/1pQcF/src/train.jl:259\n",
      "┌ Warning: Variances had to be floored \n",
      "│   ind = [6]\n",
      "└ @ GaussianMixtures /Users/gailin/.julia/packages/GaussianMixtures/1pQcF/src/train.jl:259\n",
      "┌ Warning: Variances had to be floored \n",
      "│   ind = [6]\n",
      "└ @ GaussianMixtures /Users/gailin/.julia/packages/GaussianMixtures/1pQcF/src/train.jl:259\n",
      "┌ Warning: Variances had to be floored \n",
      "│   ind = [6]\n",
      "└ @ GaussianMixtures /Users/gailin/.julia/packages/GaussianMixtures/1pQcF/src/train.jl:259\n",
      "┌ Warning: Variances had to be floored \n",
      "│   ind = [6]\n",
      "└ @ GaussianMixtures /Users/gailin/.julia/packages/GaussianMixtures/1pQcF/src/train.jl:259\n",
      "┌ Warning: Variances had to be floored \n",
      "│   ind = [6]\n",
      "└ @ GaussianMixtures /Users/gailin/.julia/packages/GaussianMixtures/1pQcF/src/train.jl:259\n",
      "┌ Warning: Variances had to be floored \n",
      "│   ind = [6]\n",
      "└ @ GaussianMixtures /Users/gailin/.julia/packages/GaussianMixtures/1pQcF/src/train.jl:259\n",
      "┌ Warning: Variances had to be floored \n",
      "│   ind = [6]\n",
      "└ @ GaussianMixtures /Users/gailin/.julia/packages/GaussianMixtures/1pQcF/src/train.jl:259\n",
      "┌ Warning: Variances had to be floored \n",
      "│   ind = [6]\n",
      "└ @ GaussianMixtures /Users/gailin/.julia/packages/GaussianMixtures/1pQcF/src/train.jl:259\n",
      "┌ Warning: Variances had to be floored \n",
      "│   ind = [6]\n",
      "└ @ GaussianMixtures /Users/gailin/.julia/packages/GaussianMixtures/1pQcF/src/train.jl:259\n"
     ]
    }
   ],
   "source": [
    "runner = MCMCRunner();"
   ]
  },
  {
   "cell_type": "code",
   "execution_count": 5,
   "metadata": {},
   "outputs": [],
   "source": [
    "#s, a, l = run_mcmc(3, runner, DataSample(invert[2,:]...))"
   ]
  },
  {
   "cell_type": "code",
   "execution_count": null,
   "metadata": {},
   "outputs": [],
   "source": []
  },
  {
   "cell_type": "code",
   "execution_count": 6,
   "metadata": {},
   "outputs": [
    {
     "name": "stdout",
     "output_type": "stream",
     "text": [
      "Comparing all to -22.983246919221305\n"
     ]
    },
    {
     "name": "stderr",
     "output_type": "stream",
     "text": [
      "\u001b[32mIterating... 25%|█████████▊                             |  ETA: 0:12:55\u001b[39m"
     ]
    },
    {
     "name": "stdout",
     "output_type": "stream",
     "text": [
      "\r\n",
      "\r\n",
      "Cannot process sample due to \r\n",
      " ParsePerplexError(\"Endmembers do not sum to 1\")\n"
     ]
    },
    {
     "name": "stderr",
     "output_type": "stream",
     "text": [
      "\u001b[32mIterating... 35%|█████████████▋                         |  ETA: 0:10:54\u001b[39m"
     ]
    },
    {
     "name": "stdout",
     "output_type": "stream",
     "text": [
      "\r\n",
      "\r\n",
      "Cannot process sample due to \r\n",
      " ParsePerplexError(\"Endmembers do not sum to 1\")\n"
     ]
    },
    {
     "name": "stderr",
     "output_type": "stream",
     "text": [
      "\u001b[32mIterating... 56%|█████████████████████▋                 |  ETA: 0:07:07\u001b[39m"
     ]
    },
    {
     "name": "stdout",
     "output_type": "stream",
     "text": [
      "\r\n",
      "\r\n",
      "Cannot process sample due to \r\n",
      " ArgumentError(\"cannot parse \\\"-62.21 142.1198\\\" as Float64\")\n"
     ]
    },
    {
     "name": "stderr",
     "output_type": "stream",
     "text": [
      "\u001b[32mIterating... 76%|█████████████████████████████▌         |  ETA: 0:03:50\u001b[39m"
     ]
    },
    {
     "name": "stdout",
     "output_type": "stream",
     "text": [
      "\r\n",
      "\r\n",
      "Cannot process sample due to \r\n",
      " ParsePerplexError(\"Endmembers do not sum to 1\")\n"
     ]
    },
    {
     "name": "stderr",
     "output_type": "stream",
     "text": [
      "\u001b[32mIterating... 77%|██████████████████████████████         |  ETA: 0:03:35\u001b[39m"
     ]
    },
    {
     "name": "stdout",
     "output_type": "stream",
     "text": [
      "\r\n",
      "\r\n",
      "Cannot process sample due to \r\n",
      " ParsePerplexError(\"Endmembers do not sum to 1\")\n"
     ]
    },
    {
     "name": "stderr",
     "output_type": "stream",
     "text": [
      "\u001b[32mIterating...100%|███████████████████████████████████████| Time: 0:15:26\u001b[39m\n"
     ]
    },
    {
     "name": "stdout",
     "output_type": "stream",
     "text": [
      "\n",
      "\n",
      "Cannot process sample due to \n",
      " ParsePerplexError(\"Endmembers do not sum to 1\")\n",
      "Comparing all to -23.926483726920644\n"
     ]
    },
    {
     "name": "stderr",
     "output_type": "stream",
     "text": [
      "\u001b[32mIterating... 94%|████████████████████████████████████▋  |  ETA: 0:00:59\u001b[39m"
     ]
    },
    {
     "name": "stdout",
     "output_type": "stream",
     "text": [
      "\r\n",
      "\r\n",
      "Cannot process sample due to \r\n",
      " ParsePerplexError(\"Endmembers do not sum to 1\")\n"
     ]
    },
    {
     "name": "stderr",
     "output_type": "stream",
     "text": [
      "\u001b[32mIterating...100%|███████████████████████████████████████| Time: 0:16:14\u001b[39m\n"
     ]
    },
    {
     "name": "stdout",
     "output_type": "stream",
     "text": [
      "Comparing all to -25.07650340170562\n"
     ]
    },
    {
     "name": "stderr",
     "output_type": "stream",
     "text": [
      "\u001b[32mIterating...100%|███████████████████████████████████████| Time: 0:14:51\u001b[39m\n"
     ]
    }
   ],
   "source": [
    "n = 200\n",
    "samples = fill(NaN, (3,n,10))\n",
    "accepted = fill(false, (3,n))\n",
    "ll = fill(NaN, (3,n))\n",
    "for i in 1:3\n",
    "    s, a, l = run_mcmc(n, runner, DataSample(invert[i,:]...))\n",
    "    samples[i,:,:] .= s\n",
    "    accepted[i,:] .= a\n",
    "    ll[i,:] .= l\n",
    "end "
   ]
  },
  {
   "cell_type": "code",
   "execution_count": 7,
   "metadata": {},
   "outputs": [
    {
     "data": {
      "text/plain": [
       "([1.0 72.49576 … 30.97617 0.0; 2.0 64.22882 … 43.56536 0.0; … ; 99999.0 62.02645 … 34.27961 0.0; 100000.0 63.72973 … 40.9444 0.0], AbstractString[\"index\" \"SiO2\" … \"lower\" \"exhumed\"])"
      ]
     },
     "execution_count": 7,
     "metadata": {},
     "output_type": "execute_result"
    }
   ],
   "source": [
    "ign, h = readdlm(\"../data/remote/base_nobin/bsr_ignmajors_1.csv\", ',', header=true)"
   ]
  },
  {
   "cell_type": "code",
   "execution_count": 54,
   "metadata": {},
   "outputs": [],
   "source": [
    "stephist(ign[:,2], normalize=:pdf, label=\"Original\", alpha=.5)\n",
    "stephist!(samples[1,50:end,1], normalize=:pdf, label=\"Upper\", alpha=.6, linewidth=2, linecolor=:orange, nbins=10)\n",
    "histogram!(samples[1,50:end,1], normalize=:pdf, label=false, alpha=.1, linewidth=0, color=:orange,nbins=10)\n",
    "\n",
    "stephist!(samples[2,50:end,1], normalize=:pdf, label=\"Middle\", alpha=.6, linewidth=2,linecolor=:green, nbins=10)\n",
    "histogram!(samples[2,50:end,1], normalize=:pdf, label=false, alpha=.1, linewidth=0, color=:green,nbins=10)\n",
    "\n",
    "stephist!(samples[3,50:end,1], normalize=:pdf, label=\"Lower\", alpha=.6, linewidth=2, linecolor=:purple, nbins=10)\n",
    "histogram!(samples[3,50:end,1], normalize=:pdf, label=false, alpha=.1, linewidth=0, color=:purple,nbins=10)\n",
    "\n",
    "#savefig(\"../../present/4_1/mcmc.pdf\")"
   ]
  },
  {
   "cell_type": "code",
   "execution_count": 9,
   "metadata": {},
   "outputs": [
    {
     "data": {
      "text/plain": [
       "0.0"
      ]
     },
     "execution_count": 9,
     "metadata": {},
     "output_type": "execute_result"
    }
   ],
   "source": [
    "sum(isnan.(samples))/length(samples)"
   ]
  },
  {
   "cell_type": "code",
   "execution_count": 58,
   "metadata": {},
   "outputs": [
    {
     "data": {
      "text/plain": [
       "3×1 Array{Int64,2}:\n",
       " 74\n",
       " 85\n",
       " 99"
      ]
     },
     "execution_count": 58,
     "metadata": {},
     "output_type": "execute_result"
    }
   ],
   "source": [
    "sum(accepted,dims=2)"
   ]
  },
  {
   "cell_type": "code",
   "execution_count": 11,
   "metadata": {},
   "outputs": [],
   "source": [
    "plot()\n",
    "for l in 1:3\n",
    "    plot!(ll[l,:])\n",
    "end"
   ]
  },
  {
   "cell_type": "code",
   "execution_count": 60,
   "metadata": {},
   "outputs": [
    {
     "data": {
      "image/svg+xml": [
       "<?xml version=\"1.0\" encoding=\"utf-8\"?>\n",
       "<svg xmlns=\"http://www.w3.org/2000/svg\" xmlns:xlink=\"http://www.w3.org/1999/xlink\" width=\"600\" height=\"400\" viewBox=\"0 0 2400 1600\">\n",
       "<defs>\n",
       "  <clipPath id=\"clip810\">\n",
       "    <rect x=\"0\" y=\"0\" width=\"2400\" height=\"1600\"/>\n",
       "  </clipPath>\n",
       "</defs>\n",
       "<path clip-path=\"url(#clip810)\" d=\"\n",
       "M0 1600 L2400 1600 L2400 0 L0 0  Z\n",
       "  \" fill=\"#ffffff\" fill-rule=\"evenodd\" fill-opacity=\"1\"/>\n",
       "<defs>\n",
       "  <clipPath id=\"clip811\">\n",
       "    <rect x=\"480\" y=\"0\" width=\"1681\" height=\"1600\"/>\n",
       "  </clipPath>\n",
       "</defs>\n",
       "<path clip-path=\"url(#clip810)\" d=\"\n",
       "M169.584 1486.45 L2352.76 1486.45 L2352.76 47.2441 L169.584 47.2441  Z\n",
       "  \" fill=\"#ffffff\" fill-rule=\"evenodd\" fill-opacity=\"1\"/>\n",
       "<defs>\n",
       "  <clipPath id=\"clip812\">\n",
       "    <rect x=\"169\" y=\"47\" width=\"2184\" height=\"1440\"/>\n",
       "  </clipPath>\n",
       "</defs>\n",
       "<polyline clip-path=\"url(#clip812)\" style=\"stroke:#000000; stroke-width:2; stroke-opacity:0.1; fill:none\" points=\"\n",
       "  221.022,1486.45 221.022,47.2441 \n",
       "  \"/>\n",
       "<polyline clip-path=\"url(#clip812)\" style=\"stroke:#000000; stroke-width:2; stroke-opacity:0.1; fill:none\" points=\"\n",
       "  738.509,1486.45 738.509,47.2441 \n",
       "  \"/>\n",
       "<polyline clip-path=\"url(#clip812)\" style=\"stroke:#000000; stroke-width:2; stroke-opacity:0.1; fill:none\" points=\"\n",
       "  1256,1486.45 1256,47.2441 \n",
       "  \"/>\n",
       "<polyline clip-path=\"url(#clip812)\" style=\"stroke:#000000; stroke-width:2; stroke-opacity:0.1; fill:none\" points=\"\n",
       "  1773.48,1486.45 1773.48,47.2441 \n",
       "  \"/>\n",
       "<polyline clip-path=\"url(#clip812)\" style=\"stroke:#000000; stroke-width:2; stroke-opacity:0.1; fill:none\" points=\"\n",
       "  2290.97,1486.45 2290.97,47.2441 \n",
       "  \"/>\n",
       "<polyline clip-path=\"url(#clip810)\" style=\"stroke:#000000; stroke-width:4; stroke-opacity:1; fill:none\" points=\"\n",
       "  169.584,1486.45 2352.76,1486.45 \n",
       "  \"/>\n",
       "<polyline clip-path=\"url(#clip810)\" style=\"stroke:#000000; stroke-width:4; stroke-opacity:1; fill:none\" points=\"\n",
       "  221.022,1486.45 221.022,1469.18 \n",
       "  \"/>\n",
       "<polyline clip-path=\"url(#clip810)\" style=\"stroke:#000000; stroke-width:4; stroke-opacity:1; fill:none\" points=\"\n",
       "  738.509,1486.45 738.509,1469.18 \n",
       "  \"/>\n",
       "<polyline clip-path=\"url(#clip810)\" style=\"stroke:#000000; stroke-width:4; stroke-opacity:1; fill:none\" points=\"\n",
       "  1256,1486.45 1256,1469.18 \n",
       "  \"/>\n",
       "<polyline clip-path=\"url(#clip810)\" style=\"stroke:#000000; stroke-width:4; stroke-opacity:1; fill:none\" points=\"\n",
       "  1773.48,1486.45 1773.48,1469.18 \n",
       "  \"/>\n",
       "<polyline clip-path=\"url(#clip810)\" style=\"stroke:#000000; stroke-width:4; stroke-opacity:1; fill:none\" points=\"\n",
       "  2290.97,1486.45 2290.97,1469.18 \n",
       "  \"/>\n",
       "<path clip-path=\"url(#clip810)\" d=\"M 0 0 M221.022 1515.64 Q217.411 1515.64 215.583 1519.2 Q213.777 1522.75 213.777 1529.87 Q213.777 1536.98 215.583 1540.55 Q217.411 1544.09 221.022 1544.09 Q224.657 1544.09 226.462 1540.55 Q228.291 1536.98 228.291 1529.87 Q228.291 1522.75 226.462 1519.2 Q224.657 1515.64 221.022 1515.64 M221.022 1511.93 Q226.833 1511.93 229.888 1516.54 Q232.967 1521.12 232.967 1529.87 Q232.967 1538.6 229.888 1543.21 Q226.833 1547.79 221.022 1547.79 Q215.212 1547.79 212.134 1543.21 Q209.078 1538.6 209.078 1529.87 Q209.078 1521.12 212.134 1516.54 Q215.212 1511.93 221.022 1511.93 Z\" fill=\"#000000\" fill-rule=\"evenodd\" fill-opacity=\"1\" /><path clip-path=\"url(#clip810)\" d=\"M 0 0 M715.28 1512.56 L733.636 1512.56 L733.636 1516.5 L719.562 1516.5 L719.562 1524.97 Q720.581 1524.62 721.599 1524.46 Q722.618 1524.27 723.636 1524.27 Q729.423 1524.27 732.803 1527.44 Q736.182 1530.62 736.182 1536.03 Q736.182 1541.61 732.71 1544.71 Q729.238 1547.79 722.919 1547.79 Q720.743 1547.79 718.474 1547.42 Q716.229 1547.05 713.821 1546.31 L713.821 1541.61 Q715.905 1542.74 718.127 1543.3 Q720.349 1543.86 722.826 1543.86 Q726.831 1543.86 729.169 1541.75 Q731.507 1539.64 731.507 1536.03 Q731.507 1532.42 729.169 1530.31 Q726.831 1528.21 722.826 1528.21 Q720.951 1528.21 719.076 1528.62 Q717.224 1529.04 715.28 1529.92 L715.28 1512.56 Z\" fill=\"#000000\" fill-rule=\"evenodd\" fill-opacity=\"1\" /><path clip-path=\"url(#clip810)\" d=\"M 0 0 M751.252 1515.64 Q747.641 1515.64 745.812 1519.2 Q744.006 1522.75 744.006 1529.87 Q744.006 1536.98 745.812 1540.55 Q747.641 1544.09 751.252 1544.09 Q754.886 1544.09 756.692 1540.55 Q758.52 1536.98 758.52 1529.87 Q758.52 1522.75 756.692 1519.2 Q754.886 1515.64 751.252 1515.64 M751.252 1511.93 Q757.062 1511.93 760.118 1516.54 Q763.196 1521.12 763.196 1529.87 Q763.196 1538.6 760.118 1543.21 Q757.062 1547.79 751.252 1547.79 Q745.442 1547.79 742.363 1543.21 Q739.307 1538.6 739.307 1529.87 Q739.307 1521.12 742.363 1516.54 Q745.442 1511.93 751.252 1511.93 Z\" fill=\"#000000\" fill-rule=\"evenodd\" fill-opacity=\"1\" /><path clip-path=\"url(#clip810)\" d=\"M 0 0 M1219.36 1543.18 L1227 1543.18 L1227 1516.82 L1218.69 1518.49 L1218.69 1514.23 L1226.96 1512.56 L1231.63 1512.56 L1231.63 1543.18 L1239.27 1543.18 L1239.27 1547.12 L1219.36 1547.12 L1219.36 1543.18 Z\" fill=\"#000000\" fill-rule=\"evenodd\" fill-opacity=\"1\" /><path clip-path=\"url(#clip810)\" d=\"M 0 0 M1254.34 1515.64 Q1250.73 1515.64 1248.9 1519.2 Q1247.09 1522.75 1247.09 1529.87 Q1247.09 1536.98 1248.9 1540.55 Q1250.73 1544.09 1254.34 1544.09 Q1257.97 1544.09 1259.78 1540.55 Q1261.61 1536.98 1261.61 1529.87 Q1261.61 1522.75 1259.78 1519.2 Q1257.97 1515.64 1254.34 1515.64 M1254.34 1511.93 Q1260.15 1511.93 1263.21 1516.54 Q1266.28 1521.12 1266.28 1529.87 Q1266.28 1538.6 1263.21 1543.21 Q1260.15 1547.79 1254.34 1547.79 Q1248.53 1547.79 1245.45 1543.21 Q1242.4 1538.6 1242.4 1529.87 Q1242.4 1521.12 1245.45 1516.54 Q1248.53 1511.93 1254.34 1511.93 Z\" fill=\"#000000\" fill-rule=\"evenodd\" fill-opacity=\"1\" /><path clip-path=\"url(#clip810)\" d=\"M 0 0 M1281.35 1515.64 Q1277.74 1515.64 1275.91 1519.2 Q1274.11 1522.75 1274.11 1529.87 Q1274.11 1536.98 1275.91 1540.55 Q1277.74 1544.09 1281.35 1544.09 Q1284.99 1544.09 1286.79 1540.55 Q1288.62 1536.98 1288.62 1529.87 Q1288.62 1522.75 1286.79 1519.2 Q1284.99 1515.64 1281.35 1515.64 M1281.35 1511.93 Q1287.16 1511.93 1290.22 1516.54 Q1293.3 1521.12 1293.3 1529.87 Q1293.3 1538.6 1290.22 1543.21 Q1287.16 1547.79 1281.35 1547.79 Q1275.54 1547.79 1272.47 1543.21 Q1269.41 1538.6 1269.41 1529.87 Q1269.41 1521.12 1272.47 1516.54 Q1275.54 1511.93 1281.35 1511.93 Z\" fill=\"#000000\" fill-rule=\"evenodd\" fill-opacity=\"1\" /><path clip-path=\"url(#clip810)\" d=\"M 0 0 M1737.35 1543.18 L1744.99 1543.18 L1744.99 1516.82 L1736.68 1518.49 L1736.68 1514.23 L1744.94 1512.56 L1749.62 1512.56 L1749.62 1543.18 L1757.25 1543.18 L1757.25 1547.12 L1737.35 1547.12 L1737.35 1543.18 Z\" fill=\"#000000\" fill-rule=\"evenodd\" fill-opacity=\"1\" /><path clip-path=\"url(#clip810)\" d=\"M 0 0 M1762.37 1512.56 L1780.73 1512.56 L1780.73 1516.5 L1766.65 1516.5 L1766.65 1524.97 Q1767.67 1524.62 1768.69 1524.46 Q1769.71 1524.27 1770.73 1524.27 Q1776.51 1524.27 1779.89 1527.44 Q1783.27 1530.62 1783.27 1536.03 Q1783.27 1541.61 1779.8 1544.71 Q1776.33 1547.79 1770.01 1547.79 Q1767.83 1547.79 1765.57 1547.42 Q1763.32 1547.05 1760.91 1546.31 L1760.91 1541.61 Q1763 1542.74 1765.22 1543.3 Q1767.44 1543.86 1769.92 1543.86 Q1773.92 1543.86 1776.26 1541.75 Q1778.6 1539.64 1778.6 1536.03 Q1778.6 1532.42 1776.26 1530.31 Q1773.92 1528.21 1769.92 1528.21 Q1768.04 1528.21 1766.17 1528.62 Q1764.32 1529.04 1762.37 1529.92 L1762.37 1512.56 Z\" fill=\"#000000\" fill-rule=\"evenodd\" fill-opacity=\"1\" /><path clip-path=\"url(#clip810)\" d=\"M 0 0 M1798.34 1515.64 Q1794.73 1515.64 1792.9 1519.2 Q1791.1 1522.75 1791.1 1529.87 Q1791.1 1536.98 1792.9 1540.55 Q1794.73 1544.09 1798.34 1544.09 Q1801.98 1544.09 1803.78 1540.55 Q1805.61 1536.98 1805.61 1529.87 Q1805.61 1522.75 1803.78 1519.2 Q1801.98 1515.64 1798.34 1515.64 M1798.34 1511.93 Q1804.15 1511.93 1807.21 1516.54 Q1810.29 1521.12 1810.29 1529.87 Q1810.29 1538.6 1807.21 1543.21 Q1804.15 1547.79 1798.34 1547.79 Q1792.53 1547.79 1789.45 1543.21 Q1786.4 1538.6 1786.4 1529.87 Q1786.4 1521.12 1789.45 1516.54 Q1792.53 1511.93 1798.34 1511.93 Z\" fill=\"#000000\" fill-rule=\"evenodd\" fill-opacity=\"1\" /><path clip-path=\"url(#clip810)\" d=\"M 0 0 M2258.61 1543.18 L2274.93 1543.18 L2274.93 1547.12 L2252.98 1547.12 L2252.98 1543.18 Q2255.64 1540.43 2260.23 1535.8 Q2264.83 1531.15 2266.01 1529.81 Q2268.26 1527.28 2269.14 1525.55 Q2270.04 1523.79 2270.04 1522.1 Q2270.04 1519.34 2268.1 1517.61 Q2266.18 1515.87 2263.07 1515.87 Q2260.88 1515.87 2258.42 1516.63 Q2255.99 1517.4 2253.21 1518.95 L2253.21 1514.23 Q2256.04 1513.09 2258.49 1512.51 Q2260.95 1511.93 2262.98 1511.93 Q2268.35 1511.93 2271.55 1514.62 Q2274.74 1517.31 2274.74 1521.8 Q2274.74 1523.93 2273.93 1525.85 Q2273.14 1527.74 2271.04 1530.34 Q2270.46 1531.01 2267.36 1534.23 Q2264.26 1537.42 2258.61 1543.18 Z\" fill=\"#000000\" fill-rule=\"evenodd\" fill-opacity=\"1\" /><path clip-path=\"url(#clip810)\" d=\"M 0 0 M2290 1515.64 Q2286.38 1515.64 2284.56 1519.2 Q2282.75 1522.75 2282.75 1529.87 Q2282.75 1536.98 2284.56 1540.55 Q2286.38 1544.09 2290 1544.09 Q2293.63 1544.09 2295.44 1540.55 Q2297.26 1536.98 2297.26 1529.87 Q2297.26 1522.75 2295.44 1519.2 Q2293.63 1515.64 2290 1515.64 M2290 1511.93 Q2295.81 1511.93 2298.86 1516.54 Q2301.94 1521.12 2301.94 1529.87 Q2301.94 1538.6 2298.86 1543.21 Q2295.81 1547.79 2290 1547.79 Q2284.19 1547.79 2281.11 1543.21 Q2278.05 1538.6 2278.05 1529.87 Q2278.05 1521.12 2281.11 1516.54 Q2284.19 1511.93 2290 1511.93 Z\" fill=\"#000000\" fill-rule=\"evenodd\" fill-opacity=\"1\" /><path clip-path=\"url(#clip810)\" d=\"M 0 0 M2317.01 1515.64 Q2313.4 1515.64 2311.57 1519.2 Q2309.76 1522.75 2309.76 1529.87 Q2309.76 1536.98 2311.57 1540.55 Q2313.4 1544.09 2317.01 1544.09 Q2320.64 1544.09 2322.45 1540.55 Q2324.28 1536.98 2324.28 1529.87 Q2324.28 1522.75 2322.45 1519.2 Q2320.64 1515.64 2317.01 1515.64 M2317.01 1511.93 Q2322.82 1511.93 2325.88 1516.54 Q2328.95 1521.12 2328.95 1529.87 Q2328.95 1538.6 2325.88 1543.21 Q2322.82 1547.79 2317.01 1547.79 Q2311.2 1547.79 2308.12 1543.21 Q2305.07 1538.6 2305.07 1529.87 Q2305.07 1521.12 2308.12 1516.54 Q2311.2 1511.93 2317.01 1511.93 Z\" fill=\"#000000\" fill-rule=\"evenodd\" fill-opacity=\"1\" /><polyline clip-path=\"url(#clip812)\" style=\"stroke:#000000; stroke-width:2; stroke-opacity:0.1; fill:none\" points=\"\n",
       "  169.584,1310.25 2352.76,1310.25 \n",
       "  \"/>\n",
       "<polyline clip-path=\"url(#clip812)\" style=\"stroke:#000000; stroke-width:2; stroke-opacity:0.1; fill:none\" points=\"\n",
       "  169.584,974.023 2352.76,974.023 \n",
       "  \"/>\n",
       "<polyline clip-path=\"url(#clip812)\" style=\"stroke:#000000; stroke-width:2; stroke-opacity:0.1; fill:none\" points=\"\n",
       "  169.584,637.798 2352.76,637.798 \n",
       "  \"/>\n",
       "<polyline clip-path=\"url(#clip812)\" style=\"stroke:#000000; stroke-width:2; stroke-opacity:0.1; fill:none\" points=\"\n",
       "  169.584,301.572 2352.76,301.572 \n",
       "  \"/>\n",
       "<polyline clip-path=\"url(#clip810)\" style=\"stroke:#000000; stroke-width:4; stroke-opacity:1; fill:none\" points=\"\n",
       "  169.584,1486.45 169.584,47.2441 \n",
       "  \"/>\n",
       "<polyline clip-path=\"url(#clip810)\" style=\"stroke:#000000; stroke-width:4; stroke-opacity:1; fill:none\" points=\"\n",
       "  169.584,1310.25 195.782,1310.25 \n",
       "  \"/>\n",
       "<polyline clip-path=\"url(#clip810)\" style=\"stroke:#000000; stroke-width:4; stroke-opacity:1; fill:none\" points=\"\n",
       "  169.584,974.023 195.782,974.023 \n",
       "  \"/>\n",
       "<polyline clip-path=\"url(#clip810)\" style=\"stroke:#000000; stroke-width:4; stroke-opacity:1; fill:none\" points=\"\n",
       "  169.584,637.798 195.782,637.798 \n",
       "  \"/>\n",
       "<polyline clip-path=\"url(#clip810)\" style=\"stroke:#000000; stroke-width:4; stroke-opacity:1; fill:none\" points=\"\n",
       "  169.584,301.572 195.782,301.572 \n",
       "  \"/>\n",
       "<path clip-path=\"url(#clip810)\" d=\"M 0 0 M51.3162 1310.7 L80.992 1310.7 L80.992 1314.64 L51.3162 1314.64 L51.3162 1310.7 Z\" fill=\"#000000\" fill-rule=\"evenodd\" fill-opacity=\"1\" /><path clip-path=\"url(#clip810)\" d=\"M 0 0 M90.0891 1323.59 L106.408 1323.59 L106.408 1327.53 L84.4642 1327.53 L84.4642 1323.59 Q87.1262 1320.84 91.7095 1316.21 Q96.316 1311.56 97.4965 1310.21 Q99.7419 1307.69 100.621 1305.96 Q101.524 1304.2 101.524 1302.51 Q101.524 1299.75 99.5798 1298.02 Q97.6585 1296.28 94.5567 1296.28 Q92.3576 1296.28 89.904 1297.04 Q87.4734 1297.81 84.6956 1299.36 L84.6956 1294.64 Q87.5197 1293.5 89.9734 1292.92 Q92.4271 1292.34 94.4641 1292.34 Q99.8345 1292.34 103.029 1295.03 Q106.223 1297.71 106.223 1302.21 Q106.223 1304.33 105.413 1306.26 Q104.626 1308.15 102.52 1310.75 Q101.941 1311.42 98.8391 1314.64 Q95.7373 1317.83 90.0891 1323.59 Z\" fill=\"#000000\" fill-rule=\"evenodd\" fill-opacity=\"1\" /><path clip-path=\"url(#clip810)\" d=\"M 0 0 M122.057 1308.39 Q118.908 1308.39 117.057 1310.54 Q115.228 1312.69 115.228 1316.44 Q115.228 1320.17 117.057 1322.34 Q118.908 1324.5 122.057 1324.5 Q125.205 1324.5 127.033 1322.34 Q128.885 1320.17 128.885 1316.44 Q128.885 1312.69 127.033 1310.54 Q125.205 1308.39 122.057 1308.39 M131.339 1293.73 L131.339 1297.99 Q129.58 1297.16 127.774 1296.72 Q125.992 1296.28 124.232 1296.28 Q119.603 1296.28 117.149 1299.4 Q114.719 1302.53 114.371 1308.85 Q115.737 1306.83 117.797 1305.77 Q119.857 1304.68 122.334 1304.68 Q127.543 1304.68 130.552 1307.85 Q133.584 1311 133.584 1316.44 Q133.584 1321.77 130.436 1324.98 Q127.288 1328.2 122.057 1328.2 Q116.061 1328.2 112.89 1323.62 Q109.719 1319.01 109.719 1310.28 Q109.719 1302.09 113.608 1297.23 Q117.496 1292.34 124.047 1292.34 Q125.807 1292.34 127.589 1292.69 Q129.394 1293.04 131.339 1293.73 Z\" fill=\"#000000\" fill-rule=\"evenodd\" fill-opacity=\"1\" /><path clip-path=\"url(#clip810)\" d=\"M 0 0 M50.9921 974.475 L80.6679 974.475 L80.6679 978.41 L50.9921 978.41 L50.9921 974.475 Z\" fill=\"#000000\" fill-rule=\"evenodd\" fill-opacity=\"1\" /><path clip-path=\"url(#clip810)\" d=\"M 0 0 M89.7651 987.368 L106.084 987.368 L106.084 991.303 L84.1401 991.303 L84.1401 987.368 Q86.8021 984.614 91.3854 979.984 Q95.9919 975.331 97.1724 973.989 Q99.4178 971.466 100.297 969.729 Q101.2 967.97 101.2 966.28 Q101.2 963.526 99.2558 961.79 Q97.3345 960.054 94.2326 960.054 Q92.0336 960.054 89.5799 960.817 Q87.1493 961.581 84.3716 963.132 L84.3716 958.41 Q87.1956 957.276 89.6493 956.697 Q92.103 956.118 94.14 956.118 Q99.5104 956.118 102.705 958.804 Q105.899 961.489 105.899 965.979 Q105.899 968.109 105.089 970.03 Q104.302 971.929 102.196 974.521 Q101.617 975.192 98.515 978.41 Q95.4132 981.604 89.7651 987.368 Z\" fill=\"#000000\" fill-rule=\"evenodd\" fill-opacity=\"1\" /><path clip-path=\"url(#clip810)\" d=\"M 0 0 M124.001 960.817 L112.196 979.266 L124.001 979.266 L124.001 960.817 M122.774 956.743 L128.654 956.743 L128.654 979.266 L133.584 979.266 L133.584 983.155 L128.654 983.155 L128.654 991.303 L124.001 991.303 L124.001 983.155 L108.399 983.155 L108.399 978.641 L122.774 956.743 Z\" fill=\"#000000\" fill-rule=\"evenodd\" fill-opacity=\"1\" /><path clip-path=\"url(#clip810)\" d=\"M 0 0 M53.0754 638.249 L82.7512 638.249 L82.7512 642.184 L53.0754 642.184 L53.0754 638.249 Z\" fill=\"#000000\" fill-rule=\"evenodd\" fill-opacity=\"1\" /><path clip-path=\"url(#clip810)\" d=\"M 0 0 M91.8484 651.142 L108.168 651.142 L108.168 655.078 L86.2234 655.078 L86.2234 651.142 Q88.8854 648.388 93.4688 643.758 Q98.0752 639.106 99.2558 637.763 Q101.501 635.24 102.381 633.504 Q103.284 631.744 103.284 630.055 Q103.284 627.3 101.339 625.564 Q99.4178 623.828 96.316 623.828 Q94.1169 623.828 91.6632 624.592 Q89.2327 625.356 86.4549 626.907 L86.4549 622.184 Q89.279 621.05 91.7326 620.471 Q94.1863 619.893 96.2234 619.893 Q101.594 619.893 104.788 622.578 Q107.983 625.263 107.983 629.754 Q107.983 631.883 107.172 633.805 Q106.385 635.703 104.279 638.295 Q103.7 638.967 100.598 642.184 Q97.4965 645.379 91.8484 651.142 Z\" fill=\"#000000\" fill-rule=\"evenodd\" fill-opacity=\"1\" /><path clip-path=\"url(#clip810)\" d=\"M 0 0 M117.265 651.142 L133.584 651.142 L133.584 655.078 L111.64 655.078 L111.64 651.142 Q114.302 648.388 118.885 643.758 Q123.492 639.106 124.672 637.763 Q126.918 635.24 127.797 633.504 Q128.7 631.744 128.7 630.055 Q128.7 627.3 126.756 625.564 Q124.834 623.828 121.732 623.828 Q119.533 623.828 117.08 624.592 Q114.649 625.356 111.871 626.907 L111.871 622.184 Q114.695 621.05 117.149 620.471 Q119.603 619.893 121.64 619.893 Q127.01 619.893 130.205 622.578 Q133.399 625.263 133.399 629.754 Q133.399 631.883 132.589 633.805 Q131.802 635.703 129.695 638.295 Q129.117 638.967 126.015 642.184 Q122.913 645.379 117.265 651.142 Z\" fill=\"#000000\" fill-rule=\"evenodd\" fill-opacity=\"1\" /><path clip-path=\"url(#clip810)\" d=\"M 0 0 M51.4782 302.023 L81.154 302.023 L81.154 305.958 L51.4782 305.958 L51.4782 302.023 Z\" fill=\"#000000\" fill-rule=\"evenodd\" fill-opacity=\"1\" /><path clip-path=\"url(#clip810)\" d=\"M 0 0 M90.2512 314.917 L106.571 314.917 L106.571 318.852 L84.6262 318.852 L84.6262 314.917 Q87.2882 312.162 91.8715 307.533 Q96.478 302.88 97.6585 301.537 Q99.9039 299.014 100.784 297.278 Q101.686 295.519 101.686 293.829 Q101.686 291.074 99.7419 289.338 Q97.8206 287.602 94.7187 287.602 Q92.5197 287.602 90.066 288.366 Q87.6354 289.13 84.8577 290.681 L84.8577 285.959 Q87.6817 284.824 90.1354 284.246 Q92.5891 283.667 94.6262 283.667 Q99.9965 283.667 103.191 286.352 Q106.385 289.037 106.385 293.528 Q106.385 295.658 105.575 297.579 Q104.788 299.477 102.682 302.07 Q102.103 302.741 99.0011 305.958 Q95.8993 309.153 90.2512 314.917 Z\" fill=\"#000000\" fill-rule=\"evenodd\" fill-opacity=\"1\" /><path clip-path=\"url(#clip810)\" d=\"M 0 0 M121.64 287.371 Q118.029 287.371 116.2 290.935 Q114.395 294.477 114.395 301.607 Q114.395 308.713 116.2 312.278 Q118.029 315.82 121.64 315.82 Q125.274 315.82 127.08 312.278 Q128.908 308.713 128.908 301.607 Q128.908 294.477 127.08 290.935 Q125.274 287.371 121.64 287.371 M121.64 283.667 Q127.45 283.667 130.506 288.273 Q133.584 292.857 133.584 301.607 Q133.584 310.333 130.506 314.94 Q127.45 319.523 121.64 319.523 Q115.83 319.523 112.751 314.94 Q109.696 310.333 109.696 301.607 Q109.696 292.857 112.751 288.273 Q115.83 283.667 121.64 283.667 Z\" fill=\"#000000\" fill-rule=\"evenodd\" fill-opacity=\"1\" /><polyline clip-path=\"url(#clip812)\" style=\"stroke:#009af9; stroke-width:4; stroke-opacity:1; fill:none\" points=\"\n",
       "  231.372,1153.51 241.722,1175.26 252.072,1321.98 262.421,1321.98 272.771,1190.23 283.121,1190.23 293.471,1190.23 303.82,1190.23 314.17,1190.23 324.52,1141.63 \n",
       "  334.869,1267.24 345.219,1267.24 355.569,1105.19 365.919,1179.46 376.268,482.172 386.618,338.097 396.968,262.672 407.318,262.672 417.667,262.672 428.017,262.672 \n",
       "  438.367,295.505 448.716,435.485 459.066,435.485 469.416,435.485 479.766,289.896 490.115,559.317 500.465,446.102 510.815,446.102 521.165,631.835 531.514,631.835 \n",
       "  541.864,631.835 552.214,631.835 562.563,718.777 572.913,833.229 583.263,833.229 593.613,833.229 603.962,833.229 614.312,833.229 624.662,833.229 635.012,841.292 \n",
       "  645.361,1290.29 655.711,681.736 666.061,455.535 676.41,455.535 686.76,406.5 697.11,406.5 707.46,304.127 717.809,304.127 728.159,342.538 738.509,342.538 \n",
       "  748.859,342.538 759.208,342.538 769.558,342.538 779.908,285.609 790.257,386.56 800.607,968.126 810.957,968.126 821.307,1003.91 831.656,1032.67 842.006,679.114 \n",
       "  852.356,679.114 862.706,415.408 873.055,574.441 883.405,399.545 893.755,409.653 904.104,409.653 914.454,448.895 924.804,448.895 935.154,652.22 945.503,592.486 \n",
       "  955.853,592.486 966.203,579.133 976.553,641.163 986.902,641.163 997.252,641.163 1007.6,641.163 1017.95,641.163 1028.3,641.163 1038.65,641.163 1049,641.163 \n",
       "  1059.35,502.701 1069.7,502.701 1080.05,502.701 1090.4,502.701 1100.75,502.701 1111.1,502.701 1121.45,502.701 1131.8,689.516 1142.15,689.516 1152.5,334.673 \n",
       "  1162.85,633.342 1173.2,460.865 1183.55,460.865 1193.9,460.865 1204.25,571.261 1214.6,571.261 1224.95,572.96 1235.3,572.96 1245.65,572.96 1256,408.433 \n",
       "  1266.34,647.78 1276.69,647.78 1287.04,423.193 1297.39,446.616 1307.74,446.616 1318.09,446.616 1328.44,446.616 1338.79,446.616 1349.14,413.954 1359.49,413.954 \n",
       "  1369.84,413.954 1380.19,413.954 1390.54,413.954 1400.89,413.954 1411.24,425.592 1421.59,425.592 1431.94,507.528 1442.29,415.72 1452.64,415.72 1462.99,415.72 \n",
       "  1473.34,456.827 1483.69,456.827 1494.04,501.654 1504.39,481.068 1514.74,481.068 1525.09,560.684 1535.44,508.259 1545.79,228.476 1556.14,228.476 1566.49,228.476 \n",
       "  1576.84,228.476 1587.19,191.626 1597.54,191.626 1607.89,257.56 1618.24,289.478 1628.59,289.478 1638.94,152.045 1649.28,87.9763 1659.63,117.815 1669.98,117.815 \n",
       "  1680.33,317.808 1690.68,248.053 1701.03,274.255 1711.38,249.028 1721.73,317.891 1732.08,317.891 1742.43,317.891 1752.78,317.891 1763.13,317.891 1773.48,317.891 \n",
       "  1783.83,317.891 1794.18,317.891 1804.53,317.891 1814.88,461.106 1825.23,872.206 1835.58,479.006 1845.93,557.845 1856.28,433.038 1866.63,433.038 1876.98,433.038 \n",
       "  1887.33,667.949 1897.68,667.949 1908.03,667.949 1918.38,667.949 1928.73,595.206 1939.08,595.206 1949.43,681.541 1959.78,681.541 1970.13,681.541 1980.48,681.541 \n",
       "  1990.83,681.541 2001.18,588.543 2011.53,533.667 2021.88,731.9 2032.22,932.398 2042.57,932.398 2052.92,932.398 2063.27,932.398 2073.62,741.936 2083.97,319.687 \n",
       "  2094.32,379.846 2104.67,379.846 2115.02,379.846 2125.37,379.846 2135.72,379.846 2146.07,379.846 2156.42,819.679 2166.77,819.679 2177.12,784.133 2187.47,635.006 \n",
       "  2197.82,626.081 2208.17,799.907 2218.52,675.035 2228.87,675.035 2239.22,1060.11 2249.57,1211.74 2259.92,1238.52 2270.27,1445.72 2280.62,1031.5 2290.97,1031.5 \n",
       "  \n",
       "  \"/>\n",
       "<path clip-path=\"url(#clip810)\" d=\"\n",
       "M1986.39 216.178 L2279.98 216.178 L2279.98 95.2176 L1986.39 95.2176  Z\n",
       "  \" fill=\"#ffffff\" fill-rule=\"evenodd\" fill-opacity=\"1\"/>\n",
       "<polyline clip-path=\"url(#clip810)\" style=\"stroke:#000000; stroke-width:4; stroke-opacity:1; fill:none\" points=\"\n",
       "  1986.39,216.178 2279.98,216.178 2279.98,95.2176 1986.39,95.2176 1986.39,216.178 \n",
       "  \"/>\n",
       "<polyline clip-path=\"url(#clip810)\" style=\"stroke:#009af9; stroke-width:4; stroke-opacity:1; fill:none\" points=\"\n",
       "  2010.65,155.698 2156.19,155.698 \n",
       "  \"/>\n",
       "<path clip-path=\"url(#clip810)\" d=\"M 0 0 M2194.29 175.385 Q2192.49 180.015 2190.77 181.427 Q2189.06 182.839 2186.19 182.839 L2182.79 182.839 L2182.79 179.274 L2185.29 179.274 Q2187.05 179.274 2188.02 178.44 Q2188.99 177.607 2190.17 174.505 L2190.94 172.561 L2180.45 147.052 L2184.96 147.052 L2193.07 167.329 L2201.17 147.052 L2205.68 147.052 L2194.29 175.385 Z\" fill=\"#000000\" fill-rule=\"evenodd\" fill-opacity=\"1\" /><path clip-path=\"url(#clip810)\" d=\"M 0 0 M2211.56 169.042 L2219.2 169.042 L2219.2 142.677 L2210.89 144.343 L2210.89 140.084 L2219.15 138.418 L2223.83 138.418 L2223.83 169.042 L2231.47 169.042 L2231.47 172.978 L2211.56 172.978 L2211.56 169.042 Z\" fill=\"#000000\" fill-rule=\"evenodd\" fill-opacity=\"1\" /></svg>\n"
      ]
     },
     "execution_count": 60,
     "metadata": {},
     "output_type": "execute_result"
    }
   ],
   "source": [
    "plot(ll[3,:])"
   ]
  },
  {
   "cell_type": "code",
   "execution_count": 61,
   "metadata": {},
   "outputs": [
    {
     "data": {
      "text/plain": [
       "3-element Array{Float64,1}:\n",
       " 58.6791094474985\n",
       " 58.9199185991341\n",
       " 54.47929173272394"
      ]
     },
     "execution_count": 61,
     "metadata": {},
     "output_type": "execute_result"
    }
   ],
   "source": [
    "samples[:,1,1]"
   ]
  },
  {
   "cell_type": "code",
   "execution_count": 62,
   "metadata": {},
   "outputs": [
    {
     "data": {
      "text/plain": [
       "3×5 Array{Float64,2}:\n",
       " 41.6785   6.90942  6.09508  1.72528  2728.71\n",
       " 41.6785  20.1931   6.41391  1.73668  2802.82\n",
       " 41.6785  32.3226   6.91111  1.75811  2933.31"
      ]
     },
     "execution_count": 62,
     "metadata": {},
     "output_type": "execute_result"
    }
   ],
   "source": [
    "invert"
   ]
  },
  {
   "cell_type": "code",
   "execution_count": 66,
   "metadata": {},
   "outputs": [
    {
     "data": {
      "text/plain": [
       "429.2682926829268"
      ]
     },
     "execution_count": 66,
     "metadata": {},
     "output_type": "execute_result"
    }
   ],
   "source": [
    "32*(550/41)"
   ]
  },
  {
   "cell_type": "code",
   "execution_count": 82,
   "metadata": {},
   "outputs": [
    {
     "data": {
      "text/plain": [
       "9.4228178"
      ]
     },
     "execution_count": 82,
     "metadata": {},
     "output_type": "execute_result"
    }
   ],
   "source": [
    "6.38+10e-4*4.422*909.4 - 10e-4*2.281*429"
   ]
  },
  {
   "cell_type": "code",
   "execution_count": 74,
   "metadata": {},
   "outputs": [
    {
     "ename": "LoadError",
     "evalue": "\u001b[91mArgumentError: Cannot open 'data/kern_dabie_comp.csv': not a file\u001b[39m",
     "output_type": "error",
     "traceback": [
      "\u001b[91mArgumentError: Cannot open 'data/kern_dabie_comp.csv': not a file\u001b[39m",
      "",
      "Stacktrace:",
      " [1] readdlm_auto(::String, ::Char, ::Type{T} where T, ::Char, ::Bool; opts::Base.Iterators.Pairs{Symbol,Bool,Tuple{Symbol},NamedTuple{(:header,),Tuple{Bool}}}) at /Users/julia/buildbot/worker/package_macos64/build/usr/share/julia/stdlib/v1.5/DelimitedFiles/src/DelimitedFiles.jl:233",
      " [2] #readdlm#5 at /Users/julia/buildbot/worker/package_macos64/build/usr/share/julia/stdlib/v1.5/DelimitedFiles/src/DelimitedFiles.jl:170 [inlined]",
      " [3] #readdlm#4 at /Users/julia/buildbot/worker/package_macos64/build/usr/share/julia/stdlib/v1.5/DelimitedFiles/src/DelimitedFiles.jl:162 [inlined]",
      " [4] getTestSeismic(::Int64, ::Int64, ::Float64, ::Array{String,1}) at /Users/gailin/dartmouth/crustal_structure/runPerplexBatchVp/src/invertData.jl:160",
      " [5] top-level scope at In[74]:1",
      " [6] include_string(::Function, ::Module, ::String, ::String) at ./loading.jl:1091"
     ]
    }
   ],
   "source": [
    "dat = getTestSeismic(10,8,0.0,[\"D95-44\", \"HT4\", \"D95-11\"])"
   ]
  },
  {
   "cell_type": "code",
   "execution_count": null,
   "metadata": {},
   "outputs": [],
   "source": []
  }
 ],
 "metadata": {
  "kernelspec": {
   "display_name": "Julia 1.5.4",
   "language": "julia",
   "name": "julia-1.5"
  },
  "language_info": {
   "file_extension": ".jl",
   "mimetype": "application/julia",
   "name": "julia",
   "version": "1.5.4"
  }
 },
 "nbformat": 4,
 "nbformat_minor": 4
}
