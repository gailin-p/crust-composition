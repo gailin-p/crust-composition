{
 "cells": [
  {
   "cell_type": "code",
   "execution_count": 1,
   "metadata": {},
   "outputs": [
    {
     "name": "stdout",
     "output_type": "stream",
     "text": [
      "Loading crust information from file ../data/crustDistribution.jld\n"
     ]
    },
    {
     "data": {
      "text/plain": [
       "areaAverage"
      ]
     },
     "execution_count": 1,
     "metadata": {},
     "output_type": "execute_result"
    }
   ],
   "source": [
    "include(\"../src/crustDistribution.jl\")\n",
    "include(\"../src/config.jl\") # constants defined here \n",
    "include(\"../src/utilities.jl\")"
   ]
  },
  {
   "cell_type": "code",
   "execution_count": 2,
   "metadata": {},
   "outputs": [],
   "source": [
    "using StatGeochem"
   ]
  },
  {
   "cell_type": "code",
   "execution_count": 5,
   "metadata": {},
   "outputs": [],
   "source": [
    "using MAT"
   ]
  },
  {
   "cell_type": "code",
   "execution_count": 7,
   "metadata": {},
   "outputs": [
    {
     "data": {
      "text/plain": [
       "([54.8 0.9 … 1.6 0.1; 49.9 1.3 … 1.8 0.1; … ; 48.1 1.3 … 1.7 0.3; 57.9 0.5 … 0.7 0.1], Any[\"D95-10\", \"D95-11\", \"D95-12\", \"D95-13\", \"D95-16\", \"D95-19\", \"D95-2\", \"D95-22\", \"D95-24\", \"D95-25\"  …  \"D95-6\", \"D95-7\", \"D95-9\", \"FH7\", \"HL3\", \"HL9\", \"HT1\", \"HT4\", \"HT6\", \"TC3\"])"
      ]
     },
     "execution_count": 7,
     "metadata": {},
     "output_type": "execute_result"
    }
   ],
   "source": [
    "# Read in mat file\n",
    "ignp = matread(\"../igncn1.mat\")\n",
    "comp_compat, _ = convert_dabie(\"../data/kern_dabie_comp.csv\")"
   ]
  },
  {
   "cell_type": "code",
   "execution_count": 9,
   "metadata": {},
   "outputs": [
    {
     "data": {
      "text/plain": [
       "Dict{String,Any} with 54 entries:\n",
       "  \"Pd\"    => [NaN, NaN, NaN, NaN, NaN, NaN, NaN, NaN, NaN, NaN  …  NaN, NaN, Na…\n",
       "  \"MgO\"   => [3.9, 7.7, 9.4, 0.5, 2.2, 6.8, 8.2, 1.0, 6.1, 8.5  …  6.6, 2.0, 0.…\n",
       "  \"Nb\"    => [NaN, NaN, NaN, NaN, NaN, NaN, NaN, NaN, NaN, NaN  …  NaN, NaN, Na…\n",
       "  \"Gd\"    => [NaN, NaN, NaN, NaN, NaN, NaN, NaN, NaN, NaN, NaN  …  NaN, NaN, Na…\n",
       "  \"Age\"   => [NaN, NaN, NaN, NaN, NaN, NaN, NaN, NaN, NaN, NaN  …  NaN, NaN, Na…\n",
       "  \"TiO2\"  => [0.9, 1.3, 0.8, 0.2, 0.9, 0.9, 1.0, 0.5, 1.3, 0.8  …  1.9, 0.8, 0.…\n",
       "  \"Be\"    => [NaN, NaN, NaN, NaN, NaN, NaN, NaN, NaN, NaN, NaN  …  NaN, NaN, Na…\n",
       "  \"Sr\"    => [NaN, NaN, NaN, NaN, NaN, NaN, NaN, NaN, NaN, NaN  …  NaN, NaN, Na…\n",
       "  \"Ga\"    => [NaN, NaN, NaN, NaN, NaN, NaN, NaN, NaN, NaN, NaN  …  NaN, NaN, Na…\n",
       "  \"Al2O3\" => [17.3, 15.6, 12.1, 13.8, 16.9, 14.8, 15.0, 13.9, 15.3, 19.3  …  17…\n",
       "  \"CO2\"   => [0.1, 0.1, 0.1, 0.1, 0.1, 0.1, 0.1, 0.2, 0.1, 0.1  …  0.3, 0.1, 0.…\n",
       "  \"Y\"     => [NaN, NaN, NaN, NaN, NaN, NaN, NaN, NaN, NaN, NaN  …  NaN, NaN, Na…\n",
       "  \"err\"   => Dict{Any,Any}(\"Pd\"=>[NaN, NaN, NaN, NaN, NaN, NaN, NaN, NaN, NaN, …\n",
       "  \"FeO\"   => [7.71947, 8.85954, 6.42968, 1.44991, 5.55954, 6.79962, 9.18941, 3.…\n",
       "  \"Ce\"    => [NaN, NaN, NaN, NaN, NaN, NaN, NaN, NaN, NaN, NaN  …  NaN, NaN, Na…\n",
       "  \"V\"     => [NaN, NaN, NaN, NaN, NaN, NaN, NaN, NaN, NaN, NaN  …  NaN, NaN, Na…\n",
       "  \"Mo\"    => [NaN, NaN, NaN, NaN, NaN, NaN, NaN, NaN, NaN, NaN  …  NaN, NaN, Na…\n",
       "  \"Pr\"    => [NaN, NaN, NaN, NaN, NaN, NaN, NaN, NaN, NaN, NaN  …  NaN, NaN, Na…\n",
       "  \"P2O5\"  => [NaN, NaN, NaN, NaN, NaN, NaN, NaN, NaN, NaN, NaN  …  NaN, NaN, Na…\n",
       "  \"Zn\"    => [NaN, NaN, NaN, NaN, NaN, NaN, NaN, NaN, NaN, NaN  …  NaN, NaN, Na…\n",
       "  \"Sc\"    => [NaN, NaN, NaN, NaN, NaN, NaN, NaN, NaN, NaN, NaN  …  NaN, NaN, Na…\n",
       "  \"S\"     => [NaN, NaN, NaN, NaN, NaN, NaN, NaN, NaN, NaN, NaN  …  NaN, NaN, Na…\n",
       "  \"Er\"    => [NaN, NaN, NaN, NaN, NaN, NaN, NaN, NaN, NaN, NaN  …  NaN, NaN, Na…\n",
       "  \"La\"    => [NaN, NaN, NaN, NaN, NaN, NaN, NaN, NaN, NaN, NaN  …  NaN, NaN, Na…\n",
       "  \"F\"     => [NaN, NaN, NaN, NaN, NaN, NaN, NaN, NaN, NaN, NaN  …  NaN, NaN, Na…\n",
       "  ⋮       => ⋮"
      ]
     },
     "execution_count": 9,
     "metadata": {},
     "output_type": "execute_result"
    }
   ],
   "source": [
    "n = size(comp_compat)[1]\n",
    "ign_new = Dict{String,Any}()\n",
    "for re in RESAMPLED_ELEMENTS\n",
    "    ign_new[re] = fill(NaN, n)\n",
    "end\n",
    "for (i, ce) in enumerate(COMPOSITION_ELEMENTS)\n",
    "    ign_new[ce] = comp_compat[:,i]\n",
    "end\n",
    "\n",
    "ign_new[\"elements\"] = RESAMPLED_ELEMENTS\n",
    "\n",
    "# Set uncertainties\n",
    "ign_new[\"err\"] = Dict()\n",
    "for e in RESAMPLED_ELEMENTS\n",
    "    ign_new[\"err\"][e] = ign_new[e] .* (ignp[\"err2srel\"][e] / 2) # default\n",
    "    ign_new[\"err\"][e][isnan.(ign_new[e])] .= nanstd(ign_new[e]) # missing data gets std, which is a much larger uncertainty\n",
    "end\n",
    "\n",
    "# make this the usual ign \n",
    "ign = ign_new "
   ]
  },
  {
   "cell_type": "code",
   "execution_count": 23,
   "metadata": {},
   "outputs": [
    {
     "ename": "LoadError",
     "evalue": "\u001b[91mMethodError: no method matching getindex(::typeof(in), ::String)\u001b[39m",
     "output_type": "error",
     "traceback": [
      "\u001b[91mMethodError: no method matching getindex(::typeof(in), ::String)\u001b[39m",
      "",
      "Stacktrace:",
      " [1] bsresample(::Dict{String,Any}, ::Int64, ::Array{String,1}) at /Users/gailin/dartmouth/crustal_structure/StatGeochem.jl/src/utilities/Resampling.jl:224",
      " [2] top-level scope at In[23]:1",
      " [3] include_string(::Function, ::Module, ::String, ::String) at ./loading.jl:1091"
     ]
    }
   ],
   "source": [
    "resampled = bsresample(ign, 100, RESAMPLED_ELEMENTS)"
   ]
  },
  {
   "cell_type": "code",
   "execution_count": 17,
   "metadata": {},
   "outputs": [
    {
     "data": {
      "text/plain": [
       "30×52 Array{Float64,2}:\n",
       " 54.8  0.9  17.3   7.71947    3.9   6.3  …  NaN  NaN  NaN  NaN  NaN  NaN  NaN\n",
       " 49.9  1.3  15.6   8.85954    7.7   8.3     NaN  NaN  NaN  NaN  NaN  NaN  NaN\n",
       " 53.9  0.8  12.1   6.42968    9.4   6.4     NaN  NaN  NaN  NaN  NaN  NaN  NaN\n",
       " 73.4  0.2  13.8   1.44991    0.5   1.2     NaN  NaN  NaN  NaN  NaN  NaN  NaN\n",
       " 60.7  0.9  16.9   5.55954    2.2   4.5     NaN  NaN  NaN  NaN  NaN  NaN  NaN\n",
       " 56.5  0.9  14.8   6.79962    6.8   5.6  …  NaN  NaN  NaN  NaN  NaN  NaN  NaN\n",
       " 48.3  1.0  15.0   9.18941    8.2  11.3     NaN  NaN  NaN  NaN  NaN  NaN  NaN\n",
       " 71.0  0.5  13.9   3.04972    1.0   3.2     NaN  NaN  NaN  NaN  NaN  NaN  NaN\n",
       " 52.4  1.3  15.3  11.7397     6.1   8.5     NaN  NaN  NaN  NaN  NaN  NaN  NaN\n",
       " 48.1  0.8  19.3   9.10983    8.5  10.8     NaN  NaN  NaN  NaN  NaN  NaN  NaN\n",
       " 56.0  1.2  16.2   8.5896     4.3   6.4  …  NaN  NaN  NaN  NaN  NaN  NaN  NaN\n",
       " 39.9  0.5   6.8  14.4692    30.3   3.6     NaN  NaN  NaN  NaN  NaN  NaN  NaN\n",
       " 49.3  0.4   3.7   8.90945   19.3  14.5     NaN  NaN  NaN  NaN  NaN  NaN  NaN\n",
       "  ⋮                                 ⋮    ⋱    ⋮                        ⋮  \n",
       " 42.9  3.2  13.4  14.2297     5.8  12.8     NaN  NaN  NaN  NaN  NaN  NaN  NaN\n",
       " 68.7  0.4  15.1   3.08979    1.8   3.6     NaN  NaN  NaN  NaN  NaN  NaN  NaN\n",
       " 46.0  1.9  17.1  10.7694     6.6   8.4  …  NaN  NaN  NaN  NaN  NaN  NaN  NaN\n",
       " 65.7  0.8  15.1   4.95954    2.0   4.4     NaN  NaN  NaN  NaN  NaN  NaN  NaN\n",
       " 90.7  0.2   3.4   0.869943   0.6   1.0     NaN  NaN  NaN  NaN  NaN  NaN  NaN\n",
       "  8.2  0.2   1.2   0.689981  12.5  37.5     NaN  NaN  NaN  NaN  NaN  NaN  NaN\n",
       " 47.9  2.6  13.1  16.7193     5.9   9.1     NaN  NaN  NaN  NaN  NaN  NaN  NaN\n",
       " 48.4  2.4  12.9  15.4796     5.1   9.8  …  NaN  NaN  NaN  NaN  NaN  NaN  NaN\n",
       " 63.5  0.6  13.2   7.73989    6.9   1.7     NaN  NaN  NaN  NaN  NaN  NaN  NaN\n",
       " 61.8  0.6  16.3   5.3896     3.2   5.1     NaN  NaN  NaN  NaN  NaN  NaN  NaN\n",
       " 48.1  1.3  15.7  10.1195     8.1   9.0     NaN  NaN  NaN  NaN  NaN  NaN  NaN\n",
       " 57.9  0.5   5.7  27.0463     0.8   1.2     NaN  NaN  NaN  NaN  NaN  NaN  NaN"
      ]
     },
     "execution_count": 17,
     "metadata": {},
     "output_type": "execute_result"
    }
   ],
   "source": [
    "data = unelementify(ign, RESAMPLED_ELEMENTS, floatout=true)"
   ]
  },
  {
   "cell_type": "code",
   "execution_count": 65,
   "metadata": {},
   "outputs": [
    {
     "data": {
      "text/plain": [
       "difguy (generic function with 1 method)"
      ]
     },
     "execution_count": 65,
     "metadata": {},
     "output_type": "execute_result"
    }
   ],
   "source": [
    " function dbsresample2(dataset, nrows, elements=dataset[\"elements\"], p=min(0.2,nrows/length(elements[1]));\n",
    "            kernel = gaussian,\n",
    "            rng = MersenneTwister()\n",
    "        )\n",
    "        # 2d array of nominal values\n",
    "        println(\"hello world\")\n",
    "        println(typeof(dataset))\n",
    "        k = sort(collect(keys(dataset)))\n",
    "        println(k)\n",
    "        data = unelementify(dataset, elements, floatout=true)\n",
    "        #return data\n",
    "\n",
    "        # 2d array of absolute 1-sigma uncertainties\n",
    "        if haskey(dataset, \"err\") && isa(dataset[\"err\"], Dict)\n",
    "            sigma = unelementify(dataset[\"err\"], elements, floatout=true)\n",
    "        else\n",
    "            sigma = unelementify(dataset, elements.*\"_sigma\", floatout=true)\n",
    "        end\n",
    "\n",
    "        # Resample\n",
    "        sdata = bsresample(data, sigma, nrows, p, kernel=kernel, rng=rng)\n",
    "        return elementify(sdata, elements, skipstart=0)\n",
    "    end\n",
    "\n",
    "function difguy(dataset, nrows, elements)\n",
    "    println(\"hello world\")\n",
    "    println(typeof(dataset))\n",
    "    data = unelementify(dataset, elements, floatout=true)\n",
    "end\n",
    "\n"
   ]
  },
  {
   "cell_type": "code",
   "execution_count": 66,
   "metadata": {},
   "outputs": [
    {
     "ename": "LoadError",
     "evalue": "\u001b[91mUndefVarError: MersenneTwister not defined\u001b[39m",
     "output_type": "error",
     "traceback": [
      "\u001b[91mUndefVarError: MersenneTwister not defined\u001b[39m",
      "",
      "Stacktrace:",
      " [1] dbsresample2(::Dict{String,Any}, ::Int64, ::Array{String,1}, ::Float64) at ./In[65]:6 (repeats 2 times)",
      " [2] top-level scope at In[66]:1",
      " [3] include_string(::Function, ::Module, ::String, ::String) at ./loading.jl:1091"
     ]
    }
   ],
   "source": [
    "resampled = dbsresample2(ign, 100, RESAMPLED_ELEMENTS)"
   ]
  },
  {
   "cell_type": "code",
   "execution_count": 60,
   "metadata": {},
   "outputs": [
    {
     "data": {
      "text/plain": [
       "30×52 Array{Float64,2}:\n",
       " 54.8  0.9  17.3   7.71947    3.9   6.3  …  NaN  NaN  NaN  NaN  NaN  NaN  NaN\n",
       " 49.9  1.3  15.6   8.85954    7.7   8.3     NaN  NaN  NaN  NaN  NaN  NaN  NaN\n",
       " 53.9  0.8  12.1   6.42968    9.4   6.4     NaN  NaN  NaN  NaN  NaN  NaN  NaN\n",
       " 73.4  0.2  13.8   1.44991    0.5   1.2     NaN  NaN  NaN  NaN  NaN  NaN  NaN\n",
       " 60.7  0.9  16.9   5.55954    2.2   4.5     NaN  NaN  NaN  NaN  NaN  NaN  NaN\n",
       " 56.5  0.9  14.8   6.79962    6.8   5.6  …  NaN  NaN  NaN  NaN  NaN  NaN  NaN\n",
       " 48.3  1.0  15.0   9.18941    8.2  11.3     NaN  NaN  NaN  NaN  NaN  NaN  NaN\n",
       " 71.0  0.5  13.9   3.04972    1.0   3.2     NaN  NaN  NaN  NaN  NaN  NaN  NaN\n",
       " 52.4  1.3  15.3  11.7397     6.1   8.5     NaN  NaN  NaN  NaN  NaN  NaN  NaN\n",
       " 48.1  0.8  19.3   9.10983    8.5  10.8     NaN  NaN  NaN  NaN  NaN  NaN  NaN\n",
       " 56.0  1.2  16.2   8.5896     4.3   6.4  …  NaN  NaN  NaN  NaN  NaN  NaN  NaN\n",
       " 39.9  0.5   6.8  14.4692    30.3   3.6     NaN  NaN  NaN  NaN  NaN  NaN  NaN\n",
       " 49.3  0.4   3.7   8.90945   19.3  14.5     NaN  NaN  NaN  NaN  NaN  NaN  NaN\n",
       "  ⋮                                 ⋮    ⋱    ⋮                        ⋮  \n",
       " 42.9  3.2  13.4  14.2297     5.8  12.8     NaN  NaN  NaN  NaN  NaN  NaN  NaN\n",
       " 68.7  0.4  15.1   3.08979    1.8   3.6     NaN  NaN  NaN  NaN  NaN  NaN  NaN\n",
       " 46.0  1.9  17.1  10.7694     6.6   8.4  …  NaN  NaN  NaN  NaN  NaN  NaN  NaN\n",
       " 65.7  0.8  15.1   4.95954    2.0   4.4     NaN  NaN  NaN  NaN  NaN  NaN  NaN\n",
       " 90.7  0.2   3.4   0.869943   0.6   1.0     NaN  NaN  NaN  NaN  NaN  NaN  NaN\n",
       "  8.2  0.2   1.2   0.689981  12.5  37.5     NaN  NaN  NaN  NaN  NaN  NaN  NaN\n",
       " 47.9  2.6  13.1  16.7193     5.9   9.1     NaN  NaN  NaN  NaN  NaN  NaN  NaN\n",
       " 48.4  2.4  12.9  15.4796     5.1   9.8  …  NaN  NaN  NaN  NaN  NaN  NaN  NaN\n",
       " 63.5  0.6  13.2   7.73989    6.9   1.7     NaN  NaN  NaN  NaN  NaN  NaN  NaN\n",
       " 61.8  0.6  16.3   5.3896     3.2   5.1     NaN  NaN  NaN  NaN  NaN  NaN  NaN\n",
       " 48.1  1.3  15.7  10.1195     8.1   9.0     NaN  NaN  NaN  NaN  NaN  NaN  NaN\n",
       " 57.9  0.5   5.7  27.0463     0.8   1.2     NaN  NaN  NaN  NaN  NaN  NaN  NaN"
      ]
     },
     "execution_count": 60,
     "metadata": {},
     "output_type": "execute_result"
    }
   ],
   "source": [
    "resampled"
   ]
  },
  {
   "cell_type": "code",
   "execution_count": null,
   "metadata": {},
   "outputs": [],
   "source": []
  }
 ],
 "metadata": {
  "kernelspec": {
   "display_name": "Julia 1.5.4",
   "language": "julia",
   "name": "julia-1.5"
  },
  "language_info": {
   "file_extension": ".jl",
   "mimetype": "application/julia",
   "name": "julia",
   "version": "1.5.4"
  }
 },
 "nbformat": 4,
 "nbformat_minor": 4
}
