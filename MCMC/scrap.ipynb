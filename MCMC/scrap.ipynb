{
 "cells": [
  {
   "cell_type": "code",
   "execution_count": 98,
   "metadata": {},
   "outputs": [
    {
     "name": "stdout",
     "output_type": "stream",
     "text": [
      "Loading crust information from file ../data/crustDistribution.jld\n"
     ]
    },
    {
     "name": "stderr",
     "output_type": "stream",
     "text": [
      "WARNING: replacing module crustDistribution.\n",
      "WARNING: redefinition of constant COMPOSITION_ELEMENTS. This may fail, cause incorrect answers, or produce other errors.\n",
      "WARNING: redefinition of constant PERPLEX_COMPOSITION_ELTS. This may fail, cause incorrect answers, or produce other errors.\n",
      "WARNING: redefinition of constant MINOR_ELTS. This may fail, cause incorrect answers, or produce other errors.\n",
      "WARNING: redefinition of constant RESAMPLED_ELEMENTS. This may fail, cause incorrect answers, or produce other errors.\n",
      "WARNING: redefinition of constant PERPLEX_ELEMENTS. This may fail, cause incorrect answers, or produce other errors.\n"
     ]
    }
   ],
   "source": [
    "include(\"../src/crustDistribution.jl\")\n",
    "include(\"../src/config.jl\") # constants defined here \n",
    "include(\"../src/utilities.jl\")\n",
    "\n",
    "include(\"../src/invertData.jl\")\n",
    "\n",
    "using Plots; gr();"
   ]
  },
  {
   "cell_type": "code",
   "execution_count": 2,
   "metadata": {},
   "outputs": [],
   "source": [
    "using StatGeochem"
   ]
  },
  {
   "cell_type": "code",
   "execution_count": 5,
   "metadata": {},
   "outputs": [],
   "source": [
    "using MAT"
   ]
  },
  {
   "cell_type": "code",
   "execution_count": 7,
   "metadata": {},
   "outputs": [
    {
     "data": {
      "text/plain": [
       "([54.8 0.9 … 1.6 0.1; 49.9 1.3 … 1.8 0.1; … ; 48.1 1.3 … 1.7 0.3; 57.9 0.5 … 0.7 0.1], Any[\"D95-10\", \"D95-11\", \"D95-12\", \"D95-13\", \"D95-16\", \"D95-19\", \"D95-2\", \"D95-22\", \"D95-24\", \"D95-25\"  …  \"D95-6\", \"D95-7\", \"D95-9\", \"FH7\", \"HL3\", \"HL9\", \"HT1\", \"HT4\", \"HT6\", \"TC3\"])"
      ]
     },
     "execution_count": 7,
     "metadata": {},
     "output_type": "execute_result"
    }
   ],
   "source": [
    "# Read in mat file\n",
    "ignp = matread(\"../igncn1.mat\")\n",
    "comp_compat, _ = convert_dabie(\"../data/kern_dabie_comp.csv\")"
   ]
  },
  {
   "cell_type": "code",
   "execution_count": 9,
   "metadata": {},
   "outputs": [
    {
     "data": {
      "text/plain": [
       "Dict{String,Any} with 54 entries:\n",
       "  \"Pd\"    => [NaN, NaN, NaN, NaN, NaN, NaN, NaN, NaN, NaN, NaN  …  NaN, NaN, Na…\n",
       "  \"MgO\"   => [3.9, 7.7, 9.4, 0.5, 2.2, 6.8, 8.2, 1.0, 6.1, 8.5  …  6.6, 2.0, 0.…\n",
       "  \"Nb\"    => [NaN, NaN, NaN, NaN, NaN, NaN, NaN, NaN, NaN, NaN  …  NaN, NaN, Na…\n",
       "  \"Gd\"    => [NaN, NaN, NaN, NaN, NaN, NaN, NaN, NaN, NaN, NaN  …  NaN, NaN, Na…\n",
       "  \"Age\"   => [NaN, NaN, NaN, NaN, NaN, NaN, NaN, NaN, NaN, NaN  …  NaN, NaN, Na…\n",
       "  \"TiO2\"  => [0.9, 1.3, 0.8, 0.2, 0.9, 0.9, 1.0, 0.5, 1.3, 0.8  …  1.9, 0.8, 0.…\n",
       "  \"Be\"    => [NaN, NaN, NaN, NaN, NaN, NaN, NaN, NaN, NaN, NaN  …  NaN, NaN, Na…\n",
       "  \"Sr\"    => [NaN, NaN, NaN, NaN, NaN, NaN, NaN, NaN, NaN, NaN  …  NaN, NaN, Na…\n",
       "  \"Ga\"    => [NaN, NaN, NaN, NaN, NaN, NaN, NaN, NaN, NaN, NaN  …  NaN, NaN, Na…\n",
       "  \"Al2O3\" => [17.3, 15.6, 12.1, 13.8, 16.9, 14.8, 15.0, 13.9, 15.3, 19.3  …  17…\n",
       "  \"CO2\"   => [0.1, 0.1, 0.1, 0.1, 0.1, 0.1, 0.1, 0.2, 0.1, 0.1  …  0.3, 0.1, 0.…\n",
       "  \"Y\"     => [NaN, NaN, NaN, NaN, NaN, NaN, NaN, NaN, NaN, NaN  …  NaN, NaN, Na…\n",
       "  \"err\"   => Dict{Any,Any}(\"Pd\"=>[NaN, NaN, NaN, NaN, NaN, NaN, NaN, NaN, NaN, …\n",
       "  \"FeO\"   => [7.71947, 8.85954, 6.42968, 1.44991, 5.55954, 6.79962, 9.18941, 3.…\n",
       "  \"Ce\"    => [NaN, NaN, NaN, NaN, NaN, NaN, NaN, NaN, NaN, NaN  …  NaN, NaN, Na…\n",
       "  \"V\"     => [NaN, NaN, NaN, NaN, NaN, NaN, NaN, NaN, NaN, NaN  …  NaN, NaN, Na…\n",
       "  \"Mo\"    => [NaN, NaN, NaN, NaN, NaN, NaN, NaN, NaN, NaN, NaN  …  NaN, NaN, Na…\n",
       "  \"Pr\"    => [NaN, NaN, NaN, NaN, NaN, NaN, NaN, NaN, NaN, NaN  …  NaN, NaN, Na…\n",
       "  \"P2O5\"  => [NaN, NaN, NaN, NaN, NaN, NaN, NaN, NaN, NaN, NaN  …  NaN, NaN, Na…\n",
       "  \"Zn\"    => [NaN, NaN, NaN, NaN, NaN, NaN, NaN, NaN, NaN, NaN  …  NaN, NaN, Na…\n",
       "  \"Sc\"    => [NaN, NaN, NaN, NaN, NaN, NaN, NaN, NaN, NaN, NaN  …  NaN, NaN, Na…\n",
       "  \"S\"     => [NaN, NaN, NaN, NaN, NaN, NaN, NaN, NaN, NaN, NaN  …  NaN, NaN, Na…\n",
       "  \"Er\"    => [NaN, NaN, NaN, NaN, NaN, NaN, NaN, NaN, NaN, NaN  …  NaN, NaN, Na…\n",
       "  \"La\"    => [NaN, NaN, NaN, NaN, NaN, NaN, NaN, NaN, NaN, NaN  …  NaN, NaN, Na…\n",
       "  \"F\"     => [NaN, NaN, NaN, NaN, NaN, NaN, NaN, NaN, NaN, NaN  …  NaN, NaN, Na…\n",
       "  ⋮       => ⋮"
      ]
     },
     "execution_count": 9,
     "metadata": {},
     "output_type": "execute_result"
    }
   ],
   "source": [
    "n = size(comp_compat)[1]\n",
    "ign_new = Dict{String,Any}()\n",
    "for re in RESAMPLED_ELEMENTS\n",
    "    ign_new[re] = fill(NaN, n)\n",
    "end\n",
    "for (i, ce) in enumerate(COMPOSITION_ELEMENTS)\n",
    "    ign_new[ce] = comp_compat[:,i]\n",
    "end\n",
    "\n",
    "ign_new[\"elements\"] = RESAMPLED_ELEMENTS\n",
    "\n",
    "# Set uncertainties\n",
    "ign_new[\"err\"] = Dict()\n",
    "for e in RESAMPLED_ELEMENTS\n",
    "    ign_new[\"err\"][e] = ign_new[e] .* (ignp[\"err2srel\"][e] / 2) # default\n",
    "    ign_new[\"err\"][e][isnan.(ign_new[e])] .= nanstd(ign_new[e]) # missing data gets std, which is a much larger uncertainty\n",
    "end\n",
    "\n",
    "# make this the usual ign \n",
    "ign = ign_new "
   ]
  },
  {
   "cell_type": "code",
   "execution_count": 23,
   "metadata": {},
   "outputs": [
    {
     "ename": "LoadError",
     "evalue": "\u001b[91mMethodError: no method matching getindex(::typeof(in), ::String)\u001b[39m",
     "output_type": "error",
     "traceback": [
      "\u001b[91mMethodError: no method matching getindex(::typeof(in), ::String)\u001b[39m",
      "",
      "Stacktrace:",
      " [1] bsresample(::Dict{String,Any}, ::Int64, ::Array{String,1}) at /Users/gailin/dartmouth/crustal_structure/StatGeochem.jl/src/utilities/Resampling.jl:224",
      " [2] top-level scope at In[23]:1",
      " [3] include_string(::Function, ::Module, ::String, ::String) at ./loading.jl:1091"
     ]
    }
   ],
   "source": [
    "resampled = bsresample(ign, 100, RESAMPLED_ELEMENTS)"
   ]
  },
  {
   "cell_type": "code",
   "execution_count": 17,
   "metadata": {},
   "outputs": [
    {
     "data": {
      "text/plain": [
       "30×52 Array{Float64,2}:\n",
       " 54.8  0.9  17.3   7.71947    3.9   6.3  …  NaN  NaN  NaN  NaN  NaN  NaN  NaN\n",
       " 49.9  1.3  15.6   8.85954    7.7   8.3     NaN  NaN  NaN  NaN  NaN  NaN  NaN\n",
       " 53.9  0.8  12.1   6.42968    9.4   6.4     NaN  NaN  NaN  NaN  NaN  NaN  NaN\n",
       " 73.4  0.2  13.8   1.44991    0.5   1.2     NaN  NaN  NaN  NaN  NaN  NaN  NaN\n",
       " 60.7  0.9  16.9   5.55954    2.2   4.5     NaN  NaN  NaN  NaN  NaN  NaN  NaN\n",
       " 56.5  0.9  14.8   6.79962    6.8   5.6  …  NaN  NaN  NaN  NaN  NaN  NaN  NaN\n",
       " 48.3  1.0  15.0   9.18941    8.2  11.3     NaN  NaN  NaN  NaN  NaN  NaN  NaN\n",
       " 71.0  0.5  13.9   3.04972    1.0   3.2     NaN  NaN  NaN  NaN  NaN  NaN  NaN\n",
       " 52.4  1.3  15.3  11.7397     6.1   8.5     NaN  NaN  NaN  NaN  NaN  NaN  NaN\n",
       " 48.1  0.8  19.3   9.10983    8.5  10.8     NaN  NaN  NaN  NaN  NaN  NaN  NaN\n",
       " 56.0  1.2  16.2   8.5896     4.3   6.4  …  NaN  NaN  NaN  NaN  NaN  NaN  NaN\n",
       " 39.9  0.5   6.8  14.4692    30.3   3.6     NaN  NaN  NaN  NaN  NaN  NaN  NaN\n",
       " 49.3  0.4   3.7   8.90945   19.3  14.5     NaN  NaN  NaN  NaN  NaN  NaN  NaN\n",
       "  ⋮                                 ⋮    ⋱    ⋮                        ⋮  \n",
       " 42.9  3.2  13.4  14.2297     5.8  12.8     NaN  NaN  NaN  NaN  NaN  NaN  NaN\n",
       " 68.7  0.4  15.1   3.08979    1.8   3.6     NaN  NaN  NaN  NaN  NaN  NaN  NaN\n",
       " 46.0  1.9  17.1  10.7694     6.6   8.4  …  NaN  NaN  NaN  NaN  NaN  NaN  NaN\n",
       " 65.7  0.8  15.1   4.95954    2.0   4.4     NaN  NaN  NaN  NaN  NaN  NaN  NaN\n",
       " 90.7  0.2   3.4   0.869943   0.6   1.0     NaN  NaN  NaN  NaN  NaN  NaN  NaN\n",
       "  8.2  0.2   1.2   0.689981  12.5  37.5     NaN  NaN  NaN  NaN  NaN  NaN  NaN\n",
       " 47.9  2.6  13.1  16.7193     5.9   9.1     NaN  NaN  NaN  NaN  NaN  NaN  NaN\n",
       " 48.4  2.4  12.9  15.4796     5.1   9.8  …  NaN  NaN  NaN  NaN  NaN  NaN  NaN\n",
       " 63.5  0.6  13.2   7.73989    6.9   1.7     NaN  NaN  NaN  NaN  NaN  NaN  NaN\n",
       " 61.8  0.6  16.3   5.3896     3.2   5.1     NaN  NaN  NaN  NaN  NaN  NaN  NaN\n",
       " 48.1  1.3  15.7  10.1195     8.1   9.0     NaN  NaN  NaN  NaN  NaN  NaN  NaN\n",
       " 57.9  0.5   5.7  27.0463     0.8   1.2     NaN  NaN  NaN  NaN  NaN  NaN  NaN"
      ]
     },
     "execution_count": 17,
     "metadata": {},
     "output_type": "execute_result"
    }
   ],
   "source": [
    "data = unelementify(ign, RESAMPLED_ELEMENTS, floatout=true)"
   ]
  },
  {
   "cell_type": "code",
   "execution_count": 65,
   "metadata": {},
   "outputs": [
    {
     "data": {
      "text/plain": [
       "difguy (generic function with 1 method)"
      ]
     },
     "execution_count": 65,
     "metadata": {},
     "output_type": "execute_result"
    }
   ],
   "source": [
    " function dbsresample2(dataset, nrows, elements=dataset[\"elements\"], p=min(0.2,nrows/length(elements[1]));\n",
    "            kernel = gaussian,\n",
    "            rng = MersenneTwister()\n",
    "        )\n",
    "        # 2d array of nominal values\n",
    "        println(\"hello world\")\n",
    "        println(typeof(dataset))\n",
    "        k = sort(collect(keys(dataset)))\n",
    "        println(k)\n",
    "        data = unelementify(dataset, elements, floatout=true)\n",
    "        #return data\n",
    "\n",
    "        # 2d array of absolute 1-sigma uncertainties\n",
    "        if haskey(dataset, \"err\") && isa(dataset[\"err\"], Dict)\n",
    "            sigma = unelementify(dataset[\"err\"], elements, floatout=true)\n",
    "        else\n",
    "            sigma = unelementify(dataset, elements.*\"_sigma\", floatout=true)\n",
    "        end\n",
    "\n",
    "        # Resample\n",
    "        sdata = bsresample(data, sigma, nrows, p, kernel=kernel, rng=rng)\n",
    "        return elementify(sdata, elements, skipstart=0)\n",
    "    end\n",
    "\n",
    "function difguy(dataset, nrows, elements)\n",
    "    println(\"hello world\")\n",
    "    println(typeof(dataset))\n",
    "    data = unelementify(dataset, elements, floatout=true)\n",
    "end\n",
    "\n"
   ]
  },
  {
   "cell_type": "code",
   "execution_count": 66,
   "metadata": {},
   "outputs": [
    {
     "ename": "LoadError",
     "evalue": "\u001b[91mUndefVarError: MersenneTwister not defined\u001b[39m",
     "output_type": "error",
     "traceback": [
      "\u001b[91mUndefVarError: MersenneTwister not defined\u001b[39m",
      "",
      "Stacktrace:",
      " [1] dbsresample2(::Dict{String,Any}, ::Int64, ::Array{String,1}, ::Float64) at ./In[65]:6 (repeats 2 times)",
      " [2] top-level scope at In[66]:1",
      " [3] include_string(::Function, ::Module, ::String, ::String) at ./loading.jl:1091"
     ]
    }
   ],
   "source": [
    "resampled = dbsresample2(ign, 100, RESAMPLED_ELEMENTS)"
   ]
  },
  {
   "cell_type": "code",
   "execution_count": 60,
   "metadata": {},
   "outputs": [
    {
     "data": {
      "text/plain": [
       "30×52 Array{Float64,2}:\n",
       " 54.8  0.9  17.3   7.71947    3.9   6.3  …  NaN  NaN  NaN  NaN  NaN  NaN  NaN\n",
       " 49.9  1.3  15.6   8.85954    7.7   8.3     NaN  NaN  NaN  NaN  NaN  NaN  NaN\n",
       " 53.9  0.8  12.1   6.42968    9.4   6.4     NaN  NaN  NaN  NaN  NaN  NaN  NaN\n",
       " 73.4  0.2  13.8   1.44991    0.5   1.2     NaN  NaN  NaN  NaN  NaN  NaN  NaN\n",
       " 60.7  0.9  16.9   5.55954    2.2   4.5     NaN  NaN  NaN  NaN  NaN  NaN  NaN\n",
       " 56.5  0.9  14.8   6.79962    6.8   5.6  …  NaN  NaN  NaN  NaN  NaN  NaN  NaN\n",
       " 48.3  1.0  15.0   9.18941    8.2  11.3     NaN  NaN  NaN  NaN  NaN  NaN  NaN\n",
       " 71.0  0.5  13.9   3.04972    1.0   3.2     NaN  NaN  NaN  NaN  NaN  NaN  NaN\n",
       " 52.4  1.3  15.3  11.7397     6.1   8.5     NaN  NaN  NaN  NaN  NaN  NaN  NaN\n",
       " 48.1  0.8  19.3   9.10983    8.5  10.8     NaN  NaN  NaN  NaN  NaN  NaN  NaN\n",
       " 56.0  1.2  16.2   8.5896     4.3   6.4  …  NaN  NaN  NaN  NaN  NaN  NaN  NaN\n",
       " 39.9  0.5   6.8  14.4692    30.3   3.6     NaN  NaN  NaN  NaN  NaN  NaN  NaN\n",
       " 49.3  0.4   3.7   8.90945   19.3  14.5     NaN  NaN  NaN  NaN  NaN  NaN  NaN\n",
       "  ⋮                                 ⋮    ⋱    ⋮                        ⋮  \n",
       " 42.9  3.2  13.4  14.2297     5.8  12.8     NaN  NaN  NaN  NaN  NaN  NaN  NaN\n",
       " 68.7  0.4  15.1   3.08979    1.8   3.6     NaN  NaN  NaN  NaN  NaN  NaN  NaN\n",
       " 46.0  1.9  17.1  10.7694     6.6   8.4  …  NaN  NaN  NaN  NaN  NaN  NaN  NaN\n",
       " 65.7  0.8  15.1   4.95954    2.0   4.4     NaN  NaN  NaN  NaN  NaN  NaN  NaN\n",
       " 90.7  0.2   3.4   0.869943   0.6   1.0     NaN  NaN  NaN  NaN  NaN  NaN  NaN\n",
       "  8.2  0.2   1.2   0.689981  12.5  37.5     NaN  NaN  NaN  NaN  NaN  NaN  NaN\n",
       " 47.9  2.6  13.1  16.7193     5.9   9.1     NaN  NaN  NaN  NaN  NaN  NaN  NaN\n",
       " 48.4  2.4  12.9  15.4796     5.1   9.8  …  NaN  NaN  NaN  NaN  NaN  NaN  NaN\n",
       " 63.5  0.6  13.2   7.73989    6.9   1.7     NaN  NaN  NaN  NaN  NaN  NaN  NaN\n",
       " 61.8  0.6  16.3   5.3896     3.2   5.1     NaN  NaN  NaN  NaN  NaN  NaN  NaN\n",
       " 48.1  1.3  15.7  10.1195     8.1   9.0     NaN  NaN  NaN  NaN  NaN  NaN  NaN\n",
       " 57.9  0.5   5.7  27.0463     0.8   1.2     NaN  NaN  NaN  NaN  NaN  NaN  NaN"
      ]
     },
     "execution_count": 60,
     "metadata": {},
     "output_type": "execute_result"
    }
   ],
   "source": [
    "resampled"
   ]
  },
  {
   "cell_type": "code",
   "execution_count": 71,
   "metadata": {},
   "outputs": [
    {
     "data": {
      "text/plain": [
       "([2960.0, 2960.0, 2960.0, 2960.0, 2960.0, 2960.0, 2960.0, 2960.0, 2960.0, 2960.0], [8.743733713419577, 10.10955946709667, 9.478365529244297, 9.692234539674846, 9.793101983622446, 10.18573350649299, 8.989559798368878, 9.621700337000101, 8.8504088928829, 10.212927165228539], [2.1911765531060516, 2.3119623196319155, 2.224662795861963, 2.301115445543523, 2.5093135341993933, 2.301010422204367, 2.222995774085121, 2.3093486821728195, 2.2162451717603444, 2.2121848690067747], [35.02052755021214, 43.87677234872087, 44.38165938636652, 39.05395272344739, 28.764568163940407, 46.411002150705364, 36.013701569920975, 37.40244562213366, 34.45902742339055, 65.72063732432473])"
      ]
     },
     "execution_count": 71,
     "metadata": {},
     "output_type": "execute_result"
    }
   ],
   "source": [
    "dat = getTestSeismic(10,8,0.0,[\"D95-44\", \"HT4\", \"D95-11\"])"
   ]
  },
  {
   "cell_type": "code",
   "execution_count": 72,
   "metadata": {},
   "outputs": [
    {
     "data": {
      "text/plain": [
       "10-element Array{Float64,1}:\n",
       "  8.743733713419577\n",
       " 10.10955946709667\n",
       "  9.478365529244297\n",
       "  9.692234539674846\n",
       "  9.793101983622446\n",
       " 10.18573350649299\n",
       "  8.989559798368878\n",
       "  9.621700337000101\n",
       "  8.8504088928829\n",
       " 10.212927165228539"
      ]
     },
     "execution_count": 72,
     "metadata": {},
     "output_type": "execute_result"
    }
   ],
   "source": [
    "dat[2]"
   ]
  },
  {
   "cell_type": "code",
   "execution_count": 73,
   "metadata": {},
   "outputs": [
    {
     "data": {
      "text/plain": [
       "10-element Array{Float64,1}:\n",
       " 2.1911765531060516\n",
       " 2.3119623196319155\n",
       " 2.224662795861963\n",
       " 2.301115445543523\n",
       " 2.5093135341993933\n",
       " 2.301010422204367\n",
       " 2.222995774085121\n",
       " 2.3093486821728195\n",
       " 2.2162451717603444\n",
       " 2.2121848690067747"
      ]
     },
     "execution_count": 73,
     "metadata": {},
     "output_type": "execute_result"
    }
   ],
   "source": [
    "dat[3]"
   ]
  },
  {
   "cell_type": "code",
   "execution_count": 80,
   "metadata": {},
   "outputs": [
    {
     "name": "stdout",
     "output_type": "stream",
     "text": [
      "Vs = 3.67 + 0.0001494 P + -0.001928 T \n",
      "Vp = 6.38 + 0.00044219999999999996 P + -0.002281 T \n"
     ]
    }
   ],
   "source": [
    "dat2 = getAllSeismic(8,n=10,latlong=true,dataSrc=\"DabieRG\",dataUncertainty=0.0);"
   ]
  },
  {
   "cell_type": "code",
   "execution_count": 78,
   "metadata": {},
   "outputs": [
    {
     "data": {
      "text/plain": [
       "10-element Array{Float64,1}:\n",
       " 9.261074999917824\n",
       " 8.937955101842828\n",
       " 9.434571288716048\n",
       " 9.266989484857984\n",
       " 9.235090747060658\n",
       " 9.584562158087808\n",
       " 8.925688398229456\n",
       " 8.773940858170437\n",
       " 9.336379204882734\n",
       " 9.44266583371973"
      ]
     },
     "execution_count": 78,
     "metadata": {},
     "output_type": "execute_result"
    }
   ],
   "source": [
    "dat2[1][2]"
   ]
  },
  {
   "cell_type": "code",
   "execution_count": 81,
   "metadata": {},
   "outputs": [
    {
     "name": "stdout",
     "output_type": "stream",
     "text": [
      "vp 9.4228178 vpvs 2.2427102059639394\n"
     ]
    }
   ],
   "source": [
    "vs = 3.67+10e-4*1.494*909.4 - 10e-4*1.928*429\n",
    "vp = 6.38+10e-4*4.422*909.4 - 10e-4*2.281*429\n",
    "\n",
    "println(\"vp $vp vpvs $(vp/vs)\")"
   ]
  },
  {
   "cell_type": "code",
   "execution_count": 83,
   "metadata": {},
   "outputs": [
    {
     "name": "stdout",
     "output_type": "stream",
     "text": [
      "means 2960.0, 9.435488209417962, 2.2509448489247985\n"
     ]
    }
   ],
   "source": [
    "resdat, resh = readdlm(\"../data/remote/dabie/dabierf2/results-lower.csv\", ',', header=true)\n",
    "println(\"means $(nanmean(resdat[:,1])), $(nanmean(resdat[:,2])), $(nanmean(resdat[:,3]))\")\n"
   ]
  },
  {
   "cell_type": "code",
   "execution_count": 84,
   "metadata": {},
   "outputs": [
    {
     "data": {
      "text/plain": [
       "929.2032"
      ]
     },
     "execution_count": 84,
     "metadata": {},
     "output_type": "execute_result"
    }
   ],
   "source": [
    "P = 2.960 * 9.81 * 32 # P = rho*g*z "
   ]
  },
  {
   "cell_type": "code",
   "execution_count": 86,
   "metadata": {},
   "outputs": [],
   "source": [
    "kdseis, kdh = readdlm(\"../data/kern_dabie_seismic.csv\", ',', header=true);"
   ]
  },
  {
   "cell_type": "code",
   "execution_count": 88,
   "metadata": {},
   "outputs": [
    {
     "data": {
      "text/plain": [
       "1×8 Array{AbstractString,2}:\n",
       " \"\"  \"rho (g/cm^3)\"  \"Vp0\"  \"Vs0\"  \"dVp=dP\"  \"dVs=dP\"  \"dVp=dT\"  \"dVs=dT\""
      ]
     },
     "execution_count": 88,
     "metadata": {},
     "output_type": "execute_result"
    }
   ],
   "source": [
    "kdh"
   ]
  },
  {
   "cell_type": "code",
   "execution_count": 112,
   "metadata": {},
   "outputs": [],
   "source": [
    "## For avg geotherm (TC1=41 km), middle of avg lower crust (32 km), we have: \n",
    "P = 909 # MPa\n",
    "T = 429 # degrees C \n",
    "\n",
    "vss = [] \n",
    "vps = [] \n",
    "\n",
    "for i in 1:size(kdseis)[1]\n",
    "    append!(vss, kdseis[i,4] + 10^-4*kdseis[i,6]*P - 10^-4*kdseis[i,8]*T)\n",
    "    append!(vps, kdseis[i,3] + 10^-4*kdseis[i,5]*P - 10^-4*kdseis[i,7]*T)\n",
    "end"
   ]
  },
  {
   "cell_type": "code",
   "execution_count": 113,
   "metadata": {},
   "outputs": [],
   "source": [
    "vpvss = vps ./ vss;"
   ]
  },
  {
   "cell_type": "code",
   "execution_count": 114,
   "metadata": {},
   "outputs": [
    {
     "data": {
      "image/svg+xml": [
       "<?xml version=\"1.0\" encoding=\"utf-8\"?>\n",
       "<svg xmlns=\"http://www.w3.org/2000/svg\" xmlns:xlink=\"http://www.w3.org/1999/xlink\" width=\"600\" height=\"400\" viewBox=\"0 0 2400 1600\">\n",
       "<defs>\n",
       "  <clipPath id=\"clip970\">\n",
       "    <rect x=\"0\" y=\"0\" width=\"2400\" height=\"1600\"/>\n",
       "  </clipPath>\n",
       "</defs>\n",
       "<path clip-path=\"url(#clip970)\" d=\"\n",
       "M0 1600 L2400 1600 L2400 0 L0 0  Z\n",
       "  \" fill=\"#ffffff\" fill-rule=\"evenodd\" fill-opacity=\"1\"/>\n",
       "<defs>\n",
       "  <clipPath id=\"clip971\">\n",
       "    <rect x=\"480\" y=\"0\" width=\"1681\" height=\"1600\"/>\n",
       "  </clipPath>\n",
       "</defs>\n",
       "<path clip-path=\"url(#clip970)\" d=\"\n",
       "M112.177 1423.18 L2352.76 1423.18 L2352.76 123.472 L112.177 123.472  Z\n",
       "  \" fill=\"#ffffff\" fill-rule=\"evenodd\" fill-opacity=\"1\"/>\n",
       "<defs>\n",
       "  <clipPath id=\"clip972\">\n",
       "    <rect x=\"112\" y=\"123\" width=\"2242\" height=\"1301\"/>\n",
       "  </clipPath>\n",
       "</defs>\n",
       "<polyline clip-path=\"url(#clip972)\" style=\"stroke:#000000; stroke-width:2; stroke-opacity:0.1; fill:none\" points=\"\n",
       "  235.413,1423.18 235.413,123.472 \n",
       "  \"/>\n",
       "<polyline clip-path=\"url(#clip972)\" style=\"stroke:#000000; stroke-width:2; stroke-opacity:0.1; fill:none\" points=\"\n",
       "  678.548,1423.18 678.548,123.472 \n",
       "  \"/>\n",
       "<polyline clip-path=\"url(#clip972)\" style=\"stroke:#000000; stroke-width:2; stroke-opacity:0.1; fill:none\" points=\"\n",
       "  1121.68,1423.18 1121.68,123.472 \n",
       "  \"/>\n",
       "<polyline clip-path=\"url(#clip972)\" style=\"stroke:#000000; stroke-width:2; stroke-opacity:0.1; fill:none\" points=\"\n",
       "  1564.82,1423.18 1564.82,123.472 \n",
       "  \"/>\n",
       "<polyline clip-path=\"url(#clip972)\" style=\"stroke:#000000; stroke-width:2; stroke-opacity:0.1; fill:none\" points=\"\n",
       "  2007.95,1423.18 2007.95,123.472 \n",
       "  \"/>\n",
       "<polyline clip-path=\"url(#clip970)\" style=\"stroke:#000000; stroke-width:4; stroke-opacity:1; fill:none\" points=\"\n",
       "  112.177,1423.18 2352.76,1423.18 \n",
       "  \"/>\n",
       "<polyline clip-path=\"url(#clip970)\" style=\"stroke:#000000; stroke-width:4; stroke-opacity:1; fill:none\" points=\"\n",
       "  235.413,1423.18 235.413,1407.58 \n",
       "  \"/>\n",
       "<polyline clip-path=\"url(#clip970)\" style=\"stroke:#000000; stroke-width:4; stroke-opacity:1; fill:none\" points=\"\n",
       "  678.548,1423.18 678.548,1407.58 \n",
       "  \"/>\n",
       "<polyline clip-path=\"url(#clip970)\" style=\"stroke:#000000; stroke-width:4; stroke-opacity:1; fill:none\" points=\"\n",
       "  1121.68,1423.18 1121.68,1407.58 \n",
       "  \"/>\n",
       "<polyline clip-path=\"url(#clip970)\" style=\"stroke:#000000; stroke-width:4; stroke-opacity:1; fill:none\" points=\"\n",
       "  1564.82,1423.18 1564.82,1407.58 \n",
       "  \"/>\n",
       "<polyline clip-path=\"url(#clip970)\" style=\"stroke:#000000; stroke-width:4; stroke-opacity:1; fill:none\" points=\"\n",
       "  2007.95,1423.18 2007.95,1407.58 \n",
       "  \"/>\n",
       "<path clip-path=\"url(#clip970)\" d=\"M 0 0 M207.809 1479.92 L215.448 1479.92 L215.448 1453.55 L207.138 1455.22 L207.138 1450.96 L215.402 1449.29 L220.077 1449.29 L220.077 1479.92 L227.716 1479.92 L227.716 1483.85 L207.809 1483.85 L207.809 1479.92 Z\" fill=\"#000000\" fill-rule=\"evenodd\" fill-opacity=\"1\" /><path clip-path=\"url(#clip970)\" d=\"M 0 0 M232.786 1477.97 L237.67 1477.97 L237.67 1483.85 L232.786 1483.85 L232.786 1477.97 Z\" fill=\"#000000\" fill-rule=\"evenodd\" fill-opacity=\"1\" /><path clip-path=\"url(#clip970)\" d=\"M 0 0 M242.786 1449.29 L261.142 1449.29 L261.142 1453.23 L247.068 1453.23 L247.068 1461.7 Q248.087 1461.35 249.105 1461.19 Q250.124 1461 251.142 1461 Q256.929 1461 260.309 1464.18 Q263.688 1467.35 263.688 1472.76 Q263.688 1478.34 260.216 1481.44 Q256.744 1484.52 250.424 1484.52 Q248.249 1484.52 245.98 1484.15 Q243.735 1483.78 241.327 1483.04 L241.327 1478.34 Q243.411 1479.48 245.633 1480.03 Q247.855 1480.59 250.332 1480.59 Q254.337 1480.59 256.674 1478.48 Q259.012 1476.38 259.012 1472.76 Q259.012 1469.15 256.674 1467.05 Q254.337 1464.94 250.332 1464.94 Q248.457 1464.94 246.582 1465.36 Q244.73 1465.77 242.786 1466.65 L242.786 1449.29 Z\" fill=\"#000000\" fill-rule=\"evenodd\" fill-opacity=\"1\" /><path clip-path=\"url(#clip970)\" d=\"M 0 0 M650.365 1479.92 L658.004 1479.92 L658.004 1453.55 L649.694 1455.22 L649.694 1450.96 L657.958 1449.29 L662.634 1449.29 L662.634 1479.92 L670.272 1479.92 L670.272 1483.85 L650.365 1483.85 L650.365 1479.92 Z\" fill=\"#000000\" fill-rule=\"evenodd\" fill-opacity=\"1\" /><path clip-path=\"url(#clip970)\" d=\"M 0 0 M675.342 1477.97 L680.226 1477.97 L680.226 1483.85 L675.342 1483.85 L675.342 1477.97 Z\" fill=\"#000000\" fill-rule=\"evenodd\" fill-opacity=\"1\" /><path clip-path=\"url(#clip970)\" d=\"M 0 0 M695.874 1464.71 Q692.726 1464.71 690.874 1466.86 Q689.046 1469.01 689.046 1472.76 Q689.046 1476.49 690.874 1478.67 Q692.726 1480.82 695.874 1480.82 Q699.022 1480.82 700.851 1478.67 Q702.703 1476.49 702.703 1472.76 Q702.703 1469.01 700.851 1466.86 Q699.022 1464.71 695.874 1464.71 M705.157 1450.06 L705.157 1454.31 Q703.397 1453.48 701.592 1453.04 Q699.809 1452.6 698.05 1452.6 Q693.421 1452.6 690.967 1455.73 Q688.536 1458.85 688.189 1465.17 Q689.555 1463.16 691.615 1462.09 Q693.675 1461 696.152 1461 Q701.36 1461 704.37 1464.18 Q707.402 1467.32 707.402 1472.76 Q707.402 1478.09 704.254 1481.31 Q701.106 1484.52 695.874 1484.52 Q689.879 1484.52 686.708 1479.94 Q683.536 1475.33 683.536 1466.61 Q683.536 1458.41 687.425 1453.55 Q691.314 1448.67 697.865 1448.67 Q699.624 1448.67 701.407 1449.01 Q703.212 1449.36 705.157 1450.06 Z\" fill=\"#000000\" fill-rule=\"evenodd\" fill-opacity=\"1\" /><path clip-path=\"url(#clip970)\" d=\"M 0 0 M1094.03 1479.92 L1101.67 1479.92 L1101.67 1453.55 L1093.36 1455.22 L1093.36 1450.96 L1101.63 1449.29 L1106.3 1449.29 L1106.3 1479.92 L1113.94 1479.92 L1113.94 1483.85 L1094.03 1483.85 L1094.03 1479.92 Z\" fill=\"#000000\" fill-rule=\"evenodd\" fill-opacity=\"1\" /><path clip-path=\"url(#clip970)\" d=\"M 0 0 M1119.01 1477.97 L1123.89 1477.97 L1123.89 1483.85 L1119.01 1483.85 L1119.01 1477.97 Z\" fill=\"#000000\" fill-rule=\"evenodd\" fill-opacity=\"1\" /><path clip-path=\"url(#clip970)\" d=\"M 0 0 M1127.78 1449.29 L1150 1449.29 L1150 1451.28 L1137.46 1483.85 L1132.57 1483.85 L1144.38 1453.23 L1127.78 1453.23 L1127.78 1449.29 Z\" fill=\"#000000\" fill-rule=\"evenodd\" fill-opacity=\"1\" /><path clip-path=\"url(#clip970)\" d=\"M 0 0 M1536.76 1479.92 L1544.4 1479.92 L1544.4 1453.55 L1536.09 1455.22 L1536.09 1450.96 L1544.35 1449.29 L1549.03 1449.29 L1549.03 1479.92 L1556.67 1479.92 L1556.67 1483.85 L1536.76 1483.85 L1536.76 1479.92 Z\" fill=\"#000000\" fill-rule=\"evenodd\" fill-opacity=\"1\" /><path clip-path=\"url(#clip970)\" d=\"M 0 0 M1561.74 1477.97 L1566.62 1477.97 L1566.62 1483.85 L1561.74 1483.85 L1561.74 1477.97 Z\" fill=\"#000000\" fill-rule=\"evenodd\" fill-opacity=\"1\" /><path clip-path=\"url(#clip970)\" d=\"M 0 0 M1581.69 1467.44 Q1578.36 1467.44 1576.44 1469.22 Q1574.54 1471 1574.54 1474.13 Q1574.54 1477.25 1576.44 1479.04 Q1578.36 1480.82 1581.69 1480.82 Q1585.03 1480.82 1586.95 1479.04 Q1588.87 1477.23 1588.87 1474.13 Q1588.87 1471 1586.95 1469.22 Q1585.05 1467.44 1581.69 1467.44 M1577.02 1465.45 Q1574.01 1464.71 1572.32 1462.65 Q1570.65 1460.59 1570.65 1457.63 Q1570.65 1453.48 1573.59 1451.07 Q1576.55 1448.67 1581.69 1448.67 Q1586.85 1448.67 1589.79 1451.07 Q1592.73 1453.48 1592.73 1457.63 Q1592.73 1460.59 1591.04 1462.65 Q1589.38 1464.71 1586.39 1465.45 Q1589.77 1466.24 1591.65 1468.53 Q1593.54 1470.82 1593.54 1474.13 Q1593.54 1479.15 1590.47 1481.84 Q1587.41 1484.52 1581.69 1484.52 Q1575.98 1484.52 1572.9 1481.84 Q1569.84 1479.15 1569.84 1474.13 Q1569.84 1470.82 1571.74 1468.53 Q1573.64 1466.24 1577.02 1465.45 M1575.3 1458.06 Q1575.3 1460.75 1576.97 1462.25 Q1578.66 1463.76 1581.69 1463.76 Q1584.7 1463.76 1586.39 1462.25 Q1588.1 1460.75 1588.1 1458.06 Q1588.1 1455.38 1586.39 1453.88 Q1584.7 1452.37 1581.69 1452.37 Q1578.66 1452.37 1576.97 1453.88 Q1575.3 1455.38 1575.3 1458.06 Z\" fill=\"#000000\" fill-rule=\"evenodd\" fill-opacity=\"1\" /><path clip-path=\"url(#clip970)\" d=\"M 0 0 M1979.94 1479.92 L1987.58 1479.92 L1987.58 1453.55 L1979.27 1455.22 L1979.27 1450.96 L1987.54 1449.29 L1992.21 1449.29 L1992.21 1479.92 L1999.85 1479.92 L1999.85 1483.85 L1979.94 1483.85 L1979.94 1479.92 Z\" fill=\"#000000\" fill-rule=\"evenodd\" fill-opacity=\"1\" /><path clip-path=\"url(#clip970)\" d=\"M 0 0 M2004.92 1477.97 L2009.8 1477.97 L2009.8 1483.85 L2004.92 1483.85 L2004.92 1477.97 Z\" fill=\"#000000\" fill-rule=\"evenodd\" fill-opacity=\"1\" /><path clip-path=\"url(#clip970)\" d=\"M 0 0 M2015.01 1483.13 L2015.01 1478.88 Q2016.77 1479.71 2018.58 1480.15 Q2020.38 1480.59 2022.12 1480.59 Q2026.75 1480.59 2029.18 1477.49 Q2031.63 1474.36 2031.98 1468.02 Q2030.64 1470.01 2028.58 1471.07 Q2026.52 1472.14 2024.02 1472.14 Q2018.83 1472.14 2015.8 1469.01 Q2012.79 1465.87 2012.79 1460.43 Q2012.79 1455.1 2015.94 1451.88 Q2019.09 1448.67 2024.32 1448.67 Q2030.31 1448.67 2033.46 1453.27 Q2036.63 1457.86 2036.63 1466.61 Q2036.63 1474.78 2032.74 1479.66 Q2028.88 1484.52 2022.33 1484.52 Q2020.57 1484.52 2018.76 1484.18 Q2016.96 1483.83 2015.01 1483.13 M2024.32 1468.48 Q2027.47 1468.48 2029.3 1466.33 Q2031.15 1464.18 2031.15 1460.43 Q2031.15 1456.7 2029.3 1454.55 Q2027.47 1452.37 2024.32 1452.37 Q2021.17 1452.37 2019.32 1454.55 Q2017.49 1456.7 2017.49 1460.43 Q2017.49 1464.18 2019.32 1466.33 Q2021.17 1468.48 2024.32 1468.48 Z\" fill=\"#000000\" fill-rule=\"evenodd\" fill-opacity=\"1\" /><path clip-path=\"url(#clip970)\" d=\"M 0 0 M1161.54 1568.04 L1143.39 1520.52 L1150.11 1520.52 L1165.17 1560.53 L1180.25 1520.52 L1186.94 1520.52 L1168.83 1568.04 L1161.54 1568.04 Z\" fill=\"#000000\" fill-rule=\"evenodd\" fill-opacity=\"1\" /><path clip-path=\"url(#clip970)\" d=\"M 0 0 M1198.74 1562.7 L1198.74 1581.6 L1192.86 1581.6 L1192.86 1532.4 L1198.74 1532.4 L1198.74 1537.81 Q1200.59 1534.62 1203.39 1533.1 Q1206.22 1531.54 1210.14 1531.54 Q1216.63 1531.54 1220.67 1536.69 Q1224.75 1541.85 1224.75 1550.25 Q1224.75 1558.65 1220.67 1563.81 Q1216.63 1568.97 1210.14 1568.97 Q1206.22 1568.97 1203.39 1567.44 Q1200.59 1565.88 1198.74 1562.7 M1218.67 1550.25 Q1218.67 1543.79 1216 1540.13 Q1213.35 1536.44 1208.71 1536.44 Q1204.06 1536.44 1201.39 1540.13 Q1198.74 1543.79 1198.74 1550.25 Q1198.74 1556.71 1201.39 1560.4 Q1204.06 1564.07 1208.71 1564.07 Q1213.35 1564.07 1216 1560.4 Q1218.67 1556.71 1218.67 1550.25 Z\" fill=\"#000000\" fill-rule=\"evenodd\" fill-opacity=\"1\" /><path clip-path=\"url(#clip970)\" d=\"M 0 0 M1241.3 1520.52 L1246.71 1520.52 L1230.16 1574.09 L1224.75 1574.09 L1241.3 1520.52 Z\" fill=\"#000000\" fill-rule=\"evenodd\" fill-opacity=\"1\" /><path clip-path=\"url(#clip970)\" d=\"M 0 0 M1265.36 1568.04 L1247.22 1520.52 L1253.93 1520.52 L1268.99 1560.53 L1284.08 1520.52 L1290.76 1520.52 L1272.65 1568.04 L1265.36 1568.04 Z\" fill=\"#000000\" fill-rule=\"evenodd\" fill-opacity=\"1\" /><path clip-path=\"url(#clip970)\" d=\"M 0 0 M1319.63 1533.45 L1319.63 1538.98 Q1317.15 1537.71 1314.47 1537.07 Q1311.8 1536.44 1308.93 1536.44 Q1304.57 1536.44 1302.38 1537.77 Q1300.21 1539.11 1300.21 1541.79 Q1300.21 1543.82 1301.77 1545 Q1303.33 1546.15 1308.04 1547.2 L1310.05 1547.64 Q1316.29 1548.98 1318.9 1551.43 Q1321.54 1553.85 1321.54 1558.21 Q1321.54 1563.17 1317.59 1566.07 Q1313.68 1568.97 1306.8 1568.97 Q1303.94 1568.97 1300.82 1568.39 Q1297.73 1567.85 1294.29 1566.74 L1294.29 1560.69 Q1297.54 1562.38 1300.69 1563.24 Q1303.84 1564.07 1306.93 1564.07 Q1311.07 1564.07 1313.3 1562.66 Q1315.52 1561.23 1315.52 1558.65 Q1315.52 1556.27 1313.9 1554.99 Q1312.31 1553.72 1306.87 1552.54 L1304.83 1552.07 Q1299.39 1550.92 1296.97 1548.56 Q1294.55 1546.18 1294.55 1542.04 Q1294.55 1537.01 1298.11 1534.27 Q1301.68 1531.54 1308.23 1531.54 Q1311.48 1531.54 1314.35 1532.01 Q1317.21 1532.49 1319.63 1533.45 Z\" fill=\"#000000\" fill-rule=\"evenodd\" fill-opacity=\"1\" /><polyline clip-path=\"url(#clip972)\" style=\"stroke:#000000; stroke-width:2; stroke-opacity:0.1; fill:none\" points=\"\n",
       "  112.177,1386.4 2352.76,1386.4 \n",
       "  \"/>\n",
       "<polyline clip-path=\"url(#clip972)\" style=\"stroke:#000000; stroke-width:2; stroke-opacity:0.1; fill:none\" points=\"\n",
       "  112.177,1113.92 2352.76,1113.92 \n",
       "  \"/>\n",
       "<polyline clip-path=\"url(#clip972)\" style=\"stroke:#000000; stroke-width:2; stroke-opacity:0.1; fill:none\" points=\"\n",
       "  112.177,841.445 2352.76,841.445 \n",
       "  \"/>\n",
       "<polyline clip-path=\"url(#clip972)\" style=\"stroke:#000000; stroke-width:2; stroke-opacity:0.1; fill:none\" points=\"\n",
       "  112.177,568.969 2352.76,568.969 \n",
       "  \"/>\n",
       "<polyline clip-path=\"url(#clip972)\" style=\"stroke:#000000; stroke-width:2; stroke-opacity:0.1; fill:none\" points=\"\n",
       "  112.177,296.494 2352.76,296.494 \n",
       "  \"/>\n",
       "<polyline clip-path=\"url(#clip970)\" style=\"stroke:#000000; stroke-width:4; stroke-opacity:1; fill:none\" points=\"\n",
       "  112.177,1423.18 112.177,123.472 \n",
       "  \"/>\n",
       "<polyline clip-path=\"url(#clip970)\" style=\"stroke:#000000; stroke-width:4; stroke-opacity:1; fill:none\" points=\"\n",
       "  112.177,1386.4 139.064,1386.4 \n",
       "  \"/>\n",
       "<polyline clip-path=\"url(#clip970)\" style=\"stroke:#000000; stroke-width:4; stroke-opacity:1; fill:none\" points=\"\n",
       "  112.177,1113.92 139.064,1113.92 \n",
       "  \"/>\n",
       "<polyline clip-path=\"url(#clip970)\" style=\"stroke:#000000; stroke-width:4; stroke-opacity:1; fill:none\" points=\"\n",
       "  112.177,841.445 139.064,841.445 \n",
       "  \"/>\n",
       "<polyline clip-path=\"url(#clip970)\" style=\"stroke:#000000; stroke-width:4; stroke-opacity:1; fill:none\" points=\"\n",
       "  112.177,568.969 139.064,568.969 \n",
       "  \"/>\n",
       "<polyline clip-path=\"url(#clip970)\" style=\"stroke:#000000; stroke-width:4; stroke-opacity:1; fill:none\" points=\"\n",
       "  112.177,296.494 139.064,296.494 \n",
       "  \"/>\n",
       "<path clip-path=\"url(#clip970)\" d=\"M 0 0 M64.2328 1372.19 Q60.6217 1372.19 58.793 1375.76 Q56.9875 1379.3 56.9875 1386.43 Q56.9875 1393.54 58.793 1397.1 Q60.6217 1400.64 64.2328 1400.64 Q67.867 1400.64 69.6726 1397.1 Q71.5013 1393.54 71.5013 1386.43 Q71.5013 1379.3 69.6726 1375.76 Q67.867 1372.19 64.2328 1372.19 M64.2328 1368.49 Q70.0429 1368.49 73.0985 1373.1 Q76.1772 1377.68 76.1772 1386.43 Q76.1772 1395.16 73.0985 1399.76 Q70.0429 1404.35 64.2328 1404.35 Q58.4226 1404.35 55.344 1399.76 Q52.2884 1395.16 52.2884 1386.43 Q52.2884 1377.68 55.344 1373.1 Q58.4226 1368.49 64.2328 1368.49 Z\" fill=\"#000000\" fill-rule=\"evenodd\" fill-opacity=\"1\" /><path clip-path=\"url(#clip970)\" d=\"M 0 0 M59.8578 1127.27 L76.1772 1127.27 L76.1772 1131.2 L54.2328 1131.2 L54.2328 1127.27 Q56.8949 1124.51 61.4782 1119.88 Q66.0846 1115.23 67.2652 1113.89 Q69.5105 1111.36 70.3902 1109.63 Q71.2929 1107.87 71.2929 1106.18 Q71.2929 1103.42 69.3485 1101.69 Q67.4272 1099.95 64.3254 1099.95 Q62.1263 1099.95 59.6726 1100.71 Q57.2421 1101.48 54.4643 1103.03 L54.4643 1098.31 Q57.2884 1097.17 59.7421 1096.59 Q62.1958 1096.02 64.2328 1096.02 Q69.6031 1096.02 72.7976 1098.7 Q75.992 1101.39 75.992 1105.88 Q75.992 1108.01 75.1818 1109.93 Q74.3948 1111.83 72.2883 1114.42 Q71.7096 1115.09 68.6078 1118.31 Q65.5059 1121.5 59.8578 1127.27 Z\" fill=\"#000000\" fill-rule=\"evenodd\" fill-opacity=\"1\" /><path clip-path=\"url(#clip970)\" d=\"M 0 0 M66.5939 828.239 L54.7884 846.688 L66.5939 846.688 L66.5939 828.239 M65.367 824.165 L71.2466 824.165 L71.2466 846.688 L76.1772 846.688 L76.1772 850.577 L71.2466 850.577 L71.2466 858.725 L66.5939 858.725 L66.5939 850.577 L50.9921 850.577 L50.9921 846.063 L65.367 824.165 Z\" fill=\"#000000\" fill-rule=\"evenodd\" fill-opacity=\"1\" /><path clip-path=\"url(#clip970)\" d=\"M 0 0 M64.6495 567.106 Q61.5013 567.106 59.6495 569.259 Q57.8208 571.412 57.8208 575.162 Q57.8208 578.888 59.6495 581.064 Q61.5013 583.217 64.6495 583.217 Q67.7976 583.217 69.6263 581.064 Q71.4781 578.888 71.4781 575.162 Q71.4781 571.412 69.6263 569.259 Q67.7976 567.106 64.6495 567.106 M73.9318 552.453 L73.9318 556.713 Q72.1726 555.879 70.367 555.439 Q68.5846 555 66.8254 555 Q62.1958 555 59.7421 558.125 Q57.3115 561.25 56.9643 567.569 Q58.33 565.555 60.3902 564.49 Q62.4504 563.402 64.9272 563.402 Q70.1355 563.402 73.1448 566.574 Q76.1772 569.722 76.1772 575.162 Q76.1772 580.486 73.029 583.703 Q69.8809 586.921 64.6495 586.921 Q58.6541 586.921 55.4828 582.337 Q52.3116 577.731 52.3116 569.004 Q52.3116 560.81 56.2004 555.949 Q60.0893 551.064 66.6402 551.064 Q68.3994 551.064 70.1818 551.412 Q71.9874 551.759 73.9318 552.453 Z\" fill=\"#000000\" fill-rule=\"evenodd\" fill-opacity=\"1\" /><path clip-path=\"url(#clip970)\" d=\"M 0 0 M64.3254 297.362 Q60.9921 297.362 59.0708 299.144 Q57.1726 300.927 57.1726 304.052 Q57.1726 307.177 59.0708 308.959 Q60.9921 310.742 64.3254 310.742 Q67.6587 310.742 69.58 308.959 Q71.5013 307.154 71.5013 304.052 Q71.5013 300.927 69.58 299.144 Q67.6819 297.362 64.3254 297.362 M59.6495 295.371 Q56.6402 294.631 54.9504 292.57 Q53.2838 290.51 53.2838 287.547 Q53.2838 283.404 56.2236 280.996 Q59.1865 278.589 64.3254 278.589 Q69.4874 278.589 72.4272 280.996 Q75.367 283.404 75.367 287.547 Q75.367 290.51 73.6772 292.57 Q72.0105 294.631 69.0244 295.371 Q72.404 296.158 74.279 298.45 Q76.1772 300.742 76.1772 304.052 Q76.1772 309.075 73.0985 311.76 Q70.0429 314.445 64.3254 314.445 Q58.6078 314.445 55.5291 311.76 Q52.4736 309.075 52.4736 304.052 Q52.4736 300.742 54.3717 298.45 Q56.2699 296.158 59.6495 295.371 M57.9365 287.987 Q57.9365 290.672 59.6032 292.177 Q61.293 293.682 64.3254 293.682 Q67.3346 293.682 69.0244 292.177 Q70.7374 290.672 70.7374 287.987 Q70.7374 285.302 69.0244 283.797 Q67.3346 282.293 64.3254 282.293 Q61.293 282.293 59.6032 283.797 Q57.9365 285.302 57.9365 287.987 Z\" fill=\"#000000\" fill-rule=\"evenodd\" fill-opacity=\"1\" /><path clip-path=\"url(#clip970)\" d=\"M 0 0 M698.213 18.8205 L698.213 65.8515 L708.097 65.8515 Q720.615 65.8515 726.407 60.1802 Q732.241 54.509 732.241 42.2752 Q732.241 30.1225 726.407 24.4918 Q720.615 18.8205 708.097 18.8205 L698.213 18.8205 M690.03 12.096 L706.841 12.096 Q724.422 12.096 732.646 19.4281 Q740.869 26.7198 740.869 42.2752 Q740.869 57.9117 732.605 65.2439 Q724.341 72.576 706.841 72.576 L690.03 72.576 L690.03 12.096 Z\" fill=\"#000000\" fill-rule=\"evenodd\" fill-opacity=\"1\" /><path clip-path=\"url(#clip970)\" d=\"M 0 0 M769.306 49.7694 Q760.273 49.7694 756.789 51.8354 Q753.305 53.9013 753.305 58.8839 Q753.305 62.8538 755.898 65.2034 Q758.531 67.5124 763.028 67.5124 Q769.225 67.5124 772.952 63.1374 Q776.72 58.7219 776.72 51.4303 L776.72 49.7694 L769.306 49.7694 M784.173 46.6907 L784.173 72.576 L776.72 72.576 L776.72 65.6895 Q774.167 69.8214 770.36 71.8063 Q766.552 73.7508 761.043 73.7508 Q754.075 73.7508 749.943 69.8619 Q745.852 65.9325 745.852 59.3701 Q745.852 51.7138 750.956 47.825 Q756.1 43.9361 766.268 43.9361 L776.72 43.9361 L776.72 43.2069 Q776.72 38.0623 773.317 35.2672 Q769.955 32.4315 763.838 32.4315 Q759.949 32.4315 756.262 33.3632 Q752.576 34.295 749.173 36.1584 L749.173 29.2718 Q753.265 27.692 757.113 26.9223 Q760.962 26.1121 764.607 26.1121 Q774.451 26.1121 779.312 31.2163 Q784.173 36.3204 784.173 46.6907 Z\" fill=\"#000000\" fill-rule=\"evenodd\" fill-opacity=\"1\" /><path clip-path=\"url(#clip970)\" d=\"M 0 0 M824.561 49.9314 Q824.561 41.7081 821.158 37.0496 Q817.796 32.3505 811.881 32.3505 Q805.967 32.3505 802.564 37.0496 Q799.202 41.7081 799.202 49.9314 Q799.202 58.1548 802.564 62.8538 Q805.967 67.5124 811.881 67.5124 Q817.796 67.5124 821.158 62.8538 Q824.561 58.1548 824.561 49.9314 M799.202 34.0924 Q801.552 30.0415 805.116 28.0971 Q808.722 26.1121 813.704 26.1121 Q821.968 26.1121 827.113 32.6746 Q832.298 39.2371 832.298 49.9314 Q832.298 60.6258 827.113 67.1883 Q821.968 73.7508 813.704 73.7508 Q808.722 73.7508 805.116 71.8063 Q801.552 69.8214 799.202 65.7705 L799.202 72.576 L791.708 72.576 L791.708 9.54393 L799.202 9.54393 L799.202 34.0924 Z\" fill=\"#000000\" fill-rule=\"evenodd\" fill-opacity=\"1\" /><path clip-path=\"url(#clip970)\" d=\"M 0 0 M840.116 27.2059 L847.57 27.2059 L847.57 72.576 L840.116 72.576 L840.116 27.2059 M840.116 9.54393 L847.57 9.54393 L847.57 18.9825 L840.116 18.9825 L840.116 9.54393 Z\" fill=\"#000000\" fill-rule=\"evenodd\" fill-opacity=\"1\" /><path clip-path=\"url(#clip970)\" d=\"M 0 0 M894.196 48.0275 L894.196 51.6733 L859.925 51.6733 Q860.411 59.3701 864.543 63.421 Q868.716 67.4314 876.129 67.4314 Q880.423 67.4314 884.433 66.3781 Q888.484 65.3249 892.454 63.2184 L892.454 70.267 Q888.444 71.9684 884.231 72.8596 Q880.018 73.7508 875.683 73.7508 Q864.827 73.7508 858.467 67.4314 Q852.147 61.1119 852.147 50.3365 Q852.147 39.1965 858.143 32.6746 Q864.179 26.1121 874.387 26.1121 Q883.542 26.1121 888.849 32.0264 Q894.196 37.9003 894.196 48.0275 M886.742 45.84 Q886.661 39.7232 883.299 36.0774 Q879.977 32.4315 874.468 32.4315 Q868.229 32.4315 864.462 35.9558 Q860.735 39.4801 860.168 45.8805 L886.742 45.84 Z\" fill=\"#000000\" fill-rule=\"evenodd\" fill-opacity=\"1\" /><path clip-path=\"url(#clip970)\" d=\"M 0 0 M957.309 28.5427 L957.309 35.5912 Q954.149 33.9709 950.746 33.1607 Q947.344 32.3505 943.698 32.3505 Q938.148 32.3505 935.353 34.0519 Q932.598 35.7533 932.598 39.156 Q932.598 41.7486 934.583 43.2475 Q936.568 44.7058 942.564 46.0426 L945.116 46.6097 Q953.055 48.3111 956.377 51.4303 Q959.739 54.509 959.739 60.0587 Q959.739 66.3781 954.716 70.0644 Q949.734 73.7508 940.984 73.7508 Q937.338 73.7508 933.368 73.0216 Q929.439 72.3329 925.064 70.9151 L925.064 63.2184 Q929.196 65.3654 933.206 66.4591 Q937.216 67.5124 941.146 67.5124 Q946.412 67.5124 949.248 65.73 Q952.083 63.9071 952.083 60.6258 Q952.083 57.5877 950.017 55.9673 Q947.992 54.3469 941.065 52.8481 L938.472 52.2405 Q931.545 50.7821 928.466 47.7845 Q925.388 44.7463 925.388 39.4801 Q925.388 33.0797 929.925 29.5959 Q934.462 26.1121 942.807 26.1121 Q946.939 26.1121 950.584 26.7198 Q954.23 27.3274 957.309 28.5427 Z\" fill=\"#000000\" fill-rule=\"evenodd\" fill-opacity=\"1\" /><path clip-path=\"url(#clip970)\" d=\"M 0 0 M988.177 49.7694 Q979.143 49.7694 975.659 51.8354 Q972.176 53.9013 972.176 58.8839 Q972.176 62.8538 974.768 65.2034 Q977.401 67.5124 981.898 67.5124 Q988.096 67.5124 991.823 63.1374 Q995.59 58.7219 995.59 51.4303 L995.59 49.7694 L988.177 49.7694 M1003.04 46.6907 L1003.04 72.576 L995.59 72.576 L995.59 65.6895 Q993.038 69.8214 989.23 71.8063 Q985.422 73.7508 979.913 73.7508 Q972.945 73.7508 968.813 69.8619 Q964.722 65.9325 964.722 59.3701 Q964.722 51.7138 969.826 47.825 Q974.971 43.9361 985.139 43.9361 L995.59 43.9361 L995.59 43.2069 Q995.59 38.0623 992.187 35.2672 Q988.825 32.4315 982.708 32.4315 Q978.819 32.4315 975.133 33.3632 Q971.447 34.295 968.044 36.1584 L968.044 29.2718 Q972.135 27.692 975.984 26.9223 Q979.832 26.1121 983.478 26.1121 Q993.321 26.1121 998.182 31.2163 Q1003.04 36.3204 1003.04 46.6907 Z\" fill=\"#000000\" fill-rule=\"evenodd\" fill-opacity=\"1\" /><path clip-path=\"url(#clip970)\" d=\"M 0 0 M1046.19 35.9153 Q1048.98 30.8922 1052.87 28.5022 Q1056.76 26.1121 1062.02 26.1121 Q1069.11 26.1121 1072.96 31.0947 Q1076.81 36.0368 1076.81 45.1919 L1076.81 72.576 L1069.32 72.576 L1069.32 45.4349 Q1069.32 38.913 1067.01 35.7533 Q1064.7 32.5936 1059.96 32.5936 Q1054.17 32.5936 1050.8 36.4419 Q1047.44 40.2903 1047.44 46.9338 L1047.44 72.576 L1039.95 72.576 L1039.95 45.4349 Q1039.95 38.8725 1037.64 35.7533 Q1035.33 32.5936 1030.51 32.5936 Q1024.8 32.5936 1021.43 36.4824 Q1018.07 40.3308 1018.07 46.9338 L1018.07 72.576 L1010.58 72.576 L1010.58 27.2059 L1018.07 27.2059 L1018.07 34.2544 Q1020.62 30.082 1024.19 28.0971 Q1027.75 26.1121 1032.66 26.1121 Q1037.6 26.1121 1041.04 28.6237 Q1044.52 31.1352 1046.19 35.9153 Z\" fill=\"#000000\" fill-rule=\"evenodd\" fill-opacity=\"1\" /><path clip-path=\"url(#clip970)\" d=\"M 0 0 M1091.84 65.7705 L1091.84 89.8329 L1084.35 89.8329 L1084.35 27.2059 L1091.84 27.2059 L1091.84 34.0924 Q1094.19 30.0415 1097.75 28.0971 Q1101.36 26.1121 1106.34 26.1121 Q1114.61 26.1121 1119.75 32.6746 Q1124.94 39.2371 1124.94 49.9314 Q1124.94 60.6258 1119.75 67.1883 Q1114.61 73.7508 1106.34 73.7508 Q1101.36 73.7508 1097.75 71.8063 Q1094.19 69.8214 1091.84 65.7705 M1117.2 49.9314 Q1117.2 41.7081 1113.8 37.0496 Q1110.43 32.3505 1104.52 32.3505 Q1098.6 32.3505 1095.2 37.0496 Q1091.84 41.7081 1091.84 49.9314 Q1091.84 58.1548 1095.2 62.8538 Q1098.6 67.5124 1104.52 67.5124 Q1110.43 67.5124 1113.8 62.8538 Q1117.2 58.1548 1117.2 49.9314 Z\" fill=\"#000000\" fill-rule=\"evenodd\" fill-opacity=\"1\" /><path clip-path=\"url(#clip970)\" d=\"M 0 0 M1132.75 9.54393 L1140.21 9.54393 L1140.21 72.576 L1132.75 72.576 L1132.75 9.54393 Z\" fill=\"#000000\" fill-rule=\"evenodd\" fill-opacity=\"1\" /><path clip-path=\"url(#clip970)\" d=\"M 0 0 M1186.83 48.0275 L1186.83 51.6733 L1152.56 51.6733 Q1153.05 59.3701 1157.18 63.421 Q1161.35 67.4314 1168.77 67.4314 Q1173.06 67.4314 1177.07 66.3781 Q1181.12 65.3249 1185.09 63.2184 L1185.09 70.267 Q1181.08 71.9684 1176.87 72.8596 Q1172.65 73.7508 1168.32 73.7508 Q1157.46 73.7508 1151.1 67.4314 Q1144.78 61.1119 1144.78 50.3365 Q1144.78 39.1965 1150.78 32.6746 Q1156.82 26.1121 1167.02 26.1121 Q1176.18 26.1121 1181.49 32.0264 Q1186.83 37.9003 1186.83 48.0275 M1179.38 45.84 Q1179.3 39.7232 1175.94 36.0774 Q1172.61 32.4315 1167.11 32.4315 Q1160.87 32.4315 1157.1 35.9558 Q1153.37 39.4801 1152.81 45.8805 L1179.38 45.84 Z\" fill=\"#000000\" fill-rule=\"evenodd\" fill-opacity=\"1\" /><path clip-path=\"url(#clip970)\" d=\"M 0 0 M1223.57 28.5427 L1223.57 35.5912 Q1220.42 33.9709 1217.01 33.1607 Q1213.61 32.3505 1209.96 32.3505 Q1204.41 32.3505 1201.62 34.0519 Q1198.86 35.7533 1198.86 39.156 Q1198.86 41.7486 1200.85 43.2475 Q1202.83 44.7058 1208.83 46.0426 L1211.38 46.6097 Q1219.32 48.3111 1222.64 51.4303 Q1226.01 54.509 1226.01 60.0587 Q1226.01 66.3781 1220.98 70.0644 Q1216 73.7508 1207.25 73.7508 Q1203.6 73.7508 1199.63 73.0216 Q1195.7 72.3329 1191.33 70.9151 L1191.33 63.2184 Q1195.46 65.3654 1199.47 66.4591 Q1203.48 67.5124 1207.41 67.5124 Q1212.68 67.5124 1215.51 65.73 Q1218.35 63.9071 1218.35 60.6258 Q1218.35 57.5877 1216.28 55.9673 Q1214.26 54.3469 1207.33 52.8481 L1204.74 52.2405 Q1197.81 50.7821 1194.73 47.7845 Q1191.65 44.7463 1191.65 39.4801 Q1191.65 33.0797 1196.19 29.5959 Q1200.73 26.1121 1209.07 26.1121 Q1213.2 26.1121 1216.85 26.7198 Q1220.5 27.3274 1223.57 28.5427 Z\" fill=\"#000000\" fill-rule=\"evenodd\" fill-opacity=\"1\" /><path clip-path=\"url(#clip970)\" d=\"M 0 0 M1280.81 49.7694 Q1271.78 49.7694 1268.3 51.8354 Q1264.81 53.9013 1264.81 58.8839 Q1264.81 62.8538 1267.41 65.2034 Q1270.04 67.5124 1274.54 67.5124 Q1280.73 67.5124 1284.46 63.1374 Q1288.23 58.7219 1288.23 51.4303 L1288.23 49.7694 L1280.81 49.7694 M1295.68 46.6907 L1295.68 72.576 L1288.23 72.576 L1288.23 65.6895 Q1285.68 69.8214 1281.87 71.8063 Q1278.06 73.7508 1272.55 73.7508 Q1265.58 73.7508 1261.45 69.8619 Q1257.36 65.9325 1257.36 59.3701 Q1257.36 51.7138 1262.46 47.825 Q1267.61 43.9361 1277.78 43.9361 L1288.23 43.9361 L1288.23 43.2069 Q1288.23 38.0623 1284.82 35.2672 Q1281.46 32.4315 1275.35 32.4315 Q1271.46 32.4315 1267.77 33.3632 Q1264.08 34.295 1260.68 36.1584 L1260.68 29.2718 Q1264.77 27.692 1268.62 26.9223 Q1272.47 26.1121 1276.12 26.1121 Q1285.96 26.1121 1290.82 31.2163 Q1295.68 36.3204 1295.68 46.6907 Z\" fill=\"#000000\" fill-rule=\"evenodd\" fill-opacity=\"1\" /><path clip-path=\"url(#clip970)\" d=\"M 0 0 M1310.87 14.324 L1310.87 27.2059 L1326.22 27.2059 L1326.22 32.9987 L1310.87 32.9987 L1310.87 57.6282 Q1310.87 63.1779 1312.37 64.7578 Q1313.91 66.3376 1318.57 66.3376 L1326.22 66.3376 L1326.22 72.576 L1318.57 72.576 Q1309.94 72.576 1306.66 69.3758 Q1303.38 66.1351 1303.38 57.6282 L1303.38 32.9987 L1297.91 32.9987 L1297.91 27.2059 L1303.38 27.2059 L1303.38 14.324 L1310.87 14.324 Z\" fill=\"#000000\" fill-rule=\"evenodd\" fill-opacity=\"1\" /><path clip-path=\"url(#clip970)\" d=\"M 0 0 M1360.41 9.54393 L1367.87 9.54393 L1367.87 72.576 L1360.41 72.576 L1360.41 9.54393 Z\" fill=\"#000000\" fill-rule=\"evenodd\" fill-opacity=\"1\" /><path clip-path=\"url(#clip970)\" d=\"M 0 0 M1393.27 32.4315 Q1387.27 32.4315 1383.79 37.1306 Q1380.3 41.7891 1380.3 49.9314 Q1380.3 58.0738 1383.75 62.7728 Q1387.23 67.4314 1393.27 67.4314 Q1399.22 67.4314 1402.71 62.7323 Q1406.19 58.0333 1406.19 49.9314 Q1406.19 41.8701 1402.71 37.1711 Q1399.22 32.4315 1393.27 32.4315 M1393.27 26.1121 Q1402.99 26.1121 1408.54 32.4315 Q1414.09 38.7509 1414.09 49.9314 Q1414.09 61.0714 1408.54 67.4314 Q1402.99 73.7508 1393.27 73.7508 Q1383.5 73.7508 1377.95 67.4314 Q1372.45 61.0714 1372.45 49.9314 Q1372.45 38.7509 1377.95 32.4315 Q1383.5 26.1121 1393.27 26.1121 Z\" fill=\"#000000\" fill-rule=\"evenodd\" fill-opacity=\"1\" /><path clip-path=\"url(#clip970)\" d=\"M 0 0 M1417.57 27.2059 L1425.03 27.2059 L1434.34 62.6108 L1443.62 27.2059 L1452.41 27.2059 L1461.73 62.6108 L1471 27.2059 L1478.46 27.2059 L1466.59 72.576 L1457.8 72.576 L1448.04 35.3887 L1438.23 72.576 L1429.44 72.576 L1417.57 27.2059 Z\" fill=\"#000000\" fill-rule=\"evenodd\" fill-opacity=\"1\" /><path clip-path=\"url(#clip970)\" d=\"M 0 0 M1525.08 48.0275 L1525.08 51.6733 L1490.81 51.6733 Q1491.3 59.3701 1495.43 63.421 Q1499.6 67.4314 1507.02 67.4314 Q1511.31 67.4314 1515.32 66.3781 Q1519.37 65.3249 1523.34 63.2184 L1523.34 70.267 Q1519.33 71.9684 1515.12 72.8596 Q1510.91 73.7508 1506.57 73.7508 Q1495.71 73.7508 1489.35 67.4314 Q1483.04 61.1119 1483.04 50.3365 Q1483.04 39.1965 1489.03 32.6746 Q1495.07 26.1121 1505.27 26.1121 Q1514.43 26.1121 1519.74 32.0264 Q1525.08 37.9003 1525.08 48.0275 M1517.63 45.84 Q1517.55 39.7232 1514.19 36.0774 Q1510.86 32.4315 1505.36 32.4315 Q1499.12 32.4315 1495.35 35.9558 Q1491.62 39.4801 1491.06 45.8805 L1517.63 45.84 Z\" fill=\"#000000\" fill-rule=\"evenodd\" fill-opacity=\"1\" /><path clip-path=\"url(#clip970)\" d=\"M 0 0 M1559.19 34.1734 Q1557.94 33.4443 1556.44 33.1202 Q1554.98 32.7556 1553.2 32.7556 Q1546.88 32.7556 1543.47 36.8875 Q1540.11 40.9789 1540.11 48.6757 L1540.11 72.576 L1532.62 72.576 L1532.62 27.2059 L1540.11 27.2059 L1540.11 34.2544 Q1542.46 30.1225 1546.23 28.1376 Q1550 26.1121 1555.38 26.1121 Q1556.15 26.1121 1557.09 26.2337 Q1558.02 26.3147 1559.15 26.5172 L1559.19 34.1734 Z\" fill=\"#000000\" fill-rule=\"evenodd\" fill-opacity=\"1\" /><path clip-path=\"url(#clip970)\" d=\"M 0 0 M1626.03 28.9478 L1626.03 35.9153 Q1622.87 34.1734 1619.67 33.3227 Q1616.51 32.4315 1613.27 32.4315 Q1606.02 32.4315 1602.01 37.0496 Q1598 41.6271 1598 49.9314 Q1598 58.2358 1602.01 62.8538 Q1606.02 67.4314 1613.27 67.4314 Q1616.51 67.4314 1619.67 66.5807 Q1622.87 65.6895 1626.03 63.9476 L1626.03 70.8341 Q1622.91 72.2924 1619.55 73.0216 Q1616.23 73.7508 1612.46 73.7508 Q1602.21 73.7508 1596.18 67.3098 Q1590.14 60.8689 1590.14 49.9314 Q1590.14 38.832 1596.22 32.472 Q1602.33 26.1121 1612.95 26.1121 Q1616.39 26.1121 1619.67 26.8413 Q1622.95 27.5299 1626.03 28.9478 Z\" fill=\"#000000\" fill-rule=\"evenodd\" fill-opacity=\"1\" /><path clip-path=\"url(#clip970)\" d=\"M 0 0 M1660.14 34.1734 Q1658.88 33.4443 1657.39 33.1202 Q1655.93 32.7556 1654.15 32.7556 Q1647.83 32.7556 1644.42 36.8875 Q1641.06 40.9789 1641.06 48.6757 L1641.06 72.576 L1633.57 72.576 L1633.57 27.2059 L1641.06 27.2059 L1641.06 34.2544 Q1643.41 30.1225 1647.18 28.1376 Q1650.95 26.1121 1656.33 26.1121 Q1657.1 26.1121 1658.03 26.2337 Q1658.97 26.3147 1660.1 26.5172 L1660.14 34.1734 Z\" fill=\"#000000\" fill-rule=\"evenodd\" fill-opacity=\"1\" /><path clip-path=\"url(#clip970)\" d=\"M 0 0 M1667.19 54.671 L1667.19 27.2059 L1674.64 27.2059 L1674.64 54.3874 Q1674.64 60.8284 1677.15 64.0691 Q1679.67 67.2693 1684.69 67.2693 Q1690.73 67.2693 1694.21 63.421 Q1697.73 59.5726 1697.73 52.9291 L1697.73 27.2059 L1705.19 27.2059 L1705.19 72.576 L1697.73 72.576 L1697.73 65.6084 Q1695.02 69.7404 1691.41 71.7658 Q1687.85 73.7508 1683.11 73.7508 Q1675.29 73.7508 1671.24 68.8897 Q1667.19 64.0286 1667.19 54.671 M1685.95 26.1121 L1685.95 26.1121 Z\" fill=\"#000000\" fill-rule=\"evenodd\" fill-opacity=\"1\" /><path clip-path=\"url(#clip970)\" d=\"M 0 0 M1741.93 28.5427 L1741.93 35.5912 Q1738.77 33.9709 1735.37 33.1607 Q1731.96 32.3505 1728.32 32.3505 Q1722.77 32.3505 1719.97 34.0519 Q1717.22 35.7533 1717.22 39.156 Q1717.22 41.7486 1719.2 43.2475 Q1721.19 44.7058 1727.18 46.0426 L1729.74 46.6097 Q1737.68 48.3111 1741 51.4303 Q1744.36 54.509 1744.36 60.0587 Q1744.36 66.3781 1739.34 70.0644 Q1734.35 73.7508 1725.6 73.7508 Q1721.96 73.7508 1717.99 73.0216 Q1714.06 72.3329 1709.68 70.9151 L1709.68 63.2184 Q1713.82 65.3654 1717.83 66.4591 Q1721.84 67.5124 1725.77 67.5124 Q1731.03 67.5124 1733.87 65.73 Q1736.7 63.9071 1736.7 60.6258 Q1736.7 57.5877 1734.64 55.9673 Q1732.61 54.3469 1725.68 52.8481 L1723.09 52.2405 Q1716.16 50.7821 1713.09 47.7845 Q1710.01 44.7463 1710.01 39.4801 Q1710.01 33.0797 1714.54 29.5959 Q1719.08 26.1121 1727.43 26.1121 Q1731.56 26.1121 1735.2 26.7198 Q1738.85 27.3274 1741.93 28.5427 Z\" fill=\"#000000\" fill-rule=\"evenodd\" fill-opacity=\"1\" /><path clip-path=\"url(#clip970)\" d=\"M 0 0 M1759.55 14.324 L1759.55 27.2059 L1774.9 27.2059 L1774.9 32.9987 L1759.55 32.9987 L1759.55 57.6282 Q1759.55 63.1779 1761.05 64.7578 Q1762.59 66.3376 1767.25 66.3376 L1774.9 66.3376 L1774.9 72.576 L1767.25 72.576 Q1758.62 72.576 1755.34 69.3758 Q1752.06 66.1351 1752.06 57.6282 L1752.06 32.9987 L1746.59 32.9987 L1746.59 27.2059 L1752.06 27.2059 L1752.06 14.324 L1759.55 14.324 Z\" fill=\"#000000\" fill-rule=\"evenodd\" fill-opacity=\"1\" /><path clip-path=\"url(#clip972)\" d=\"\n",
       "M235.413 1250.16 L235.413 1386.4 L456.98 1386.4 L456.98 1250.16 L235.413 1250.16 L235.413 1250.16  Z\n",
       "  \" fill=\"#009af9\" fill-rule=\"evenodd\" fill-opacity=\"1\"/>\n",
       "<polyline clip-path=\"url(#clip972)\" style=\"stroke:#000000; stroke-width:4; stroke-opacity:1; fill:none\" points=\"\n",
       "  235.413,1250.16 235.413,1386.4 456.98,1386.4 456.98,1250.16 235.413,1250.16 \n",
       "  \"/>\n",
       "<path clip-path=\"url(#clip972)\" d=\"\n",
       "M456.98 1386.4 L456.98 1386.4 L678.548 1386.4 L678.548 1386.4 L456.98 1386.4 L456.98 1386.4  Z\n",
       "  \" fill=\"#009af9\" fill-rule=\"evenodd\" fill-opacity=\"1\"/>\n",
       "<polyline clip-path=\"url(#clip972)\" style=\"stroke:#000000; stroke-width:4; stroke-opacity:1; fill:none\" points=\"\n",
       "  456.98,1386.4 456.98,1386.4 678.548,1386.4 456.98,1386.4 \n",
       "  \"/>\n",
       "<path clip-path=\"url(#clip972)\" d=\"\n",
       "M678.548 1386.4 L678.548 1386.4 L900.115 1386.4 L900.115 1386.4 L678.548 1386.4 L678.548 1386.4  Z\n",
       "  \" fill=\"#009af9\" fill-rule=\"evenodd\" fill-opacity=\"1\"/>\n",
       "<polyline clip-path=\"url(#clip972)\" style=\"stroke:#000000; stroke-width:4; stroke-opacity:1; fill:none\" points=\"\n",
       "  678.548,1386.4 678.548,1386.4 900.115,1386.4 678.548,1386.4 \n",
       "  \"/>\n",
       "<path clip-path=\"url(#clip972)\" d=\"\n",
       "M900.115 841.445 L900.115 1386.4 L1121.68 1386.4 L1121.68 841.445 L900.115 841.445 L900.115 841.445  Z\n",
       "  \" fill=\"#009af9\" fill-rule=\"evenodd\" fill-opacity=\"1\"/>\n",
       "<polyline clip-path=\"url(#clip972)\" style=\"stroke:#000000; stroke-width:4; stroke-opacity:1; fill:none\" points=\"\n",
       "  900.115,841.445 900.115,1386.4 1121.68,1386.4 1121.68,841.445 900.115,841.445 \n",
       "  \"/>\n",
       "<path clip-path=\"url(#clip972)\" d=\"\n",
       "M1121.68 296.494 L1121.68 1386.4 L1343.25 1386.4 L1343.25 296.494 L1121.68 296.494 L1121.68 296.494  Z\n",
       "  \" fill=\"#009af9\" fill-rule=\"evenodd\" fill-opacity=\"1\"/>\n",
       "<polyline clip-path=\"url(#clip972)\" style=\"stroke:#000000; stroke-width:4; stroke-opacity:1; fill:none\" points=\"\n",
       "  1121.68,296.494 1121.68,1386.4 1343.25,1386.4 1343.25,296.494 1121.68,296.494 \n",
       "  \"/>\n",
       "<path clip-path=\"url(#clip972)\" d=\"\n",
       "M1343.25 160.256 L1343.25 1386.4 L1564.82 1386.4 L1564.82 160.256 L1343.25 160.256 L1343.25 160.256  Z\n",
       "  \" fill=\"#009af9\" fill-rule=\"evenodd\" fill-opacity=\"1\"/>\n",
       "<polyline clip-path=\"url(#clip972)\" style=\"stroke:#000000; stroke-width:4; stroke-opacity:1; fill:none\" points=\"\n",
       "  1343.25,160.256 1343.25,1386.4 1564.82,1386.4 1564.82,160.256 1343.25,160.256 \n",
       "  \"/>\n",
       "<path clip-path=\"url(#clip972)\" d=\"\n",
       "M1564.82 705.207 L1564.82 1386.4 L1786.39 1386.4 L1786.39 705.207 L1564.82 705.207 L1564.82 705.207  Z\n",
       "  \" fill=\"#009af9\" fill-rule=\"evenodd\" fill-opacity=\"1\"/>\n",
       "<polyline clip-path=\"url(#clip972)\" style=\"stroke:#000000; stroke-width:4; stroke-opacity:1; fill:none\" points=\"\n",
       "  1564.82,705.207 1564.82,1386.4 1786.39,1386.4 1786.39,705.207 1564.82,705.207 \n",
       "  \"/>\n",
       "<path clip-path=\"url(#clip972)\" d=\"\n",
       "M1786.39 1250.16 L1786.39 1386.4 L2007.95 1386.4 L2007.95 1250.16 L1786.39 1250.16 L1786.39 1250.16  Z\n",
       "  \" fill=\"#009af9\" fill-rule=\"evenodd\" fill-opacity=\"1\"/>\n",
       "<polyline clip-path=\"url(#clip972)\" style=\"stroke:#000000; stroke-width:4; stroke-opacity:1; fill:none\" points=\"\n",
       "  1786.39,1250.16 1786.39,1386.4 2007.95,1386.4 2007.95,1250.16 1786.39,1250.16 \n",
       "  \"/>\n",
       "<path clip-path=\"url(#clip972)\" d=\"\n",
       "M2007.95 1113.92 L2007.95 1386.4 L2229.52 1386.4 L2229.52 1113.92 L2007.95 1113.92 L2007.95 1113.92  Z\n",
       "  \" fill=\"#009af9\" fill-rule=\"evenodd\" fill-opacity=\"1\"/>\n",
       "<polyline clip-path=\"url(#clip972)\" style=\"stroke:#000000; stroke-width:4; stroke-opacity:1; fill:none\" points=\"\n",
       "  2007.95,1113.92 2007.95,1386.4 2229.52,1386.4 2229.52,1113.92 2007.95,1113.92 \n",
       "  \"/>\n",
       "</svg>\n"
      ]
     },
     "execution_count": 114,
     "metadata": {},
     "output_type": "execute_result"
    }
   ],
   "source": [
    "histogram(vpvss, label=false, xlabel=\"Vp/Vs\", title=\"Dabie samples at lower crust\")\n",
    "#savefig(\"../../present/4_1/dabie_vpvs.pdf\")"
   ]
  },
  {
   "cell_type": "code",
   "execution_count": 115,
   "metadata": {},
   "outputs": [
    {
     "data": {
      "image/svg+xml": [
       "<?xml version=\"1.0\" encoding=\"utf-8\"?>\n",
       "<svg xmlns=\"http://www.w3.org/2000/svg\" xmlns:xlink=\"http://www.w3.org/1999/xlink\" width=\"600\" height=\"400\" viewBox=\"0 0 2400 1600\">\n",
       "<defs>\n",
       "  <clipPath id=\"clip010\">\n",
       "    <rect x=\"0\" y=\"0\" width=\"2400\" height=\"1600\"/>\n",
       "  </clipPath>\n",
       "</defs>\n",
       "<path clip-path=\"url(#clip010)\" d=\"\n",
       "M0 1600 L2400 1600 L2400 0 L0 0  Z\n",
       "  \" fill=\"#ffffff\" fill-rule=\"evenodd\" fill-opacity=\"1\"/>\n",
       "<defs>\n",
       "  <clipPath id=\"clip011\">\n",
       "    <rect x=\"480\" y=\"0\" width=\"1681\" height=\"1600\"/>\n",
       "  </clipPath>\n",
       "</defs>\n",
       "<path clip-path=\"url(#clip010)\" d=\"\n",
       "M171.552 1423.18 L2352.76 1423.18 L2352.76 123.472 L171.552 123.472  Z\n",
       "  \" fill=\"#ffffff\" fill-rule=\"evenodd\" fill-opacity=\"1\"/>\n",
       "<defs>\n",
       "  <clipPath id=\"clip012\">\n",
       "    <rect x=\"171\" y=\"123\" width=\"2182\" height=\"1301\"/>\n",
       "  </clipPath>\n",
       "</defs>\n",
       "<polyline clip-path=\"url(#clip012)\" style=\"stroke:#000000; stroke-width:2; stroke-opacity:0.1; fill:none\" points=\"\n",
       "  291.522,1423.18 291.522,123.472 \n",
       "  \"/>\n",
       "<polyline clip-path=\"url(#clip012)\" style=\"stroke:#000000; stroke-width:2; stroke-opacity:0.1; fill:none\" points=\"\n",
       "  615.066,1423.18 615.066,123.472 \n",
       "  \"/>\n",
       "<polyline clip-path=\"url(#clip012)\" style=\"stroke:#000000; stroke-width:2; stroke-opacity:0.1; fill:none\" points=\"\n",
       "  938.61,1423.18 938.61,123.472 \n",
       "  \"/>\n",
       "<polyline clip-path=\"url(#clip012)\" style=\"stroke:#000000; stroke-width:2; stroke-opacity:0.1; fill:none\" points=\"\n",
       "  1262.15,1423.18 1262.15,123.472 \n",
       "  \"/>\n",
       "<polyline clip-path=\"url(#clip012)\" style=\"stroke:#000000; stroke-width:2; stroke-opacity:0.1; fill:none\" points=\"\n",
       "  1585.7,1423.18 1585.7,123.472 \n",
       "  \"/>\n",
       "<polyline clip-path=\"url(#clip012)\" style=\"stroke:#000000; stroke-width:2; stroke-opacity:0.1; fill:none\" points=\"\n",
       "  1909.24,1423.18 1909.24,123.472 \n",
       "  \"/>\n",
       "<polyline clip-path=\"url(#clip012)\" style=\"stroke:#000000; stroke-width:2; stroke-opacity:0.1; fill:none\" points=\"\n",
       "  2232.79,1423.18 2232.79,123.472 \n",
       "  \"/>\n",
       "<polyline clip-path=\"url(#clip010)\" style=\"stroke:#000000; stroke-width:4; stroke-opacity:1; fill:none\" points=\"\n",
       "  171.552,1423.18 2352.76,1423.18 \n",
       "  \"/>\n",
       "<polyline clip-path=\"url(#clip010)\" style=\"stroke:#000000; stroke-width:4; stroke-opacity:1; fill:none\" points=\"\n",
       "  291.522,1423.18 291.522,1407.58 \n",
       "  \"/>\n",
       "<polyline clip-path=\"url(#clip010)\" style=\"stroke:#000000; stroke-width:4; stroke-opacity:1; fill:none\" points=\"\n",
       "  615.066,1423.18 615.066,1407.58 \n",
       "  \"/>\n",
       "<polyline clip-path=\"url(#clip010)\" style=\"stroke:#000000; stroke-width:4; stroke-opacity:1; fill:none\" points=\"\n",
       "  938.61,1423.18 938.61,1407.58 \n",
       "  \"/>\n",
       "<polyline clip-path=\"url(#clip010)\" style=\"stroke:#000000; stroke-width:4; stroke-opacity:1; fill:none\" points=\"\n",
       "  1262.15,1423.18 1262.15,1407.58 \n",
       "  \"/>\n",
       "<polyline clip-path=\"url(#clip010)\" style=\"stroke:#000000; stroke-width:4; stroke-opacity:1; fill:none\" points=\"\n",
       "  1585.7,1423.18 1585.7,1407.58 \n",
       "  \"/>\n",
       "<polyline clip-path=\"url(#clip010)\" style=\"stroke:#000000; stroke-width:4; stroke-opacity:1; fill:none\" points=\"\n",
       "  1909.24,1423.18 1909.24,1407.58 \n",
       "  \"/>\n",
       "<polyline clip-path=\"url(#clip010)\" style=\"stroke:#000000; stroke-width:4; stroke-opacity:1; fill:none\" points=\"\n",
       "  2232.79,1423.18 2232.79,1407.58 \n",
       "  \"/>\n",
       "<path clip-path=\"url(#clip010)\" d=\"M 0 0 M263.814 1449.29 L282.17 1449.29 L282.17 1453.23 L268.096 1453.23 L268.096 1461.7 Q269.115 1461.35 270.133 1461.19 Q271.152 1461 272.17 1461 Q277.957 1461 281.337 1464.18 Q284.716 1467.35 284.716 1472.76 Q284.716 1478.34 281.244 1481.44 Q277.772 1484.52 271.453 1484.52 Q269.277 1484.52 267.008 1484.15 Q264.763 1483.78 262.355 1483.04 L262.355 1478.34 Q264.439 1479.48 266.661 1480.03 Q268.883 1480.59 271.36 1480.59 Q275.365 1480.59 277.703 1478.48 Q280.041 1476.38 280.041 1472.76 Q280.041 1469.15 277.703 1467.05 Q275.365 1464.94 271.36 1464.94 Q269.485 1464.94 267.61 1465.36 Q265.758 1465.77 263.814 1466.65 L263.814 1449.29 Z\" fill=\"#000000\" fill-rule=\"evenodd\" fill-opacity=\"1\" /><path clip-path=\"url(#clip010)\" d=\"M 0 0 M289.786 1477.97 L294.67 1477.97 L294.67 1483.85 L289.786 1483.85 L289.786 1477.97 Z\" fill=\"#000000\" fill-rule=\"evenodd\" fill-opacity=\"1\" /><path clip-path=\"url(#clip010)\" d=\"M 0 0 M299.786 1449.29 L318.142 1449.29 L318.142 1453.23 L304.068 1453.23 L304.068 1461.7 Q305.087 1461.35 306.105 1461.19 Q307.124 1461 308.142 1461 Q313.929 1461 317.309 1464.18 Q320.688 1467.35 320.688 1472.76 Q320.688 1478.34 317.216 1481.44 Q313.744 1484.52 307.425 1484.52 Q305.249 1484.52 302.98 1484.15 Q300.735 1483.78 298.327 1483.04 L298.327 1478.34 Q300.411 1479.48 302.633 1480.03 Q304.855 1480.59 307.332 1480.59 Q311.337 1480.59 313.675 1478.48 Q316.013 1476.38 316.013 1472.76 Q316.013 1469.15 313.675 1467.05 Q311.337 1464.94 307.332 1464.94 Q305.457 1464.94 303.582 1465.36 Q301.73 1465.77 299.786 1466.65 L299.786 1449.29 Z\" fill=\"#000000\" fill-rule=\"evenodd\" fill-opacity=\"1\" /><path clip-path=\"url(#clip010)\" d=\"M 0 0 M596.987 1464.71 Q593.839 1464.71 591.987 1466.86 Q590.159 1469.01 590.159 1472.76 Q590.159 1476.49 591.987 1478.67 Q593.839 1480.82 596.987 1480.82 Q600.135 1480.82 601.964 1478.67 Q603.816 1476.49 603.816 1472.76 Q603.816 1469.01 601.964 1466.86 Q600.135 1464.71 596.987 1464.71 M606.27 1450.06 L606.27 1454.31 Q604.51 1453.48 602.705 1453.04 Q600.922 1452.6 599.163 1452.6 Q594.534 1452.6 592.08 1455.73 Q589.649 1458.85 589.302 1465.17 Q590.668 1463.16 592.728 1462.09 Q594.788 1461 597.265 1461 Q602.473 1461 605.483 1464.18 Q608.515 1467.32 608.515 1472.76 Q608.515 1478.09 605.367 1481.31 Q602.219 1484.52 596.987 1484.52 Q590.992 1484.52 587.821 1479.94 Q584.649 1475.33 584.649 1466.61 Q584.649 1458.41 588.538 1453.55 Q592.427 1448.67 598.978 1448.67 Q600.737 1448.67 602.52 1449.01 Q604.325 1449.36 606.27 1450.06 Z\" fill=\"#000000\" fill-rule=\"evenodd\" fill-opacity=\"1\" /><path clip-path=\"url(#clip010)\" d=\"M 0 0 M613.584 1477.97 L618.469 1477.97 L618.469 1483.85 L613.584 1483.85 L613.584 1477.97 Z\" fill=\"#000000\" fill-rule=\"evenodd\" fill-opacity=\"1\" /><path clip-path=\"url(#clip010)\" d=\"M 0 0 M633.538 1452.37 Q629.927 1452.37 628.098 1455.94 Q626.293 1459.48 626.293 1466.61 Q626.293 1473.71 628.098 1477.28 Q629.927 1480.82 633.538 1480.82 Q637.172 1480.82 638.978 1477.28 Q640.807 1473.71 640.807 1466.61 Q640.807 1459.48 638.978 1455.94 Q637.172 1452.37 633.538 1452.37 M633.538 1448.67 Q639.348 1448.67 642.404 1453.27 Q645.482 1457.86 645.482 1466.61 Q645.482 1475.33 642.404 1479.94 Q639.348 1484.52 633.538 1484.52 Q627.728 1484.52 624.649 1479.94 Q621.594 1475.33 621.594 1466.61 Q621.594 1457.86 624.649 1453.27 Q627.728 1448.67 633.538 1448.67 Z\" fill=\"#000000\" fill-rule=\"evenodd\" fill-opacity=\"1\" /><path clip-path=\"url(#clip010)\" d=\"M 0 0 M921.029 1464.71 Q917.881 1464.71 916.029 1466.86 Q914.2 1469.01 914.2 1472.76 Q914.2 1476.49 916.029 1478.67 Q917.881 1480.82 921.029 1480.82 Q924.177 1480.82 926.006 1478.67 Q927.858 1476.49 927.858 1472.76 Q927.858 1469.01 926.006 1466.86 Q924.177 1464.71 921.029 1464.71 M930.311 1450.06 L930.311 1454.31 Q928.552 1453.48 926.747 1453.04 Q924.964 1452.6 923.205 1452.6 Q918.575 1452.6 916.122 1455.73 Q913.691 1458.85 913.344 1465.17 Q914.71 1463.16 916.77 1462.09 Q918.83 1461 921.307 1461 Q926.515 1461 929.524 1464.18 Q932.557 1467.32 932.557 1472.76 Q932.557 1478.09 929.409 1481.31 Q926.26 1484.52 921.029 1484.52 Q915.034 1484.52 911.862 1479.94 Q908.691 1475.33 908.691 1466.61 Q908.691 1458.41 912.58 1453.55 Q916.469 1448.67 923.02 1448.67 Q924.779 1448.67 926.561 1449.01 Q928.367 1449.36 930.311 1450.06 Z\" fill=\"#000000\" fill-rule=\"evenodd\" fill-opacity=\"1\" /><path clip-path=\"url(#clip010)\" d=\"M 0 0 M937.626 1477.97 L942.51 1477.97 L942.51 1483.85 L937.626 1483.85 L937.626 1477.97 Z\" fill=\"#000000\" fill-rule=\"evenodd\" fill-opacity=\"1\" /><path clip-path=\"url(#clip010)\" d=\"M 0 0 M947.626 1449.29 L965.982 1449.29 L965.982 1453.23 L951.908 1453.23 L951.908 1461.7 Q952.927 1461.35 953.945 1461.19 Q954.964 1461 955.983 1461 Q961.77 1461 965.149 1464.18 Q968.529 1467.35 968.529 1472.76 Q968.529 1478.34 965.057 1481.44 Q961.584 1484.52 955.265 1484.52 Q953.089 1484.52 950.82 1484.15 Q948.575 1483.78 946.168 1483.04 L946.168 1478.34 Q948.251 1479.48 950.473 1480.03 Q952.695 1480.59 955.172 1480.59 Q959.177 1480.59 961.515 1478.48 Q963.853 1476.38 963.853 1472.76 Q963.853 1469.15 961.515 1467.05 Q959.177 1464.94 955.172 1464.94 Q953.297 1464.94 951.422 1465.36 Q949.57 1465.77 947.626 1466.65 L947.626 1449.29 Z\" fill=\"#000000\" fill-rule=\"evenodd\" fill-opacity=\"1\" /><path clip-path=\"url(#clip010)\" d=\"M 0 0 M1232.56 1449.29 L1254.78 1449.29 L1254.78 1451.28 L1242.24 1483.85 L1237.35 1483.85 L1249.16 1453.23 L1232.56 1453.23 L1232.56 1449.29 Z\" fill=\"#000000\" fill-rule=\"evenodd\" fill-opacity=\"1\" /><path clip-path=\"url(#clip010)\" d=\"M 0 0 M1259.85 1477.97 L1264.73 1477.97 L1264.73 1483.85 L1259.85 1483.85 L1259.85 1477.97 Z\" fill=\"#000000\" fill-rule=\"evenodd\" fill-opacity=\"1\" /><path clip-path=\"url(#clip010)\" d=\"M 0 0 M1279.8 1452.37 Q1276.19 1452.37 1274.36 1455.94 Q1272.56 1459.48 1272.56 1466.61 Q1272.56 1473.71 1274.36 1477.28 Q1276.19 1480.82 1279.8 1480.82 Q1283.44 1480.82 1285.24 1477.28 Q1287.07 1473.71 1287.07 1466.61 Q1287.07 1459.48 1285.24 1455.94 Q1283.44 1452.37 1279.8 1452.37 M1279.8 1448.67 Q1285.61 1448.67 1288.67 1453.27 Q1291.75 1457.86 1291.75 1466.61 Q1291.75 1475.33 1288.67 1479.94 Q1285.61 1484.52 1279.8 1484.52 Q1273.99 1484.52 1270.92 1479.94 Q1267.86 1475.33 1267.86 1466.61 Q1267.86 1457.86 1270.92 1453.27 Q1273.99 1448.67 1279.8 1448.67 Z\" fill=\"#000000\" fill-rule=\"evenodd\" fill-opacity=\"1\" /><path clip-path=\"url(#clip010)\" d=\"M 0 0 M1556.6 1449.29 L1578.82 1449.29 L1578.82 1451.28 L1566.28 1483.85 L1561.39 1483.85 L1573.2 1453.23 L1556.6 1453.23 L1556.6 1449.29 Z\" fill=\"#000000\" fill-rule=\"evenodd\" fill-opacity=\"1\" /><path clip-path=\"url(#clip010)\" d=\"M 0 0 M1583.89 1477.97 L1588.78 1477.97 L1588.78 1483.85 L1583.89 1483.85 L1583.89 1477.97 Z\" fill=\"#000000\" fill-rule=\"evenodd\" fill-opacity=\"1\" /><path clip-path=\"url(#clip010)\" d=\"M 0 0 M1593.89 1449.29 L1612.25 1449.29 L1612.25 1453.23 L1598.17 1453.23 L1598.17 1461.7 Q1599.19 1461.35 1600.21 1461.19 Q1601.23 1461 1602.25 1461 Q1608.04 1461 1611.42 1464.18 Q1614.79 1467.35 1614.79 1472.76 Q1614.79 1478.34 1611.32 1481.44 Q1607.85 1484.52 1601.53 1484.52 Q1599.36 1484.52 1597.09 1484.15 Q1594.84 1483.78 1592.43 1483.04 L1592.43 1478.34 Q1594.52 1479.48 1596.74 1480.03 Q1598.96 1480.59 1601.44 1480.59 Q1605.44 1480.59 1607.78 1478.48 Q1610.12 1476.38 1610.12 1472.76 Q1610.12 1469.15 1607.78 1467.05 Q1605.44 1464.94 1601.44 1464.94 Q1599.56 1464.94 1597.69 1465.36 Q1595.84 1465.77 1593.89 1466.65 L1593.89 1449.29 Z\" fill=\"#000000\" fill-rule=\"evenodd\" fill-opacity=\"1\" /><path clip-path=\"url(#clip010)\" d=\"M 0 0 M1890.76 1467.44 Q1887.42 1467.44 1885.5 1469.22 Q1883.61 1471 1883.61 1474.13 Q1883.61 1477.25 1885.5 1479.04 Q1887.42 1480.82 1890.76 1480.82 Q1894.09 1480.82 1896.01 1479.04 Q1897.93 1477.23 1897.93 1474.13 Q1897.93 1471 1896.01 1469.22 Q1894.11 1467.44 1890.76 1467.44 M1886.08 1465.45 Q1883.07 1464.71 1881.38 1462.65 Q1879.72 1460.59 1879.72 1457.63 Q1879.72 1453.48 1882.66 1451.07 Q1885.62 1448.67 1890.76 1448.67 Q1895.92 1448.67 1898.86 1451.07 Q1901.8 1453.48 1901.8 1457.63 Q1901.8 1460.59 1900.11 1462.65 Q1898.44 1464.71 1895.46 1465.45 Q1898.84 1466.24 1900.71 1468.53 Q1902.61 1470.82 1902.61 1474.13 Q1902.61 1479.15 1899.53 1481.84 Q1896.48 1484.52 1890.76 1484.52 Q1885.04 1484.52 1881.96 1481.84 Q1878.91 1479.15 1878.91 1474.13 Q1878.91 1470.82 1880.8 1468.53 Q1882.7 1466.24 1886.08 1465.45 M1884.37 1458.06 Q1884.37 1460.75 1886.04 1462.25 Q1887.73 1463.76 1890.76 1463.76 Q1893.77 1463.76 1895.46 1462.25 Q1897.17 1460.75 1897.17 1458.06 Q1897.17 1455.38 1895.46 1453.88 Q1893.77 1452.37 1890.76 1452.37 Q1887.73 1452.37 1886.04 1453.88 Q1884.37 1455.38 1884.37 1458.06 Z\" fill=\"#000000\" fill-rule=\"evenodd\" fill-opacity=\"1\" /><path clip-path=\"url(#clip010)\" d=\"M 0 0 M1907.68 1477.97 L1912.56 1477.97 L1912.56 1483.85 L1907.68 1483.85 L1907.68 1477.97 Z\" fill=\"#000000\" fill-rule=\"evenodd\" fill-opacity=\"1\" /><path clip-path=\"url(#clip010)\" d=\"M 0 0 M1927.63 1452.37 Q1924.02 1452.37 1922.19 1455.94 Q1920.39 1459.48 1920.39 1466.61 Q1920.39 1473.71 1922.19 1477.28 Q1924.02 1480.82 1927.63 1480.82 Q1931.27 1480.82 1933.07 1477.28 Q1934.9 1473.71 1934.9 1466.61 Q1934.9 1459.48 1933.07 1455.94 Q1931.27 1452.37 1927.63 1452.37 M1927.63 1448.67 Q1933.44 1448.67 1936.5 1453.27 Q1939.58 1457.86 1939.58 1466.61 Q1939.58 1475.33 1936.5 1479.94 Q1933.44 1484.52 1927.63 1484.52 Q1921.82 1484.52 1918.74 1479.94 Q1915.69 1475.33 1915.69 1466.61 Q1915.69 1457.86 1918.74 1453.27 Q1921.82 1448.67 1927.63 1448.67 Z\" fill=\"#000000\" fill-rule=\"evenodd\" fill-opacity=\"1\" /><path clip-path=\"url(#clip010)\" d=\"M 0 0 M2214.8 1467.44 Q2211.47 1467.44 2209.55 1469.22 Q2207.65 1471 2207.65 1474.13 Q2207.65 1477.25 2209.55 1479.04 Q2211.47 1480.82 2214.8 1480.82 Q2218.13 1480.82 2220.05 1479.04 Q2221.98 1477.23 2221.98 1474.13 Q2221.98 1471 2220.05 1469.22 Q2218.16 1467.44 2214.8 1467.44 M2210.12 1465.45 Q2207.11 1464.71 2205.42 1462.65 Q2203.76 1460.59 2203.76 1457.63 Q2203.76 1453.48 2206.7 1451.07 Q2209.66 1448.67 2214.8 1448.67 Q2219.96 1448.67 2222.9 1451.07 Q2225.84 1453.48 2225.84 1457.63 Q2225.84 1460.59 2224.15 1462.65 Q2222.48 1464.71 2219.5 1465.45 Q2222.88 1466.24 2224.75 1468.53 Q2226.65 1470.82 2226.65 1474.13 Q2226.65 1479.15 2223.57 1481.84 Q2220.52 1484.52 2214.8 1484.52 Q2209.08 1484.52 2206 1481.84 Q2202.95 1479.15 2202.95 1474.13 Q2202.95 1470.82 2204.85 1468.53 Q2206.74 1466.24 2210.12 1465.45 M2208.41 1458.06 Q2208.41 1460.75 2210.08 1462.25 Q2211.77 1463.76 2214.8 1463.76 Q2217.81 1463.76 2219.5 1462.25 Q2221.21 1460.75 2221.21 1458.06 Q2221.21 1455.38 2219.5 1453.88 Q2217.81 1452.37 2214.8 1452.37 Q2211.77 1452.37 2210.08 1453.88 Q2208.41 1455.38 2208.41 1458.06 Z\" fill=\"#000000\" fill-rule=\"evenodd\" fill-opacity=\"1\" /><path clip-path=\"url(#clip010)\" d=\"M 0 0 M2231.72 1477.97 L2236.61 1477.97 L2236.61 1483.85 L2231.72 1483.85 L2231.72 1477.97 Z\" fill=\"#000000\" fill-rule=\"evenodd\" fill-opacity=\"1\" /><path clip-path=\"url(#clip010)\" d=\"M 0 0 M2241.72 1449.29 L2260.08 1449.29 L2260.08 1453.23 L2246 1453.23 L2246 1461.7 Q2247.02 1461.35 2248.04 1461.19 Q2249.06 1461 2250.08 1461 Q2255.86 1461 2259.24 1464.18 Q2262.62 1467.35 2262.62 1472.76 Q2262.62 1478.34 2259.15 1481.44 Q2255.68 1484.52 2249.36 1484.52 Q2247.18 1484.52 2244.92 1484.15 Q2242.67 1483.78 2240.26 1483.04 L2240.26 1478.34 Q2242.35 1479.48 2244.57 1480.03 Q2246.79 1480.59 2249.27 1480.59 Q2253.27 1480.59 2255.61 1478.48 Q2257.95 1476.38 2257.95 1472.76 Q2257.95 1469.15 2255.61 1467.05 Q2253.27 1464.94 2249.27 1464.94 Q2247.39 1464.94 2245.52 1465.36 Q2243.67 1465.77 2241.72 1466.65 L2241.72 1449.29 Z\" fill=\"#000000\" fill-rule=\"evenodd\" fill-opacity=\"1\" /><path clip-path=\"url(#clip010)\" d=\"M 0 0 M1173.91 1568.04 L1155.77 1520.52 L1162.48 1520.52 L1177.54 1560.53 L1192.62 1520.52 L1199.31 1520.52 L1181.2 1568.04 L1173.91 1568.04 Z\" fill=\"#000000\" fill-rule=\"evenodd\" fill-opacity=\"1\" /><path clip-path=\"url(#clip010)\" d=\"M 0 0 M1211.12 1562.7 L1211.12 1581.6 L1205.23 1581.6 L1205.23 1532.4 L1211.12 1532.4 L1211.12 1537.81 Q1212.96 1534.62 1215.76 1533.1 Q1218.6 1531.54 1222.51 1531.54 Q1229 1531.54 1233.05 1536.69 Q1237.12 1541.85 1237.12 1550.25 Q1237.12 1558.65 1233.05 1563.81 Q1229 1568.97 1222.51 1568.97 Q1218.6 1568.97 1215.76 1567.44 Q1212.96 1565.88 1211.12 1562.7 M1231.04 1550.25 Q1231.04 1543.79 1228.37 1540.13 Q1225.73 1536.44 1221.08 1536.44 Q1216.43 1536.44 1213.76 1540.13 Q1211.12 1543.79 1211.12 1550.25 Q1211.12 1556.71 1213.76 1560.4 Q1216.43 1564.07 1221.08 1564.07 Q1225.73 1564.07 1228.37 1560.4 Q1231.04 1556.71 1231.04 1550.25 Z\" fill=\"#000000\" fill-rule=\"evenodd\" fill-opacity=\"1\" /><path clip-path=\"url(#clip010)\" d=\"M 0 0 M1291.74 1539.24 Q1293.93 1535.29 1296.99 1533.41 Q1300.05 1531.54 1304.18 1531.54 Q1309.75 1531.54 1312.78 1535.45 Q1315.8 1539.33 1315.8 1546.53 L1315.8 1568.04 L1309.91 1568.04 L1309.91 1546.72 Q1309.91 1541.59 1308.1 1539.11 Q1306.28 1536.63 1302.56 1536.63 Q1298.01 1536.63 1295.37 1539.65 Q1292.73 1542.68 1292.73 1547.9 L1292.73 1568.04 L1286.84 1568.04 L1286.84 1546.72 Q1286.84 1541.56 1285.02 1539.11 Q1283.21 1536.63 1279.42 1536.63 Q1274.93 1536.63 1272.29 1539.68 Q1269.65 1542.71 1269.65 1547.9 L1269.65 1568.04 L1263.76 1568.04 L1263.76 1532.4 L1269.65 1532.4 L1269.65 1537.93 Q1271.65 1534.66 1274.46 1533.1 Q1277.26 1531.54 1281.11 1531.54 Q1284.99 1531.54 1287.7 1533.51 Q1290.43 1535.48 1291.74 1539.24 Z\" fill=\"#000000\" fill-rule=\"evenodd\" fill-opacity=\"1\" /><path clip-path=\"url(#clip010)\" d=\"M 0 0 M1332.35 1520.52 L1337.76 1520.52 L1321.21 1574.09 L1315.8 1574.09 L1332.35 1520.52 Z\" fill=\"#000000\" fill-rule=\"evenodd\" fill-opacity=\"1\" /><path clip-path=\"url(#clip010)\" d=\"M 0 0 M1366.63 1533.45 L1366.63 1538.98 Q1364.15 1537.71 1361.47 1537.07 Q1358.8 1536.44 1355.94 1536.44 Q1351.58 1536.44 1349.38 1537.77 Q1347.22 1539.11 1347.22 1541.79 Q1347.22 1543.82 1348.78 1545 Q1350.33 1546.15 1355.05 1547.2 L1357.05 1547.64 Q1363.29 1548.98 1365.9 1551.43 Q1368.54 1553.85 1368.54 1558.21 Q1368.54 1563.17 1364.59 1566.07 Q1360.68 1568.97 1353.8 1568.97 Q1350.94 1568.97 1347.82 1568.39 Q1344.73 1567.85 1341.3 1566.74 L1341.3 1560.69 Q1344.54 1562.38 1347.69 1563.24 Q1350.84 1564.07 1353.93 1564.07 Q1358.07 1564.07 1360.3 1562.66 Q1362.53 1561.23 1362.53 1558.65 Q1362.53 1556.27 1360.9 1554.99 Q1359.31 1553.72 1353.87 1552.54 L1351.83 1552.07 Q1346.39 1550.92 1343.97 1548.56 Q1341.55 1546.18 1341.55 1542.04 Q1341.55 1537.01 1345.11 1534.27 Q1348.68 1531.54 1355.24 1531.54 Q1358.48 1531.54 1361.35 1532.01 Q1364.21 1532.49 1366.63 1533.45 Z\" fill=\"#000000\" fill-rule=\"evenodd\" fill-opacity=\"1\" /><polyline clip-path=\"url(#clip012)\" style=\"stroke:#000000; stroke-width:2; stroke-opacity:0.1; fill:none\" points=\"\n",
       "  171.552,1386.4 2352.76,1386.4 \n",
       "  \"/>\n",
       "<polyline clip-path=\"url(#clip012)\" style=\"stroke:#000000; stroke-width:2; stroke-opacity:0.1; fill:none\" points=\"\n",
       "  171.552,1130.95 2352.76,1130.95 \n",
       "  \"/>\n",
       "<polyline clip-path=\"url(#clip012)\" style=\"stroke:#000000; stroke-width:2; stroke-opacity:0.1; fill:none\" points=\"\n",
       "  171.552,875.504 2352.76,875.504 \n",
       "  \"/>\n",
       "<polyline clip-path=\"url(#clip012)\" style=\"stroke:#000000; stroke-width:2; stroke-opacity:0.1; fill:none\" points=\"\n",
       "  171.552,620.059 2352.76,620.059 \n",
       "  \"/>\n",
       "<polyline clip-path=\"url(#clip012)\" style=\"stroke:#000000; stroke-width:2; stroke-opacity:0.1; fill:none\" points=\"\n",
       "  171.552,364.613 2352.76,364.613 \n",
       "  \"/>\n",
       "<polyline clip-path=\"url(#clip010)\" style=\"stroke:#000000; stroke-width:4; stroke-opacity:1; fill:none\" points=\"\n",
       "  171.552,1423.18 171.552,123.472 \n",
       "  \"/>\n",
       "<polyline clip-path=\"url(#clip010)\" style=\"stroke:#000000; stroke-width:4; stroke-opacity:1; fill:none\" points=\"\n",
       "  171.552,1386.4 197.726,1386.4 \n",
       "  \"/>\n",
       "<polyline clip-path=\"url(#clip010)\" style=\"stroke:#000000; stroke-width:4; stroke-opacity:1; fill:none\" points=\"\n",
       "  171.552,1130.95 197.726,1130.95 \n",
       "  \"/>\n",
       "<polyline clip-path=\"url(#clip010)\" style=\"stroke:#000000; stroke-width:4; stroke-opacity:1; fill:none\" points=\"\n",
       "  171.552,875.504 197.726,875.504 \n",
       "  \"/>\n",
       "<polyline clip-path=\"url(#clip010)\" style=\"stroke:#000000; stroke-width:4; stroke-opacity:1; fill:none\" points=\"\n",
       "  171.552,620.059 197.726,620.059 \n",
       "  \"/>\n",
       "<polyline clip-path=\"url(#clip010)\" style=\"stroke:#000000; stroke-width:4; stroke-opacity:1; fill:none\" points=\"\n",
       "  171.552,364.613 197.726,364.613 \n",
       "  \"/>\n",
       "<path clip-path=\"url(#clip010)\" d=\"M 0 0 M86.6401 1372.19 Q83.029 1372.19 81.2003 1375.76 Q79.3948 1379.3 79.3948 1386.43 Q79.3948 1393.54 81.2003 1397.1 Q83.029 1400.64 86.6401 1400.64 Q90.2743 1400.64 92.0799 1397.1 Q93.9086 1393.54 93.9086 1386.43 Q93.9086 1379.3 92.0799 1375.76 Q90.2743 1372.19 86.6401 1372.19 M86.6401 1368.49 Q92.4502 1368.49 95.5058 1373.1 Q98.5845 1377.68 98.5845 1386.43 Q98.5845 1395.16 95.5058 1399.76 Q92.4502 1404.35 86.6401 1404.35 Q80.8299 1404.35 77.7512 1399.76 Q74.6957 1395.16 74.6957 1386.43 Q74.6957 1377.68 77.7512 1373.1 Q80.8299 1368.49 86.6401 1368.49 Z\" fill=\"#000000\" fill-rule=\"evenodd\" fill-opacity=\"1\" /><path clip-path=\"url(#clip010)\" d=\"M 0 0 M103.654 1397.8 L108.538 1397.8 L108.538 1403.68 L103.654 1403.68 L103.654 1397.8 Z\" fill=\"#000000\" fill-rule=\"evenodd\" fill-opacity=\"1\" /><path clip-path=\"url(#clip010)\" d=\"M 0 0 M123.607 1372.19 Q119.996 1372.19 118.168 1375.76 Q116.362 1379.3 116.362 1386.43 Q116.362 1393.54 118.168 1397.1 Q119.996 1400.64 123.607 1400.64 Q127.242 1400.64 129.047 1397.1 Q130.876 1393.54 130.876 1386.43 Q130.876 1379.3 129.047 1375.76 Q127.242 1372.19 123.607 1372.19 M123.607 1368.49 Q129.418 1368.49 132.473 1373.1 Q135.552 1377.68 135.552 1386.43 Q135.552 1395.16 132.473 1399.76 Q129.418 1404.35 123.607 1404.35 Q117.797 1404.35 114.719 1399.76 Q111.663 1395.16 111.663 1386.43 Q111.663 1377.68 114.719 1373.1 Q117.797 1368.49 123.607 1368.49 Z\" fill=\"#000000\" fill-rule=\"evenodd\" fill-opacity=\"1\" /><path clip-path=\"url(#clip010)\" d=\"M 0 0 M83.2605 1144.29 L99.5798 1144.29 L99.5798 1148.23 L77.6355 1148.23 L77.6355 1144.29 Q80.2975 1141.54 84.8808 1136.91 Q89.4873 1132.26 90.6678 1130.92 Q92.9132 1128.39 93.7928 1126.66 Q94.6956 1124.9 94.6956 1123.21 Q94.6956 1120.45 92.7512 1118.72 Q90.8299 1116.98 87.728 1116.98 Q85.529 1116.98 83.0753 1117.74 Q80.6447 1118.51 77.867 1120.06 L77.867 1115.34 Q80.691 1114.2 83.1447 1113.62 Q85.5984 1113.04 87.6354 1113.04 Q93.0058 1113.04 96.2002 1115.73 Q99.3946 1118.42 99.3946 1122.91 Q99.3946 1125.04 98.5845 1126.96 Q97.7974 1128.86 95.691 1131.45 Q95.1123 1132.12 92.0104 1135.34 Q88.9086 1138.53 83.2605 1144.29 Z\" fill=\"#000000\" fill-rule=\"evenodd\" fill-opacity=\"1\" /><path clip-path=\"url(#clip010)\" d=\"M 0 0 M104.649 1142.35 L109.533 1142.35 L109.533 1148.23 L104.649 1148.23 L104.649 1142.35 Z\" fill=\"#000000\" fill-rule=\"evenodd\" fill-opacity=\"1\" /><path clip-path=\"url(#clip010)\" d=\"M 0 0 M114.649 1113.67 L133.006 1113.67 L133.006 1117.61 L118.932 1117.61 L118.932 1126.08 Q119.95 1125.73 120.969 1125.57 Q121.987 1125.38 123.006 1125.38 Q128.793 1125.38 132.172 1128.55 Q135.552 1131.73 135.552 1137.14 Q135.552 1142.72 132.08 1145.82 Q128.607 1148.9 122.288 1148.9 Q120.112 1148.9 117.844 1148.53 Q115.598 1148.16 113.191 1147.42 L113.191 1142.72 Q115.274 1143.85 117.496 1144.41 Q119.719 1144.97 122.195 1144.97 Q126.2 1144.97 128.538 1142.86 Q130.876 1140.75 130.876 1137.14 Q130.876 1133.53 128.538 1131.42 Q126.2 1129.32 122.195 1129.32 Q120.32 1129.32 118.445 1129.73 Q116.594 1130.15 114.649 1131.03 L114.649 1113.67 Z\" fill=\"#000000\" fill-rule=\"evenodd\" fill-opacity=\"1\" /><path clip-path=\"url(#clip010)\" d=\"M 0 0 M77.6818 858.224 L96.0382 858.224 L96.0382 862.159 L81.9642 862.159 L81.9642 870.632 Q82.9827 870.284 84.0012 870.122 Q85.0197 869.937 86.0382 869.937 Q91.8252 869.937 95.2049 873.108 Q98.5845 876.28 98.5845 881.696 Q98.5845 887.275 95.1123 890.377 Q91.6401 893.456 85.3206 893.456 Q83.1447 893.456 80.8762 893.085 Q78.6309 892.715 76.2235 891.974 L76.2235 887.275 Q78.3068 888.409 80.529 888.965 Q82.7512 889.52 85.2281 889.52 Q89.2327 889.52 91.5706 887.414 Q93.9086 885.307 93.9086 881.696 Q93.9086 878.085 91.5706 875.979 Q89.2327 873.872 85.2281 873.872 Q83.3531 873.872 81.4781 874.289 Q79.6262 874.706 77.6818 875.585 L77.6818 858.224 Z\" fill=\"#000000\" fill-rule=\"evenodd\" fill-opacity=\"1\" /><path clip-path=\"url(#clip010)\" d=\"M 0 0 M103.654 886.905 L108.538 886.905 L108.538 892.784 L103.654 892.784 L103.654 886.905 Z\" fill=\"#000000\" fill-rule=\"evenodd\" fill-opacity=\"1\" /><path clip-path=\"url(#clip010)\" d=\"M 0 0 M123.607 861.303 Q119.996 861.303 118.168 864.868 Q116.362 868.409 116.362 875.539 Q116.362 882.645 118.168 886.21 Q119.996 889.752 123.607 889.752 Q127.242 889.752 129.047 886.21 Q130.876 882.645 130.876 875.539 Q130.876 868.409 129.047 864.868 Q127.242 861.303 123.607 861.303 M123.607 857.599 Q129.418 857.599 132.473 862.206 Q135.552 866.789 135.552 875.539 Q135.552 884.266 132.473 888.872 Q129.418 893.456 123.607 893.456 Q117.797 893.456 114.719 888.872 Q111.663 884.266 111.663 875.539 Q111.663 866.789 114.719 862.206 Q117.797 857.599 123.607 857.599 Z\" fill=\"#000000\" fill-rule=\"evenodd\" fill-opacity=\"1\" /><path clip-path=\"url(#clip010)\" d=\"M 0 0 M77.3577 602.779 L99.5798 602.779 L99.5798 604.769 L87.0336 637.339 L82.1494 637.339 L93.9549 606.714 L77.3577 606.714 L77.3577 602.779 Z\" fill=\"#000000\" fill-rule=\"evenodd\" fill-opacity=\"1\" /><path clip-path=\"url(#clip010)\" d=\"M 0 0 M104.649 631.459 L109.533 631.459 L109.533 637.339 L104.649 637.339 L104.649 631.459 Z\" fill=\"#000000\" fill-rule=\"evenodd\" fill-opacity=\"1\" /><path clip-path=\"url(#clip010)\" d=\"M 0 0 M114.649 602.779 L133.006 602.779 L133.006 606.714 L118.932 606.714 L118.932 615.186 Q119.95 614.839 120.969 614.677 Q121.987 614.491 123.006 614.491 Q128.793 614.491 132.172 617.663 Q135.552 620.834 135.552 626.251 Q135.552 631.829 132.08 634.931 Q128.607 638.01 122.288 638.01 Q120.112 638.01 117.844 637.639 Q115.598 637.269 113.191 636.528 L113.191 631.829 Q115.274 632.964 117.496 633.519 Q119.719 634.075 122.195 634.075 Q126.2 634.075 128.538 631.968 Q130.876 629.862 130.876 626.251 Q130.876 622.64 128.538 620.533 Q126.2 618.427 122.195 618.427 Q120.32 618.427 118.445 618.843 Q116.594 619.26 114.649 620.14 L114.649 602.779 Z\" fill=\"#000000\" fill-rule=\"evenodd\" fill-opacity=\"1\" /><path clip-path=\"url(#clip010)\" d=\"M 0 0 M51.6634 377.958 L59.3023 377.958 L59.3023 351.592 L50.9921 353.259 L50.9921 349 L59.256 347.333 L63.9319 347.333 L63.9319 377.958 L71.5707 377.958 L71.5707 381.893 L51.6634 381.893 L51.6634 377.958 Z\" fill=\"#000000\" fill-rule=\"evenodd\" fill-opacity=\"1\" /><path clip-path=\"url(#clip010)\" d=\"M 0 0 M86.6401 350.412 Q83.029 350.412 81.2003 353.976 Q79.3948 357.518 79.3948 364.648 Q79.3948 371.754 81.2003 375.319 Q83.029 378.86 86.6401 378.86 Q90.2743 378.86 92.0799 375.319 Q93.9086 371.754 93.9086 364.648 Q93.9086 357.518 92.0799 353.976 Q90.2743 350.412 86.6401 350.412 M86.6401 346.708 Q92.4502 346.708 95.5058 351.314 Q98.5845 355.898 98.5845 364.648 Q98.5845 373.374 95.5058 377.981 Q92.4502 382.564 86.6401 382.564 Q80.8299 382.564 77.7512 377.981 Q74.6957 373.374 74.6957 364.648 Q74.6957 355.898 77.7512 351.314 Q80.8299 346.708 86.6401 346.708 Z\" fill=\"#000000\" fill-rule=\"evenodd\" fill-opacity=\"1\" /><path clip-path=\"url(#clip010)\" d=\"M 0 0 M103.654 376.013 L108.538 376.013 L108.538 381.893 L103.654 381.893 L103.654 376.013 Z\" fill=\"#000000\" fill-rule=\"evenodd\" fill-opacity=\"1\" /><path clip-path=\"url(#clip010)\" d=\"M 0 0 M123.607 350.412 Q119.996 350.412 118.168 353.976 Q116.362 357.518 116.362 364.648 Q116.362 371.754 118.168 375.319 Q119.996 378.86 123.607 378.86 Q127.242 378.86 129.047 375.319 Q130.876 371.754 130.876 364.648 Q130.876 357.518 129.047 353.976 Q127.242 350.412 123.607 350.412 M123.607 346.708 Q129.418 346.708 132.473 351.314 Q135.552 355.898 135.552 364.648 Q135.552 373.374 132.473 377.981 Q129.418 382.564 123.607 382.564 Q117.797 382.564 114.719 377.981 Q111.663 373.374 111.663 364.648 Q111.663 355.898 114.719 351.314 Q117.797 346.708 123.607 346.708 Z\" fill=\"#000000\" fill-rule=\"evenodd\" fill-opacity=\"1\" /><path clip-path=\"url(#clip010)\" d=\"M 0 0 M727.9 18.8205 L727.9 65.8515 L737.785 65.8515 Q750.302 65.8515 756.095 60.1802 Q761.928 54.509 761.928 42.2752 Q761.928 30.1225 756.095 24.4918 Q750.302 18.8205 737.785 18.8205 L727.9 18.8205 M719.718 12.096 L736.529 12.096 Q754.11 12.096 762.333 19.4281 Q770.556 26.7198 770.556 42.2752 Q770.556 57.9117 762.293 65.2439 Q754.029 72.576 736.529 72.576 L719.718 72.576 L719.718 12.096 Z\" fill=\"#000000\" fill-rule=\"evenodd\" fill-opacity=\"1\" /><path clip-path=\"url(#clip010)\" d=\"M 0 0 M798.994 49.7694 Q789.96 49.7694 786.476 51.8354 Q782.993 53.9013 782.993 58.8839 Q782.993 62.8538 785.585 65.2034 Q788.218 67.5124 792.715 67.5124 Q798.913 67.5124 802.64 63.1374 Q806.407 58.7219 806.407 51.4303 L806.407 49.7694 L798.994 49.7694 M813.861 46.6907 L813.861 72.576 L806.407 72.576 L806.407 65.6895 Q803.855 69.8214 800.047 71.8063 Q796.239 73.7508 790.73 73.7508 Q783.762 73.7508 779.63 69.8619 Q775.539 65.9325 775.539 59.3701 Q775.539 51.7138 780.643 47.825 Q785.788 43.9361 795.956 43.9361 L806.407 43.9361 L806.407 43.2069 Q806.407 38.0623 803.004 35.2672 Q799.642 32.4315 793.525 32.4315 Q789.636 32.4315 785.95 33.3632 Q782.264 34.295 778.861 36.1584 L778.861 29.2718 Q782.952 27.692 786.801 26.9223 Q790.649 26.1121 794.295 26.1121 Q804.138 26.1121 808.999 31.2163 Q813.861 36.3204 813.861 46.6907 Z\" fill=\"#000000\" fill-rule=\"evenodd\" fill-opacity=\"1\" /><path clip-path=\"url(#clip010)\" d=\"M 0 0 M854.248 49.9314 Q854.248 41.7081 850.845 37.0496 Q847.483 32.3505 841.569 32.3505 Q835.654 32.3505 832.252 37.0496 Q828.889 41.7081 828.889 49.9314 Q828.889 58.1548 832.252 62.8538 Q835.654 67.5124 841.569 67.5124 Q847.483 67.5124 850.845 62.8538 Q854.248 58.1548 854.248 49.9314 M828.889 34.0924 Q831.239 30.0415 834.804 28.0971 Q838.409 26.1121 843.392 26.1121 Q851.656 26.1121 856.8 32.6746 Q861.985 39.2371 861.985 49.9314 Q861.985 60.6258 856.8 67.1883 Q851.656 73.7508 843.392 73.7508 Q838.409 73.7508 834.804 71.8063 Q831.239 69.8214 828.889 65.7705 L828.889 72.576 L821.395 72.576 L821.395 9.54393 L828.889 9.54393 L828.889 34.0924 Z\" fill=\"#000000\" fill-rule=\"evenodd\" fill-opacity=\"1\" /><path clip-path=\"url(#clip010)\" d=\"M 0 0 M869.804 27.2059 L877.257 27.2059 L877.257 72.576 L869.804 72.576 L869.804 27.2059 M869.804 9.54393 L877.257 9.54393 L877.257 18.9825 L869.804 18.9825 L869.804 9.54393 Z\" fill=\"#000000\" fill-rule=\"evenodd\" fill-opacity=\"1\" /><path clip-path=\"url(#clip010)\" d=\"M 0 0 M923.883 48.0275 L923.883 51.6733 L889.612 51.6733 Q890.099 59.3701 894.231 63.421 Q898.403 67.4314 905.816 67.4314 Q910.11 67.4314 914.12 66.3781 Q918.171 65.3249 922.141 63.2184 L922.141 70.267 Q918.131 71.9684 913.918 72.8596 Q909.705 73.7508 905.37 73.7508 Q894.514 73.7508 888.154 67.4314 Q881.835 61.1119 881.835 50.3365 Q881.835 39.1965 887.83 32.6746 Q893.866 26.1121 904.074 26.1121 Q913.229 26.1121 918.536 32.0264 Q923.883 37.9003 923.883 48.0275 M916.429 45.84 Q916.348 39.7232 912.986 36.0774 Q909.664 32.4315 904.155 32.4315 Q897.917 32.4315 894.149 35.9558 Q890.423 39.4801 889.856 45.8805 L916.429 45.84 Z\" fill=\"#000000\" fill-rule=\"evenodd\" fill-opacity=\"1\" /><path clip-path=\"url(#clip010)\" d=\"M 0 0 M986.996 28.5427 L986.996 35.5912 Q983.837 33.9709 980.434 33.1607 Q977.031 32.3505 973.385 32.3505 Q967.835 32.3505 965.04 34.0519 Q962.286 35.7533 962.286 39.156 Q962.286 41.7486 964.271 43.2475 Q966.256 44.7058 972.251 46.0426 L974.803 46.6097 Q982.743 48.3111 986.065 51.4303 Q989.427 54.509 989.427 60.0587 Q989.427 66.3781 984.404 70.0644 Q979.421 73.7508 970.671 73.7508 Q967.025 73.7508 963.055 73.0216 Q959.126 72.3329 954.751 70.9151 L954.751 63.2184 Q958.883 65.3654 962.893 66.4591 Q966.904 67.5124 970.833 67.5124 Q976.099 67.5124 978.935 65.73 Q981.771 63.9071 981.771 60.6258 Q981.771 57.5877 979.705 55.9673 Q977.679 54.3469 970.752 52.8481 L968.16 52.2405 Q961.232 50.7821 958.154 47.7845 Q955.075 44.7463 955.075 39.4801 Q955.075 33.0797 959.612 29.5959 Q964.149 26.1121 972.494 26.1121 Q976.626 26.1121 980.272 26.7198 Q983.918 27.3274 986.996 28.5427 Z\" fill=\"#000000\" fill-rule=\"evenodd\" fill-opacity=\"1\" /><path clip-path=\"url(#clip010)\" d=\"M 0 0 M1017.86 49.7694 Q1008.83 49.7694 1005.35 51.8354 Q1001.86 53.9013 1001.86 58.8839 Q1001.86 62.8538 1004.46 65.2034 Q1007.09 67.5124 1011.59 67.5124 Q1017.78 67.5124 1021.51 63.1374 Q1025.28 58.7219 1025.28 51.4303 L1025.28 49.7694 L1017.86 49.7694 M1032.73 46.6907 L1032.73 72.576 L1025.28 72.576 L1025.28 65.6895 Q1022.73 69.8214 1018.92 71.8063 Q1015.11 73.7508 1009.6 73.7508 Q1002.63 73.7508 998.501 69.8619 Q994.409 65.9325 994.409 59.3701 Q994.409 51.7138 999.514 47.825 Q1004.66 43.9361 1014.83 43.9361 L1025.28 43.9361 L1025.28 43.2069 Q1025.28 38.0623 1021.87 35.2672 Q1018.51 32.4315 1012.4 32.4315 Q1008.51 32.4315 1004.82 33.3632 Q1001.13 34.295 997.731 36.1584 L997.731 29.2718 Q1001.82 27.692 1005.67 26.9223 Q1009.52 26.1121 1013.17 26.1121 Q1023.01 26.1121 1027.87 31.2163 Q1032.73 36.3204 1032.73 46.6907 Z\" fill=\"#000000\" fill-rule=\"evenodd\" fill-opacity=\"1\" /><path clip-path=\"url(#clip010)\" d=\"M 0 0 M1075.87 35.9153 Q1078.67 30.8922 1082.56 28.5022 Q1086.45 26.1121 1091.71 26.1121 Q1098.8 26.1121 1102.65 31.0947 Q1106.5 36.0368 1106.5 45.1919 L1106.5 72.576 L1099 72.576 L1099 45.4349 Q1099 38.913 1096.69 35.7533 Q1094.39 32.5936 1089.65 32.5936 Q1083.85 32.5936 1080.49 36.4419 Q1077.13 40.2903 1077.13 46.9338 L1077.13 72.576 L1069.63 72.576 L1069.63 45.4349 Q1069.63 38.8725 1067.33 35.7533 Q1065.02 32.5936 1060.2 32.5936 Q1054.48 32.5936 1051.12 36.4824 Q1047.76 40.3308 1047.76 46.9338 L1047.76 72.576 L1040.27 72.576 L1040.27 27.2059 L1047.76 27.2059 L1047.76 34.2544 Q1050.31 30.082 1053.88 28.0971 Q1057.44 26.1121 1062.34 26.1121 Q1067.29 26.1121 1070.73 28.6237 Q1074.21 31.1352 1075.87 35.9153 Z\" fill=\"#000000\" fill-rule=\"evenodd\" fill-opacity=\"1\" /><path clip-path=\"url(#clip010)\" d=\"M 0 0 M1121.53 65.7705 L1121.53 89.8329 L1114.03 89.8329 L1114.03 27.2059 L1121.53 27.2059 L1121.53 34.0924 Q1123.88 30.0415 1127.44 28.0971 Q1131.05 26.1121 1136.03 26.1121 Q1144.29 26.1121 1149.44 32.6746 Q1154.62 39.2371 1154.62 49.9314 Q1154.62 60.6258 1149.44 67.1883 Q1144.29 73.7508 1136.03 73.7508 Q1131.05 73.7508 1127.44 71.8063 Q1123.88 69.8214 1121.53 65.7705 M1146.89 49.9314 Q1146.89 41.7081 1143.48 37.0496 Q1140.12 32.3505 1134.21 32.3505 Q1128.29 32.3505 1124.89 37.0496 Q1121.53 41.7081 1121.53 49.9314 Q1121.53 58.1548 1124.89 62.8538 Q1128.29 67.5124 1134.21 67.5124 Q1140.12 67.5124 1143.48 62.8538 Q1146.89 58.1548 1146.89 49.9314 Z\" fill=\"#000000\" fill-rule=\"evenodd\" fill-opacity=\"1\" /><path clip-path=\"url(#clip010)\" d=\"M 0 0 M1162.44 9.54393 L1169.89 9.54393 L1169.89 72.576 L1162.44 72.576 L1162.44 9.54393 Z\" fill=\"#000000\" fill-rule=\"evenodd\" fill-opacity=\"1\" /><path clip-path=\"url(#clip010)\" d=\"M 0 0 M1216.52 48.0275 L1216.52 51.6733 L1182.25 51.6733 Q1182.74 59.3701 1186.87 63.421 Q1191.04 67.4314 1198.45 67.4314 Q1202.75 67.4314 1206.76 66.3781 Q1210.81 65.3249 1214.78 63.2184 L1214.78 70.267 Q1210.77 71.9684 1206.56 72.8596 Q1202.34 73.7508 1198.01 73.7508 Q1187.15 73.7508 1180.79 67.4314 Q1174.47 61.1119 1174.47 50.3365 Q1174.47 39.1965 1180.47 32.6746 Q1186.5 26.1121 1196.71 26.1121 Q1205.87 26.1121 1211.17 32.0264 Q1216.52 37.9003 1216.52 48.0275 M1209.07 45.84 Q1208.99 39.7232 1205.62 36.0774 Q1202.3 32.4315 1196.79 32.4315 Q1190.55 32.4315 1186.79 35.9558 Q1183.06 39.4801 1182.49 45.8805 L1209.07 45.84 Z\" fill=\"#000000\" fill-rule=\"evenodd\" fill-opacity=\"1\" /><path clip-path=\"url(#clip010)\" d=\"M 0 0 M1253.26 28.5427 L1253.26 35.5912 Q1250.1 33.9709 1246.7 33.1607 Q1243.3 32.3505 1239.65 32.3505 Q1234.1 32.3505 1231.31 34.0519 Q1228.55 35.7533 1228.55 39.156 Q1228.55 41.7486 1230.54 43.2475 Q1232.52 44.7058 1238.52 46.0426 L1241.07 46.6097 Q1249.01 48.3111 1252.33 51.4303 Q1255.69 54.509 1255.69 60.0587 Q1255.69 66.3781 1250.67 70.0644 Q1245.69 73.7508 1236.94 73.7508 Q1233.29 73.7508 1229.32 73.0216 Q1225.39 72.3329 1221.02 70.9151 L1221.02 63.2184 Q1225.15 65.3654 1229.16 66.4591 Q1233.17 67.5124 1237.1 67.5124 Q1242.37 67.5124 1245.2 65.73 Q1248.04 63.9071 1248.04 60.6258 Q1248.04 57.5877 1245.97 55.9673 Q1243.95 54.3469 1237.02 52.8481 L1234.43 52.2405 Q1227.5 50.7821 1224.42 47.7845 Q1221.34 44.7463 1221.34 39.4801 Q1221.34 33.0797 1225.88 29.5959 Q1230.42 26.1121 1238.76 26.1121 Q1242.89 26.1121 1246.54 26.7198 Q1250.18 27.3274 1253.26 28.5427 Z\" fill=\"#000000\" fill-rule=\"evenodd\" fill-opacity=\"1\" /><path clip-path=\"url(#clip010)\" d=\"M 0 0 M1310.5 49.7694 Q1301.47 49.7694 1297.98 51.8354 Q1294.5 53.9013 1294.5 58.8839 Q1294.5 62.8538 1297.09 65.2034 Q1299.73 67.5124 1304.22 67.5124 Q1310.42 67.5124 1314.15 63.1374 Q1317.91 58.7219 1317.91 51.4303 L1317.91 49.7694 L1310.5 49.7694 M1325.37 46.6907 L1325.37 72.576 L1317.91 72.576 L1317.91 65.6895 Q1315.36 69.8214 1311.55 71.8063 Q1307.75 73.7508 1302.24 73.7508 Q1295.27 73.7508 1291.14 69.8619 Q1287.05 65.9325 1287.05 59.3701 Q1287.05 51.7138 1292.15 47.825 Q1297.3 43.9361 1307.46 43.9361 L1317.91 43.9361 L1317.91 43.2069 Q1317.91 38.0623 1314.51 35.2672 Q1311.15 32.4315 1305.03 32.4315 Q1301.14 32.4315 1297.46 33.3632 Q1293.77 34.295 1290.37 36.1584 L1290.37 29.2718 Q1294.46 27.692 1298.31 26.9223 Q1302.16 26.1121 1305.8 26.1121 Q1315.65 26.1121 1320.51 31.2163 Q1325.37 36.3204 1325.37 46.6907 Z\" fill=\"#000000\" fill-rule=\"evenodd\" fill-opacity=\"1\" /><path clip-path=\"url(#clip010)\" d=\"M 0 0 M1340.56 14.324 L1340.56 27.2059 L1355.91 27.2059 L1355.91 32.9987 L1340.56 32.9987 L1340.56 57.6282 Q1340.56 63.1779 1342.06 64.7578 Q1343.6 66.3376 1348.26 66.3376 L1355.91 66.3376 L1355.91 72.576 L1348.26 72.576 Q1339.63 72.576 1336.35 69.3758 Q1333.06 66.1351 1333.06 57.6282 L1333.06 32.9987 L1327.6 32.9987 L1327.6 27.2059 L1333.06 27.2059 L1333.06 14.324 L1340.56 14.324 Z\" fill=\"#000000\" fill-rule=\"evenodd\" fill-opacity=\"1\" /><path clip-path=\"url(#clip010)\" d=\"M 0 0 M1390.1 9.54393 L1397.56 9.54393 L1397.56 72.576 L1390.1 72.576 L1390.1 9.54393 Z\" fill=\"#000000\" fill-rule=\"evenodd\" fill-opacity=\"1\" /><path clip-path=\"url(#clip010)\" d=\"M 0 0 M1422.95 32.4315 Q1416.96 32.4315 1413.48 37.1306 Q1409.99 41.7891 1409.99 49.9314 Q1409.99 58.0738 1413.43 62.7728 Q1416.92 67.4314 1422.95 67.4314 Q1428.91 67.4314 1432.39 62.7323 Q1435.88 58.0333 1435.88 49.9314 Q1435.88 41.8701 1432.39 37.1711 Q1428.91 32.4315 1422.95 32.4315 M1422.95 26.1121 Q1432.68 26.1121 1438.23 32.4315 Q1443.78 38.7509 1443.78 49.9314 Q1443.78 61.0714 1438.23 67.4314 Q1432.68 73.7508 1422.95 73.7508 Q1413.19 73.7508 1407.64 67.4314 Q1402.13 61.0714 1402.13 49.9314 Q1402.13 38.7509 1407.64 32.4315 Q1413.19 26.1121 1422.95 26.1121 Z\" fill=\"#000000\" fill-rule=\"evenodd\" fill-opacity=\"1\" /><path clip-path=\"url(#clip010)\" d=\"M 0 0 M1447.26 27.2059 L1454.71 27.2059 L1464.03 62.6108 L1473.31 27.2059 L1482.1 27.2059 L1491.41 62.6108 L1500.69 27.2059 L1508.15 27.2059 L1496.28 72.576 L1487.49 72.576 L1477.72 35.3887 L1467.92 72.576 L1459.13 72.576 L1447.26 27.2059 Z\" fill=\"#000000\" fill-rule=\"evenodd\" fill-opacity=\"1\" /><path clip-path=\"url(#clip010)\" d=\"M 0 0 M1554.77 48.0275 L1554.77 51.6733 L1520.5 51.6733 Q1520.99 59.3701 1525.12 63.421 Q1529.29 67.4314 1536.7 67.4314 Q1541 67.4314 1545.01 66.3781 Q1549.06 65.3249 1553.03 63.2184 L1553.03 70.267 Q1549.02 71.9684 1544.81 72.8596 Q1540.59 73.7508 1536.26 73.7508 Q1525.4 73.7508 1519.04 67.4314 Q1512.72 61.1119 1512.72 50.3365 Q1512.72 39.1965 1518.72 32.6746 Q1524.75 26.1121 1534.96 26.1121 Q1544.12 26.1121 1549.42 32.0264 Q1554.77 37.9003 1554.77 48.0275 M1547.32 45.84 Q1547.24 39.7232 1543.87 36.0774 Q1540.55 32.4315 1535.04 32.4315 Q1528.8 32.4315 1525.04 35.9558 Q1521.31 39.4801 1520.74 45.8805 L1547.32 45.84 Z\" fill=\"#000000\" fill-rule=\"evenodd\" fill-opacity=\"1\" /><path clip-path=\"url(#clip010)\" d=\"M 0 0 M1588.88 34.1734 Q1587.62 33.4443 1586.12 33.1202 Q1584.67 32.7556 1582.88 32.7556 Q1576.56 32.7556 1573.16 36.8875 Q1569.8 40.9789 1569.8 48.6757 L1569.8 72.576 L1562.31 72.576 L1562.31 27.2059 L1569.8 27.2059 L1569.8 34.2544 Q1572.15 30.1225 1575.92 28.1376 Q1579.68 26.1121 1585.07 26.1121 Q1585.84 26.1121 1586.77 26.2337 Q1587.7 26.3147 1588.84 26.5172 L1588.88 34.1734 Z\" fill=\"#000000\" fill-rule=\"evenodd\" fill-opacity=\"1\" /><path clip-path=\"url(#clip010)\" d=\"M 0 0 M1655.72 28.9478 L1655.72 35.9153 Q1652.56 34.1734 1649.36 33.3227 Q1646.2 32.4315 1642.96 32.4315 Q1635.71 32.4315 1631.7 37.0496 Q1627.69 41.6271 1627.69 49.9314 Q1627.69 58.2358 1631.7 62.8538 Q1635.71 67.4314 1642.96 67.4314 Q1646.2 67.4314 1649.36 66.5807 Q1652.56 65.6895 1655.72 63.9476 L1655.72 70.8341 Q1652.6 72.2924 1649.24 73.0216 Q1645.92 73.7508 1642.15 73.7508 Q1631.9 73.7508 1625.86 67.3098 Q1619.83 60.8689 1619.83 49.9314 Q1619.83 38.832 1625.9 32.472 Q1632.02 26.1121 1642.64 26.1121 Q1646.08 26.1121 1649.36 26.8413 Q1652.64 27.5299 1655.72 28.9478 Z\" fill=\"#000000\" fill-rule=\"evenodd\" fill-opacity=\"1\" /><path clip-path=\"url(#clip010)\" d=\"M 0 0 M1689.83 34.1734 Q1688.57 33.4443 1687.07 33.1202 Q1685.62 32.7556 1683.83 32.7556 Q1677.51 32.7556 1674.11 36.8875 Q1670.75 40.9789 1670.75 48.6757 L1670.75 72.576 L1663.25 72.576 L1663.25 27.2059 L1670.75 27.2059 L1670.75 34.2544 Q1673.1 30.1225 1676.87 28.1376 Q1680.63 26.1121 1686.02 26.1121 Q1686.79 26.1121 1687.72 26.2337 Q1688.65 26.3147 1689.79 26.5172 L1689.83 34.1734 Z\" fill=\"#000000\" fill-rule=\"evenodd\" fill-opacity=\"1\" /><path clip-path=\"url(#clip010)\" d=\"M 0 0 M1696.88 54.671 L1696.88 27.2059 L1704.33 27.2059 L1704.33 54.3874 Q1704.33 60.8284 1706.84 64.0691 Q1709.35 67.2693 1714.38 67.2693 Q1720.41 67.2693 1723.9 63.421 Q1727.42 59.5726 1727.42 52.9291 L1727.42 27.2059 L1734.87 27.2059 L1734.87 72.576 L1727.42 72.576 L1727.42 65.6084 Q1724.71 69.7404 1721.1 71.7658 Q1717.54 73.7508 1712.8 73.7508 Q1704.98 73.7508 1700.93 68.8897 Q1696.88 64.0286 1696.88 54.671 M1715.63 26.1121 L1715.63 26.1121 Z\" fill=\"#000000\" fill-rule=\"evenodd\" fill-opacity=\"1\" /><path clip-path=\"url(#clip010)\" d=\"M 0 0 M1771.62 28.5427 L1771.62 35.5912 Q1768.46 33.9709 1765.05 33.1607 Q1761.65 32.3505 1758 32.3505 Q1752.46 32.3505 1749.66 34.0519 Q1746.91 35.7533 1746.91 39.156 Q1746.91 41.7486 1748.89 43.2475 Q1750.88 44.7058 1756.87 46.0426 L1759.42 46.6097 Q1767.36 48.3111 1770.68 51.4303 Q1774.05 54.509 1774.05 60.0587 Q1774.05 66.3781 1769.02 70.0644 Q1764.04 73.7508 1755.29 73.7508 Q1751.64 73.7508 1747.68 73.0216 Q1743.75 72.3329 1739.37 70.9151 L1739.37 63.2184 Q1743.5 65.3654 1747.51 66.4591 Q1751.52 67.5124 1755.45 67.5124 Q1760.72 67.5124 1763.55 65.73 Q1766.39 63.9071 1766.39 60.6258 Q1766.39 57.5877 1764.32 55.9673 Q1762.3 54.3469 1755.37 52.8481 L1752.78 52.2405 Q1745.85 50.7821 1742.77 47.7845 Q1739.69 44.7463 1739.69 39.4801 Q1739.69 33.0797 1744.23 29.5959 Q1748.77 26.1121 1757.11 26.1121 Q1761.25 26.1121 1764.89 26.7198 Q1768.54 27.3274 1771.62 28.5427 Z\" fill=\"#000000\" fill-rule=\"evenodd\" fill-opacity=\"1\" /><path clip-path=\"url(#clip010)\" d=\"M 0 0 M1789.24 14.324 L1789.24 27.2059 L1804.59 27.2059 L1804.59 32.9987 L1789.24 32.9987 L1789.24 57.6282 Q1789.24 63.1779 1790.74 64.7578 Q1792.28 66.3376 1796.93 66.3376 L1804.59 66.3376 L1804.59 72.576 L1796.93 72.576 Q1788.31 72.576 1785.02 69.3758 Q1781.74 66.1351 1781.74 57.6282 L1781.74 32.9987 L1776.27 32.9987 L1776.27 27.2059 L1781.74 27.2059 L1781.74 14.324 L1789.24 14.324 Z\" fill=\"#000000\" fill-rule=\"evenodd\" fill-opacity=\"1\" /><path clip-path=\"url(#clip012)\" d=\"\n",
       "M291.522 1182.04 L291.522 1386.4 L615.066 1386.4 L615.066 1182.04 L291.522 1182.04 L291.522 1182.04  Z\n",
       "  \" fill=\"#009af9\" fill-rule=\"evenodd\" fill-opacity=\"1\"/>\n",
       "<polyline clip-path=\"url(#clip012)\" style=\"stroke:#000000; stroke-width:4; stroke-opacity:1; fill:none\" points=\"\n",
       "  291.522,1182.04 291.522,1386.4 615.066,1386.4 615.066,1182.04 291.522,1182.04 \n",
       "  \"/>\n",
       "<path clip-path=\"url(#clip012)\" d=\"\n",
       "M615.066 160.256 L615.066 1386.4 L938.61 1386.4 L938.61 160.256 L615.066 160.256 L615.066 160.256  Z\n",
       "  \" fill=\"#009af9\" fill-rule=\"evenodd\" fill-opacity=\"1\"/>\n",
       "<polyline clip-path=\"url(#clip012)\" style=\"stroke:#000000; stroke-width:4; stroke-opacity:1; fill:none\" points=\"\n",
       "  615.066,160.256 615.066,1386.4 938.61,1386.4 938.61,160.256 615.066,160.256 \n",
       "  \"/>\n",
       "<path clip-path=\"url(#clip012)\" d=\"\n",
       "M938.61 568.969 L938.61 1386.4 L1262.15 1386.4 L1262.15 568.969 L938.61 568.969 L938.61 568.969  Z\n",
       "  \" fill=\"#009af9\" fill-rule=\"evenodd\" fill-opacity=\"1\"/>\n",
       "<polyline clip-path=\"url(#clip012)\" style=\"stroke:#000000; stroke-width:4; stroke-opacity:1; fill:none\" points=\"\n",
       "  938.61,568.969 938.61,1386.4 1262.15,1386.4 1262.15,568.969 938.61,568.969 \n",
       "  \"/>\n",
       "<path clip-path=\"url(#clip012)\" d=\"\n",
       "M1262.15 1079.86 L1262.15 1386.4 L1585.7 1386.4 L1585.7 1079.86 L1262.15 1079.86 L1262.15 1079.86  Z\n",
       "  \" fill=\"#009af9\" fill-rule=\"evenodd\" fill-opacity=\"1\"/>\n",
       "<polyline clip-path=\"url(#clip012)\" style=\"stroke:#000000; stroke-width:4; stroke-opacity:1; fill:none\" points=\"\n",
       "  1262.15,1079.86 1262.15,1386.4 1585.7,1386.4 1585.7,1079.86 1262.15,1079.86 \n",
       "  \"/>\n",
       "<path clip-path=\"url(#clip012)\" d=\"\n",
       "M1585.7 977.683 L1585.7 1386.4 L1909.24 1386.4 L1909.24 977.683 L1585.7 977.683 L1585.7 977.683  Z\n",
       "  \" fill=\"#009af9\" fill-rule=\"evenodd\" fill-opacity=\"1\"/>\n",
       "<polyline clip-path=\"url(#clip012)\" style=\"stroke:#000000; stroke-width:4; stroke-opacity:1; fill:none\" points=\"\n",
       "  1585.7,977.683 1585.7,1386.4 1909.24,1386.4 1909.24,977.683 1585.7,977.683 \n",
       "  \"/>\n",
       "<path clip-path=\"url(#clip012)\" d=\"\n",
       "M1909.24 1284.22 L1909.24 1386.4 L2232.79 1386.4 L2232.79 1284.22 L1909.24 1284.22 L1909.24 1284.22  Z\n",
       "  \" fill=\"#009af9\" fill-rule=\"evenodd\" fill-opacity=\"1\"/>\n",
       "<polyline clip-path=\"url(#clip012)\" style=\"stroke:#000000; stroke-width:4; stroke-opacity:1; fill:none\" points=\"\n",
       "  1909.24,1284.22 1909.24,1386.4 2232.79,1386.4 2232.79,1284.22 1909.24,1284.22 \n",
       "  \"/>\n",
       "</svg>\n"
      ]
     },
     "execution_count": 115,
     "metadata": {},
     "output_type": "execute_result"
    }
   ],
   "source": [
    "histogram(vps, label=false, xlabel=\"Vp m/s\", title=\"Dabie samples at lower crust\")\n",
    "#savefig(\"../../present/4_1/dabie_vp.pdf\")"
   ]
  },
  {
   "cell_type": "code",
   "execution_count": 108,
   "metadata": {},
   "outputs": [
    {
     "data": {
      "text/plain": [
       "30×8 Array{Any,2}:\n",
       " \"D95-10\"  2.854  6.28  3.56  3.516  1.113  2.688  1.952\n",
       " \"D95-11\"  2.96   6.38  3.67  4.422  1.494  2.281  1.928\n",
       " \"D95-12\"  2.86   5.94  3.4   7.431  2.406  1.749  1.589\n",
       " \"D95-13\"  2.647  5.86  3.51  3.785  1.08   2.885  0.862\n",
       " \"D95-16\"  2.781  6.02  3.47  4.555  1.561  2.672  1.459\n",
       " \"D95-19\"  2.859  5.64  3.32  8.313  3.058  1.752  1.456\n",
       " \"D95-2\"   3.031  6.67  3.9   4.148  1.409  2.239  1.636\n",
       " \"D95-22\"  2.737  5.98  3.62  4.487  1.518  3.09   1.424\n",
       " \"D95-24\"  3.465  7.68  4.55  3.799  1.758  3.804  2.58\n",
       " \"D95-25\"  3.483  7.73  4.62  5.439  2.22   3.118  2.165\n",
       " \"D95-26\"  3.171  6.84  3.9   5.308  1.229  2.752  2.693\n",
       " \"D95-27\"  3.26   6.99  3.87  2.5    0.538  5.823  3.853\n",
       " \"D95-3\"   3.266  7.25  4.18  2.314  0.578  3.662  2.662\n",
       " ⋮                                   ⋮             \n",
       " \"D95-40\"  3.499  7.45  4.54  3.723  1.521  4.18   2.709\n",
       " \"D95-44\"  2.766  6.11  3.62  4.307  2.283  3.913  2.824\n",
       " \"D95-6\"   2.959  6.29  3.52  2.983  0.956  2.979  2.509\n",
       " \"D95-7\"   2.787  5.95  3.51  6.158  2.634  2.622  1.297\n",
       " \"D95-9\"   2.694  5.84  3.89  3.856  1.547  4.564  1.303\n",
       " \"FH7\"     2.85   6.79  3.76  5.796  1.677  4.751  4.17\n",
       " \"HL3\"     3.189  6.65  3.82  4.167  1.032  2.3    1.486\n",
       " \"HL9\"     3.131  6.39  3.69  5.483  1.814  1.681  1.026\n",
       " \"HT1\"     2.872  6.02  3.57  3.811  1.038  4.369  2.433\n",
       " \"HT4\"     2.793  6.23  3.67  3.585  1.069  3.123  1.606\n",
       " \"HT6\"     2.995  6.5   3.76  5.686  1.99   2.255  1.925\n",
       " \"TC3\"     3.034  5.79  3.56  2.798  0.338  1.572  0.426"
      ]
     },
     "execution_count": 108,
     "metadata": {},
     "output_type": "execute_result"
    }
   ],
   "source": [
    "kdseis"
   ]
  },
  {
   "cell_type": "code",
   "execution_count": null,
   "metadata": {},
   "outputs": [],
   "source": []
  }
 ],
 "metadata": {
  "kernelspec": {
   "display_name": "Julia 1.5.4",
   "language": "julia",
   "name": "julia-1.5"
  },
  "language_info": {
   "file_extension": ".jl",
   "mimetype": "application/julia",
   "name": "julia",
   "version": "1.5.4"
  }
 },
 "nbformat": 4,
 "nbformat_minor": 4
}
