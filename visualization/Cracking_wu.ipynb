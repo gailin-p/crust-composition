{
 "cells": [
  {
   "cell_type": "code",
   "execution_count": 1,
   "metadata": {},
   "outputs": [
    {
     "data": {
      "text/plain": [
       "mu_from_poissons (generic function with 1 method)"
      ]
     },
     "execution_count": 1,
     "metadata": {},
     "output_type": "execute_result"
    }
   ],
   "source": [
    "include(\"../src/seismic.jl\")\n",
    "include(\"../src/cracks.jl\")"
   ]
  },
  {
   "cell_type": "code",
   "execution_count": 2,
   "metadata": {},
   "outputs": [
    {
     "data": {
      "text/plain": [
       "1.57"
      ]
     },
     "execution_count": 2,
     "metadata": {},
     "output_type": "execute_result"
    }
   ],
   "source": [
    "# # Mafic\n",
    "# rho = 3030\n",
    "# vp = 6.10\n",
    "# vpvs = 1.66\n",
    "\n",
    "# # intermediate\n",
    "# rho = 2565 \n",
    "# vp = 5.98\n",
    "# vpvs = 1.66\n",
    "    \n",
    "# Felsic\n",
    "rho = 2444 #kg/m3 \n",
    "vp = 5.92 #km/s\n",
    "vpvs = 1.57"
   ]
  },
  {
   "cell_type": "code",
   "execution_count": 5,
   "metadata": {},
   "outputs": [
    {
     "data": {
      "text/plain": [
       "60000"
      ]
     },
     "execution_count": 5,
     "metadata": {},
     "output_type": "execute_result"
    }
   ],
   "source": [
    "# smegtite K and G from https://doi.org/10.1046/j.1365-246X.2003.02046.x \n",
    "K2 = 120000 # bar\n",
    "G2 = 60000 # bar"
   ]
  },
  {
   "cell_type": "code",
   "execution_count": 17,
   "metadata": {},
   "outputs": [
    {
     "data": {
      "text/plain": [
       "(393210.8164111053, 347492.3996916711)"
      ]
     },
     "execution_count": 17,
     "metadata": {},
     "output_type": "execute_result"
    }
   ],
   "source": [
    "# Matrix properties\n",
    "K1, G1 = ks_mu(rho, vp, vp/vpvs)"
   ]
  },
  {
   "cell_type": "code",
   "execution_count": 18,
   "metadata": {},
   "outputs": [
    {
     "data": {
      "text/plain": [
       "0.2"
      ]
     },
     "execution_count": 18,
     "metadata": {},
     "output_type": "execute_result"
    }
   ],
   "source": [
    "# Volume of inclusions\n",
    "C2 = .2"
   ]
  },
  {
   "cell_type": "code",
   "execution_count": 22,
   "metadata": {},
   "outputs": [
    {
     "data": {
      "text/plain": [
       "inclusions (generic function with 1 method)"
      ]
     },
     "execution_count": 22,
     "metadata": {},
     "output_type": "execute_result"
    }
   ],
   "source": [
    "function inclusions(K1, G1, K2, G2, C2)\n",
    "    A = G2/G1 - 1\n",
    "    B = 1/3*(K2/K1 - G2/G1)\n",
    "    R = 3*G1/(3*K1 + 4*G1)\n",
    "\n",
    "    K0 = 1/(1/K1*(1+C2/3* (3+R*A)/(1+(1-R)*A+(3-4*R)*B) * (K1-K2)/K1)) # eq 20\n",
    "    G0_innards = 2/(1+A/2) + 1/(1+(1+R)*(A/2)) + (1-4/3*R)*(A+3*B)/(1+(1-R)*A+(3-4*R)*B) + \n",
    "                2*(1+(3-R)*(A/4)+(3-4*R)*(B/2))/((1+(1+R)*(A/2))*(1+(1-R)*A+(3-4*R)*B))\n",
    "    G0 = 1/(1/G1*(1+C2/5*G0_innards*((G1-G2)/G1)))\n",
    "    return K0, G0\n",
    "end"
   ]
  },
  {
   "cell_type": "code",
   "execution_count": 15,
   "metadata": {},
   "outputs": [
    {
     "data": {
      "text/plain": [
       "E_from_KG (generic function with 1 method)"
      ]
     },
     "execution_count": 15,
     "metadata": {},
     "output_type": "execute_result"
    }
   ],
   "source": [
    "function E_from_KG(K, G)\n",
    "    return 9*K*G/(G+3*K)\n",
    "end"
   ]
  },
  {
   "cell_type": "code",
   "execution_count": 26,
   "metadata": {},
   "outputs": [
    {
     "data": {
      "text/plain": [
       "50-element Array{Float64,1}:\n",
       " 0.0\n",
       " 0.02040816326530612\n",
       " 0.04081632653061224\n",
       " 0.061224489795918366\n",
       " 0.08163265306122448\n",
       " 0.10204081632653061\n",
       " 0.12244897959183673\n",
       " 0.14285714285714285\n",
       " 0.16326530612244897\n",
       " 0.1836734693877551\n",
       " 0.20408163265306123\n",
       " 0.22448979591836735\n",
       " 0.24489795918367346\n",
       " ⋮\n",
       " 0.7755102040816326\n",
       " 0.7959183673469388\n",
       " 0.8163265306122449\n",
       " 0.8367346938775511\n",
       " 0.8571428571428571\n",
       " 0.8775510204081632\n",
       " 0.8979591836734694\n",
       " 0.9183673469387755\n",
       " 0.9387755102040817\n",
       " 0.9591836734693877\n",
       " 0.9795918367346939\n",
       " 1.0"
      ]
     },
     "execution_count": 26,
     "metadata": {},
     "output_type": "execute_result"
    }
   ],
   "source": [
    "Cs = collect(LinRange(0,1,50))\n"
   ]
  },
  {
   "cell_type": "code",
   "execution_count": null,
   "metadata": {},
   "outputs": [],
   "source": []
  }
 ],
 "metadata": {
  "kernelspec": {
   "display_name": "Julia 1.5.4",
   "language": "julia",
   "name": "julia-1.5"
  },
  "language_info": {
   "file_extension": ".jl",
   "mimetype": "application/julia",
   "name": "julia",
   "version": "1.5.4"
  }
 },
 "nbformat": 4,
 "nbformat_minor": 4
}
