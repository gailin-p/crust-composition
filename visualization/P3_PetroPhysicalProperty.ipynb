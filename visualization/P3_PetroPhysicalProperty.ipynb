{
 "cells": [
  {
   "cell_type": "code",
   "execution_count": 1,
   "metadata": {},
   "outputs": [],
   "source": [
    "using DelimitedFiles\n",
    "using MAT"
   ]
  },
  {
   "cell_type": "code",
   "execution_count": 3,
   "metadata": {},
   "outputs": [],
   "source": [
    "p3dat, header = readdlm(\"/users/gailin/dartmouth/crustal_structure/p3/P3_PetroPhysicalProperty Database_V1/P3_PetroPhysicalProperty Database_V1.txt\", '\\t', skipstart=3, header=true)\n",
    "header = header[:];"
   ]
  },
  {
   "cell_type": "code",
   "execution_count": 4,
   "metadata": {},
   "outputs": [
    {
     "data": {
      "text/plain": [
       "71"
      ]
     },
     "execution_count": 4,
     "metadata": {},
     "output_type": "execute_result"
    }
   ],
   "source": [
    "p_vel_i = findfirst(isequal(\"Value p-wave velocity \\n(m/s)\"), header)\n",
    "s_vel_i = findfirst(isequal(\"Value s-wave velocity\\n(m/s)\"), header)\n",
    "density = findfirst(isequal(\"Value bulk density\\n(kg/m\\xb3)\"), header)\n",
    "pet = findfirst(isequal(\"Rock Classification ID 2nd Level\"), header)\n",
    "pore = findfirst(isequal(\"Value total porosity\\n(%)\"), header)"
   ]
  },
  {
   "cell_type": "code",
   "execution_count": 7,
   "metadata": {},
   "outputs": [
    {
     "name": "stdout",
     "output_type": "stream",
     "text": [
      "2563\n",
      "6\n"
     ]
    }
   ],
   "source": [
    "## Sort for plutonic samples with s and p wave velocity \n",
    "\n",
    "some_dat = (p3dat[:,p_vel_i] .!= \"\") .| (p3dat[:,s_vel_i] .!= \"\"); \n",
    "cats = p3dat[some_dat,pet]\n",
    "println(sum(cats .== 10104)) # plutonic \n",
    "println(sum(some_dat .& (p3dat[:,pore] .!= \"\"))) # with pore data "
   ]
  },
  {
   "cell_type": "code",
   "execution_count": 11,
   "metadata": {},
   "outputs": [
    {
     "data": {
      "text/plain": [
       "Dict{String,Any} with 1 entry:\n",
       "  \"bulktext\" => Dict{String,Any}(\"Units\"=>Any[\"\"; \"AGE\"; … ; \"Â\\u89SMOW\"; \"Â\\u8…"
      ]
     },
     "execution_count": 11,
     "metadata": {},
     "output_type": "execute_result"
    }
   ],
   "source": [
    "bulk = matread(\"/Users/gailin/dartmouth/crustal_structure/runPerplexBatchVp/data/bulktext.mat\")"
   ]
  },
  {
   "cell_type": "code",
   "execution_count": 12,
   "metadata": {},
   "outputs": [
    {
     "data": {
      "text/plain": [
       "Dict{String,Any} with 17 entries:\n",
       "  \"Units\"       => Any[\"\"; \"AGE\"; … ; \"Â\\u89SMOW\"; \"Â\\u89VSMOW\"]\n",
       "  \"est\"         => Dict{String,Any}(\"Rock_Name\"=>[37.0; 37.0; … ; 419.0; 419.0])\n",
       "  \"Composition\" => Any[\"\"; \"CLASTIC\"; … ; \"MAFIC\"; \"ULTRAMAFIC\"]\n",
       "  \"method\"      => Dict{String,Any}(\"Dy_Meth\"=>…\n",
       "  \"elements\"    => Any[\"Composition\"; \"Cruise_ID\"; … ; \"Source\"; \"Type\"]\n",
       "  \"Reference\"   => Any[\"\"; \" , 1948\"; … ; \"Ã\\u96ZDEMIR, Y.; GÃ\\u9cLEC, N., 2014…\n",
       "  \"Igsn\"        => Any[\"\"; \"321000002\"; … ; \"URI901715\"; \"URI901716\"]\n",
       "  \"index\"       => Dict{String,Any}(\"Sample_ID\"=>[332703.0; 332760.0; … ; 32826…\n",
       "  \"Rock_Name\"   => Any[\"\"; \"ABSAROKITE\"; … ; \"XENOLITH\"; \"YAMASKITE\"]\n",
       "  \"Source\"      => Any[\"\"; \"GEOROC\"; … ; \"SEDDB\"; \"USGS\"]\n",
       "  \"Mineral\"     => Any[\"\"; \"FELDSPAR\"; … ; \"SANIDINE\"; \"WHOLE ROCK\"]\n",
       "  \"Methods\"     => Any[\"\"; \"6036\"; … ; \"Ã\\u008eCPMS\"; \"Ã\\u8eGN\"]\n",
       "  \"Cruise_ID\"   => Any[\"\"; \"11TH AND 15TH CRUISES\"; … ; \"ZEPOLYF\"; \"ZK2\"]\n",
       "  \"Type\"        => Any[\"\"; \"CONGLOMERATE&BRECCIA\"; … ; \"VEIN\"; \"VOLCANIC\"]\n",
       "  \"unit\"        => Dict{String,Any}(\"H2O_Plus_Unit\"=>…\n",
       "  \"Sample_ID\"   => Any[\"\"; \"\\\"214, Kd\\\"\"; … ; \"Ã\\u009c40\"; \"Ã\\u009c42\"]\n",
       "  \"Material\"    => Any[\"\"; \"ALTERATION\"; … ; \"VEIN\"; \"XENOLITH\"]"
      ]
     },
     "execution_count": 12,
     "metadata": {},
     "output_type": "execute_result"
    }
   ],
   "source": [
    "bulk = bulk[\"bulktext\"]"
   ]
  },
  {
   "cell_type": "code",
   "execution_count": 34,
   "metadata": {},
   "outputs": [
    {
     "data": {
      "text/plain": [
       "13249×1 Array{Any,2}:\n",
       " \"\"                                                                                \n",
       " \" , 1948\"                                                                         \n",
       " \" , 1965\"                                                                         \n",
       " \" , 1982\"                                                                         \n",
       " \" , 1983\"                                                                         \n",
       " \" , 1991\"                                                                         \n",
       " \" , 2004\"                                                                         \n",
       " \" , 2007\"                                                                         \n",
       " \" , 2009\"                                                                         \n",
       " \"ABBOTT D.; DEER W. A., 1972\"                                                     \n",
       " \"ABBOTT M. J., 1969\"                                                              \n",
       " \"ABBOTT M. J.; CHAMALAUN F. H., 1981\"                                             \n",
       " \"ABDEL AAL, A. Y., 1988\"                                                          \n",
       " ⋮                                                                                 \n",
       " \"ZOZULYA, D. R.; BAYANOVA, T. B.; SEROV, P. N., 2007\"                             \n",
       " \"ZREDA M. G.; PHILLIPS F. M.; ELMORE D.; KUBIK P. W.; SHARMA P.; DORN R. I., 1991\"\n",
       " \"ZUCCHETTI M.; LOBATO L. M.; BAARS F. J., 2000\"                                   \n",
       " \"ZUERCHER L.; RUIZ J.; BARTON M. D., 2001\"                                        \n",
       " \"ZULEGER, E; ALT, J C; ERZINGER, J, 1995\"                                         \n",
       " \"ZULEGER, E; ALT, J C; ERZINGER, J, 1996\"                                         \n",
       " \"ZUMBO, V.; FERAUD, G.; BERTRAND, H.; CHAZOT, G., 1995\"                           \n",
       " \"Ã\\u96ZDAMAR, S, 2016\"                                                            \n",
       " \"Ã\\u96ZDEMIR, Y., 2016\"                                                           \n",
       " \"Ã\\u96ZDEMIR, Y.; BLUNDY, J. D.; GÃ\\u9cLEC, N., 2011\"                             \n",
       " \"Ã\\u96ZDEMIR, Y.; GÃ\\u9cLEC, N., 2014\"                                            \n",
       " \"Ã\\u96ZDEMIR, Y.; KARAOGLU, Ã\\u96.; TOLLUOGLU, A. Ã\\u9c.; GÃ\\u9cLEC, N., 2006\"    "
      ]
     },
     "execution_count": 34,
     "metadata": {},
     "output_type": "execute_result"
    }
   ],
   "source": [
    "bulk[\"Reference\"]"
   ]
  },
  {
   "cell_type": "code",
   "execution_count": 10,
   "metadata": {},
   "outputs": [
    {
     "name": "stdout",
     "output_type": "stream",
     "text": [
      "[\"oibs\", \"Cestar\", \"Lower_Vp\", \"Pb206_Pb208\", \"MgO\", \"C\", \"Nb\", \"Ag\", \"Gd\", \"Middle_Rho\", \"Age\", \"P\", \"Pd\", \"Volcanic\", \"Sb\", \"explanation\", \"TiO2\", \"Cs\", \"Be\", \"Sr\", \"Ta\", \"Ga\", \"Te\", \"Eustar\", \"Al2O3\", \"CO2\", \"Freeair\", \"Loi\", \"Nd143_Nd144\", \"Y\", \"err\", \"U\", \"Cr2O3\", \"FeO\", \"Kv\", \"Fe2O3\", \"H2O_Minus\", \"Ca\", \"Elevation\", \"Au\", \"K\", \"Ce\", \"V\", \"Loc_Prec\", \"Upper_Vp\", \"Mo\", \"Pr\", \"Th\", \"P2O5\", \"Pb207_Pb204\", \"Zn\", \"Vs\", \"Sc\", \"H\", \"Lower_Rho\", \"Age_Min\", \"k\", \"Os187_Os188\", \"Al\", \"Fe2O3T\", \"Pb208_Pb204\", \"S\", \"Er\", \"Os187_Os186\", \"Fe\", \"Mg\", \"F\", \"La\", \"Rho\", \"Upper_Vs\", \"W\", \"Li\", \"Dy\", \"Latitude\", \"B\", \"Bi\", \"CaO\", \"Lu176_Hf177\", \"Middle_Vp\", \"Middle_Crust\", \"Mn\", \"NiO\", \"Re\", \"Crust\", \"Hf\", \"Cl\", \"SiO2\", \"H2O_Plus\", \"Rb\", \"Sr87_Sr86\", \"Longitude\", \"H2O_Total\", \"Bouger\", \"Se\", \"tc1Lith\", \"Upper_Crust\", \"Ba\", \"Nd\", \"Lower_Crust\", \"Middle_Vs\", \"Ti\", \"Tb\", \"Zr\", \"H2O\", \"Upper_Rho\", \"Lower_Vs\", \"Sm\", \"Hf176_Hf177\", \"Cr\", \"Cu\", \"Tl\", \"tc1Crust\", \"elements\", \"Pb206_Pb207\", \"Hg\", \"FeOT\", \"CaCO3\", \"Yb\", \"Lu\", \"Eu\", \"Age_Max\", \"Os\", \"Ni\", \"Pb206_Pb204\", \"Ho\", \"Co\", \"D18O\", \"Ir\", \"Pt\", \"Tm\", \"As\", \"Sn\", \"Updated\", \"I\", \"K2O\", \"Vp\", \"Cd\", \"MnO\", \"Na2O\", \"Pb\"]\n"
     ]
    }
   ],
   "source": [
    "ign = matread(\"/Users/gailin/dartmouth/crustal_structure/runPerplexBatchVp/data/ignecn1.mat\")[\"ignecn1\"]\n",
    "println(keys(ign))"
   ]
  },
  {
   "cell_type": "markdown",
   "metadata": {},
   "source": [
    "### From P3: \n",
    "\n",
    "\"Sample ID\", \"Primary Reference (Bibtexkey)\", \"Secondary Reference\", \"Date of Input\", \"Location Type\", \"Original Location Type\", \"Location name\", \"Country\", \"State/Region\", \"Name Shapefile\", \"Location longitude (decimaldegree.minutes)\", \"Location latitude (decimaldegree.minutes)\", \"Location elevation Z (m a.s.l.)\", \"Radius of Uncertainty (km)\", \"Sample type\", \"Original sample ID\", \"International Geo Sample Number (IGSN)\", \"Sample length (m)\", \"Sample height (m)\", \"Sample width (m)\", \"Sample diameter (for cores)\\n(m)\", \" Sample longitude (decimaldegrees.minutes)\", \" Sample latitude (decimaldegrees.minutes)\", \" Sample depth Z (MD) (m below location elevation)\", \"Sample depth Z (TVD) (m below location elevation)\"\n",
    "\n",
    "### From ign: \n",
    "\n"
   ]
  },
  {
   "cell_type": "code",
   "execution_count": 24,
   "metadata": {},
   "outputs": [
    {
     "name": "stdout",
     "output_type": "stream",
     "text": [
      "41 unique references\n"
     ]
    }
   ],
   "source": [
    "unique_refs = unique(p3dat[some_dat,2])\n",
    "p3_years = [m.match for m in match.(r\"[0-9]+\", unique_refs)];\n",
    "p3_authors = [m.match for m in match.(r\"[^0-9]+\", unique_refs)];\n",
    "println(\"$(length(unique_refs)) unique references\")"
   ]
  },
  {
   "cell_type": "markdown",
   "metadata": {},
   "source": [
    "### No authors shared !? :("
   ]
  },
  {
   "cell_type": "code",
   "execution_count": 35,
   "metadata": {},
   "outputs": [
    {
     "name": "stdout",
     "output_type": "stream",
     "text": [
      "AL-AMAIREH, M., 2007 contains author Maire and year 2014\n",
      "ALAM M. A.; CHANDRASEKHARAM D.; VASELLI O.; CAPACCHIONI B.; MANETTI P.; SANTO P. B., 2004 contains author Alam and year 2011\n",
      "ALMBERG L. D.; LARSEN J. F.; EICHELBERGER J. C.; VOGEL T. A.; PATINO L. C., 2008 contains author Vogel and year 2016\n",
      "ALVARADO G. E.; PEREZ W.; VOGEL T. A.; GRÃGER H.; PATINO L. C., 2011 contains author Vogel and year 2016\n",
      "ANAND R.; BALAKRISHNAN S., 2010 contains author Balakrishna and year 1968\n",
      "ANANTA IYER G. V.; VASUDEV V. N.; JAYARAM S., 1980 contains author Jaya and year 2010\n",
      "APPEL P. W. U.; POLAT A.; FREI R., 2009 contains author Pola and year 2016\n",
      "APPEL P. W. U.; POLAT A.; FREI R., 2009 contains author Pola and year 2014\n",
      "APPEL P. W. U.; POLAT A.; FREI R., 2009 contains author Pola and year 2012\n",
      "ARPA M. C. B.; PATINO L. C.; VOGEL T. A., 2008 contains author Vogel and year 2016\n",
      "AYDIN, F.; SCHMITT, A. K.; SIEBEL, W.; SÃNMEZ, M.; ERSOY, Y.; LERMI, A.; DIRIK, K.; DUNCAN, R. A., 2014 contains author Schmitt and year 2016\n",
      "BALAKRISHNAN S.; HANSON G. N.; RAJAMANI V., 1990 contains author Balakrishna and year 1968\n",
      "BALASSONE, G.; SCORDARI, F.; LACALAMITA, M.; SCHINGARO, E.; MORMONE, A.; PIOCHI, M.; PETTI, C.; MONDILLO, N., 2013 contains author Alam and year 2011\n",
      "BALASSONE, G; SCORDARI, F; LACALAMITA, M; SCHINGARO, E; MORMONE, A; PIOCHI, M; PETTI, C; MONDILLO, N, 2013 contains author Alam and year 2011\n",
      "BARRETT T. J.; CATTALANI S.; MACLEAN W. H., 1993 contains author Barrett and year 1970\n",
      "BARRETT, T J, 1983 contains author Barrett and year 1970\n",
      "BARRETT, T J; FRIEDRICHSEN, H, 1982 contains author Barrett and year 1970\n",
      "BARRETT, T J; FRIEDRICHSEN, H, 1983 contains author Barrett and year 1970\n",
      "BARRETT, T; TAYLOR, P; LUGOWSKI, J, 1987 contains author Barrett and year 1970\n",
      "BASU A. R.; WANG JUNWEN; HUANG WANKANG; XIE GUANGHONG; TATSUMOTO M., 1991 contains author Wang and year 2009\n",
      "BATEMAN R.; COSTA S.; SWE T.; LAMBERT D. D., 2001 contains author Lambert and year 2016\n",
      "BINDEMAN I. N.; LEONOV V. L.; IZBEKOV P. E.; PONOMAREVA V. V.; WATTS K. E.; SHIPLEY N. K.; PEREPELOV A. B.; BAZANOVA L. I.; JICHA B. R.; SINGER B. S.; SCHMITT A. K.; PORTNYAGIN M. V.; CHEN CHANG-HWA, 2010 contains author Schmitt and year 2016\n",
      "BINDEMAN I. N.; WATTS K. E.; SCHMITT A. K.; MORGAN L. A.; SHANKS P. W. C., 2007 contains author Schmitt and year 2016\n",
      "BORSI, S.; LONGINELLI, G.; POLACCO-MILANI, E., 1962 contains author Pola and year 2016\n",
      "BORSI, S.; LONGINELLI, G.; POLACCO-MILANI, E., 1962 contains author Pola and year 2014\n",
      "BORSI, S.; LONGINELLI, G.; POLACCO-MILANI, E., 1962 contains author Pola and year 2012\n",
      "BRANDON A. D.; HOOPER P. R.; GOLES G. G.; LAMBERT R. S. J., 1993 contains author Lambert and year 2016\n",
      "BRANDON-A-D; HOOPER-P-R; GOLES-G-G; LAMBERT-R-S-J, 1993 contains author Lambert and year 2016\n",
      "BROOKS C. K.; KEAYS R. R.; LAMBERT D. D.; FRICK L. R.; NIELSEN T. F. D., 1999 contains author Lambert and year 2016\n",
      "BROWNE B. L.; EICHELBERGER J. C.; PATINO L. C.; VOGEL T. A.; DEHN J.; UTO K.; HOSHIZUMI H., 2006 contains author Vogel and year 2016\n",
      "BUDAHN J. R.; SCHMITT R. A., 1985 contains author Schmitt and year 2016\n",
      "CAI HONG-MING; ZHANG HONGFEI; XU WANGCHUN; SHI ZHANG-LIANG; YUAN HONG-LING, 2010 contains author Wang and year 2009\n",
      "CASE A. M.; LOPEZ-ESCOBAR L.; DANIELI J. C.; SCHALAMUK A., 2008 contains author Alam and year 2011\n",
      "CHAMBERLAIN V. E.; LAMBERT R. S. J., 1994 contains author Lambert and year 2016\n",
      "CHAMBERLAIN-V-E; LAMBERT-R-ST-J, 1994 contains author Lambert and year 2016\n",
      "CHANDRASEKHARAM D.; SANTO A. P.; CAPACCHIONI B.; VASELLI O.; ALAM M. A.; MANETTI P.; TASSI F., 2009 contains author Alam and year 2011\n",
      "CHEN CHENG-HONG; HSIEH PEI-SHAN; WANG KUO-LUNG; YANG HUAI-JEN; LIN WAYNE; LIANG YU-HSUAN; LEE CHI-YU; YANG HSIAO-CHIN, 2009 contains author Wang and year 2009\n",
      "CHEN JIAN-LIN; XU JI-FENG; WANG BAO-DI; KANG ZHI-QIANG; JIE L., 2010 contains author Wang and year 2009\n",
      "CHEN JIAN-LIN; XU JI-FENG; ZHAO WEN-XIA; DONG YANHUI; WANG BAO-DI; KANG ZHI-QIANG, 2011 contains author Wang and year 2009\n",
      "CHEN JIAN-LIN; ZHAO WEN-XIA; XU JI-FENG; WANG BAO-DI; KANG ZHI-QIANG, 2012 contains author Wang and year 2009\n",
      "CLAGUE, D A; DREYER, B; PADUAN, J B; CHADWICK, W; CARESS, D; PORTNER, R; GUILDERSON, T; MCGANN, M; THOMAS, H; BUTTERFIELD, D; EMBLEY, R W, 2013 contains author Reyer and year 2014\n",
      "CLAGUE, D A; PADUAN, J B; DUNCAN, R A; HUARD, J J; DAVIS, A S; CASTILLO, P R; LONSDALE, P F; DEVOGELAERE, A, 2009 contains author Vogel and year 2016\n",
      "CLAVERO R. J. E.; SPARKS R. S. J.; POLANCO E.; PRINGLE M. S., 2004 contains author Pola and year 2016\n",
      "CLAVERO R. J. E.; SPARKS R. S. J.; POLANCO E.; PRINGLE M. S., 2004 contains author Pola and year 2014\n",
      "CLAVERO R. J. E.; SPARKS R. S. J.; POLANCO E.; PRINGLE M. S., 2004 contains author Pola and year 2012\n",
      "CLAVERO R. J. E.; SPARKS R. S. J.; PRINGLE M. S.; POLANCO E.; GARDEWEG M. C., 2004 contains author Pola and year 2016\n",
      "CLAVERO R. J. E.; SPARKS R. S. J.; PRINGLE M. S.; POLANCO E.; GARDEWEG M. C., 2004 contains author Pola and year 2014\n",
      "CLAVERO R. J. E.; SPARKS R. S. J.; PRINGLE M. S.; POLANCO E.; GARDEWEG M. C., 2004 contains author Pola and year 2012\n",
      "CONG B. L.; WANG QINGCHEN; ZHANG HAIZHENG; YAN XIN; JIANG LAILI, 1996 contains author Wang and year 2009\n",
      "COULON C.; MALUSKI H.; BOLLINGER C.; WANG S., 1986 contains author Wang and year 2009\n",
      "DAHL-DAVID-A; LAMBERT-DAVID-D, 1986 contains author Lambert and year 2016\n",
      "DEERING C. D.; COLE J. W.; VOGEL T. A., 2008 contains author Vogel and year 2016\n",
      "DEERING C. D.; COLE J. W.; VOGEL T. A., 2011 contains author Vogel and year 2016\n",
      "DEERING C. D.; VOGEL T. A.; PATINO L. C.; ALVARADO G. E., 2007 contains author Vogel and year 2016\n",
      "DEERING C. D.; VOGEL T. A.; PATINO L. C.; SZYMANSKI D. W.; ALVARADO G. E., 2012 contains author Vogel and year 2016\n",
      "DONG YUEXIA; XIAO LONG; ZHOU HAIMIN; DU JINGXIA; ZHANG NING; XIANG HUA; WANG CHUNZENG; ZHAO ZHONGXIN; HUANG HONGXIANG, 2010 contains author Wang and year 2009\n",
      "DREYER B. M.; MORRIS J. D.; GILL J. B., 2010 contains author Reyer and year 2014\n",
      "DREYER, B; CHAVAGNAC, V; MORRIS, J D; FONT, L, 2006 contains author Reyer and year 2014\n",
      "DREYER, B; CLAGUE, D A; GILL, J B, 2013 contains author Reyer and year 2014\n",
      "DUFRANE S. A.; ASMEROM Y.; MUKASA S. B.; MORRIS J. D.; DREYER B. M., 2006 contains author Reyer and year 2014\n",
      "D^ORIANO, C.; POGGIANTI, E.; BERTAGNINI, A.; CIONI, R.; LANDI, P.; POLACCI, M.; ROSI, M., 2005 contains author Pola and year 2016\n",
      "D^ORIANO, C.; POGGIANTI, E.; BERTAGNINI, A.; CIONI, R.; LANDI, P.; POLACCI, M.; ROSI, M., 2005 contains author Pola and year 2014\n",
      "D^ORIANO, C.; POGGIANTI, E.; BERTAGNINI, A.; CIONI, R.; LANDI, P.; POLACCI, M.; ROSI, M., 2005 contains author Pola and year 2012\n",
      "FAN WEI-MING; GUO FENG; WANG YUEJUN; LIN GE, 2003 contains author Wang and year 2009\n",
      "FAN WEI-MING; GUO FENG; WANG YUEJUN; LIN GE; ZHANG MING, 2001 contains author Wang and year 2009\n",
      "FAN WEI-MING; GUO FENG; WANG YUEJUN; ZHANG MING, 2004 contains author Wang and year 2009\n",
      "FAN WEI-MING; ZHANG CHUNHONG; WANG YUEJUN; GUO FENG; PENG TOUPING, 2008 contains author Wang and year 2009\n",
      "FLOOD, TIMOTHY P; VOGEL, THOMAS A; SCHURAYTZ, BENJAMIN C, 1989 contains author Vogel and year 2016\n",
      "FODOR, R V; BERKLEY, J L; KEIL, K; HUSLER, J W; MA, M S; SCHMITT, R A, 1980 contains author Schmitt and year 2016\n",
      "FOLGUERA A.; NARANJO J. A.; ORIHASHI Y.; SUMINO H.; NAGAO K.; POLANCO E.; RAMOS V. A., 2009 contains author Pola and year 2016\n",
      "FOLGUERA A.; NARANJO J. A.; ORIHASHI Y.; SUMINO H.; NAGAO K.; POLANCO E.; RAMOS V. A., 2009 contains author Pola and year 2014\n",
      "FOLGUERA A.; NARANJO J. A.; ORIHASHI Y.; SUMINO H.; NAGAO K.; POLANCO E.; RAMOS V. A., 2009 contains author Pola and year 2012\n",
      "FOSTER J. G.; LAMBERT D. D.; FRICK L. R.; MAAS R., 1996 contains author Lambert and year 2016\n",
      "FRANCHINI M. B.; LOPEZ-ESCOBAR L.; SCHALAMUK I. B. A.; MEINERT L., 2003 contains author Alam and year 2011\n",
      "FREI R.; POLAT A.; MEIBOM A., 2004 contains author Pola and year 2016\n",
      "FREI R.; POLAT A.; MEIBOM A., 2004 contains author Pola and year 2014\n",
      "FREI R.; POLAT A.; MEIBOM A., 2004 contains author Pola and year 2012\n",
      "FU XIUGEN; WANG JIAN; TAN FUWEN; CHEN MING; CHEN WEN-BIN, 2010 contains author Wang and year 2009\n",
      "FUJIMAKI H.; WANG C.; AOKI K.-I.; KATO Y., 1992 contains author Wang and year 2009\n",
      "GAO SHAN; RUDNICK R. L.; YUAN HONG-LING; LIU XIAO-MING; LIU YONG-SHENG; XU WEN-LIANG; LING WEN-LI; AYERS J.; WANG XUAN-CHE; WANG QING-HAI, 2004 contains author Wang and year 2009\n",
      "GAO, S; RUDNICK, R L; XU, W-L; YUAN, H-L; LIU, Y-S; WALKER, R J; PUCHTEL, I S; LIU, X-M; HUANG, H; WANG, X-R; YANG, J, 2008 contains author Wang and year 2009\n"
     ]
    },
    {
     "name": "stdout",
     "output_type": "stream",
     "text": [
      "GEIST D. J.; HARPP K. S.; NAUMANN T. R.; POLAND M.; CHADWICK W. W.; HALL M.; RADER E., 2008 contains author Pola and year 2016\n",
      "GEIST D. J.; HARPP K. S.; NAUMANN T. R.; POLAND M.; CHADWICK W. W.; HALL M.; RADER E., 2008 contains author Pola and year 2014\n",
      "GEIST D. J.; HARPP K. S.; NAUMANN T. R.; POLAND M.; CHADWICK W. W.; HALL M.; RADER E., 2008 contains author Pola and year 2012\n",
      "GEIST, D J; HARPP, K S; NAUMANN, T; POLAND, M; YAN, Q; HALL, M L; RADER, E, 2008 contains author Pola and year 2016\n",
      "GEIST, D J; HARPP, K S; NAUMANN, T; POLAND, M; YAN, Q; HALL, M L; RADER, E, 2008 contains author Pola and year 2014\n",
      "GEIST, D J; HARPP, K S; NAUMANN, T; POLAND, M; YAN, Q; HALL, M L; RADER, E, 2008 contains author Pola and year 2012\n",
      "GENG QUANRU; SUN ZHIMING; PAN GUI-TANG; ZHU DI-CHENG; WANG LIQUAN, 2009 contains author Wang and year 2009\n",
      "GHALAMGHASH, J.; MOUSAVI, S. Z.; HASSANZADEH, J.; SCHMITT, A. K., 2016 contains author Alam and year 2011\n",
      "GHALAMGHASH, J.; MOUSAVI, S. Z.; HASSANZADEH, J.; SCHMITT, A. K., 2016 contains author Schmitt and year 2016\n",
      "GHOSH-DIPAK-K; LAMBERT-RICHARD-ST-J, 1995 contains author Lambert and year 2016\n",
      "GOLES G. G.; BRANDON A. D.; LAMBERT R. S. J., 1989 contains author Lambert and year 2016\n",
      "GOLES-GORDON-G; BRANDON-ALAN-D; LAMBERT-RICHARD-ST-J, 1989 contains author Lambert and year 2016\n",
      "GOODWIN A. M.; LAMBERT M. B.; UJIKE O., 2006 contains author Lambert and year 2016\n",
      "GRAHAM S.; LAMBERT D. D.; SHEE S. R., 2004 contains author Lambert and year 2016\n",
      "GRAHAM S.; LAMBERT D. D.; SHEE S. R.; SMITH C. B.; HAMILTON R., 2001 contains author Lambert and year 2016\n",
      "GRAY, J; CUMMING, G L; LAMBERT, R S J, 1976 contains author Lambert and year 2016\n",
      "GUO FENG; FAN WEI-MING; WANG YUEJUN; LI CHAOWEN, 2004 contains author Wang and year 2009\n",
      "GUO FENG; FAN WEI-MING; WANG YUEJUN; LIN GE, 2001 contains author Wang and year 2009\n",
      "GUO FENG; WANG YUEJUN; LIN GE, 2003 contains author Wang and year 2009\n",
      "HALAMA R.; BOUDON G.; VILLEMANT B.; JORON J.-L.; LE FRIANT A.; KOMOROWSKI J.-C., 2006 contains author Alam and year 2011\n",
      "HALAMA R.; MCDONOUGH W. F.; RUDNICK R. L.; BELL K., 2008 contains author Alam and year 2011\n",
      "HALAMA, R.; MCDONOUGH, W. F.; RUDNICK, R. L.; BELL, K., 2008 contains author Alam and year 2011\n",
      "HALAMA, R.; MCDONOUGH, W. F.; RUDNICK, R. L.; KELLER, J.; KLAUDIUS, J., 2007 contains author Alam and year 2011\n",
      "HALAMA, R; SAVOV, I P; RUDNICK, R L; MCDONOUGH, W F, 2009 contains author Alam and year 2011\n",
      "HAN BAOFU; WANG S.; KAGAMI H., 1999 contains author Wang and year 2009\n",
      "HAN BAOFU; ZHANG LEI; WANG YAMAI; SONG BIAO, 2007 contains author Wang and year 2009\n",
      "HANNAH R. S.; VOGEL T. A.; PATINO L. C.; ALVARADO G. E.; PEREZ W.; SMITH D. R., 2002 contains author Vogel and year 2016\n",
      "HIDALGO P. J.; VOGEL T. A.; ROONEY T. O.; CURRIER R. M.; LAYER P. W., 2011 contains author Vogel and year 2016\n",
      "HOFFMANN J. E.; MÃNKER C.; POLAT A.; KÃNIG S.; MEZGER K.; ROSING M. T., 2010 contains author Pola and year 2016\n",
      "HOFFMANN J. E.; MÃNKER C.; POLAT A.; KÃNIG S.; MEZGER K.; ROSING M. T., 2010 contains author Pola and year 2014\n",
      "HOFFMANN J. E.; MÃNKER C.; POLAT A.; KÃNIG S.; MEZGER K.; ROSING M. T., 2010 contains author Pola and year 2012\n",
      "HOFFMANN J. E.; MÃNKER C.; POLAT A.; KÃNIG S.; MEZGER K.; ROSING M. T., 2010 contains author Hoffmann and year 2015\n",
      "HOFFMANN J. E.; MÃNKER C.; POLAT A.; ROSING M. T.; SCHULZ T., 2011 contains author Pola and year 2016\n",
      "HOFFMANN J. E.; MÃNKER C.; POLAT A.; ROSING M. T.; SCHULZ T., 2011 contains author Pola and year 2014\n",
      "HOFFMANN J. E.; MÃNKER C.; POLAT A.; ROSING M. T.; SCHULZ T., 2011 contains author Pola and year 2012\n",
      "HOFFMANN J. E.; MÃNKER C.; POLAT A.; ROSING M. T.; SCHULZ T., 2011 contains author Hoffmann and year 2015\n",
      "HONG, L-B; XU, Y-G; REN, Z-Y; CORNELL, D H; ZHANG, Y-L; LI, J; WANG, F-Y; ZHANG, H, 2012 contains author Wang and year 2009\n",
      "HOU GUANGSHUN; TANG HONGFENG; LIU CONG-QIANG; WANG YANBIN, 2005 contains author Wang and year 2009\n",
      "HOU GUITING; LI JIANGHAI; YANG MOHAN; YAO WEIHAO; WANG CHUANGCHENG; WANG YANXIN, 2008 contains author Wang and year 2009\n",
      "HUGHES S. S.; SCHMITT R. A.; WANG Y. L.; WASSERBURG G. J., 1986 contains author Wang and year 2009\n",
      "HUGHES S. S.; SCHMITT R. A.; WANG Y. L.; WASSERBURG G. J., 1986 contains author Schmitt and year 2016\n",
      "JAYANANDA M.; KANO T.; PEUCAT J. J.; CHANNABASAPPA S., 2008 contains author Jaya and year 2010\n",
      "JIANG CHANGYI; ZHANG PENGBO; LU DENGRONG; BAI KAIYIN; WANG YAOPEI; TANG SUOHAN; WANG JINHUI; YANG CHUN, 2004 contains author Wang and year 2009\n",
      "JUNG, H; LEE, C; JEONG, K; KANG, J, 1998 contains author Jeong and year 2007\n",
      "KERRICH R.; POLAT A.; WYMAN D. A.; HOLLINGS P., 1999 contains author Pola and year 2016\n",
      "KERRICH R.; POLAT A.; WYMAN D. A.; HOLLINGS P., 1999 contains author Pola and year 2014\n",
      "KERRICH R.; POLAT A.; WYMAN D. A.; HOLLINGS P., 1999 contains author Pola and year 2012\n",
      "KERRICH R.; POLAT A.; XIE QIANLI, 2008 contains author Pola and year 2016\n",
      "KERRICH R.; POLAT A.; XIE QIANLI, 2008 contains author Pola and year 2014\n",
      "KERRICH R.; POLAT A.; XIE QIANLI, 2008 contains author Pola and year 2012\n",
      "KERRICH R.; WYMAN D. A.; HOLLINGS P.; POLAT A., 1999 contains author Pola and year 2016\n",
      "KERRICH R.; WYMAN D. A.; HOLLINGS P.; POLAT A., 1999 contains author Pola and year 2014\n",
      "KERRICH R.; WYMAN D. A.; HOLLINGS P.; POLAT A., 1999 contains author Pola and year 2012\n",
      "KOENIG, S; MUENKER, C; SCHUTH, S; LUGUET, A; HOFFMANN, J E; KUDUON, J, 2010 contains author Hoffmann and year 2015\n",
      "KÃNIG S.; MÃNKER C.; SCHUTH S.; LUGUET A.; HOFFMANN J. E.; KUDUON J., 2010 contains author Hoffmann and year 2015\n",
      "LAHAYE Y.; BARNES S.-J.; FRICK L. R.; LAMBERT D. D., 2001 contains author Lambert and year 2016\n",
      "LAMBERT M. B.; ERNST R.; DUDAS F. O. L., 1992 contains author Lambert and year 2016\n",
      "LAMBERT, R S J; HOLLAND, J G, 1977 contains author Lambert and year 2016\n",
      "LAMBERT, R. S. J.; HOLLAND, J. G.; OWEN, P. F., 1974 contains author Lambert and year 2016\n",
      "LEEMAN W. P.; MURALI A. V.; MA M.-S.; SCHMITT R. A., 1977 contains author Schmitt and year 2016\n",
      "LI CHANGNIAN; WANG FANGZHENG; ZHONG CHENG-SHENG, 2005 contains author Wang and year 2009\n",
      "LI XIAN-HUA; LI WU-XIAN; LO CHING-HUA; WANG JIAN; YE MEI-FANG; YANG YUE-HENG, 2009 contains author Wang and year 2009\n",
      "LI XIAN-HUA; ZHU WEI-GUANG; ZHONG HONG; WANG XUAN-CHE; HE DE-FENG; BAI ZHONG-JIE; LIU FENG, 2010 contains author Wang and year 2009\n",
      "LI XIAOYONG; FAN WEI-MING; GUO FENG; WANG YUEJUN; LI CHAOWEN, 2004 contains author Wang and year 2009\n",
      "LI ZHENG-XIANG; LI XIAN-HUA; KINNY P. D.; WANG J.; ZHANG S.; ZHOU H., 2003 contains author Wang and year 2009\n",
      "LI, C; ZHANG, Z; LI, W; WANG, Y; SUN, T; RIPLEY, E, 2015 contains author Wang and year 2009\n",
      "LI, P-P; ZHOU, M-F; YAN, D-P; ZHAO, G-C; SU, S-G; WANG, X-L, 2015 contains author Wang and year 2009\n",
      "LIAO QUN^AN; WANG JINGMING; XUE CHONGSHAN; LI CHANGNIAN, 2002 contains author Wang and year 2009\n",
      "LINDSAY J. M.; SCHMITT A. K.; TRUMBULL R. B.; DE SILVA S. L.; SIEBEL W.; EMMERMANN R., 2001 contains author Schmitt and year 2016\n",
      "LIU JIAQI; CHU GUOQIANG; HAN JINGTAI; RIOUAL P.; JIAO WEIYI; WANG KAIJUN, 2009 contains author Wang and year 2009\n",
      "LIU SHEN; HU RUIZHONG; FENG CAIXIA; SCHMINCKE H.-U.; LI CAI; CHI XIAO-GUO; PENG JIAN-TANG; ZHONG HONG; QI LIANG; QI YOU-QIANG; WANG TAO, 2008 contains author Wang and year 2009\n",
      "LIU SHEN; HU RUIZHONG; GAO SHAN; CHIARENZELLI J. R.; YU BOBIN; FENG GUANGYING; QI YOU-QIANG; WANG TAO; COULSON I. M., 2009 contains author Wang and year 2009\n",
      "LIU SHEN; HU RUIZHONG; GAO SHAN; FENG CAIXIA; QI LIANG; ZHONG HONG; XIAO TANGFU; QI YOU-QIANG; WANG TAO; COULSON I. M., 2008 contains author Wang and year 2009\n",
      "LIU SHEN; HU RUIZHONG; GAO SHAN; FENG CAIXIA; YU BOBIN; QI YOU-QIANG; WANG TAO; FENG GUANGYING; COULSON I. M., 2009 contains author Wang and year 2009\n",
      "LIU SHEN; SU WENCHAO; HU RUIZHONG; FENG CAIXIA; GAO SHAN; COULSON I. M.; WANG TAO; FENG GUANGYING; TAO YAN; XIA YONG, 2010 contains author Wang and year 2009\n",
      "LIU Y.-G.; SCHMITT R. A., 1984 contains author Schmitt and year 2016\n",
      "LIU, Y-G; SCHMITT, R A, 1984 contains author Schmitt and year 2016\n",
      "LIU, Y-G; SCHMITT, R, 1990 contains author Schmitt and year 2016\n",
      "LIU, Y.-G.; SCHMITT, R. A., 1984 contains author Schmitt and year 2016\n",
      "MA, G S K; MALPAS, J; GAO, J; WANG, K-L; QI, L; XENOPHONTOS, C, 2012 contains author Wang and year 2009\n",
      "MA, GEORGE S.-K.; MALPAS, J. G.; GAO, JIANFENG; WANG, KUO-LUNG; QI, LIANG; XENOPHONTOS, C., 2012 contains author Wang and year 2009\n",
      "MADEIRA J.; MATA J.; MOURAO C.; BRUM DA SILVEIRA A.; MARTINS S.; RAMALHO R.; HOFFMANN D. L., 2010 contains author Hoffmann and year 2015\n",
      "MALEK-DEBRA-J; LAMBERT-DAVID-D, 1986 contains author Lambert and year 2016\n"
     ]
    },
    {
     "name": "stdout",
     "output_type": "stream",
     "text": [
      "MATTSSON S. R.; VOGEL T. A.; WILBAND J. T., 1986 contains author Vogel and year 2016\n",
      "MCBRIDE J. S.; LAMBERT D. D.; NICHOLLS I. A.; PRICE R. C., 2001 contains author Lambert and year 2016\n",
      "MCDOUGALL I.; POLACH H. A.; STIPP J. J., 1969 contains author Pola and year 2016\n",
      "MCDOUGALL I.; POLACH H. A.; STIPP J. J., 1969 contains author Pola and year 2014\n",
      "MCDOUGALL I.; POLACH H. A.; STIPP J. J., 1969 contains author Pola and year 2012\n",
      "MCLEOD, C L; DAVIDSON, J P; NOWELL, G M; DE SILVA, S; SCHMITT, A K, 2013 contains author Schmitt and year 2016\n",
      "MEDARIS, G; WANG, H; JELINEK, E; MIHALJEVIC, M; JAKES, P, 2005 contains author Wang and year 2009\n",
      "MENG EN; XU WEN-LIANG; PEI FU-PING; YANG DE-BIN; WANG FENG; ZHANG XINGZHOU, 2011 contains author Wang and year 2009\n",
      "MENG LIFENG; LI ZHENG-XIANG; CHEN HANLIN; LI XIAN-HUA; WANG XUAN-CHE, 2012 contains author Wang and year 2009\n",
      "MO XUANXUE; ZHAO ZHIDAN; DENG JINFU; FLOWER M. F. J.; YU XUEHUI; LUO ZHAOHUA; LI YOUGUO; DONG GUOCHEN; ZHU DI-CHENG; WANG LIANGLING, 2006 contains author Wang and year 2009\n",
      "MUNOZ, P; DEZILEAU, L; LANGE, C; CARDENAS, L; SELLANES, J; SALAMANCA, M; MALDONADO, A, 2011 contains author Alam and year 2011\n",
      "NARANJO J. A.; POLANCO E., 2004 contains author Pola and year 2016\n",
      "NARANJO J. A.; POLANCO E., 2004 contains author Pola and year 2014\n",
      "NARANJO J. A.; POLANCO E., 2004 contains author Pola and year 2012\n",
      "ORDONEZ-CALDERON J. C.; POLAT A.; FRYER B. J.; APPEL P. W. U.; VAN GOOL J. A. M.; DILEK Y.; GAGNON J. E., 2009 contains author Pola and year 2016\n",
      "ORDONEZ-CALDERON J. C.; POLAT A.; FRYER B. J.; APPEL P. W. U.; VAN GOOL J. A. M.; DILEK Y.; GAGNON J. E., 2009 contains author Pola and year 2014\n",
      "ORDONEZ-CALDERON J. C.; POLAT A.; FRYER B. J.; APPEL P. W. U.; VAN GOOL J. A. M.; DILEK Y.; GAGNON J. E., 2009 contains author Pola and year 2012\n",
      "ORDONEZ-CALDERON J. C.; POLAT A.; FRYER B. J.; GAGNON J. E., 2011 contains author Pola and year 2016\n",
      "ORDONEZ-CALDERON J. C.; POLAT A.; FRYER B. J.; GAGNON J. E., 2011 contains author Pola and year 2014\n",
      "ORDONEZ-CALDERON J. C.; POLAT A.; FRYER B. J.; GAGNON J. E., 2011 contains author Pola and year 2012\n",
      "ORDONEZ-CALDERON J. C.; POLAT A.; FRYER B. J.; GAGNON J. E.; RAITH J. G.; APPEL P. W. U., 2008 contains author Pola and year 2016\n",
      "ORDONEZ-CALDERON J. C.; POLAT A.; FRYER B. J.; GAGNON J. E.; RAITH J. G.; APPEL P. W. U., 2008 contains author Pola and year 2014\n",
      "ORDONEZ-CALDERON J. C.; POLAT A.; FRYER B. J.; GAGNON J. E.; RAITH J. G.; APPEL P. W. U., 2008 contains author Pola and year 2012\n",
      "PE-PIPER G.; JANSA L. F.; LAMBERT R. S. J., 1992 contains author Lambert and year 2016\n",
      "PENG TOUPING; WANG YUEJUN; ZHAO GUOCHUN; FAN WEI-MING; PENG BINGXIA, 2008 contains author Wang and year 2009\n",
      "PENG YAN-DONG; ZHANG LI-DONG; CHEN WEN; ZHANG CHANG-JIE; GUO SHENG-ZHE; XING DE-HE; JIA BIN; CHEN SHU-WANG; DING QIU-HONG, 2003 contains author Wang and year 2009\n",
      "PIOCHI, M.; POLACCI, M.; DE ASTIS, G.; ZANETTI, A.; MANGIACAPRA, A.; VANNUCCI, R.; GIORDANO, D., 2008 contains author Pola and year 2016\n",
      "PIOCHI, M.; POLACCI, M.; DE ASTIS, G.; ZANETTI, A.; MANGIACAPRA, A.; VANNUCCI, R.; GIORDANO, D., 2008 contains author Pola and year 2014\n",
      "PIOCHI, M.; POLACCI, M.; DE ASTIS, G.; ZANETTI, A.; MANGIACAPRA, A.; VANNUCCI, R.; GIORDANO, D., 2008 contains author Pola and year 2012\n",
      "POLAT A., 2009 contains author Pola and year 2016\n",
      "POLAT A., 2009 contains author Pola and year 2014\n",
      "POLAT A., 2009 contains author Pola and year 2012\n",
      "POLAT A.; APPEL P. W. U.; FREI R.; PAN Y.; DILEK Y.; ORDONEZ-CALDERON J. C.; FRYER B. J.; HOLLIS J. A.; RAITH J. G., 2007 contains author Pola and year 2016\n",
      "POLAT A.; APPEL P. W. U.; FREI R.; PAN Y.; DILEK Y.; ORDONEZ-CALDERON J. C.; FRYER B. J.; HOLLIS J. A.; RAITH J. G., 2007 contains author Pola and year 2014\n",
      "POLAT A.; APPEL P. W. U.; FREI R.; PAN Y.; DILEK Y.; ORDONEZ-CALDERON J. C.; FRYER B. J.; HOLLIS J. A.; RAITH J. G., 2007 contains author Pola and year 2012\n",
      "POLAT A.; APPEL P. W. U.; FRYER B. J., 2011 contains author Pola and year 2016\n",
      "POLAT A.; APPEL P. W. U.; FRYER B. J., 2011 contains author Pola and year 2014\n",
      "POLAT A.; APPEL P. W. U.; FRYER B. J., 2011 contains author Pola and year 2012\n",
      "POLAT A.; APPEL P. W. U.; FRYER B. J.; WINDLEY B. F.; FREI R.; SAMSON I. M.; HUANG HUA, 2009 contains author Pola and year 2016\n",
      "POLAT A.; APPEL P. W. U.; FRYER B. J.; WINDLEY B. F.; FREI R.; SAMSON I. M.; HUANG HUA, 2009 contains author Pola and year 2014\n",
      "POLAT A.; APPEL P. W. U.; FRYER B. J.; WINDLEY B. F.; FREI R.; SAMSON I. M.; HUANG HUA, 2009 contains author Pola and year 2012\n",
      "POLAT A.; FREI R., 2005 contains author Pola and year 2016\n",
      "POLAT A.; FREI R., 2005 contains author Pola and year 2014\n",
      "POLAT A.; FREI R., 2005 contains author Pola and year 2012\n",
      "POLAT A.; FREI R.; APPEL P. W. U.; DILEK Y.; FRYER B. J.; ORDONEZ-CALDERON J. C.; YANG ZHIMING, 2008 contains author Pola and year 2016\n",
      "POLAT A.; FREI R.; APPEL P. W. U.; DILEK Y.; FRYER B. J.; ORDONEZ-CALDERON J. C.; YANG ZHIMING, 2008 contains author Pola and year 2014\n",
      "POLAT A.; FREI R.; APPEL P. W. U.; DILEK Y.; FRYER B. J.; ORDONEZ-CALDERON J. C.; YANG ZHIMING, 2008 contains author Pola and year 2012\n",
      "POLAT A.; FREI R.; FRYER B. J.; APPEL P. W. U., 2009 contains author Pola and year 2016\n",
      "POLAT A.; FREI R.; FRYER B. J.; APPEL P. W. U., 2009 contains author Pola and year 2014\n",
      "POLAT A.; FREI R.; FRYER B. J.; APPEL P. W. U., 2009 contains author Pola and year 2012\n",
      "POLAT A.; HOFMANN A. W., 2003 contains author Pola and year 2016\n",
      "POLAT A.; HOFMANN A. W., 2003 contains author Pola and year 2014\n",
      "POLAT A.; HOFMANN A. W., 2003 contains author Pola and year 2012\n",
      "POLAT A.; HOFMANN A. W.; MÃNKER C.; REGELOUS M.; APPEL P. W. U., 2003 contains author Pola and year 2016\n",
      "POLAT A.; HOFMANN A. W.; MÃNKER C.; REGELOUS M.; APPEL P. W. U., 2003 contains author Pola and year 2014\n",
      "POLAT A.; HOFMANN A. W.; MÃNKER C.; REGELOUS M.; APPEL P. W. U., 2003 contains author Pola and year 2012\n",
      "POLAT A.; HOFMANN A. W.; ROSING M. T., 2002 contains author Pola and year 2016\n",
      "POLAT A.; HOFMANN A. W.; ROSING M. T., 2002 contains author Pola and year 2014\n",
      "POLAT A.; HOFMANN A. W.; ROSING M. T., 2002 contains author Pola and year 2012\n",
      "POLAT A.; KERRICH R., 1999 contains author Pola and year 2016\n",
      "POLAT A.; KERRICH R., 1999 contains author Pola and year 2014\n",
      "POLAT A.; KERRICH R., 1999 contains author Pola and year 2012\n",
      "POLAT A.; KERRICH R., 2000 contains author Pola and year 2016\n",
      "POLAT A.; KERRICH R., 2000 contains author Pola and year 2014\n",
      "POLAT A.; KERRICH R., 2000 contains author Pola and year 2012\n",
      "POLAT A.; KERRICH R., 2001 contains author Pola and year 2016\n",
      "POLAT A.; KERRICH R., 2001 contains author Pola and year 2014\n",
      "POLAT A.; KERRICH R., 2001 contains author Pola and year 2012\n",
      "POLAT A.; KERRICH R., 2002 contains author Pola and year 2016\n",
      "POLAT A.; KERRICH R., 2002 contains author Pola and year 2014\n",
      "POLAT A.; KERRICH R., 2002 contains author Pola and year 2012\n",
      "POLAT A.; KERRICH R.; WYMAN D. A., 1998 contains author Pola and year 2016\n",
      "POLAT A.; KERRICH R.; WYMAN D. A., 1998 contains author Pola and year 2014\n",
      "POLAT A.; KERRICH R.; WYMAN D. A., 1998 contains author Pola and year 2012\n",
      "POLAT A.; KERRICH R.; WYMAN D. A., 1999 contains author Pola and year 2016\n",
      "POLAT A.; KERRICH R.; WYMAN D. A., 1999 contains author Pola and year 2014\n",
      "POLAT A.; KERRICH R.; WYMAN D. A., 1999 contains author Pola and year 2012\n",
      "POLAT A.; KUSKY T. M.; LI JIANGHAI; FRYER B. J.; KERRICH R.; PATRICK K., 2005 contains author Pola and year 2016\n",
      "POLAT A.; KUSKY T. M.; LI JIANGHAI; FRYER B. J.; KERRICH R.; PATRICK K., 2005 contains author Pola and year 2014\n",
      "POLAT A.; KUSKY T. M.; LI JIANGHAI; FRYER B. J.; KERRICH R.; PATRICK K., 2005 contains author Pola and year 2012\n",
      "POLAT A.; LI JIANGHAI; FRYER B. J.; KUSKY T. M.; GAGNON J. E.; ZHANG SHUANGQUAN, 2006 contains author Pola and year 2016\n",
      "POLAT A.; LI JIANGHAI; FRYER B. J.; KUSKY T. M.; GAGNON J. E.; ZHANG SHUANGQUAN, 2006 contains author Pola and year 2014\n",
      "POLAT A.; LI JIANGHAI; FRYER B. J.; KUSKY T. M.; GAGNON J. E.; ZHANG SHUANGQUAN, 2006 contains author Pola and year 2012\n",
      "POLAT A.; MÃNKER C., 2004 contains author Pola and year 2016\n",
      "POLAT A.; MÃNKER C., 2004 contains author Pola and year 2014\n",
      "POLAT A.; MÃNKER C., 2004 contains author Pola and year 2012\n",
      "POLAT, A.; APPEL, P. W. U.; FRYER, B. J.; WINDLEY, B. F.; FREI, R.; SAMSON, I. M.; HUANG, HUA, 2009 contains author Pola and year 2016\n",
      "POLAT, A.; APPEL, P. W. U.; FRYER, B. J.; WINDLEY, B. F.; FREI, R.; SAMSON, I. M.; HUANG, HUA, 2009 contains author Pola and year 2014\n",
      "POLAT, A.; APPEL, P. W. U.; FRYER, B. J.; WINDLEY, B. F.; FREI, R.; SAMSON, I. M.; HUANG, HUA, 2009 contains author Pola and year 2012\n",
      "POLAT, A.; KERRICH, R.; CASEY, J., 1997 contains author Pola and year 2016\n",
      "POLAT, A.; KERRICH, R.; CASEY, J., 1997 contains author Pola and year 2014\n",
      "POLAT, A.; KERRICH, R.; CASEY, J., 1997 contains author Pola and year 2012\n"
     ]
    },
    {
     "name": "stdout",
     "output_type": "stream",
     "text": [
      "QI LIANG; WANG CHRISTINA YAN; ZHOU MEI-FU, 2008 contains author Wang and year 2009\n",
      "RADKE, L; HEAP, A; DOUGLAS, G; NICHOL, S; TRAFFORD, J; LI, J; PRZESLAWSKI, R, 2011 contains author Heap and year 2015\n",
      "RADKE, L; HEAP, A; DOUGLAS, G; NICHOL, S; TRAFFORD, J; LI, J; PRZESLAWSKI, R, 2011 contains author Heap and year 2014\n",
      "RADKE, L; HEAP, A; DOUGLAS, G; NICHOL, S; TRAFFORD, J; LI, J; PRZESLAWSKI, R, 2011 contains author Heap and year 2011\n",
      "RADKE, L; HEAP, A; DOUGLAS, G; NICHOL, S; TRAFFORD, J; LI, J; PRZESLAWSKI, R, 2011 contains author Heap and year 2009\n",
      "RADKE, L; HEAP, A; DOUGLAS, G; NICHOL, S; TRAFFORD, J; LI, J; PRZESLAWSKI, R, 2011 contains author Heap and year 2015\n",
      "RADKE, L; HEAP, A; DOUGLAS, G; NICHOL, S; TRAFFORD, J; LI, J; PRZESLAWSKI, R, 2011 contains author Heap and year 2014\n",
      "RIPLEY E. M.; LAMBERT D. D.; FRICK L. R., 1999 contains author Lambert and year 2016\n",
      "SAHOO J.; BALAKRISHNAN S., 1994 contains author Balakrishna and year 1968\n",
      "SCHMITT A. K.; DE SILVA S. L.; TRUMBULL R. B.; EMMERMANN R., 2001 contains author Schmitt and year 2016\n",
      "SCHMITT A. K.; HULEN J. B., 2008 contains author Schmitt and year 2016\n",
      "SCHMITT A. K.; KASEMANN S.; MEIXNER A.; RHEDE D., 2002 contains author Schmitt and year 2016\n",
      "SCHMITT A. K.; STOCKLI D. F.; HAUSBACK B. P., 2006 contains author Schmitt and year 2016\n",
      "SCHMITT, A. K.; DANISIK, M.; SIEBEL, W.; ELITOK, Ã.; CHANG, YU-WEI; SHEN, CHUAN-CHOU, 2014 contains author Schmitt and year 2016\n",
      "SCHMITT, A. K.; WETZEL, F.; COOPER, KARI M.; ZOU, HAIBO; WÃRNER, G., 2010 contains author Schmitt and year 2016\n",
      "SHELLNUTT J. G.; ZHOU MEI-FU; YAN DAN-PING; WANG YANBIN, 2008 contains author Wang and year 2009\n",
      "SHEN WEIZHOU; CHEN FAN-RONG; LIU CHANGSHI; WANG DEZI, 1992 contains author Wang and year 2009\n",
      "SMITH-EUGENE-I; SANCHEZ-ALEXANDER; WALKER-J-DOUGLAS; WANG-KEFA, 1999 contains author Wang and year 2009\n",
      "SONG XIE-YAN; ZHOU MEI-FU; HOU ZENGQIAN; CAO TZI-MIN; WANG Y. L.; LI YOUGUO, 2001 contains author Wang and year 2009\n",
      "STOCKSTILL K. R.; VOGEL T. A.; SISSON T. W., 2002 contains author Vogel and year 2016\n",
      "STOCKSTILL-KAREN-R; VOGEL-THOMAS-A; SISSON-THOMAS-W, 2003 contains author Vogel and year 2016\n",
      "SUN LINHUA; WANG YUEJUN; FAN WEI-MING; ZI JIANWEI, 2008 contains author Wang and year 2009\n",
      "SUN ZHIMING; YANG ZHENYU; PEI J.; YANG TIANSHUI; WANG XISHENG, 2006 contains author Wang and year 2009\n",
      "TANG GONG-JIAN; WANG QIANG; WYMAN D. A.; LI ZHENG-XIANG; ZHAO ZHEN-HUA; JIA XIAO-HUI; JIANG ZIQI, 2010 contains author Wang and year 2009\n",
      "TANG GONG-JIAN; WANG QIANG; WYMAN D. A.; SUN MIN; LI ZHENG-XIANG; ZHAO ZHEN-HUA; SUN WEI-DONG; JIA XIAO-HUI; JIANG ZIQI, 2010 contains author Wang and year 2009\n",
      "TANG MING; WANG XIAOLEI; XU XISHENG; ZHU CHENG; CHENG TAO; YU YAO, 2012 contains author Wang and year 2009\n",
      "VAREKAMP, J. C.; KALAMARIDES, R. I., 1989 contains author Alam and year 2011\n",
      "VOGEL D. C.; KEAYS R. R., 1997 contains author Vogel and year 2016\n",
      "VOGEL T. A.; FLOOD T. P.; PATINO L. C.; WILMOT M. S.; MAXIMO R. P. R.; ARPA M. C. B.; ARCILLA C. A.; STIMAC J. A., 2006 contains author Vogel and year 2016\n",
      "VOGEL T. A.; YOUNKER L. W.; WILLIAMS S. N.; KAMPMUELLER E., 1984 contains author Vogel and year 2016\n",
      "WALKER J. A.; CARR M. J.; FEIGENSON M. D.; KALAMARIDES R. I., 1990 contains author Alam and year 2011\n",
      "WALKER J. A.; WILLIAMS S. N.; KALAMARIDES R. I.; FEIGENSON M. D., 1993 contains author Alam and year 2011\n",
      "WANG B.; SHU LIANGSHU; CLUZEL D.; FAURE M.; CHARVET J., 2007 contains author Wang and year 2009\n",
      "WANG BAI-QIU; ZHOU MEI-FU; LI JIANWEI; YAN DAN-PING, 2011 contains author Wang and year 2009\n",
      "WANG CHRISTINA YAN; ZHOU MEI-FU; QI LIANG, 2007 contains author Wang and year 2009\n",
      "WANG CHRISTINA YAN; ZHOU MEI-FU; QI LIANG, 2010 contains author Wang and year 2009\n",
      "WANG CHRISTINA YAN; ZHOU MEI-FU; QI LIANG, 2011 contains author Wang and year 2009\n",
      "WANG DEZI; SHEN WEIZHOU; LIU CHANGSHI; XIONG XIAO-LIN, 1994 contains author Wang and year 2009\n",
      "WANG DONG-YAN; XU WEN-LIANG; FENG HONG; LIN JING-QIAN; ZHENG CHANG-QING, 2002 contains author Wang and year 2009\n",
      "WANG FEI; PENG ZICHENG; ZHU RI-XIANG; HE HUAIYU; YANG LIEKUN, 2006 contains author Wang and year 2009\n",
      "WANG JIAN; FU XIUGEN; CHEN WENXI; WANG ZHENGJIANG; TAN FUWEN; CHEN MING; ZHUO JIEWEN, 2008 contains author Wang and year 2009\n",
      "WANG JIAN; HATTORI K. H.; KILIAN R.; STERN C. R., 2007 contains author Wang and year 2009\n",
      "WANG JIAN; HATTORI K. H.; STERN C. R., 2008 contains author Wang and year 2009\n",
      "WANG JIANG-HAI; YIN AN; HARRISON T. MARK; GROVE M.; ZHANG YU-QUAN; XIE GUANGHONG, 2001 contains author Wang and year 2009\n",
      "WANG PUJUN; CHEN FUKUN; CHEN S.-M.; SIEBEL W.; SATIR M., 2006 contains author Wang and year 2009\n",
      "WANG PUJUN; LIU WANZHU; WANG SHUXUE; SONG WEIHEI, 2002 contains author Wang and year 2009\n",
      "WANG PUJUN; REN YANGUANG; SHAN XUANLONG; SUN SHAOBO; WAN CHUANBIAO; BIAN WEIHUA, 2002 contains author Wang and year 2009\n",
      "WANG QIAN; WYMAN D. A.; XU JI-FENG; WAN YUSHENG; LI CHAO-FENG; ZI FENG; JIANG ZIQI; CHU ZHUYIN; ZHAO ZHEN-HUA; DONG YANHUI, 2008 contains author Wang and year 2009\n",
      "WANG QIAN; WYMAN D. A.; XU JI-FENG; ZHAO ZHEN-HUA; JIAN PING; XIONG XIAO-LIN; BAO Z.-W.; LI CHAO-FENG; BAI ZHENGHUA, 2006 contains author Wang and year 2009\n",
      "WANG QIAN; WYMAN D. A.; ZHAO ZHEN-HUA; XU JI-FENG; BAI ZHENGHUA; XIONG XIAO-LIN; DAI T.-M.; LI CHAO-FENG; CHU ZHUYIN, 2007 contains author Wang and year 2009\n",
      "WANG QIANG; LI ZHENG-XIANG; CHUNG SUN-LIN; WYMAN D. A.; SUN YA-LI; ZHAO ZHEN-HUA; ZHU YING-TANG; QIU HUA-NING, 2011 contains author Wang and year 2009\n",
      "WANG QIANG; MCDERMOTT F.; XU JI-FENG; BELLON H., 2005 contains author Wang and year 2009\n",
      "WANG QIANG; WYMAN D. A.; XU JI-FENG; DONG YANHUI; VASCONCELOS P. M.; PEARSON N. J.; WAN YUSHENG; DONG HAN; LI CHAO-FENG; YU YUANSHAN; ZHU TONGXING; FENG XINTAO; ZHANG QIYUE; ZI FENG; CHU ZHUYIN, 2008 contains author Wang and year 2009\n",
      "WANG SUNGSHAN; MCDOUGALL I., 1980 contains author Wang and year 2009\n",
      "WANG WEI; XU WEN-LIANG; WANG DONG-YAN; JI WEI-QIANG; YANG DE-BIN; PEI FU-PING, 2007 contains author Wang and year 2009\n",
      "WANG XIANJUE; WU MINGQING; LIANG DEHUA; YIN AIWU, 1984 contains author Wang and year 2009\n",
      "WANG XIAOLEI; JIANG SHAO-YONG; DAI BAO-ZHANG, 2010 contains author Wang and year 2009\n",
      "WANG XIAOLEI; ZHAO GUOCHUN; ZHOU JINCHENG; LIU YONG-SHENG; HU JIAN, 2008 contains author Wang and year 2009\n",
      "WANG XIAOLEI; ZHOU JINCHENG; QIU JIAN-SHENG; GAO JIANFENG, 2004 contains author Wang and year 2009\n",
      "WANG XIAOLEI; ZHOU JINCHENG; QIU JIAN-SHENG; JIANG SHAO-YONG; SHI YU-RUO, 2008 contains author Wang and year 2009\n",
      "WANG XINGJIN; FLOOD R.; ROBERTS J., 2005 contains author Wang and year 2009\n",
      "WANG XUAN-CHE; LI XIAN-HUA; LI WU-XIAN; LI ZHENG-XIANG, 2007 contains author Wang and year 2009\n",
      "WANG XUAN-CHE; LI XIAN-HUA; LI WU-XIAN; LI ZHENG-XIANG; LIU YING; YANG YUE-HENG; LIANG XI-RONG; TU XIANG-LIN, 2008 contains author Wang and year 2009\n",
      "WANG XUAN-CHE; LI XIAN-HUA; LI ZHENG-XIANG; LIU YING; YANG YUE-HENG, 2010 contains author Wang and year 2009\n",
      "WANG XUAN-CHE; LI ZHENG-XIANG; LI XIAN-HUA; LI JIE; LIU YING; LONG WENGUO; ZHOU JIN-BO; WANG FEI, 2012 contains author Wang and year 2009\n",
      "WANG YAN; ZHAO ZI-FU; ZHENG YONG-FEI; ZHANG JUN-JUN, 2011 contains author Wang and year 2009\n",
      "WANG YANG; CHENG SUHUA, 2012 contains author Wang and year 2009\n",
      "WANG YUEJUN; FAN WEI-MING; CAWOOD P. A.; LI SANZHONG, 2008 contains author Wang and year 2009\n",
      "WANG YUEJUN; FAN WEI-MING; GUO FENG, 2002 contains author Wang and year 2009\n",
      "WANG YUEJUN; FAN WEI-MING; GUO FENG; PENG TOUPING; LI CHAOWEN, 2003 contains author Wang and year 2009\n",
      "WANG YUEJUN; FAN WEI-MING; PENG TOUPING; GUO FENG, 2005 contains author Wang and year 2009\n",
      "WANG YUEJUN; FAN WEI-MING; PENG TOUPING; ZHANG HONG-FU; GUO FENG, 2005 contains author Wang and year 2009\n",
      "WANG YUEJUN; FAN WEI-MING; ZHANG YANHUA; GUO FENG; ZHANG HONG-FU; PENG TOUPING, 2004 contains author Wang and year 2009\n",
      "WANG YUEJUN; ZHANG AIMEI; FAN WEI-MING; PENG TOUPING; ZHANG FEIFEI; ZHANG YANHUA; BI XIAWU, 2010 contains author Wang and year 2009\n",
      "WANG YUEJUN; ZHAO GUOCHUN; CAWOOD P. A.; FAN WEI-MING; PENG TOUPING; SUN LINHUA, 2008 contains author Wang and year 2009\n",
      "WANG YUEJUN; ZHAO GUOCHUN; FAN WEI-MING; PENG TOUPING; SUN LINHUA; XIA XIAOPING, 2007 contains author Wang and year 2009\n",
      "WANG YUJING; YUAN CHAO; LONG XIAOPING; SUN MIN; XIAO WENJIAO; ZHAO GUOCHUN; CAI KEDA; JIANG YINGDE, 2011 contains author Wang and year 2009\n",
      "WANG ZHIHONG; WILDE S. A.; WANG KAIYI; YU LIANGJUN, 2004 contains author Wang and year 2009\n",
      "WANG ZHIHONG; ZHAO YUE; ZOU HAIBO; LI WUPING; LIU XIAOWEN; WU HAI; XU GANG; ZHANG SHUAN-HONG, 2007 contains author Wang and year 2009\n",
      "WANG, JIAN; WORM, H-U; XU, W-L; YANG, Y; XIE, Z; LIU, JINLIN; SONG, Y, 2012 contains author Wang and year 2009\n",
      "WANG, LIAN-XUN; MARKS, M. A. W.; KELLER, J.; MARKL, G., 2014 contains author Wang and year 2009\n",
      "WANG, Q; BAGDASSAROV, N; XIA, Q-K; ZHU, B, 2013 contains author Wang and year 2009\n",
      "WANG, Z; BECKER, H, 2015 contains author Wang and year 2009\n",
      "WANG, Z; BECKER, H; GAWRONSKI, T, 2013 contains author Wang and year 2009\n",
      "WANG, ZAICONG; BECKER, H., 2013 contains author Wang and year 2009\n",
      "WANG, ZAICONG; BECKER, H., 2015 contains author Wang and year 2009\n",
      "WARNER, R D; SNIPES, D S; HUGHES, S S; STEINER, J C; DAVIS, M W; MANOOGIAN, P R; SCHMITT, R A, 1985 contains author Schmitt and year 2016\n",
      "WATTS K. E.; BINDEMAN I. N.; SCHMITT A. K., 2011 contains author Schmitt and year 2016\n",
      "WEHAUSEN, R; TIAN, J; BRUMSACK, H; CHENG, X; WANG, P, 2006 contains author Wang and year 2009\n",
      "WEI HAIQUAN; WANG YU; JIN JINYU; GAO LING; YUN SUNGHYO; JIN BOLU, 2007 contains author Wang and year 2009\n",
      "WON J. K.; MATSUDA J.-I.; NAGAO K.; KIM KWANG HO; LEE MOON WON, 1986 contains author Wang and year 2009\n",
      "WORKMAN R. K.; HAURI E. H.; HART S. R.; WANG JIANHUA; BLUSZTAJN J., 2006 contains author Wang and year 2009\n"
     ]
    },
    {
     "name": "stdout",
     "output_type": "stream",
     "text": [
      "WYMAN D. A.; KERRICH R.; POLAT A., 2002 contains author Pola and year 2016\n",
      "WYMAN D. A.; KERRICH R.; POLAT A., 2002 contains author Pola and year 2014\n",
      "WYMAN D. A.; KERRICH R.; POLAT A., 2002 contains author Pola and year 2012\n",
      "WÃRNER, G.; SCHMINCKE, H.-U.; SCHREYER, W., 1982 contains author Reyer and year 2014\n",
      "XIA LIN-QI; XU XUE-YI; XIA ZU-CHUN; LI XIANG-MIN; MA ZHONG-PIN; WANG LI-SHE, 2004 contains author Wang and year 2009\n",
      "XIE GUANGHONG; WANG JUNWEN; BASU A. R.; TATSUMOTO M., 1988 contains author Wang and year 2009\n",
      "XIE GUANGHONG; WANG JUNWEN; WEI KE-JIAN; LIU CONG-QIANG; TATSUMOTO M.; BASU A. R., 1990 contains author Wang and year 2009\n",
      "XIE, Z; HATTORI, K H; WANG, JIAN, 2013 contains author Wang and year 2009\n",
      "XIE, Z; WANG, JIAN; HATTORI, K H, 2015 contains author Wang and year 2009\n",
      "XIONG XIAO-LIN; LI XIAN-HUA; XU JI-FENG; LI WU-XIAN; ZHAO ZHEN-HUA; WANG QIAN; CHEN XIAO-MING, 2003 contains author Wang and year 2009\n",
      "XIONG XIAO-LIN; ZHAO ZHEN-HUA; BAI ZHENGHUA; MEI HOUJUN; XU JI-FENG; WANG QIANG, 2001 contains author Wang and year 2009\n",
      "XU, W-L; GAO, S; YANG, D-B; PEI, F-P; WANG, Q-H, 2009 contains author Wang and year 2009\n",
      "XU, Y; YANG, K-G; POLAT, A; YANG, Z-N, 2016 contains author Pola and year 2016\n",
      "XU, Y; YANG, K-G; POLAT, A; YANG, Z-N, 2016 contains author Pola and year 2014\n",
      "XU, Y; YANG, K-G; POLAT, A; YANG, Z-N, 2016 contains author Pola and year 2012\n",
      "YAN QUANSHU; SHI XUEFA; WANG KUNSHAN; BU WENRUI; XIAO LONG, 2008 contains author Wang and year 2009\n",
      "YAN, Q; CASTILLO, P R; SHI, X; WANG, L; LIAO, L; REN, J, 2015 contains author Wang and year 2009\n",
      "YANG DE-BIN; XU WEN-LIANG; PEI FU-PING; YANG CHENG-HAI; WANG QING-HAI, 2012 contains author Wang and year 2009\n",
      "YANG T. N.; ZHANG H. R.; LIU Y. X.; WANG ZHILIANG; SONG Y. C.; YANG Z. S.; TIAN SHIHONG; XIE H. Q.; HOU K. J., 2011 contains author Wang and year 2009\n",
      "YANG YANG, A; ZHAO, T-P; ZHOU, M-F; DENG, X-G; WANG, G-Q, 2013 contains author Wang and year 2009\n",
      "YILMAZ, Y.; POLAT, A., 1998 contains author Pola and year 2016\n",
      "YILMAZ, Y.; POLAT, A., 1998 contains author Pola and year 2014\n",
      "YILMAZ, Y.; POLAT, A., 1998 contains author Pola and year 2012\n",
      "YING JI-FENG; ZHOU XINGHUA; ZHANG LIAN-CHANG; WANG FEI; ZHANG YU-TAO, 2010 contains author Wang and year 2009\n",
      "ZHANG CHUAN-LIN; XU YI-GANG; LI ZHENG-XIANG; WANG HONG-YAN; YE HAI-MIN, 2010 contains author Wang and year 2009\n",
      "ZHANG KAI-JUN; TANG XIAN-CHUN; WANG YANG; ZHANG YU-XIU, 2011 contains author Wang and year 2009\n",
      "ZHANG LIAN-CHANG; ZHOU XIN-HUA; YING JI-FENG; WANG FEI; GUO FENG; WAN BO; CHEN ZHI-GUANG, 2008 contains author Wang and year 2009\n",
      "ZHANG YONGBEI; WANG GUILAN; NIE JIANFENG; ZHAO CHONGSHUN; XU CHENGYAN; QIU JIAXIANG; WANG HAO, 2003 contains author Wang and year 2009\n",
      "ZHANG ZHAOCHONG; FENG CHENGYOU; LI ZHAONAI; LI SHUCAI; XIN YING; LI ZHAOMU; WANG XIANZHENG, 2002 contains author Wang and year 2009\n",
      "ZHANG ZHAOCHONG; HAO YANLI; WANG FUSHENG; MAHONEY J. J., 2004 contains author Wang and year 2009\n",
      "ZHANG ZHAOCHONG; LI ZHAONAI; LI SHUCAI; XIN YIN; LI ZHAOMU; WANG XIANZHENG, 2000 contains author Wang and year 2009\n",
      "ZHANG ZHAOCHONG; MAHONEY J. J.; MAO JINGWEN; WANG FUSHENG, 2006 contains author Wang and year 2009\n",
      "ZHANG ZHAOCHONG; XIAO XIDI; WANG JUN; WANG YONG; KUSKY T. M., 2008 contains author Wang and year 2009\n",
      "ZHANG, Z; DONG, Y-H; LIOU, J; LIU, F; WANG, W; YUI, F, 2011 contains author Wang and year 2009\n",
      "ZHAO ZHEN-HUA; BAI ZHENGHUA; XIONG XIAO-LIN; MEI HOUJUN; WANG YIXIAN, 2003 contains author Wang and year 2009\n",
      "ZHAO ZHEN-HUA; WANG QIANG; XIONG XIAO-LIN; NIU HE-CAI; ZHANG HAIXIANG, 2009 contains author Wang and year 2009\n",
      "ZHAO ZHEN-HUA; XIONG XIAO-LIN; WANG QIAN; WYMAN D. A.; BAO Z.-W.; BAI ZHENGHUA; QIAO Y. L., 2008 contains author Wang and year 2009\n",
      "ZHAO ZHIDAN; MO XUANXUE; ZHANG SHUANGQUAN; GUO TIEYING; ZHOU SU; DONG GUOCHEN; WANG YONG, 2001 contains author Wang and year 2009\n",
      "ZHENG JIAN-PING; SUN MIN; ZHAO GUOCHUN; ROBINSON P. T.; WANG FANGZHENG, 2007 contains author Wang and year 2009\n",
      "ZHOU HAIMIN; XIAO LONG; DONG YUEXIA; WANG CHUNZENG; WANG FANGZHENG; NI PINGZE, 2008 contains author Wang and year 2009\n",
      "ZHOU JINCHENG; WANG XIAOLEI; QIU JIAN-SHENG; GAO JIANFENG, 2004 contains author Wang and year 2009\n",
      "ZHOU MEI-FU; ARNDT N. T.; MALPAS J. G.; WANG CHRISTINA YAN; KENNEDY A. K., 2008 contains author Wang and year 2009\n",
      "ZHOU MEI-FU; ZHAO JUN-HONG; JIANG CHANGYI; GAO JIANFENG; WANG WEI; YANG SHENG-HONG, 2009 contains author Wang and year 2009\n",
      "ZHU BING-QUAN; WANG HUI-FEN, 1989 contains author Wang and year 2009\n",
      "ZHU BING-QUAN; WANG HUI-FEN; CHEN YU-WIE; CHANG X.-Y.; GU YAO-GUO; XIE JIN, 2004 contains author Wang and year 2009\n",
      "ZHU BING-QUAN; WANG HUI-FEN; MAO CUNXIAO; ZHU NAIJUAN; HUANG RONGSHENG; PENG JIANHU; PU ZHIPING, 1989 contains author Wang and year 2009\n",
      "ZHU DI-CHENG; MO XUANXUE; NIU YAOLING; ZHAO ZHIDAN; WANG LIQUAN; LIU YONG-SHENG; WU FU-YUAN, 2009 contains author Wang and year 2009\n",
      "ZHU DI-CHENG; MO XUANXUE; PAN GUI-TANG; ZHAO ZHIDAN; DONG GUOCHEN; SHI YU-RUO; LIAO ZHONGLI; WANG LIQUAN; ZHOU CHANGYONG, 2008 contains author Wang and year 2009\n",
      "ZHU DI-CHENG; PAN GUI-TANG; CHUNG SUN-LIN; LIAO ZHONGLI; WANG LIQUAN; LI GUANGMING, 2008 contains author Wang and year 2009\n",
      "ZHU DI-CHENG; PAN GUI-TANG; MO XUANXUE; WANG LIQUAN; LIAO ZHONGLI; JIANG XINSHENG; GENG QUANRU, 2005 contains author Wang and year 2009\n",
      "ZHU DI-CHENG; ZHAO ZHIDAN; PAN GUI-TANG; LEE HAO-YANG; KANG ZHI-QIANG; LIAO ZHONGLI; WANG LIQUAN; LI GUANGMING; DONG GUOCHEN; LIU BO, 2008 contains author Wang and year 2009\n",
      "ZI JIANWEI; FAN WEI-MING; WANG YUEJUN; PENG TOUPING; GUO FENG, 2008 contains author Wang and year 2009\n",
      "ZOU HAIBO; FAN QICHENG; SCHMITT A. K.; SUI JIANLI, 2010 contains author Schmitt and year 2016\n"
     ]
    }
   ],
   "source": [
    "for ref in bulk[\"Reference\"] \n",
    "    for i in 1:length(p3_years)\n",
    "        #if occursin(p3_years[i], ref) && occursin(p3_authors[i],lowercase(ref))\n",
    "        if occursin(lowercase(p3_authors[i]),lowercase(ref))\n",
    "            println(\"$(ref) contains author $(p3_authors[i]) and year $(p3_years[i])\")\n",
    "        end\n",
    "    end\n",
    "end\n",
    "        "
   ]
  },
  {
   "cell_type": "code",
   "execution_count": 30,
   "metadata": {},
   "outputs": [
    {
     "name": "stdout",
     "output_type": "stream",
     "text": [
      "SubString{String}[\"Esteban\", \"Alam\", \"Barrett\", \"Balakrishna\", \"Manghnani\", \"Jaya\", \"Trautwein\", \"Violay\", \"Pola\", \"Pola\", \"Kassab\", \"Pola\", \"Kassab\", \"Wang\", \"Kahraman\", \"Caroll\", \"Reyer\", \"Weydt\", \"Schmitt\", \"Sandkuehler\", \"Brettreich\", \"Heap\", \"Konzack\", \"Biewer\", \"Lambert\", \"Heap\", \"Heap\", \"Heap\", \"Vogel\", \"Weinert\", \"Hoffmann\", \"Heap\", \"Kolzenburg\", \"Jeong\", \"Siratovich\", \"Heap\", \"Ceryan\", \"Klumbach\", \"Schoepflin\", \"Maire\", \"Aretz\"]\n"
     ]
    }
   ],
   "source": [
    "println(p3_authors)"
   ]
  },
  {
   "cell_type": "code",
   "execution_count": 33,
   "metadata": {},
   "outputs": [],
   "source": []
  },
  {
   "cell_type": "code",
   "execution_count": null,
   "metadata": {},
   "outputs": [],
   "source": []
  }
 ],
 "metadata": {
  "kernelspec": {
   "display_name": "Julia 1.2.0",
   "language": "julia",
   "name": "julia-1.2"
  },
  "language_info": {
   "file_extension": ".jl",
   "mimetype": "application/julia",
   "name": "julia",
   "version": "1.2.0"
  }
 },
 "nbformat": 4,
 "nbformat_minor": 4
}
