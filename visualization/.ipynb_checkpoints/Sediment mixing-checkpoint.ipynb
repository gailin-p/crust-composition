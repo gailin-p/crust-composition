{
 "cells": [
  {
   "cell_type": "code",
   "execution_count": 1,
   "metadata": {},
   "outputs": [
    {
     "name": "stdout",
     "output_type": "stream",
     "text": [
      "[\"Lower_Vp\", \"Pd\", \"MgO\", \"C\", \"Nb\", \"Ag\", \"Gd\", \"Middle_Rho\", \"Age\", \"Calc_Upper_VpVs\", \"Sb\", \"TiO2\", \"Cs\", \"Be\", \"Sr\", \"Ta\", \"Ga\", \"Te\", \"Eustar\", \"Al2O3\", \"CO2\", \"Freeair\", \"Y\", \"Calc_Middle_VpVs\", \"U\", \"FeO\", \"Kv\", \"Fe2O3\", \"Elevation\", \"Au\", \"MZr\", \"Ce\", \"V\", \"Loc_Prec\", \"Tsat\", \"Upper_Vp\", \"Ff\", \"Mo\", \"Pr\", \"Th\", \"P2O5\", \"Zn\", \"Vs\", \"Sc\", \"Max_age\", \"Age_Uncert\", \"Lower_Rho\", \"Age_Min\", \"Fe2O3T\", \"S\", \"Calc_Lower_Rho\", \"Er\", \"Tsatb\", \"Zrsat\", \"Rho\", \"F\", \"La\", \"Calc_Upper_Vp\", \"Upper_Vs\", \"W\", \"Tliq\", \"Li\", \"Dy\", \"Latitude\", \"B\", \"Bi\", \"CaO\", \"Middle_Vp\", \"Re\", \"Middle_Crust\", \"Crust\", \"Hf\", \"Zrf\", \"Cl\", \"Mbulk\", \"SiO2\", \"Rb\", \"Sr87_Sr86\", \"Longitude\", \"H2O_Total\", \"Bouger\", \"Se\", \"tc1Lith\", \"Upper_Crust\", \"Ba\", \"Nd\", \"Lower_Crust\", \"Middle_Vs\", \"Ti\", \"index\", \"Tb\", \"Zr\", \"Upper_Rho\", \"Lower_Vs\", \"Sm\", \"Calc_Lower_VpVs\", \"Cr\", \"Cu\", \"Tl\", \"tc1Crust\", \"Calc_Middle_Rho\", \"Hg\", \"Calc_Middle_Vp\", \"FeOT\", \"Yb\", \"Lu\", \"Min_age\", \"Eu\", \"Calc_Upper_Rho\", \"Age_Max\", \"Calc_Lower_Vp\", \"Ni\", \"Os\", \"Ho\", \"Co\", \"Pt\", \"Ir\", \"Tm\", \"As\", \"Sn\", \"K2O\", \"Loc_prec\", \"Vp\", \"Cd\", \"MnO\", \"Na2O\", \"Pb\"]\n"
     ]
    }
   ],
   "source": [
    "using Plots; gr();\n",
    "include(\"../src/invertData.jl\")\n",
    "include(\"../src/config.jl\")\n",
    "include(\"../src/crustDistribution.jl\")\n",
    "using DelimitedFiles\n",
    "using MAT \n",
    "using StatGeochem"
   ]
  },
  {
   "cell_type": "code",
   "execution_count": 2,
   "metadata": {},
   "outputs": [
    {
     "data": {
      "text/plain": [
       "Dict{String,Any} with 207 entries:\n",
       "  \"Pb206_Pb208\"          => [NaN; NaN; … ; NaN; NaN]\n",
       "  \"Pd\"                   => [NaN; NaN; … ; NaN; NaN]\n",
       "  \"MgO\"                  => [NaN; NaN; … ; NaN; NaN]\n",
       "  \"Gd\"                   => [NaN; NaN; … ; NaN; NaN]\n",
       "  \"Ag\"                   => [NaN; NaN; … ; NaN; NaN]\n",
       "  \"Pb208_Pb206\"          => [NaN; NaN; … ; NaN; NaN]\n",
       "  \"Th230_Activity\"       => [NaN; NaN; … ; NaN; NaN]\n",
       "  \"Cl36_Cl\"              => [NaN; NaN; … ; NaN; NaN]\n",
       "  \"Ra228_Ra226_Activity\" => [NaN; NaN; … ; NaN; NaN]\n",
       "  \"Cs\"                   => [NaN; NaN; … ; NaN; NaN]\n",
       "  \"Xe136_Xe130\"          => [NaN; NaN; … ; NaN; NaN]\n",
       "  \"Ta\"                   => [0.11; 0.1; … ; NaN; NaN]\n",
       "  \"Te\"                   => [NaN; NaN; … ; NaN; NaN]\n",
       "  \"Xe136_Xe132\"          => [NaN; NaN; … ; NaN; NaN]\n",
       "  \"Al2O3\"                => [NaN; NaN; … ; NaN; NaN]\n",
       "  \"Loi\"                  => [NaN; NaN; … ; NaN; NaN]\n",
       "  \"Fe2O3\"                => [NaN; NaN; … ; NaN; NaN]\n",
       "  \"Ra228_Th232_Activity\" => [NaN; NaN; … ; NaN; NaN]\n",
       "  \"K\"                    => [498.0; 332.0; … ; NaN; NaN]\n",
       "  \"Kr78_Kr84\"            => [NaN; NaN; … ; NaN; NaN]\n",
       "  \"Re187_Os188\"          => [NaN; NaN; … ; NaN; NaN]\n",
       "  \"BurwellAge\"           => [NaN; NaN; … ; NaN; NaN]\n",
       "  \"Mo\"                   => [NaN; NaN; … ; NaN; NaN]\n",
       "  \"BurwellType\"          => [0.0; 0.0; … ; 0.0; 0.0]\n",
       "  \"U238\"                 => [NaN; NaN; … ; NaN; NaN]\n",
       "  ⋮                      => ⋮"
      ]
     },
     "execution_count": 2,
     "metadata": {},
     "output_type": "execute_result"
    }
   ],
   "source": [
    "bulk = matread(\"../data/bulk.mat\")[\"bulk\"];"
   ]
  },
  {
   "cell_type": "code",
   "execution_count": 6,
   "metadata": {},
   "outputs": [
    {
     "ename": "UndefVarError",
     "evalue": "UndefVarError: COMPOSITION_ELEMENTS not defined",
     "output_type": "error",
     "traceback": [
      "UndefVarError: COMPOSITION_ELEMENTS not defined",
      "",
      "Stacktrace:",
      " [1] top-level scope at In[6]:1"
     ]
    }
   ],
   "source": [
    "good = .~ isnan.(bulk[COMPOSITION_ELEMENTS][1])\n",
    "for i in 2:length(COMPOSITION_ELEMENTS)\n",
    "    good = good .& (.~ isnan.(bulk[COMPOSITION_ELEMENTS][i]))\n",
    "end \n",
    "println(sum(good))"
   ]
  },
  {
   "cell_type": "code",
   "execution_count": 5,
   "metadata": {},
   "outputs": [
    {
     "name": "stderr",
     "output_type": "stream",
     "text": [
      "\u001b[32mCalculating weights:   0%|                              |  ETA: 5:36:05\u001b[39m"
     ]
    },
    {
     "ename": "InterruptException",
     "evalue": "InterruptException:",
     "output_type": "error",
     "traceback": [
      "InterruptException:",
      "",
      "Stacktrace:",
      " [1] #next!#14 at /Users/gailin/.julia/packages/ProgressMeter/N86Uo/src/ProgressMeter.jl:334 [inlined]",
      " [2] next! at /Users/gailin/.julia/packages/ProgressMeter/N86Uo/src/ProgressMeter.jl:334 [inlined]",
      " [3] iterate at /Users/gailin/.julia/packages/ProgressMeter/N86Uo/src/ProgressMeter.jl:540 [inlined]",
      " [4] macro expansion at /Users/gailin/.julia/packages/ProgressMeter/N86Uo/src/ProgressMeter.jl:732 [inlined]",
      " [5] #invweight#49(::Int64, ::typeof(invweight), ::Array{Float64,2}, ::Float64) at /Users/gailin/dartmouth/crustal_structure/StatGeochem.jl/src/utilities/Resampling.jl:1162",
      " [6] invweight(::Array{Float64,2}, ::Float64) at /Users/gailin/dartmouth/crustal_structure/StatGeochem.jl/src/utilities/Resampling.jl:1159",
      " [7] top-level scope at In[5]:1"
     ]
    }
   ],
   "source": [
    "k = invweight(bulk[\"Longitude\"], 1.8) #, bulk[\"Age\"], bulk[\"Latitude\"])\n",
    "p = 1.0 ./ ((k .* median(5.0 ./ k)) .+ 1.0)"
   ]
  },
  {
   "cell_type": "code",
   "execution_count": 13,
   "metadata": {},
   "outputs": [],
   "source": [
    "#% Guide to types:% 1: Sedimentary%   1.1: Alluvium%   \n",
    "# 1.2: Sandstone, Siltstone, unspecified Siliciclastic%   \n",
    "# 1.3: Shale   1.4: Carbonate   1.5: Chert   1.6: Evaporite  \n",
    "# 1.7: Phosphorite   1.8: Coal   1.9: Volcaniclastic 2: Metamorphic \n",
    "# 2.1: Metasedimentary   2.3: Metaigneous 3: Igneous  3.1: Volcanic  \n",
    "# 3.2: Plutonic\n",
    "\n",
    "# Carbonates are result of chemical weathering -- so still from weathered ign \n",
    "# If: hydrothermal alteration doesn't change anything AND subducted sed = ave sed \n",
    "# Check rare earth elts. should stay in clays (not chemical weather) -- propogate rare earth elts.\n",
    "\n",
    "sed = (bulk[\"Type\"] .>= 1) .& (bulk[\"Type\"] .< 1.4);\n",
    "ign = (bulk[\"Type\"] .== 3.1) .| (bulk[\"Type\"] .== 1.9); \n",
    "pluton = (bulk[\"Type\"] .== 3.2);"
   ]
  },
  {
   "cell_type": "code",
   "execution_count": 5,
   "metadata": {},
   "outputs": [],
   "source": [
    "uc = elementify(readdlm(\"../data/remote/base_nobin/cracks_and_spheres/results-upper.csv\", ','));"
   ]
  },
  {
   "cell_type": "code",
   "execution_count": 14,
   "metadata": {},
   "outputs": [
    {
     "name": "stdout",
     "output_type": "stream",
     "text": [
      "SiO2 in seds, volcanics, upper crust = 17.379490909090904, 54.11610807621634, 63.1469931568351\n"
     ]
    }
   ],
   "source": [
    "sed_mean = nanmean(bulk[\"SiO2\"][sed])\n",
    "vol_mean = nanmean(bulk[\"SiO2\"][ign])\n",
    "uc_mean = nanmean(uc[\"SiO2\"]);\n",
    "\n",
    "println(\"SiO2 in seds, volcanics, upper crust = $sed_mean, $vol_mean, $uc_mean\")"
   ]
  },
  {
   "cell_type": "code",
   "execution_count": 7,
   "metadata": {},
   "outputs": [
    {
     "data": {
      "text/plain": [
       "1.2638930776916668"
      ]
     },
     "execution_count": 7,
     "metadata": {},
     "output_type": "execute_result"
    }
   ],
   "source": [
    "# Mixing ratio: m*ign + (1-m)*uc = sed\n",
    "m = (sed_mean - uc_mean)/(vol_mean - uc_mean)"
   ]
  },
  {
   "cell_type": "code",
   "execution_count": 8,
   "metadata": {},
   "outputs": [
    {
     "name": "stdout",
     "output_type": "stream",
     "text": [
      "key err2sabs has 8 elts, deleting\n",
      "key elements has 188 elts, deleting\n",
      "key k has 844124 elts, deleting\n"
     ]
    },
    {
     "data": {
      "text/plain": [
       "910905×204 Array{Any,2}:\n",
       "    \"Ag\"     \"Age\"     \"AgeAve\"     \"AgeEst\"  …     \"tc1Crust\"     \"tc1Lith\"\n",
       " NaN      NaN       106.179      106.179         NaN            NaN         \n",
       " NaN      NaN       106.878      106.878         NaN            NaN         \n",
       " NaN      NaN       106.389      106.389         NaN            NaN         \n",
       " NaN      NaN       106.252      106.252         NaN            NaN         \n",
       " NaN      NaN       106.315      106.315      …  NaN            NaN         \n",
       " NaN      NaN       109.0        109.0           NaN            NaN         \n",
       " NaN      NaN       109.0        109.0           NaN            NaN         \n",
       " NaN      NaN       109.0        109.0           NaN            NaN         \n",
       " NaN      NaN       109.0        109.0           NaN            NaN         \n",
       " NaN      NaN       109.0        109.0        …  NaN            NaN         \n",
       " NaN      NaN       109.0        109.0           NaN            NaN         \n",
       " NaN      NaN       109.0        109.0           NaN            NaN         \n",
       "   ⋮                                          ⋱                             \n",
       " NaN      NaN       NaN            1.70932       NaN            NaN         \n",
       " NaN      NaN       NaN            1.74883       NaN            NaN         \n",
       " NaN      NaN       NaN            1.94833    …  NaN            NaN         \n",
       " NaN      NaN       NaN            1.85          NaN            NaN         \n",
       " NaN      NaN       104.5        104.5           NaN            NaN         \n",
       " NaN      NaN       104.5        104.5           NaN            NaN         \n",
       " NaN      NaN       101.395      101.395         NaN            NaN         \n",
       " NaN      NaN       101.395      101.395      …  NaN            NaN         \n",
       " NaN      NaN       101.395      101.395         NaN            NaN         \n",
       " NaN      NaN       101.395      101.395         NaN            NaN         \n",
       " NaN      NaN       104.5        104.5           NaN            NaN         \n",
       " NaN      NaN       104.5        104.5           NaN            NaN         "
      ]
     },
     "execution_count": 8,
     "metadata": {},
     "output_type": "execute_result"
    }
   ],
   "source": [
    "n = length(bulk[\"SiO2\"])\n",
    "for k in keys(bulk)\n",
    "    if length(bulk[k]) != n \n",
    "        println(\"key $k has $(length(bulk[k])) elts, deleting\")\n",
    "        delete!(bulk, k)\n",
    "    end \n",
    "end\n",
    "output = unelementify(bulk)"
   ]
  },
  {
   "cell_type": "code",
   "execution_count": 9,
   "metadata": {},
   "outputs": [],
   "source": [
    "writedlm(\"../data/bulk.csv\", output, ',')"
   ]
  },
  {
   "cell_type": "code",
   "execution_count": 12,
   "metadata": {},
   "outputs": [
    {
     "name": "stdout",
     "output_type": "stream",
     "text": [
      "3.7242081312581745\n"
     ]
    },
    {
     "data": {
      "text/plain": [
       "12-element Array{Float64,1}:\n",
       " 3.1\n",
       " 3.2\n",
       " 1.0\n",
       " 1.2\n",
       " 2.1\n",
       " 1.1\n",
       " 2.0\n",
       " 1.5\n",
       " 3.0\n",
       " 0.0\n",
       " 2.3\n",
       " 1.3"
      ]
     },
     "execution_count": 12,
     "metadata": {},
     "output_type": "execute_result"
    }
   ],
   "source": [
    "low_si = bulk[\"SiO2\"] .< 10\n",
    "println(nanmean(bulk[\"SiO2\"][low_si]))\n",
    "unique(bulk[\"Type\"][low_si])"
   ]
  },
  {
   "cell_type": "code",
   "execution_count": 15,
   "metadata": {},
   "outputs": [
    {
     "data": {
      "text/plain": [
       "Dict{String,Any} with 1 entry:\n",
       "  \"bulktext\" => Dict{String,Any}(\"Units\"=>Any[\"\"; \"AGE\"; … ; \"Â\\u89SMOW\"; \"Â\\u8…"
      ]
     },
     "execution_count": 15,
     "metadata": {},
     "output_type": "execute_result"
    }
   ],
   "source": [
    "text = matread(\"../data/bulktext.mat\")"
   ]
  },
  {
   "cell_type": "code",
   "execution_count": 59,
   "metadata": {},
   "outputs": [
    {
     "name": "stdout",
     "output_type": "stream",
     "text": [
      "[\"Units\", \"est\", \"Composition\", \"method\", \"elements\", \"Reference\", \"Igsn\", \"index\", \"Rock_Name\", \"Source\", \"Mineral\", \"Methods\", \"Cruise_ID\", \"Type\", \"unit\", \"Sample_ID\", \"Material\"]\n"
     ]
    }
   ],
   "source": [
    "println(keys(text[\"bulktext\"]))\n",
    "names = [text[\"bulktext\"][\"Rock_Name\"][Int(i)+1] for i in text[\"bulktext\"][\"index\"][\"Rock_Name\"]]\n",
    "types = [text[\"bulktext\"][\"Type\"][Int(i)+1] for i in text[\"bulktext\"][\"index\"][\"Type\"]]\n",
    "materials = [text[\"bulktext\"][\"Material\"][Int(i)+1] for i in text[\"bulktext\"][\"index\"][\"Material\"]]\n",
    "\n",
    "liths = []\n",
    "for i in 1:length(names)\n",
    "    push!(liths, names[i] * \" \" * types[i] * \" \" * materials[i])\n",
    "end\n"
   ]
  },
  {
   "cell_type": "code",
   "execution_count": 65,
   "metadata": {},
   "outputs": [
    {
     "name": "stdout",
     "output_type": "stream",
     "text": [
      "Any[\"CARBONATE  SEDIMENTARY\"]\n",
      "Any[\"SILICICLASTIC  SEDIMENTARY\", \"SEDIMENTARY SILICICLASTIC SEDIMENTARY\"]\n"
     ]
    },
    {
     "data": {
      "text/plain": [
       "16704"
      ]
     },
     "execution_count": 65,
     "metadata": {},
     "output_type": "execute_result"
    }
   ],
   "source": [
    "options = unique(liths)\n",
    "carb = [contains(options[i], \"CARBONATE\") for i in 1:length(options)]\n",
    "println(options[carb])\n",
    "sil = [contains(options[i], \"SILICICLAST\") for i in 1:length(options)]\n",
    "println(options[sil])\n",
    "\n",
    "ss = (liths .== \"SEDIMENTARY SILICICLASTIC SEDIMENTARY\") .| (liths .== \"SILICICLASTIC  SEDIMENTARY\")\n",
    "sum(ss)"
   ]
  },
  {
   "cell_type": "code",
   "execution_count": 68,
   "metadata": {},
   "outputs": [
    {
     "data": {
      "text/plain": [
       "45×1 Array{Any,2}:\n",
       " \"\"                 \n",
       " \"AGE\"              \n",
       " \"AT/G\"             \n",
       " \"ATOMS PER GRAM\"   \n",
       " \"ATOMS/G\"          \n",
       " \"BQ/KG\"            \n",
       " \"CCSTP\"            \n",
       " \"CCSTP/G\"          \n",
       " \"DPM\"              \n",
       " \"DPM/G\"            \n",
       " \"FG/G\"             \n",
       " \"GRAM PER KILOGRAM\"\n",
       " \"MA\"               \n",
       " ⋮                  \n",
       " \"R/R(A)\"           \n",
       " \"RATIO\"            \n",
       " \"UMOL\"             \n",
       " \"VOL%\"             \n",
       " \"VS PDB\"           \n",
       " \"VS SLAP\"          \n",
       " \"VS SMOW\"          \n",
       " \"WT%\"              \n",
       " \"Â\\u89\"            \n",
       " \"Â\\u89PDB\"         \n",
       " \"Â\\u89SMOW\"        \n",
       " \"Â\\u89VSMOW\"       "
      ]
     },
     "execution_count": 68,
     "metadata": {},
     "output_type": "execute_result"
    }
   ],
   "source": [
    "text[\"bulktext\"][\"Units\"]"
   ]
  },
  {
   "cell_type": "code",
   "execution_count": null,
   "metadata": {},
   "outputs": [],
   "source": []
  }
 ],
 "metadata": {
  "kernelspec": {
   "display_name": "Julia 1.2.0",
   "language": "julia",
   "name": "julia-1.2"
  },
  "language_info": {
   "file_extension": ".jl",
   "mimetype": "application/julia",
   "name": "julia",
   "version": "1.2.0"
  }
 },
 "nbformat": 4,
 "nbformat_minor": 4
}
