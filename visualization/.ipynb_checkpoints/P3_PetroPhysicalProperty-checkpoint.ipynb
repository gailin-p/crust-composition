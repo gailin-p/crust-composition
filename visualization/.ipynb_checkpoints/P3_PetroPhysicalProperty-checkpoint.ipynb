{
 "cells": [
  {
   "cell_type": "code",
   "execution_count": 1,
   "metadata": {},
   "outputs": [],
   "source": [
    "using DelimitedFiles\n",
    "using MAT"
   ]
  },
  {
   "cell_type": "code",
   "execution_count": 3,
   "metadata": {},
   "outputs": [],
   "source": [
    "p3dat, header = readdlm(\"/users/gailin/dartmouth/crustal_structure/p3/P3_PetroPhysicalProperty Database_V1/P3_PetroPhysicalProperty Database_V1.txt\", '\\t', skipstart=3, header=true)\n",
    "header = header[:];"
   ]
  },
  {
   "cell_type": "code",
   "execution_count": 4,
   "metadata": {},
   "outputs": [
    {
     "data": {
      "text/plain": [
       "71"
      ]
     },
     "execution_count": 4,
     "metadata": {},
     "output_type": "execute_result"
    }
   ],
   "source": [
    "p_vel_i = findfirst(isequal(\"Value p-wave velocity \\n(m/s)\"), header)\n",
    "s_vel_i = findfirst(isequal(\"Value s-wave velocity\\n(m/s)\"), header)\n",
    "density = findfirst(isequal(\"Value bulk density\\n(kg/m\\xb3)\"), header)\n",
    "pet = findfirst(isequal(\"Rock Classification ID 2nd Level\"), header)\n",
    "pore = findfirst(isequal(\"Value total porosity\\n(%)\"), header)"
   ]
  },
  {
   "cell_type": "code",
   "execution_count": 5,
   "metadata": {},
   "outputs": [
    {
     "name": "stdout",
     "output_type": "stream",
     "text": [
      "2563\n",
      "6\n"
     ]
    }
   ],
   "source": [
    "## Sort for plutonic samples with s and p wave velocity \n",
    "\n",
    "some_dat = (p3dat[:,p_vel_i] .!= \"\") .| (p3dat[:,s_vel_i] .!= \"\"); \n",
    "cats = p3dat[some_dat,pet]\n",
    "println(sum(cats .== 10104)) # plutonic \n",
    "println(sum(some_dat .& (p3dat[:,pore] .!= \"\")))"
   ]
  },
  {
   "cell_type": "code",
   "execution_count": 33,
   "metadata": {},
   "outputs": [],
   "source": [
    "#println(header)"
   ]
  },
  {
   "cell_type": "code",
   "execution_count": 7,
   "metadata": {},
   "outputs": [
    {
     "data": {
      "text/plain": [
       "Dict{String,Any} with 1 entry:\n",
       "  \"bulktext\" => Dict{String,Any}(\"Units\"=>Any[\"\"; \"AGE\"; … ; \"Â\\u89SMOW\"; \"Â\\u8…"
      ]
     },
     "execution_count": 7,
     "metadata": {},
     "output_type": "execute_result"
    }
   ],
   "source": [
    "dat = matread(\"/Users/gailin/dartmouth/crustal_structure/runPerplexBatchVp/data/bulktext.mat\")"
   ]
  },
  {
   "cell_type": "code",
   "execution_count": 8,
   "metadata": {},
   "outputs": [
    {
     "data": {
      "text/plain": [
       "Dict{String,Any} with 17 entries:\n",
       "  \"Units\"       => Any[\"\"; \"AGE\"; … ; \"Â\\u89SMOW\"; \"Â\\u89VSMOW\"]\n",
       "  \"est\"         => Dict{String,Any}(\"Rock_Name\"=>[37.0; 37.0; … ; 419.0; 419.0])\n",
       "  \"Composition\" => Any[\"\"; \"CLASTIC\"; … ; \"MAFIC\"; \"ULTRAMAFIC\"]\n",
       "  \"method\"      => Dict{String,Any}(\"Dy_Meth\"=>…\n",
       "  \"elements\"    => Any[\"Composition\"; \"Cruise_ID\"; … ; \"Source\"; \"Type\"]\n",
       "  \"Reference\"   => Any[\"\"; \" , 1948\"; … ; \"Ã\\u96ZDEMIR, Y.; GÃ\\u9cLEC, N., 2014…\n",
       "  \"Igsn\"        => Any[\"\"; \"321000002\"; … ; \"URI901715\"; \"URI901716\"]\n",
       "  \"index\"       => Dict{String,Any}(\"Sample_ID\"=>[332703.0; 332760.0; … ; 32826…\n",
       "  \"Rock_Name\"   => Any[\"\"; \"ABSAROKITE\"; … ; \"XENOLITH\"; \"YAMASKITE\"]\n",
       "  \"Source\"      => Any[\"\"; \"GEOROC\"; … ; \"SEDDB\"; \"USGS\"]\n",
       "  \"Mineral\"     => Any[\"\"; \"FELDSPAR\"; … ; \"SANIDINE\"; \"WHOLE ROCK\"]\n",
       "  \"Methods\"     => Any[\"\"; \"6036\"; … ; \"Ã\\u008eCPMS\"; \"Ã\\u8eGN\"]\n",
       "  \"Cruise_ID\"   => Any[\"\"; \"11TH AND 15TH CRUISES\"; … ; \"ZEPOLYF\"; \"ZK2\"]\n",
       "  \"Type\"        => Any[\"\"; \"CONGLOMERATE&BRECCIA\"; … ; \"VEIN\"; \"VOLCANIC\"]\n",
       "  \"unit\"        => Dict{String,Any}(\"H2O_Plus_Unit\"=>…\n",
       "  \"Sample_ID\"   => Any[\"\"; \"\\\"214, Kd\\\"\"; … ; \"Ã\\u009c40\"; \"Ã\\u009c42\"]\n",
       "  \"Material\"    => Any[\"\"; \"ALTERATION\"; … ; \"VEIN\"; \"XENOLITH\"]"
      ]
     },
     "execution_count": 8,
     "metadata": {},
     "output_type": "execute_result"
    }
   ],
   "source": [
    "dat = dat[\"bulktext\"]"
   ]
  },
  {
   "cell_type": "code",
   "execution_count": 25,
   "metadata": {},
   "outputs": [
    {
     "name": "stdout",
     "output_type": "stream",
     "text": [
      "[\"oibs\", \"Cestar\", \"Lower_Vp\", \"Pb206_Pb208\", \"MgO\", \"C\", \"Nb\", \"Ag\", \"Gd\", \"Middle_Rho\", \"Age\", \"P\", \"Pd\", \"Volcanic\", \"Sb\", \"explanation\", \"TiO2\", \"Cs\", \"Be\", \"Sr\", \"Ta\", \"Ga\", \"Te\", \"Eustar\", \"Al2O3\", \"CO2\", \"Freeair\", \"Loi\", \"Nd143_Nd144\", \"Y\", \"err\", \"U\", \"Cr2O3\", \"FeO\", \"Kv\", \"Fe2O3\", \"H2O_Minus\", \"Ca\", \"Elevation\", \"Au\", \"K\", \"Ce\", \"V\", \"Loc_Prec\", \"Upper_Vp\", \"Mo\", \"Pr\", \"Th\", \"P2O5\", \"Pb207_Pb204\", \"Zn\", \"Vs\", \"Sc\", \"H\", \"Lower_Rho\", \"Age_Min\", \"k\", \"Os187_Os188\", \"Al\", \"Fe2O3T\", \"Pb208_Pb204\", \"S\", \"Er\", \"Os187_Os186\", \"Fe\", \"Mg\", \"F\", \"La\", \"Rho\", \"Upper_Vs\", \"W\", \"Li\", \"Dy\", \"Latitude\", \"B\", \"Bi\", \"CaO\", \"Lu176_Hf177\", \"Middle_Vp\", \"Middle_Crust\", \"Mn\", \"NiO\", \"Re\", \"Crust\", \"Hf\", \"Cl\", \"SiO2\", \"H2O_Plus\", \"Rb\", \"Sr87_Sr86\", \"Longitude\", \"H2O_Total\", \"Bouger\", \"Se\", \"tc1Lith\", \"Upper_Crust\", \"Ba\", \"Nd\", \"Lower_Crust\", \"Middle_Vs\", \"Ti\", \"Tb\", \"Zr\", \"H2O\", \"Upper_Rho\", \"Lower_Vs\", \"Sm\", \"Hf176_Hf177\", \"Cr\", \"Cu\", \"Tl\", \"tc1Crust\", \"elements\", \"Pb206_Pb207\", \"Hg\", \"FeOT\", \"CaCO3\", \"Yb\", \"Lu\", \"Eu\", \"Age_Max\", \"Os\", \"Ni\", \"Pb206_Pb204\", \"Ho\", \"Co\", \"D18O\", \"Ir\", \"Pt\", \"Tm\", \"As\", \"Sn\", \"Updated\", \"I\", \"K2O\", \"Vp\", \"Cd\", \"MnO\", \"Na2O\", \"Pb\"]\n"
     ]
    }
   ],
   "source": [
    "ign = matread(\"/Users/gailin/dartmouth/crustal_structure/runPerplexBatchVp/data/ignecn1.mat\")[\"ignecn1\"]\n",
    "println(keys(ign))"
   ]
  },
  {
   "cell_type": "code",
   "execution_count": 26,
   "metadata": {},
   "outputs": [
    {
     "data": {
      "text/plain": [
       "525003×1 Array{Float64,2}:\n",
       " 35.77\n",
       " 35.77\n",
       " 35.77\n",
       " 40.0 \n",
       " 40.0 \n",
       " 40.0 \n",
       " 40.0 \n",
       " 40.0 \n",
       " 40.0 \n",
       " 40.0 \n",
       " 40.0 \n",
       " 40.0 \n",
       " 40.0 \n",
       "  ⋮   \n",
       " 33.32\n",
       " 43.62\n",
       " 34.86\n",
       " 34.36\n",
       " 40.12\n",
       " 34.36\n",
       " 43.75\n",
       " 34.86\n",
       " 47.12\n",
       " 46.87\n",
       " 46.37\n",
       " 46.37"
      ]
     },
     "execution_count": 26,
     "metadata": {},
     "output_type": "execute_result"
    }
   ],
   "source": []
  },
  {
   "cell_type": "code",
   "execution_count": 24,
   "metadata": {},
   "outputs": [
    {
     "data": {
      "text/plain": [
       "13249×1 Array{Any,2}:\n",
       " \"\"                                                                                \n",
       " \" , 1948\"                                                                         \n",
       " \" , 1965\"                                                                         \n",
       " \" , 1982\"                                                                         \n",
       " \" , 1983\"                                                                         \n",
       " \" , 1991\"                                                                         \n",
       " \" , 2004\"                                                                         \n",
       " \" , 2007\"                                                                         \n",
       " \" , 2009\"                                                                         \n",
       " \"ABBOTT D.; DEER W. A., 1972\"                                                     \n",
       " \"ABBOTT M. J., 1969\"                                                              \n",
       " \"ABBOTT M. J.; CHAMALAUN F. H., 1981\"                                             \n",
       " \"ABDEL AAL, A. Y., 1988\"                                                          \n",
       " ⋮                                                                                 \n",
       " \"ZOZULYA, D. R.; BAYANOVA, T. B.; SEROV, P. N., 2007\"                             \n",
       " \"ZREDA M. G.; PHILLIPS F. M.; ELMORE D.; KUBIK P. W.; SHARMA P.; DORN R. I., 1991\"\n",
       " \"ZUCCHETTI M.; LOBATO L. M.; BAARS F. J., 2000\"                                   \n",
       " \"ZUERCHER L.; RUIZ J.; BARTON M. D., 2001\"                                        \n",
       " \"ZULEGER, E; ALT, J C; ERZINGER, J, 1995\"                                         \n",
       " \"ZULEGER, E; ALT, J C; ERZINGER, J, 1996\"                                         \n",
       " \"ZUMBO, V.; FERAUD, G.; BERTRAND, H.; CHAZOT, G., 1995\"                           \n",
       " \"Ã\\u96ZDAMAR, S, 2016\"                                                            \n",
       " \"Ã\\u96ZDEMIR, Y., 2016\"                                                           \n",
       " \"Ã\\u96ZDEMIR, Y.; BLUNDY, J. D.; GÃ\\u9cLEC, N., 2011\"                             \n",
       " \"Ã\\u96ZDEMIR, Y.; GÃ\\u9cLEC, N., 2014\"                                            \n",
       " \"Ã\\u96ZDEMIR, Y.; KARAOGLU, Ã\\u96.; TOLLUOGLU, A. Ã\\u9c.; GÃ\\u9cLEC, N., 2006\"    "
      ]
     },
     "execution_count": 24,
     "metadata": {},
     "output_type": "execute_result"
    }
   ],
   "source": [
    "dat[\"Reference\"]"
   ]
  },
  {
   "cell_type": "markdown",
   "metadata": {},
   "source": [
    "### From P3: \n",
    "\n",
    "\"Sample ID\", \"Primary Reference (Bibtexkey)\", \"Secondary Reference\", \"Date of Input\", \"Location Type\", \"Original Location Type\", \"Location name\", \"Country\", \"State/Region\", \"Name Shapefile\", \"Location longitude (decimaldegree.minutes)\", \"Location latitude (decimaldegree.minutes)\", \"Location elevation Z (m a.s.l.)\", \"Radius of Uncertainty (km)\", \"Sample type\", \"Original sample ID\", \"International Geo Sample Number (IGSN)\", \"Sample length (m)\", \"Sample height (m)\", \"Sample width (m)\", \"Sample diameter (for cores)\\n(m)\", \" Sample longitude (decimaldegrees.minutes)\", \" Sample latitude (decimaldegrees.minutes)\", \" Sample depth Z (MD) (m below location elevation)\", \"Sample depth Z (TVD) (m below location elevation)\"\n",
    "\n",
    "### From ign: \n",
    "\n"
   ]
  },
  {
   "cell_type": "code",
   "execution_count": 35,
   "metadata": {},
   "outputs": [
    {
     "data": {
      "text/plain": [
       "4985-element Array{Any,1}:\n",
       " \"Esteban2015\"\n",
       " \"Esteban2015\"\n",
       " \"Esteban2015\"\n",
       " \"Esteban2015\"\n",
       " \"Esteban2015\"\n",
       " \"Esteban2015\"\n",
       " \"Esteban2015\"\n",
       " \"Esteban2015\"\n",
       " \"Esteban2015\"\n",
       " \"Esteban2015\"\n",
       " \"Esteban2015\"\n",
       " \"Esteban2015\"\n",
       " \"Esteban2015\"\n",
       " ⋮            \n",
       " \"Aretz2015\"  \n",
       " \"Aretz2015\"  \n",
       " \"Aretz2015\"  \n",
       " \"Aretz2015\"  \n",
       " \"Aretz2015\"  \n",
       " \"Aretz2015\"  \n",
       " \"Aretz2015\"  \n",
       " \"Aretz2015\"  \n",
       " \"Aretz2015\"  \n",
       " \"Aretz2015\"  \n",
       " \"Aretz2015\"  \n",
       " \"Aretz2015\"  "
      ]
     },
     "execution_count": 35,
     "metadata": {},
     "output_type": "execute_result"
    }
   ],
   "source": [
    "p3dat[some_dat,2]"
   ]
  },
  {
   "cell_type": "code",
   "execution_count": 36,
   "metadata": {},
   "outputs": [
    {
     "data": {
      "text/plain": [
       "13249×1 Array{Any,2}:\n",
       " \"\"                                                                                \n",
       " \" , 1948\"                                                                         \n",
       " \" , 1965\"                                                                         \n",
       " \" , 1982\"                                                                         \n",
       " \" , 1983\"                                                                         \n",
       " \" , 1991\"                                                                         \n",
       " \" , 2004\"                                                                         \n",
       " \" , 2007\"                                                                         \n",
       " \" , 2009\"                                                                         \n",
       " \"ABBOTT D.; DEER W. A., 1972\"                                                     \n",
       " \"ABBOTT M. J., 1969\"                                                              \n",
       " \"ABBOTT M. J.; CHAMALAUN F. H., 1981\"                                             \n",
       " \"ABDEL AAL, A. Y., 1988\"                                                          \n",
       " ⋮                                                                                 \n",
       " \"ZOZULYA, D. R.; BAYANOVA, T. B.; SEROV, P. N., 2007\"                             \n",
       " \"ZREDA M. G.; PHILLIPS F. M.; ELMORE D.; KUBIK P. W.; SHARMA P.; DORN R. I., 1991\"\n",
       " \"ZUCCHETTI M.; LOBATO L. M.; BAARS F. J., 2000\"                                   \n",
       " \"ZUERCHER L.; RUIZ J.; BARTON M. D., 2001\"                                        \n",
       " \"ZULEGER, E; ALT, J C; ERZINGER, J, 1995\"                                         \n",
       " \"ZULEGER, E; ALT, J C; ERZINGER, J, 1996\"                                         \n",
       " \"ZUMBO, V.; FERAUD, G.; BERTRAND, H.; CHAZOT, G., 1995\"                           \n",
       " \"Ã\\u96ZDAMAR, S, 2016\"                                                            \n",
       " \"Ã\\u96ZDEMIR, Y., 2016\"                                                           \n",
       " \"Ã\\u96ZDEMIR, Y.; BLUNDY, J. D.; GÃ\\u9cLEC, N., 2011\"                             \n",
       " \"Ã\\u96ZDEMIR, Y.; GÃ\\u9cLEC, N., 2014\"                                            \n",
       " \"Ã\\u96ZDEMIR, Y.; KARAOGLU, Ã\\u96.; TOLLUOGLU, A. Ã\\u9c.; GÃ\\u9cLEC, N., 2006\"    "
      ]
     },
     "execution_count": 36,
     "metadata": {},
     "output_type": "execute_result"
    }
   ],
   "source": [
    "dat[\"Reference\"]"
   ]
  },
  {
   "cell_type": "code",
   "execution_count": null,
   "metadata": {},
   "outputs": [],
   "source": []
  }
 ],
 "metadata": {
  "kernelspec": {
   "display_name": "Julia 1.2.0",
   "language": "julia",
   "name": "julia-1.2"
  },
  "language_info": {
   "file_extension": ".jl",
   "mimetype": "application/julia",
   "name": "julia",
   "version": "1.2.0"
  }
 },
 "nbformat": 4,
 "nbformat_minor": 4
}
