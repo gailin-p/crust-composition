{
 "cells": [
  {
   "cell_type": "code",
   "execution_count": 9,
   "id": "5e0a8487",
   "metadata": {},
   "outputs": [
    {
     "name": "stdout",
     "output_type": "stream",
     "text": [
      "Loading crust information from file ../resources/crustDistribution.jld\n"
     ]
    },
    {
     "name": "stderr",
     "output_type": "stream",
     "text": [
      "WARNING: replacing module crustDistribution.\n"
     ]
    },
    {
     "data": {
      "text/plain": [
       "resultSize (generic function with 2 methods)"
      ]
     },
     "execution_count": 9,
     "metadata": {},
     "output_type": "execute_result"
    }
   ],
   "source": [
    "using DelimitedFiles\n",
    "using HDF5\n",
    "using Plots\n",
    "\n",
    "include(\"../src/inversionModel.jl\")\n",
    "include(\"../src/rejectionModel.jl\")"
   ]
  },
  {
   "cell_type": "code",
   "execution_count": 7,
   "id": "599b3d99",
   "metadata": {},
   "outputs": [],
   "source": [
    "ign, h = readdlm(\"../data/base_single/bsr_ignmajors_2.csv\", ',', header=true);\n",
    "seismic = h5read(\"../data/base_single/perplex_out_2.h5\", \"results\");\n",
    "\n",
    "#models = RejectionModel()"
   ]
  },
  {
   "cell_type": "code",
   "execution_count": 10,
   "id": "a8d6f6d7",
   "metadata": {},
   "outputs": [
    {
     "data": {
      "text/plain": [
       "RejectionModel3D([1.0 64.31503 … 5.0 550.0; 2.0 67.84047 … 5.0 550.0; … ; 99999.0 53.48708 … 5.0 550.0; 100000.0 55.60078 … 5.0 550.0], [1.0 2523.9779899563 5.636434094013402 1.503609475057279; 2.0 2637.8617764349538 5.789286012116343 1.5670645540899615; … ; 99999.0 2760.488355696546 5.833742178234656 1.5394356850032742; 100000.0 2897.610174546578 6.105163800696488 1.6549023174528137], FullNormal(\n",
       "dim: 3\n",
       "μ: [0.0, 0.0, 0.0]\n",
       "Σ: [6525.01008056395 1.7402195917804035 -0.07114150383108897; 1.7402195917804035 0.07776204045537737 0.002195074423162562; -0.07114150383108897 0.002195074423162562 0.0021504243944476136]\n",
       ")\n",
       ", [68.44793126702065, 0.31598110439869675, -0.015034281680500299])"
      ]
     },
     "execution_count": 10,
     "metadata": {},
     "output_type": "execute_result"
    }
   ],
   "source": [
    "models = RejectionModel(ign, Array(seismic[:,2,:]'))"
   ]
  },
  {
   "cell_type": "code",
   "execution_count": 89,
   "id": "7c83cb41",
   "metadata": {},
   "outputs": [
    {
     "name": "stdout",
     "output_type": "stream",
     "text": [
      "[7.0, 69.83023, 0.25147, 13.75699, 4.36753, 0.77247, 1.45275, 3.0332, 4.92538, 1.60998, 0.0]\n",
      "[2672.0, 5.73, 1.572]\n",
      "[10.0, 53.75563, 2.18499, 13.47396, 15.73292, 2.84489, 4.87339, 2.19559, 3.26784, 1.23209, 0.43871]\n",
      "[2976.0, 5.658, 1.585]\n",
      "[16.0, 60.83719, 0.52293, 14.45491, 9.7166, 1.92589, 3.38572, 4.11421, 2.00727, 2.4254, 0.60987]\n",
      "[2732.0, 5.634, 1.532]\n"
     ]
    }
   ],
   "source": [
    "for i in [7,10,16]\n",
    "    println(ign[i,1:11])\n",
    "    println(round.(seismic[2:4,2,i], sigdigits=4))\n",
    "end\n",
    "# 7 is felsic \n",
    "# 10 is mafic \n",
    "# 16 is intermediate "
   ]
  },
  {
   "cell_type": "code",
   "execution_count": 80,
   "id": "8197c439",
   "metadata": {},
   "outputs": [],
   "source": [
    "i = 10\n",
    "rho = repeat([seismic[2,2,i]], 2000)\n",
    "vp = repeat([seismic[3,2,i]], 2000)\n",
    "vpvs = repeat([seismic[4,2,i]], 2000);"
   ]
  },
  {
   "cell_type": "code",
   "execution_count": 81,
   "id": "3d9e0188",
   "metadata": {},
   "outputs": [
    {
     "data": {
      "text/plain": [
       "([27480.0 45.64722 … 5.0 550.0; 12041.0 45.73556 … 5.0 550.0; … ; 14969.0 46.35159 … 5.0 550.0; 20419.0 54.76887 … 5.0 550.0], [0.0 0.0 … 0.0 0.0; 0.0 0.0 … 0.0 0.0; … ; 0.0 0.0 … 0.0 0.0; 0.0 0.0 … 0.0 0.0])"
      ]
     },
     "execution_count": 81,
     "metadata": {},
     "output_type": "execute_result"
    }
   ],
   "source": [
    "res, _ = estimateComposition(models, rho, vp, vpvs)"
   ]
  },
  {
   "cell_type": "code",
   "execution_count": 82,
   "id": "2c75d0e8",
   "metadata": {},
   "outputs": [],
   "source": [
    "stephist(ign[:,2], normalize=:pdf)\n",
    "stephist!(res[:,2], normalize=:pdf, nbins=20, framestyle=:box, legend=false, yticks=false, ylims=(0.0,0.11))\n",
    "vline!([ign[i,2]], color=:black, linestyle=:dash, size=(250,150))\n",
    "savefig(\"../../thesis/figures/NEWmafic_posterior.pdf\")"
   ]
  },
  {
   "cell_type": "code",
   "execution_count": null,
   "id": "16213b96",
   "metadata": {},
   "outputs": [],
   "source": []
  }
 ],
 "metadata": {
  "kernelspec": {
   "display_name": "Julia 1.6.1",
   "language": "julia",
   "name": "julia-1.6"
  },
  "language_info": {
   "file_extension": ".jl",
   "mimetype": "application/julia",
   "name": "julia",
   "version": "1.6.1"
  }
 },
 "nbformat": 4,
 "nbformat_minor": 5
}
