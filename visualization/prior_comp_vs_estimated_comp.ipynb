{
 "cells": [
  {
   "cell_type": "code",
   "execution_count": 57,
   "id": "6dc35c46",
   "metadata": {},
   "outputs": [],
   "source": [
    "using Plots\n",
    "using DelimitedFiles\n",
    "using Statistics"
   ]
  },
  {
   "cell_type": "code",
   "execution_count": 36,
   "id": "6f8e0be6",
   "metadata": {},
   "outputs": [
    {
     "data": {
      "text/plain": [
       "\"../data/base_single/prior_mod_test/crust_data.log\""
      ]
     },
     "execution_count": 36,
     "metadata": {},
     "output_type": "execute_result"
    }
   ],
   "source": [
    "path = \"../data/base_single/prior_mod_test/crust_data.log\""
   ]
  },
  {
   "cell_type": "code",
   "execution_count": 37,
   "id": "7840527a",
   "metadata": {},
   "outputs": [],
   "source": [
    "means = [] \n",
    "for line in readlines(path)\n",
    "    if occursin(\"last(model.means)\",line)\n",
    "        append!(means, parse(Float64, strip(split(line,\"=\")[2])))\n",
    "    end\n",
    "end\n",
    "# one line per bin, want just one of those...\n",
    "means = [means[i] for i in 1:length(means) if i%30==0]; "
   ]
  },
  {
   "cell_type": "code",
   "execution_count": 38,
   "id": "7f0f7d9d",
   "metadata": {},
   "outputs": [],
   "source": [
    "results = readdlm(\"../data/base_single/prior_mod_test/runs_results.csv\");"
   ]
  },
  {
   "cell_type": "code",
   "execution_count": 58,
   "id": "af11b50a",
   "metadata": {},
   "outputs": [
    {
     "data": {
      "text/plain": [
       "58.670124928700005"
      ]
     },
     "execution_count": 58,
     "metadata": {},
     "output_type": "execute_result"
    }
   ],
   "source": [
    "ign, h = readdlm(\"../data/base_single/bsr_ignmajors_1.csv\", ',', header=true)\n",
    "mean_earthchem = mean(ign[:,2])"
   ]
  },
  {
   "cell_type": "code",
   "execution_count": 76,
   "id": "e91bbd08",
   "metadata": {},
   "outputs": [],
   "source": [
    "lims = (minimum(means)-.3, maximum(means)+.3)\n",
    "scatter(means[1:1000], results[:,1], legend=false, framestyle=:box, \n",
    "    xlims = lims, ylims=lims, size=(400,400))\n",
    "vline!([mean_earthchem], color=:black, linestyle=:dash)\n",
    "hline!([66.6], color=:black, linestyle=:dash)\n",
    "savefig(\"../../thesis/figures/prior_mod_test_upper.pdf\")"
   ]
  },
  {
   "cell_type": "code",
   "execution_count": 73,
   "id": "f3e06220",
   "metadata": {},
   "outputs": [],
   "source": [
    "scatter(means, results[:,2], legend=false, framestyle=:box, \n",
    "    xlims = lims, ylims=lims, size=(400,400))\n",
    "vline!([mean_earthchem], color=:black, linestyle=:dash)\n",
    "hline!([63.5], color=:black, linestyle=:dash)\n",
    "savefig(\"../../thesis/figures/prior_mod_test_middle.pdf\")"
   ]
  },
  {
   "cell_type": "code",
   "execution_count": 75,
   "id": "359e0bc0",
   "metadata": {},
   "outputs": [],
   "source": [
    "scatter(means,results[:,3], legend=false, framestyle=:box,\n",
    "    xlims = lims, ylims=lims, size=(400,400))\n",
    "vline!([mean_earthchem], color=:black, linestyle=:dash)\n",
    "hline!([53.4], color=:black, linestyle=:dash)\n",
    "savefig(\"../../thesis/figures/prior_mod_test_lower.pdf\")"
   ]
  },
  {
   "cell_type": "code",
   "execution_count": null,
   "id": "8983a2a6",
   "metadata": {},
   "outputs": [],
   "source": []
  }
 ],
 "metadata": {
  "kernelspec": {
   "display_name": "Julia 1.6.1",
   "language": "julia",
   "name": "julia-1.6"
  },
  "language_info": {
   "file_extension": ".jl",
   "mimetype": "application/julia",
   "name": "julia",
   "version": "1.6.1"
  }
 },
 "nbformat": 4,
 "nbformat_minor": 5
}
