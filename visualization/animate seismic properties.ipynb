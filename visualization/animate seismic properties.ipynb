{
 "cells": [
  {
   "cell_type": "code",
   "execution_count": 18,
   "id": "e369cb95",
   "metadata": {},
   "outputs": [],
   "source": [
    "using Plots; gr()\n",
    "using DelimitedFiles\n",
    "using HDF5\n",
    "\n",
    "## Animation instructions? \n",
    "# https://danielmuellerkomorowska.com/2020/08/20/animations-with-julia/"
   ]
  },
  {
   "cell_type": "code",
   "execution_count": 19,
   "id": "3b483278",
   "metadata": {},
   "outputs": [
    {
     "data": {
      "text/plain": [
       "\"../data/base/perplex_out_3.h5\""
      ]
     },
     "execution_count": 19,
     "metadata": {},
     "output_type": "execute_result"
    }
   ],
   "source": [
    "path = \"../data/base/bsr_ignmajors_3.csv\"\n",
    "path_seis = \"../data/base/perplex_out_3.h5\""
   ]
  },
  {
   "cell_type": "code",
   "execution_count": 23,
   "id": "42e99c0e",
   "metadata": {},
   "outputs": [],
   "source": [
    "dat, head = readdlm(path, ',', header=true)\n",
    "head = head[:];\n",
    "seis = h5read(path_seis, \"results\"); # prop, layer, idx"
   ]
  },
  {
   "cell_type": "code",
   "execution_count": 63,
   "id": "9b176223",
   "metadata": {},
   "outputs": [],
   "source": [
    "# layer = 3\n",
    "\n",
    "# subset = sample(1:size(dat,1),20000)\n",
    "# anim = @animate for i in 5:70\n",
    "#     plot(seis[2,layer,subset], seis[3,layer,subset], seis[4,layer,subset], marker_z=dat[subset,2], \n",
    "#         zlims=(1.25,2.0),\n",
    "#         xlims=(2250,4000), ylims=(4.75,8.25), legend=false,\n",
    "#         camera=(i,60),\n",
    "#         seriestype=:scatter, markersize=2, markerstrokewidth=0)\n",
    "# end\n",
    "# gif(anim, \"../../thesis/figures/lower.gif\", fps=10)\n"
   ]
  },
  {
   "cell_type": "code",
   "execution_count": null,
   "id": "1d461c28",
   "metadata": {},
   "outputs": [],
   "source": []
  }
 ],
 "metadata": {
  "kernelspec": {
   "display_name": "Julia 1.6.1",
   "language": "julia",
   "name": "julia-1.6"
  },
  "language_info": {
   "file_extension": ".jl",
   "mimetype": "application/julia",
   "name": "julia",
   "version": "1.6.1"
  }
 },
 "nbformat": 4,
 "nbformat_minor": 5
}
