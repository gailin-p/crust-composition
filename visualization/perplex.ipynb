{
 "cells": [
  {
   "cell_type": "code",
   "execution_count": 1,
   "metadata": {},
   "outputs": [],
   "source": [
    "using StatGeochem\n",
    "using DelimitedFiles"
   ]
  },
  {
   "cell_type": "code",
   "execution_count": null,
   "metadata": {},
   "outputs": [],
   "source": []
  },
  {
   "cell_type": "code",
   "execution_count": 2,
   "metadata": {},
   "outputs": [],
   "source": [
    "comp1 = [74.14,0.25,14.9,2.1146,0.5,4.8,3.15,0.08,1.8386,0.4407]\n",
    "comp2 = [56.2,2.15,15.7,9.0881,2.68,6.06,2.44,2.78,1.8386,0.4407];"
   ]
  },
  {
   "cell_type": "code",
   "execution_count": 3,
   "metadata": {},
   "outputs": [],
   "source": [
    "# General perplex options\n",
    "perplexdir = \"/Users/gailin/resources/perplex-stable/\"\n",
    "scratchdir = \"/Users/gailin/dartmouth/crustal_structure/perplexed_pasta/\"\n",
    "exclude = \"\"\n",
    "dataset = \"hpha02ver.dat\"\n",
    "elts = [\"SIO2\", \"TIO2\", \"AL2O3\", \"FEO\", \"MGO\", \"CAO\", \"NA2O\", \"K2O\", \"H2O\", \"CO2\"]\n",
    "P_range = [1, 20000]\n",
    "dpdz = 2900. * 9.8 / 1E5 * 1E3\n",
    "depth = 40.2 # mean 550C depth of all samples\n",
    "geotherm = 550.0/depth/dpdz\n",
    "npoints=20;"
   ]
  },
  {
   "cell_type": "code",
   "execution_count": 4,
   "metadata": {},
   "outputs": [],
   "source": [
    "solutions = \"O(HP)\\nOpx(HP)\\nOmph(GHP)\\nGt(HP)\\noAmph(DP)\\nGlTrTsPg\\nT\\nB\\nAnth\\nChl(HP)\\nBio(TCC)\\nMica(CF)\\nCtd(HP)\\nIlHm(A)\\nSp(HP)\\nSapp(HP)\\nSt(HP)\\nfeldspar\\nDo(HP)\\nF\\n\";"
   ]
  },
  {
   "cell_type": "code",
   "execution_count": 5,
   "metadata": {},
   "outputs": [
    {
     "name": "stdout",
     "output_type": "stream",
     "text": [
      "Built problem definition\n"
     ]
    },
    {
     "data": {
      "text/plain": [
       "0"
      ]
     },
     "execution_count": 5,
     "metadata": {},
     "output_type": "execute_result"
    }
   ],
   "source": [
    "perplex_configure_geotherm(perplexdir, scratchdir, comp1, elts,\n",
    "                P_range, 273.15, geotherm, dataset=dataset, solution_phases=solutions,\n",
    "                excludes=\"\", npoints=npoints)"
   ]
  },
  {
   "cell_type": "code",
   "execution_count": 6,
   "metadata": {},
   "outputs": [],
   "source": [
    "seismic = perplex_query_seismic(perplexdir, scratchdir);"
   ]
  },
  {
   "cell_type": "code",
   "execution_count": 7,
   "metadata": {},
   "outputs": [
    {
     "data": {
      "text/plain": [
       "Dict{Any,Any} with 6 entries:\n",
       "  \"vp,km/s\"   => [5.36354, 5.36307, 5.3626, 5.36113, 5.36072, 5.36027, 5.35982,…\n",
       "  \"rho,kg/m3\" => [2590.33, 2590.8, 2591.26, 2591.65, 2592.07, 2592.52, 2592.97,…\n",
       "  \"T(K)\"      => [273.198, 279.532, 285.866, 292.2, 298.534, 304.868, 311.202, …\n",
       "  \"elements\"  => Any[\"P(bar)\", \"T(K)\", \"rho,kg/m3\", \"vp,km/s\", \"vp/vs\"]\n",
       "  \"P(bar)\"    => [1.0, 132.572, 264.145, 395.717, 527.289, 658.862, 790.434, 92…\n",
       "  \"vp/vs\"     => [2.5637, 2.56416, 2.56462, 2.56459, 2.56504, 2.56549, 2.56594,…"
      ]
     },
     "execution_count": 7,
     "metadata": {},
     "output_type": "execute_result"
    }
   ],
   "source": [
    "seismic"
   ]
  },
  {
   "cell_type": "code",
   "execution_count": 8,
   "metadata": {},
   "outputs": [
    {
     "data": {
      "text/plain": [
       "153"
      ]
     },
     "execution_count": 8,
     "metadata": {},
     "output_type": "execute_result"
    }
   ],
   "source": [
    "length(seismic[\"vp,km/s\"])"
   ]
  },
  {
   "cell_type": "code",
   "execution_count": 9,
   "metadata": {},
   "outputs": [
    {
     "name": "stdout",
     "output_type": "stream",
     "text": [
      "Any[\"P(bar)\", \"T(K)\", \"Gt(HP)\", \"Mica(CF)\", \"Chl(HP)\", \"pump\", \"sph\", \"ab\", \"cc\", \"qL\", \"cz\", \"q\", \"fpum\", \"law\", \"F\", \"zo\", \"Omph(GHP)\", \"Do(HP)\", \"feldspar\", \"GlTrTsPg\", \"ru\", \"ky\"]\n"
     ]
    }
   ],
   "source": [
    "modes = perplex_query_modes(perplexdir, scratchdir); \n",
    "println(modes[\"elements\"])"
   ]
  },
  {
   "cell_type": "code",
   "execution_count": 10,
   "metadata": {},
   "outputs": [
    {
     "name": "stdout",
     "output_type": "stream",
     "text": [
      "Pressure = 2895.59, temp = 412.546\n",
      "Elements:\n",
      "P(bar) = 2895.59\n",
      "T(K) = 412.546\n",
      "Gt(HP) = 6.60671\n",
      "Mica(CF) = 21.7636\n",
      "Chl(HP) = 4.13527\n",
      "pump = 2.81298\n",
      "sph = 0.476545\n",
      "ab = 11.8277\n",
      "cc = 1.01204\n",
      "qL = NaN\n",
      "cz = NaN\n",
      "q = 51.0623\n",
      "fpum = 0.302873\n",
      "law = NaN\n",
      "F = NaN\n",
      "zo = NaN\n",
      "Omph(GHP) = NaN\n",
      "Do(HP) = NaN\n",
      "feldspar = NaN\n",
      "GlTrTsPg = NaN\n",
      "ru = NaN\n",
      "ky = NaN\n"
     ]
    }
   ],
   "source": [
    "p = 10 * dpdz # pressure at 10km depth \n",
    "i = findfirst(x-> x>p, seismic[\"P(bar)\"])\n",
    "println(\"Pressure = $(seismic[\"P(bar)\"][i]), temp = $(seismic[\"T(K)\"][i])\")\n",
    "println(\"Elements:\")\n",
    "for elt in modes[\"elements\"]\n",
    "    println(\"$(elt) = $(modes[elt][i])\")\n",
    "end"
   ]
  },
  {
   "cell_type": "code",
   "execution_count": 11,
   "metadata": {},
   "outputs": [
    {
     "name": "stdout",
     "output_type": "stream",
     "text": [
      "Read data\n"
     ]
    },
    {
     "name": "stderr",
     "output_type": "stream",
     "text": [
      "┌ Warning: Perplex seems to be reporting mole fractions instead of weight percentages, attempting to correct\n",
      "└ @ StatGeochem /Users/gailin/dartmouth/crustal_structure/StatGeochem.jl/src/utilities/Geochemistry.jl:868\n"
     ]
    },
    {
     "data": {
      "text/plain": [
       "Dict{Any,Any} with 55 entries:\n",
       "  \"vs_{P}\"         => [1.76901e-6, 1.77139e-6, 1.77378e-6, 1.77617e-6, 1.77556e…\n",
       "  \"T(K)\"           => [273.198, 279.532, 285.866, 292.2, 298.534, 304.868, 311.…\n",
       "  \"nom_ox\"         => [NaN, NaN, NaN, NaN, NaN, NaN, NaN, NaN, NaN, NaN  …  NaN…\n",
       "  \"vs_{T}\"         => [-0.000213478, -0.000212693, -0.000211942, -0.000211222, …\n",
       "  \"SIO2\"           => [47.5308, 47.5296, 47.5282, 47.5268, 47.5254, 47.524, 47.…\n",
       "  \"n,mol\"          => [0.0606537, 0.0606495, 0.0606454, 0.0606412, 0.060637, 0.…\n",
       "  \"mu[MGO],J/mol\"  => [-619990.0, -620060.0, -620130.0, -620201.0, -620271.0, -…\n",
       "  \"V,J/bar/mol\"    => [13.2214, 13.2209, 13.2204, 13.22, 13.2202, 13.2199, 13.2…\n",
       "  \"mu[K2O],J/mol\"  => [-746948.0, -749535.0, -752122.0, -754709.0, -757296.0, -…\n",
       "  \"mu[AL2O3],J/mo\" => [-1.60841e6, -1.60818e6, -1.60794e6, -1.60771e6, -1.60747…\n",
       "  \"CO2\"            => [0.0, 0.0, 0.0, 0.0, 0.0, 0.0, 0.0, 0.0, 0.0, 0.0  …  NaN…\n",
       "  \"vol_pct\"        => [20.3227, 20.3241, 20.3256, 20.3266, 20.3289, 20.3305, 20…\n",
       "  \"mu[TIO2],J/mol\" => [-895484.0, -895516.0, -895547.0, -895579.0, -895610.0, -…\n",
       "  \"Gs_P\"           => [1.03166, 1.03166, 1.03166, 1.03166, 1.03166, 1.03166, 1.…\n",
       "  \"mu[SIO2],J/mol\" => [-858668.0, -858425.0, -858183.0, -857941.0, -857698.0, -…\n",
       "  \"S,J/K/mol\"      => [251.688, 258.685, 265.639, 272.548, 279.412, 286.227, 29…\n",
       "  \"wt_pct\"         => [22.7135, 22.7126, 22.7117, 22.7108, 22.71, 22.7091, 22.7…\n",
       "  \"N,g\"            => [382.769, 382.781, 382.792, 382.803, 382.814, 382.826, 38…\n",
       "  \"alpha,1/K\"      => [3.03715e-5, 3.08603e-5, 3.13311e-5, 3.17848e-5, 3.22387e…\n",
       "  \"TIO2\"           => [0.0, 0.0, 0.0, 0.0, 0.0, 0.0, 0.0, 0.0, 0.0, 0.0  …  NaN…\n",
       "  \"cp/cv\"          => [1.00613, 1.00637, 1.0066, 1.00684, 1.00708, 1.00732, 1.0…\n",
       "  \"vp_P\"           => [9.79023e-6, 9.79304e-6, 9.79586e-6, 9.7987e-6, 9.79655e-…\n",
       "  \"MGO\"            => [0.240038, 0.236307, 0.232576, 0.228844, 0.225111, 0.2213…\n",
       "  \"mu[NA2O],J/mol\" => [-653285.0, -655000.0, -656715.0, -658430.0, -660145.0, -…\n",
       "  \"v0_{P}\"         => [1.13716e-5, 1.13718e-5, 1.13719e-5, 1.13722e-5, 1.13688e…\n",
       "  ⋮                => ⋮"
      ]
     },
     "execution_count": 11,
     "metadata": {},
     "output_type": "execute_result"
    }
   ],
   "source": [
    "mica = perplex_query_phase(perplexdir, scratchdir, \"Mica(CF)\")"
   ]
  },
  {
   "cell_type": "code",
   "execution_count": 27,
   "metadata": {},
   "outputs": [
    {
     "name": "stdout",
     "output_type": "stream",
     "text": [
      "Any[\"vs_{P}\", \"T(K)\", \"nom_ox\", \"vs_{T}\", \"SIO2\", \"n,mol\", \"mu[MGO],J/mol\", \"V,J/bar/mol\", \"mu[K2O],J/mol\", \"mu[AL2O3],J/mo\", \"CO2\", \"vol_pct\", \"mu[TIO2],J/mol\", \"Gs_P\", \"mu[SIO2],J/mol\", \"S,J/K/mol\", \"wt_pct\", \"N,g\", \"alpha,1/K\", \"TIO2\", \"cp/cv\", \"vp_P\", \"MGO\", \"mu[NA2O],J/mol\", \"v0_{P}\", \"mu[CO2],J/mol\", \"Gs_{T},bar/K\", \"mu[FEO],J/mol\", \"mol_pct\", \"G,J/mol\", \"Gruneisen_T\", \"FEO\", \"NA2O\", \"v0,km/s\", \"rho,kg/m3\", \"v0_{T}\", \"AL2O3\", \"Ks_{P}\", \"vp_{T}\", \"CAO\", \"Ks,bar\", \"H2O\", \"beta,1/bar\", \"mu[H2O],J/mol\", \"elements\", \"cp,J/K/mol\", \"H,J/mol\", \"vp,km/s\", \"mu[CAO],J/mol\", \"P(bar)\", \"Gs,bar\", \"vs,km/s\", \"vp/vs\", \"K2O\", \"Ks_{T},bar/K\"]\n"
     ]
    }
   ],
   "source": [
    "println(keys(mica))"
   ]
  },
  {
   "cell_type": "code",
   "execution_count": null,
   "metadata": {},
   "outputs": [],
   "source": []
  },
  {
   "cell_type": "code",
   "execution_count": null,
   "metadata": {},
   "outputs": [],
   "source": []
  },
  {
   "cell_type": "code",
   "execution_count": null,
   "metadata": {},
   "outputs": [],
   "source": []
  }
 ],
 "metadata": {
  "kernelspec": {
   "display_name": "Julia 1.2.0",
   "language": "julia",
   "name": "julia-1.2"
  },
  "language_info": {
   "file_extension": ".jl",
   "mimetype": "application/julia",
   "name": "julia",
   "version": "1.2.0"
  }
 },
 "nbformat": 4,
 "nbformat_minor": 2
}
