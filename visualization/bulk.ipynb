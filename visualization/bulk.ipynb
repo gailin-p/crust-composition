{
 "cells": [
  {
   "cell_type": "code",
   "execution_count": 35,
   "metadata": {},
   "outputs": [],
   "source": [
    "using MAT\n",
    "using Plots; gr();"
   ]
  },
  {
   "cell_type": "code",
   "execution_count": 3,
   "metadata": {},
   "outputs": [
    {
     "data": {
      "text/plain": [
       "Dict{String,Any} with 17 entries:\n",
       "  \"Units\"       => Any[\"\"; \"AGE\"; … ; \"Â\\u89SMOW\"; \"Â\\u89VSMOW\"]\n",
       "  \"est\"         => Dict{String,Any}(\"Rock_Name\"=>[37.0; 37.0; … ; 419.0; 419.0])\n",
       "  \"Composition\" => Any[\"\"; \"CLASTIC\"; … ; \"MAFIC\"; \"ULTRAMAFIC\"]\n",
       "  \"method\"      => Dict{String,Any}(\"Dy_Meth\"=>…\n",
       "  \"elements\"    => Any[\"Composition\"; \"Cruise_ID\"; … ; \"Source\"; \"Type\"]\n",
       "  \"Reference\"   => Any[\"\"; \" , 1948\"; … ; \"Ã\\u96ZDEMIR, Y.; GÃ\\u9cLEC, N., 2014…\n",
       "  \"Igsn\"        => Any[\"\"; \"321000002\"; … ; \"URI901715\"; \"URI901716\"]\n",
       "  \"index\"       => Dict{String,Any}(\"Sample_ID\"=>[332703.0; 332760.0; … ; 32826…\n",
       "  \"Rock_Name\"   => Any[\"\"; \"ABSAROKITE\"; … ; \"XENOLITH\"; \"YAMASKITE\"]\n",
       "  \"Source\"      => Any[\"\"; \"GEOROC\"; … ; \"SEDDB\"; \"USGS\"]\n",
       "  \"Mineral\"     => Any[\"\"; \"FELDSPAR\"; … ; \"SANIDINE\"; \"WHOLE ROCK\"]\n",
       "  \"Methods\"     => Any[\"\"; \"6036\"; … ; \"Ã\\u008eCPMS\"; \"Ã\\u8eGN\"]\n",
       "  \"Cruise_ID\"   => Any[\"\"; \"11TH AND 15TH CRUISES\"; … ; \"ZEPOLYF\"; \"ZK2\"]\n",
       "  \"Type\"        => Any[\"\"; \"CONGLOMERATE&BRECCIA\"; … ; \"VEIN\"; \"VOLCANIC\"]\n",
       "  \"unit\"        => Dict{String,Any}(\"H2O_Plus_Unit\"=>…\n",
       "  \"Sample_ID\"   => Any[\"\"; \"\\\"214, Kd\\\"\"; … ; \"Ã\\u009c40\"; \"Ã\\u009c42\"]\n",
       "  \"Material\"    => Any[\"\"; \"ALTERATION\"; … ; \"VEIN\"; \"XENOLITH\"]"
      ]
     },
     "execution_count": 3,
     "metadata": {},
     "output_type": "execute_result"
    }
   ],
   "source": [
    "bulk = matread(\"../data/bulktext.mat\")[\"bulktext\"]"
   ]
  },
  {
   "cell_type": "code",
   "execution_count": 18,
   "metadata": {},
   "outputs": [
    {
     "data": {
      "text/plain": [
       "10"
      ]
     },
     "execution_count": 18,
     "metadata": {},
     "output_type": "execute_result"
    }
   ],
   "source": [
    "findfirst(isequal(\"XENOLITH\"), bulk[\"Material\"][:])"
   ]
  },
  {
   "cell_type": "code",
   "execution_count": 19,
   "metadata": {},
   "outputs": [
    {
     "data": {
      "text/plain": [
       "507"
      ]
     },
     "execution_count": 19,
     "metadata": {},
     "output_type": "execute_result"
    }
   ],
   "source": [
    "findfirst(isequal(\"XENOLITH\"), bulk[\"Rock_Name\"][:])"
   ]
  },
  {
   "cell_type": "code",
   "execution_count": 7,
   "metadata": {},
   "outputs": [
    {
     "data": {
      "text/plain": [
       "8×1 Array{Any,2}:\n",
       " \"\"\n",
       " \"CONGLOMERATE&BRECCIA\"\n",
       " \"PEGMATITIC\"\n",
       " \"PLUTONIC\"\n",
       " \"SILICEOUS\"\n",
       " \"SILICICLASTIC\"\n",
       " \"VEIN\"\n",
       " \"VOLCANIC\""
      ]
     },
     "execution_count": 7,
     "metadata": {},
     "output_type": "execute_result"
    }
   ],
   "source": [
    "bulk[\"Type\"]"
   ]
  },
  {
   "cell_type": "code",
   "execution_count": 8,
   "metadata": {},
   "outputs": [
    {
     "data": {
      "text/plain": [
       "10×1 Array{Any,2}:\n",
       " \"Composition\"\n",
       " \"Cruise_ID\"\n",
       " \"Igsn\"\n",
       " \"Material\"\n",
       " \"Mineral\"\n",
       " \"Reference\"\n",
       " \"Rock_Name\"\n",
       " \"Sample_ID\"\n",
       " \"Source\"\n",
       " \"Type\""
      ]
     },
     "execution_count": 8,
     "metadata": {},
     "output_type": "execute_result"
    }
   ],
   "source": [
    "bulk[\"elements\"]"
   ]
  },
  {
   "cell_type": "code",
   "execution_count": 32,
   "metadata": {},
   "outputs": [
    {
     "name": "stdout",
     "output_type": "stream",
     "text": [
      "0\n",
      "2\n",
      "1\n"
     ]
    }
   ],
   "source": [
    "#println(keys(bulk))\n",
    "println(sum(bulk[\"index\"][\"Material\"] .== findfirst(isequal(\"XENOLITH\"), bulk[\"Material\"][:])))\n",
    "println(sum(bulk[\"index\"][\"Rock_Name\"] .== findfirst(isequal(\"XENOLITH\"), bulk[\"Rock_Name\"][:])))\n",
    "println(sum(bulk[\"index\"][\"Rock_Name\"] .== findfirst(isequal(\"GRANULITE\"), bulk[\"Rock_Name\"][:])))"
   ]
  },
  {
   "cell_type": "code",
   "execution_count": 44,
   "metadata": {},
   "outputs": [
    {
     "data": {
      "text/plain": [
       "10"
      ]
     },
     "execution_count": 44,
     "metadata": {},
     "output_type": "execute_result"
    }
   ],
   "source": [
    "findfirst(isequal(\"XENOLITH\"), bulk[\"Material\"][:])"
   ]
  },
  {
   "cell_type": "code",
   "execution_count": 46,
   "metadata": {},
   "outputs": [
    {
     "data": {
      "text/plain": [
       "910904×1 BitArray{2}:\n",
       " 0\n",
       " 0\n",
       " 0\n",
       " 0\n",
       " 0\n",
       " 0\n",
       " 0\n",
       " 0\n",
       " 0\n",
       " 0\n",
       " 0\n",
       " 0\n",
       " 0\n",
       " ⋮\n",
       " 0\n",
       " 0\n",
       " 0\n",
       " 0\n",
       " 0\n",
       " 0\n",
       " 0\n",
       " 0\n",
       " 0\n",
       " 0\n",
       " 0\n",
       " 0"
      ]
     },
     "execution_count": 46,
     "metadata": {},
     "output_type": "execute_result"
    }
   ],
   "source": [
    "bulk[\"index\"][\"Material\"] .== 10"
   ]
  },
  {
   "cell_type": "code",
   "execution_count": 43,
   "metadata": {},
   "outputs": [
    {
     "data": {
      "text/plain": [
       "7×1 Array{Any,2}:\n",
       " \"\"\n",
       " \"FELDSPAR\"\n",
       " \"INCLUSION\"\n",
       " \"PUMICE\"\n",
       " \"QUARTZ\"\n",
       " \"SANIDINE\"\n",
       " \"WHOLE ROCK\""
      ]
     },
     "execution_count": 43,
     "metadata": {},
     "output_type": "execute_result"
    }
   ],
   "source": [
    "bulk[\"Mineral\"]"
   ]
  },
  {
   "cell_type": "code",
   "execution_count": null,
   "metadata": {},
   "outputs": [],
   "source": []
  }
 ],
 "metadata": {
  "kernelspec": {
   "display_name": "Julia 1.5.4",
   "language": "julia",
   "name": "julia-1.5"
  },
  "language_info": {
   "file_extension": ".jl",
   "mimetype": "application/julia",
   "name": "julia",
   "version": "1.5.4"
  }
 },
 "nbformat": 4,
 "nbformat_minor": 4
}
