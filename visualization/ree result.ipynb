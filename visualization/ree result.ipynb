{
 "cells": [
  {
   "cell_type": "code",
   "execution_count": 6,
   "id": "f9df5a57",
   "metadata": {},
   "outputs": [],
   "source": [
    "using DelimitedFiles\n",
    "using Statistics\n",
    "using StatsBase\n",
    "using StatGeochem # for nanmean\n",
    "using MAT\n",
    "using Plots; gr();"
   ]
  },
  {
   "cell_type": "code",
   "execution_count": 15,
   "id": "3124ffc6",
   "metadata": {},
   "outputs": [
    {
     "data": {
      "text/plain": [
       "\"../data/base_single/base_large/\""
      ]
     },
     "execution_count": 15,
     "metadata": {},
     "output_type": "execute_result"
    }
   ],
   "source": [
    "res_path = \"../data/base_single/base_large/\""
   ]
  },
  {
   "cell_type": "code",
   "execution_count": 99,
   "id": "a9c4d506",
   "metadata": {},
   "outputs": [
    {
     "data": {
      "text/plain": [
       "([2919.0 6.597149999999999 … 550.0 3.0; 2913.66 6.49955 … 550.0 4.0; … ; 2911.04 6.52915 … 550.0 2.0; 2862.64 6.7296499999999995 … 550.0 1.0], AbstractString[\"sample_rho\" \"sample_vp\" … \"formation_temp\" \"bin\"])"
      ]
     },
     "execution_count": 99,
     "metadata": {},
     "output_type": "execute_result"
    }
   ],
   "source": [
    "dat, h = readdlm(\"$res_path/results-middle.csv\", ',', header=true)"
   ]
  },
  {
   "cell_type": "code",
   "execution_count": 100,
   "id": "3f67a386",
   "metadata": {},
   "outputs": [
    {
     "data": {
      "text/plain": [
       "58"
      ]
     },
     "execution_count": 100,
     "metadata": {},
     "output_type": "execute_result"
    }
   ],
   "source": [
    "ree_start = findfirst(isequal(\"MnO\"), h[:])\n",
    "ree_end = findfirst(isequal(\"Lu\"), h[:])"
   ]
  },
  {
   "cell_type": "code",
   "execution_count": 101,
   "id": "2c586a55",
   "metadata": {},
   "outputs": [],
   "source": [
    "trace_elts = \"MnO P2O5 Li Be B F Cl Sc V Cr Co Ni Cu Zn Ga Rb Sr Y Zr Nb Mo Pd La Ce Pr Nd Sm Eu Gd Tb Dy Ho Er Tm Yb Lu\"\n",
    "trace_elts = split(trace_elts, \" \");"
   ]
  },
  {
   "cell_type": "code",
   "execution_count": 102,
   "id": "76d66849",
   "metadata": {},
   "outputs": [],
   "source": [
    "ree_index = [i in trace_elts for i in h][:];"
   ]
  },
  {
   "cell_type": "code",
   "execution_count": 103,
   "id": "8db25f48",
   "metadata": {},
   "outputs": [
    {
     "data": {
      "text/plain": [
       "252"
      ]
     },
     "execution_count": 103,
     "metadata": {},
     "output_type": "execute_result"
    }
   ],
   "source": [
    "build_args = readdlm(\"$res_path/inversion_options.csv\", ',', header=false)\n",
    "N = build_args[findfirst(isequal(\"num_invert\"), build_args[:,1]),2]\n",
    "M = build_args[findfirst(isequal(\"num_runs\"), build_args[:,1]),2]\n",
    "\n",
    "## We'll actually use 252 for N because that's what we've decided is right \n",
    "N"
   ]
  },
  {
   "cell_type": "code",
   "execution_count": 104,
   "id": "36b09331",
   "metadata": {},
   "outputs": [],
   "source": [
    "\n",
    "\n",
    "runs_means = zeros(floor(Int, M*N/252), length(trace_elts))\n",
    "\n",
    "for i in 1:size(runs_means, 1)\n",
    "    start_run = (i-1)*252 + 1\n",
    "    end_run = i*252\n",
    "    runs_means[i,:] .= nanmean(dat[start_run:end_run, ree_index], dims=1)[:]\n",
    "end"
   ]
  },
  {
   "cell_type": "code",
   "execution_count": 105,
   "id": "5dd2f5f0",
   "metadata": {},
   "outputs": [
    {
     "name": "stdout",
     "output_type": "stream",
     "text": [
      "2520000\n",
      "& Fraction defined & 0.043 & 0.05 & 0.841 & 0.848 & 0.943 & 0.924 & 0.922 & 0.313 & 0.346 & 0.171 & 0.367 & 0.199 & 0.456 \\\\\n",
      "& Fraction defined & 0.431 & 0.625 & 0.186 & 0.064 & 0.12 & 0.101 & 0.234 & 0.904 & 0.972 & 0.128 & 0.166 & 0.688 & 0.24 \\\\\n",
      "& Fraction defined & 0.286 & 0.287 & 0.501 & 0.39 & 0.628 & 0.673 & 0.646 & 0.651 & 0.209 & 0.359 \\\\\n"
     ]
    }
   ],
   "source": [
    "println(size(dat,1))\n",
    "percent_good = sum(isnan.(dat[:, ree_index]), dims=1)./size(dat,1)\n",
    "println(\"& Fraction defined & \", join(round.(percent_good, digits=3)[1:13], \" & \"), \" \\\\\\\\\")\n",
    "println(\"& Fraction defined & \", join(round.(percent_good, digits=3)[14:26], \" & \"), \" \\\\\\\\\")\n",
    "println(\"& Fraction defined & \", join(round.(percent_good, digits=3)[27:end], \" & \"), \" \\\\\\\\\")"
   ]
  },
  {
   "cell_type": "code",
   "execution_count": 106,
   "id": "758da5ee",
   "metadata": {},
   "outputs": [
    {
     "name": "stdout",
     "output_type": "stream",
     "text": [
      "MnO: 0.0566699662280191\n",
      "P2O5: 0.06588447653429604\n",
      "Li: 0.8149237219052056\n",
      "Be: 0.7824327471759637\n",
      "B: 0.9395161290322581\n",
      "F: 0.9099219750786072\n",
      "Cl: 0.9180738325375568\n",
      "Sc: 0.2675992779783393\n",
      "V: 0.3394666356119716\n",
      "Cr: 0.1713345755211366\n",
      "Co: 0.3358856410853616\n",
      "Ni: 0.2282520088505881\n",
      "Cu: 0.42169849772912543\n",
      "Zn: 0.3875189239548154\n",
      "Ga: 0.5743420286479562\n",
      "Rb: 0.2071881914521952\n",
      "Sr: 0.04455863514615116\n",
      "Y: 0.08288692209153371\n",
      "Zr: 0.09301851636194247\n",
      "Nb: 0.20116163968790032\n",
      "Mo: 0.8872860137417026\n",
      "Pd: 0.975748224059625\n",
      "La: 0.07982997554442763\n",
      "Ce: 0.12558227553278212\n",
      "Pr: 0.6916851053918714\n",
      "Nd: 0.20784325142657506\n",
      "Sm: 0.27802201001513915\n",
      "Eu: 0.26352334924886456\n",
      "Gd: 0.4985879818330034\n",
      "Tb: 0.37366076627460115\n",
      "Dy: 0.6254512635379061\n",
      "Ho: 0.6812914871317107\n",
      "Er: 0.6539682077559101\n",
      "Tm: 0.6472283684639571\n",
      "Yb: 0.13385058809828812\n",
      "Lu: 0.34427040875742404\n"
     ]
    }
   ],
   "source": [
    "# Compare to raw data\n",
    "raw_dat = matread(\"../resources/igncn1.mat\")\n",
    "for name in trace_elts\n",
    "    println(name, \": \", sum(isnan.(raw_dat[name]))/length(raw_dat[name]))\n",
    "end"
   ]
  },
  {
   "cell_type": "code",
   "execution_count": 107,
   "id": "36b3adeb",
   "metadata": {},
   "outputs": [
    {
     "name": "stdout",
     "output_type": "stream",
     "text": [
      "\n",
      "upper\n",
      " & Rudnick and Gao & 0.1 & 0.15 & 24 & 2.1 & 17 & 557 & 370 & 14.0 & 97 & 92 & 17.3 & 47 & 28 \\\\\n",
      " & Rudnick and Gao & 67 & 17.5 & 84 & 320 & 21 & 193 & 12 & 1.1 & 0.52 & 31 & 63 & 7.1 & 27 \\\\\n",
      " & Rudnick and Gao & 4.7 & 1.0 & 4.0 & 0.7 & 3.9 & 0.83 & 2.3 & 0.3 & 2.0 & 0.31 \\\\\n",
      "\n",
      "middle\n",
      " & Rudnick and Gao & 0.1 & 0.15 & 12 & 2.3 & 17 & 524 & 182 & 19 & 107 & 76 & 22 & 33.5 & 26 \\\\\n",
      " & Rudnick and Gao & 69.5 & 17.5 & 65 & 282 & 20 & 149 & 10 & 0.6 & 0.76 & 24 & 53 & 5.8 & 25 \\\\\n",
      " & Rudnick and Gao & 4.6 & 1.4 & 4.0 & 0.7 & 3.8 & 0.82 & 2.3 & 0.32 & 2.2 & 0.4 \\\\\n",
      "\n",
      "lower\n",
      " & Rudnick and Gao & 0.1 & 0.1 & 13 & 1.4 & 2 & 570 & 250 & 31 & 196 & 215 & 38 & 88 & 26 \\\\\n",
      " & Rudnick and Gao & 78 & 13 & 11 & 348 & 16 & 68 & 5 & 0.6 & 2.8 & 8 & 20 & 2.4 & 11 \\\\\n",
      " & Rudnick and Gao & 2.8 & 1.1 & 3.1 & 0.48 & 3.1 & 0.68 & 1.9 & 0.24 & 1.5 & 0.25 \\\\\n"
     ]
    }
   ],
   "source": [
    "# Compare to rudnick and gao \n",
    "rg , hr = readdlm(\"../resources/rudnick_gao_2014_res.csv\", ',', header=true)\n",
    "for (l, layer) in enumerate([\"upper\", \"middle\", \"lower\"])\n",
    "    println()\n",
    "    println(layer)\n",
    "    print(\" & Rudnick and Gao\")\n",
    "    for elt in trace_elts[1:13]\n",
    "        idx = findfirst(isequal(elt), rg[:,1])\n",
    "        print(\" & \", rg[idx, l+1])\n",
    "    end\n",
    "    print(\" \\\\\\\\\")\n",
    "    println()\n",
    "    print(\" & Rudnick and Gao\")\n",
    "    for elt in trace_elts[14:26]\n",
    "        idx = findfirst(isequal(elt), rg[:,1])\n",
    "        print(\" & \", rg[idx, l+1])\n",
    "    end\n",
    "    print(\" \\\\\\\\\")\n",
    "    println()\n",
    "    print(\" & Rudnick and Gao\")\n",
    "    for elt in trace_elts[27:end]\n",
    "        idx = findfirst(isequal(elt), rg[:,1])\n",
    "        print(\" & \", rg[idx, l+1])\n",
    "    end\n",
    "    print(\" \\\\\\\\\")\n",
    "    println()\n",
    "end"
   ]
  },
  {
   "cell_type": "markdown",
   "id": "243edb51",
   "metadata": {},
   "source": [
    "# Latex table formatting "
   ]
  },
  {
   "cell_type": "code",
   "execution_count": 108,
   "id": "e2f45f85",
   "metadata": {},
   "outputs": [
    {
     "name": "stdout",
     "output_type": "stream",
     "text": [
      " & MnO & P2O5 & Li & Be & B & F & Cl & Sc & V & Cr & Co & Ni \\\\\n",
      "\\hline\n",
      "Middle & Median & 0.14 & 0.257 & 20.902 & 3.175 & 18.496 & 9.817 & 28.304 & 22.165 & 174.119 & 166.51 & 30.35 & 76.218 \\\\\n",
      "& 5th percentile & 0.132 & 0.232 & 15.72 & 2.314 & 10.767 & 0.068 & 6.171 & 20.484 & 159.928 & 136.129 & 27.589 & 63.728 & \\\\\n",
      "& 95th percentile & 0.158 & 0.285 & 32.432 & 4.667 & 46.791 & 246.708 & 121.366 & 23.962 & 188.972 & 205.433 & 33.262 & 96.225 & \\\\"
     ]
    }
   ],
   "source": [
    "\n",
    "println(\" & \", join(trace_elts[1:12], \" & \"), \" \\\\\\\\\")\n",
    "println(\"\\\\hline\")\n",
    "\n",
    "# Mean of means\n",
    "println(\"Middle & Median & \", join(round.(median(runs_means, dims = 1), digits=3)[1:12], \" & \"), \" \\\\\\\\\")\n",
    "\n",
    "# 5th percentile \n",
    "print(\"& 5th percentile & \")\n",
    "for j in 1:12\n",
    "    ok = .! isnan.(runs_means[:,j])\n",
    "    print(round(percentile(runs_means[ok,j], 5), digits=3), \" & \")\n",
    "end\n",
    "print(\"\\\\\\\\\")\n",
    "\n",
    "println()\n",
    "\n",
    "# 95th percentile \n",
    "print(\"& 95th percentile & \")\n",
    "for j in 1:12\n",
    "    ok = .! isnan.(runs_means[:,j])\n",
    "    print(round(percentile(runs_means[ok,j], 95), digits=3), \" & \")\n",
    "end\n",
    "print(\"\\\\\\\\\")\n",
    "\n"
   ]
  },
  {
   "cell_type": "code",
   "execution_count": 109,
   "id": "e5f705d6",
   "metadata": {},
   "outputs": [
    {
     "name": "stdout",
     "output_type": "stream",
     "text": [
      " & Cu & Zn & Ga & Rb & Sr & Y & Zr & Nb & Mo & Pd & La \\\\\n",
      "\\hline\n",
      "Middle & Median & 63.657 & 88.114 & 20.637 & 64.634 & 475.458 & 26.166 & 181.041 & 18.461 & 4.402 & 5.346 & 34.059 \\\\\n",
      "& 5th percentile & 50.83 & 79.754 & 19.31 & 55.27 & 426.154 & 24.082 & 161.829 & 14.727 & 2.488 & 0.929 & 29.591 & \\\\\n",
      "& 95th percentile & 128.229 & 111.93 & 26.367 & 75.641 & 543.749 & 30.31 & 204.203 & 23.792 & 32.469 & 242.031 & 39.565 & \\\\"
     ]
    }
   ],
   "source": [
    "println(\" & \", join(trace_elts[13:23], \" & \"), \" \\\\\\\\\")\n",
    "println(\"\\\\hline\")\n",
    "\n",
    "# Mean of means\n",
    "println(\"Middle & Median & \", join(round.(nanmedian(runs_means, dims = 1), digits=3)[13:23], \" & \"), \" \\\\\\\\\")\n",
    "\n",
    "# 5th percentile \n",
    "print(\"& 5th percentile & \")\n",
    "for j in 13:23\n",
    "    ok = .! isnan.(runs_means[:,j])\n",
    "    print(round(percentile(runs_means[ok,j], 5), digits=3), \" & \")\n",
    "end\n",
    "print(\"\\\\\\\\\")\n",
    "\n",
    "println()\n",
    "\n",
    "# 95th percentile \n",
    "print(\"& 95th percentile & \")\n",
    "for j in 13:23\n",
    "    ok = .! isnan.(runs_means[:,j])\n",
    "    print(round(percentile(runs_means[ok,j], 95), digits=3), \" & \")\n",
    "end\n",
    "print(\"\\\\\\\\\")"
   ]
  },
  {
   "cell_type": "code",
   "execution_count": 110,
   "id": "cd536222",
   "metadata": {},
   "outputs": [
    {
     "name": "stdout",
     "output_type": "stream",
     "text": [
      " & Ce & Pr & Nd & Sm & Eu & Gd & Tb & Dy & Ho & Er & Tm & Yb & Lu \\\\\n",
      "\\hline\n",
      "Middle & Median & 66.533 & 7.106 & 30.649 & 5.768 & 1.534 & 5.242 & 0.8 & 4.574 & 0.927 & 2.522 & 0.38 & 2.528 & 0.363 \\\\\n",
      "& 5th percentile & 58.119 & 5.668 & 27.064 & 5.185 & 1.409 & 4.697 & 0.725 & 4.072 & 0.818 & 2.242 & 0.336 & 2.306 & 0.329 & \\\\\n",
      "& 95th percentile & 76.821 & 9.155 & 35.152 & 6.603 & 1.679 & 6.075 & 0.973 & 5.264 & 1.164 & 2.962 & 0.441 & 2.86 & 0.579 & \\\\"
     ]
    }
   ],
   "source": [
    "println(\" & \", join(trace_elts[(24):size(runs_means,2)], \" & \"), \" \\\\\\\\\")\n",
    "println(\"\\\\hline\")\n",
    "\n",
    "# Mean of means\n",
    "println(\"Middle & Median & \", join(round.(nanmedian(runs_means, dims = 1), digits=3)[(24):size(runs_means,2)], \" & \"), \" \\\\\\\\\")\n",
    "\n",
    "# 5th percentile \n",
    "print(\"& 5th percentile & \")\n",
    "for j in (24):size(runs_means,2)#size(runs_means,2)\n",
    "    ok = .! isnan.(runs_means[:,j])\n",
    "    print(round(percentile(runs_means[ok,j], 5), digits=3), \" & \")\n",
    "end\n",
    "print(\"\\\\\\\\\")\n",
    "\n",
    "println()\n",
    "\n",
    "# 95th percentile \n",
    "print(\"& 95th percentile & \")\n",
    "for j in (24):size(runs_means,2) #size(runs_means,2)\n",
    "    ok = .! isnan.(runs_means[:,j])\n",
    "    print(round(percentile(runs_means[ok,j], 95), digits=3), \" & \")\n",
    "end\n",
    "print(\"\\\\\\\\\")\n",
    "\n",
    "#println(join(round.(percentile.(runs_means, 95), digits=2), \" & \"))"
   ]
  },
  {
   "cell_type": "code",
   "execution_count": 29,
   "id": "033673cc",
   "metadata": {},
   "outputs": [
    {
     "data": {
      "text/plain": [
       "13.0"
      ]
     },
     "execution_count": 29,
     "metadata": {},
     "output_type": "execute_result"
    }
   ],
   "source": []
  },
  {
   "cell_type": "code",
   "execution_count": 148,
   "id": "b7c4bd2e",
   "metadata": {},
   "outputs": [
    {
     "name": "stdout",
     "output_type": "stream",
     "text": [
      "MnO & P2O5 & Li & Be & B & F & S & Cl & Sc & V & Cr & Co & Ni & Cu & Zn & Ga & As & Se & Rb & Sr & Y & Zr & Nb & Mo & Pd & La & Ce & Pr & Nd & Sm & Eu & Gd & Tb & Dy & Ho & Er & Tm & Yb & Lu\n"
     ]
    }
   ],
   "source": [
    "println(join(h[ree_start:ree_end], \" & \"))"
   ]
  },
  {
   "cell_type": "code",
   "execution_count": null,
   "id": "5ed48208",
   "metadata": {},
   "outputs": [],
   "source": [
    "wt \\% & wt \\% & PPM & PPM & PPM & PPM & PPM & PPM & PPM & PPM & PPM & PPM & PPM \n",
    "PPM & PPM & PPM & PPM & PPM & PPM & PPM & PPM & PPM & PPM & PPM & PPB & PPM \n",
    "PPM & PPM & PPM & PPM & PPM & PPM & PPM & PPM & PPM & PPM & PPM & PPM & PPM\n"
   ]
  }
 ],
 "metadata": {
  "kernelspec": {
   "display_name": "Julia 1.6.1",
   "language": "julia",
   "name": "julia-1.6"
  },
  "language_info": {
   "file_extension": ".jl",
   "mimetype": "application/julia",
   "name": "julia",
   "version": "1.6.1"
  }
 },
 "nbformat": 4,
 "nbformat_minor": 5
}
