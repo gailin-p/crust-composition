{
 "cells": [
  {
   "cell_type": "markdown",
   "id": "ae3fb841",
   "metadata": {},
   "source": [
    "# Brenhin's data scrapes\n",
    "\n",
    "Do these files have information needed to filter rocks by formation depth? Specifically: \n",
    "* Index minerals \n",
    "* Rock type\n",
    "* Labeled as xenolith\n",
    "* Location of known deep complex"
   ]
  },
  {
   "cell_type": "code",
   "execution_count": 2,
   "id": "f365e533",
   "metadata": {},
   "outputs": [],
   "source": [
    "using MAT"
   ]
  },
  {
   "cell_type": "code",
   "execution_count": 6,
   "id": "32cfa2a9",
   "metadata": {},
   "outputs": [],
   "source": [
    "dat = matread(\"/Users/f0043n9/Downloads/EarthChemAll 2017/bulk.mat\")[\"bulk\"];"
   ]
  },
  {
   "cell_type": "code",
   "execution_count": 8,
   "id": "59c31424",
   "metadata": {},
   "outputs": [
    {
     "name": "stdout",
     "output_type": "stream",
     "text": [
      "[\"Pb206_Pb208\", \"Pd\", \"MgO\", \"C\", \"Ar36_Ar39\", \"Gd\", \"Ag\", \"Nb\", \"Age\", \"Pb208_Pb206\", \"U238_Th232_Activity\", \"Th230_Activity\", \"Th232_Th230\", \"Cl36_Cl\", \"Ra228_Ra226_Activity\", \"Si\", \"Cs\", \"Kr86_Kr84\", \"Xe136_Xe130\", \"Ta\", \"Te\", \"Xe136_Xe132\", \"Al2O3\", \"Loi\", \"Nd143_Nd144\", \"Xe131_Xe132\", \"Fe2O3\", \"Pa231_Activity\", \"Ca\", \"Ra228_Th232_Activity\", \"K\", \"Pb210_Activity\", \"Kr78_Kr84\", \"Elevation\", \"Ce\", \"Re187_Os188\", \"BurwellAge\", \"Loc_Prec\", \"Mo\", \"BurwellType\", \"U238\", \"CoO\", \"Th232_Pb204\", \"Sc\", \"Xe124_Xe130\", \"H\", \"AgeAve\", \"U234_Activity\", \"Age_Min\", \"Th232_U238\", \"Pb208_Pb204\", \"Fe2O3T\", \"Er\", \"Xe134_Xe130\", \"F\", \"Ra226_Th230_Activity\", \"Li\", \"Dy\", \"Latitude\", \"Re187_Os186\", \"CaO\", \"Lu176_Hf177\", \"Delta_C13\", \"Re\", \"AgeEst_Max\", \"Hf\", \"In\", \"Xe124_Xe132\", \"Se\", \"tc1Lith\", \"Ar40_Ar36\", \"Ba\", \"Nd\", \"Ti\", \"Ra226\", \"Tb\", \"Zr\", \"H2O\", \"U238_Activity\", \"Sm\", \"Hf176_Hf177\", \"Ne22_Ne20\", \"Pa231\", \"Cr\", \"Cu\", \"tc1Crust\", \"elements\", \"Pb206_Pb207\", \"FeOT\", \"Ne20_Ne22\", \"Sm147_Nd144\", \"CaCO3\", \"Lu\", \"Xe131_Xe130\", \"Na\", \"Age_Max\", \"Ar37_Ar39\", \"Ni\", \"Ar37_Ar40\", \"Os\", \"Pb206_Pb204\", \"Ho\", \"Co\", \"Ne21_Ne22\", \"Quartz\", \"As\", \"Sn\", \"Xe129_Xe130\", \"Xe130_Xe132\", \"BurwellAge_Max\", \"Pb\", \"MnO\", \"He4_He3\", \"Ger\", \"P\", \"U234_U238_Activity\", \"Xe126_Xe130\", \"Sb\", \"TiO2\", \"Os184_Os188\", \"Xe134_Xe132\", \"Os186_Os188\", \"AgeEst_Min\", \"Be\", \"Sr\", \"Ga\", \"CO2\", \"Y\", \"U\", \"Cr2O3\", \"FeO\", \"BurwellAge_Min\", \"H2O_Minus\", \"He3_He4\", \"Au\", \"U234_U238\", \"AgeEst\", \"Xe132_Xe130\", \"V\", \"Epsilon_Nd\", \"Th230_U238_Activity\", \"Kr82_Kr84\", \"Pr\", \"Th\", \"P2O5\", \"Zn\", \"Pb207_Pb204\", \"Be10_Be\", \"k\", \"Os187_Os188\", \"Ar40_Ar39\", \"Ra226_Activity\", \"Pa231_U235_Activity\", \"Al\", \"S\", \"Th230_Th232\", \"Os187_Os186\", \"Fe\", \"Mg\", \"La\", \"Xe128_Xe132\", \"W\", \"Ar38_Ar36\", \"B\", \"Mn\", \"Bi\", \"NiO\", \"Th230\", \"Ne21_Ne20\", \"SiO2\", \"Cl\", \"H2O_Plus\", \"K40_Ar36\", \"Sr87_Sr86\", \"Rb\", \"Longitude\", \"H2O_Total\", \"Xe129_Xe132\", \"Rb87_Sr86\", \"Th232_Activity\", \"Tl\", \"Th230_Th232_Activity\", \"Th232\", \"Kr80_Kr84\", \"Xe128_Xe130\", \"SO2\", \"Hg\", \"Kr83_Kr84\", \"U235_Pb204\", \"Po210_Activity\", \"Yb\", \"Eu\", \"He4_Ne20\", \"Pt\", \"Ir\", \"err2sabs\", \"Tm\", \"Ar40_K40\", \"I\", \"Be10_Be9\", \"Xe126_Xe132\", \"K2O\", \"Type\", \"Delta_O18\", \"Cd\", \"Na2O\", \"Pb210_Ra226_Activity\"]\n"
     ]
    }
   ],
   "source": [
    "println(keys(dat))\n"
   ]
  },
  {
   "cell_type": "code",
   "execution_count": 11,
   "id": "47e39bbd",
   "metadata": {},
   "outputs": [
    {
     "name": "stdout",
     "output_type": "stream",
     "text": [
      "elements\n",
      "k\n",
      "err2sabs\n"
     ]
    }
   ],
   "source": [
    "for k in keys(dat)\n",
    "    if length(dat[k]) != 910904\n",
    "        println(k)\n",
    "    end\n",
    "end"
   ]
  },
  {
   "cell_type": "code",
   "execution_count": 13,
   "id": "ef6d1355",
   "metadata": {},
   "outputs": [
    {
     "data": {
      "text/plain": [
       "188×1 Matrix{Any}:\n",
       " \"Ag\"\n",
       " \"Age\"\n",
       " \"Age_Max\"\n",
       " \"Age_Min\"\n",
       " \"Al\"\n",
       " \"Al2O3\"\n",
       " \"Ar36_Ar39\"\n",
       " \"Ar37_Ar39\"\n",
       " \"Ar37_Ar40\"\n",
       " \"Ar38_Ar36\"\n",
       " \"Ar40_Ar36\"\n",
       " \"Ar40_Ar39\"\n",
       " \"Ar40_K40\"\n",
       " ⋮\n",
       " \"Xe130_Xe132\"\n",
       " \"Xe131_Xe130\"\n",
       " \"Xe131_Xe132\"\n",
       " \"Xe132_Xe130\"\n",
       " \"Xe134_Xe130\"\n",
       " \"Xe134_Xe132\"\n",
       " \"Xe136_Xe130\"\n",
       " \"Xe136_Xe132\"\n",
       " \"Y\"\n",
       " \"Yb\"\n",
       " \"Zn\"\n",
       " \"Zr\""
      ]
     },
     "execution_count": 13,
     "metadata": {},
     "output_type": "execute_result"
    }
   ],
   "source": [
    "dat[\"elements\"]"
   ]
  },
  {
   "cell_type": "code",
   "execution_count": null,
   "id": "ee68b7dd",
   "metadata": {},
   "outputs": [],
   "source": []
  }
 ],
 "metadata": {
  "kernelspec": {
   "display_name": "Julia 1.6.1",
   "language": "julia",
   "name": "julia-1.6"
  },
  "language_info": {
   "file_extension": ".jl",
   "mimetype": "application/julia",
   "name": "julia",
   "version": "1.6.1"
  }
 },
 "nbformat": 4,
 "nbformat_minor": 5
}
